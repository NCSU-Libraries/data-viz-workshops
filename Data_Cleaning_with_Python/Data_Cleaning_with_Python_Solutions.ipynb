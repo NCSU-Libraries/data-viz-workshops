{
  "nbformat": 4,
  "nbformat_minor": 0,
  "metadata": {
    "colab": {
      "name": "Data_Cleaning_with_Python_Solutions_2019.ipynb",
      "version": "0.3.2",
      "provenance": [],
      "collapsed_sections": [],
      "include_colab_link": true
    },
    "kernelspec": {
      "name": "python3",
      "display_name": "Python 3"
    }
  },
  "cells": [
    {
      "cell_type": "markdown",
      "metadata": {
        "id": "view-in-github",
        "colab_type": "text"
      },
      "source": [
        "<a href=\"https://colab.research.google.com/github/alblaine/Data-Cleaning-with-Python/blob/master/Data_Cleaning_with_Python_Solutions_2019.ipynb\" target=\"_parent\"><img src=\"https://colab.research.google.com/assets/colab-badge.svg\" alt=\"Open In Colab\"/></a>"
      ]
    },
    {
      "cell_type": "markdown",
      "metadata": {
        "id": "iEvI-KpARZkS",
        "colab_type": "text"
      },
      "source": [
        "# **Data Cleaning with Python**  \n",
        "An NCSU Libraries Workshop  \n",
        "Instructor: Alison Blaine, ablaine@ncsu.edu\n",
        "\n"
      ]
    },
    {
      "cell_type": "markdown",
      "metadata": {
        "id": "iNIMxnrkxk3q",
        "colab_type": "text"
      },
      "source": [
        "### Welcome! In this workshop, we'll learn how to do the following: \n",
        "* load in python libraries for data cleaning (pandas) and graphing (matplotlib)\n",
        "* read csv files into Python \n",
        "* examine the first and last few rows of the data\n",
        "* delete duplicates\n",
        "* filter the data to create subsets\n",
        "* sort the data\n",
        "* group the data for plotting\n",
        "* drop variables from the dataset\n",
        "* create new variables\n",
        "* generate and save summary statistics for a dataset"
      ]
    },
    {
      "cell_type": "markdown",
      "metadata": {
        "id": "oAgjwPfORxoY",
        "colab_type": "text"
      },
      "source": [
        "### Step 1. We'll start by loading in the required Python libraries."
      ]
    },
    {
      "cell_type": "code",
      "metadata": {
        "id": "EhhU85l3RJ8k",
        "colab_type": "code",
        "colab": {}
      },
      "source": [
        "import pandas as pd\n",
        "import matplotlib.pyplot as plt"
      ],
      "execution_count": 0,
      "outputs": []
    },
    {
      "cell_type": "markdown",
      "metadata": {
        "id": "V95BKFBuSpzr",
        "colab_type": "text"
      },
      "source": [
        "### Step 2. Next, we'll load in population.csv. First, download the data file to your laptop from [go.ncsu.edu/popdata](https://go.ncsu.edu/popdata). This dataset is a CSV (comma separated values) file."
      ]
    },
    {
      "cell_type": "code",
      "metadata": {
        "id": "O15wvAsppNpV",
        "colab_type": "code",
        "colab": {}
      },
      "source": [
        "from google.colab import files\n",
        "files.upload()"
      ],
      "execution_count": 0,
      "outputs": []
    },
    {
      "cell_type": "code",
      "metadata": {
        "id": "xwAdwmGFptyi",
        "colab_type": "code",
        "colab": {}
      },
      "source": [
        "dat=pd.read_csv('population.csv')"
      ],
      "execution_count": 0,
      "outputs": []
    },
    {
      "cell_type": "markdown",
      "metadata": {
        "id": "8GS3SOCWatdL",
        "colab_type": "text"
      },
      "source": [
        "### Step 3. Type dat.head() to see the first 5 rows of the dataset. Then click the run button."
      ]
    },
    {
      "cell_type": "code",
      "metadata": {
        "id": "FEEgaJYSatC5",
        "colab_type": "code",
        "outputId": "6ac8c364-6d9e-4db6-e0aa-0cc8441655ce",
        "colab": {
          "base_uri": "https://localhost:8080/",
          "height": 204
        }
      },
      "source": [
        "dat.head()"
      ],
      "execution_count": 0,
      "outputs": [
        {
          "output_type": "execute_result",
          "data": {
            "text/html": [
              "<div>\n",
              "<style scoped>\n",
              "    .dataframe tbody tr th:only-of-type {\n",
              "        vertical-align: middle;\n",
              "    }\n",
              "\n",
              "    .dataframe tbody tr th {\n",
              "        vertical-align: top;\n",
              "    }\n",
              "\n",
              "    .dataframe thead th {\n",
              "        text-align: right;\n",
              "    }\n",
              "</style>\n",
              "<table border=\"1\" class=\"dataframe\">\n",
              "  <thead>\n",
              "    <tr style=\"text-align: right;\">\n",
              "      <th></th>\n",
              "      <th>state/region</th>\n",
              "      <th>ages</th>\n",
              "      <th>year</th>\n",
              "      <th>population</th>\n",
              "    </tr>\n",
              "  </thead>\n",
              "  <tbody>\n",
              "    <tr>\n",
              "      <th>0</th>\n",
              "      <td>AL</td>\n",
              "      <td>under18</td>\n",
              "      <td>2012</td>\n",
              "      <td>1117489.0</td>\n",
              "    </tr>\n",
              "    <tr>\n",
              "      <th>1</th>\n",
              "      <td>AL</td>\n",
              "      <td>total</td>\n",
              "      <td>2012</td>\n",
              "      <td>4817528.0</td>\n",
              "    </tr>\n",
              "    <tr>\n",
              "      <th>2</th>\n",
              "      <td>AL</td>\n",
              "      <td>under18</td>\n",
              "      <td>2010</td>\n",
              "      <td>1130966.0</td>\n",
              "    </tr>\n",
              "    <tr>\n",
              "      <th>3</th>\n",
              "      <td>AL</td>\n",
              "      <td>total</td>\n",
              "      <td>2010</td>\n",
              "      <td>4785570.0</td>\n",
              "    </tr>\n",
              "    <tr>\n",
              "      <th>4</th>\n",
              "      <td>AL</td>\n",
              "      <td>under18</td>\n",
              "      <td>2011</td>\n",
              "      <td>1125763.0</td>\n",
              "    </tr>\n",
              "  </tbody>\n",
              "</table>\n",
              "</div>"
            ],
            "text/plain": [
              "  state/region     ages  year  population\n",
              "0           AL  under18  2012   1117489.0\n",
              "1           AL    total  2012   4817528.0\n",
              "2           AL  under18  2010   1130966.0\n",
              "3           AL    total  2010   4785570.0\n",
              "4           AL  under18  2011   1125763.0"
            ]
          },
          "metadata": {
            "tags": []
          },
          "execution_count": 6
        }
      ]
    },
    {
      "cell_type": "markdown",
      "metadata": {
        "id": "5e847Ddpnzom",
        "colab_type": "text"
      },
      "source": [
        "### Step 4. Rename the state/region column to state_region using rename()."
      ]
    },
    {
      "cell_type": "code",
      "metadata": {
        "id": "ZyLmH3ayn7LS",
        "colab_type": "code",
        "outputId": "757c7e8a-b482-4d85-e9c8-d30d8f44be54",
        "colab": {
          "base_uri": "https://localhost:8080/",
          "height": 204
        }
      },
      "source": [
        "dat.rename(columns={'state/region':'state_region'}, inplace=True)\n",
        "\n",
        "dat.head()"
      ],
      "execution_count": 0,
      "outputs": [
        {
          "output_type": "execute_result",
          "data": {
            "text/html": [
              "<div>\n",
              "<style scoped>\n",
              "    .dataframe tbody tr th:only-of-type {\n",
              "        vertical-align: middle;\n",
              "    }\n",
              "\n",
              "    .dataframe tbody tr th {\n",
              "        vertical-align: top;\n",
              "    }\n",
              "\n",
              "    .dataframe thead th {\n",
              "        text-align: right;\n",
              "    }\n",
              "</style>\n",
              "<table border=\"1\" class=\"dataframe\">\n",
              "  <thead>\n",
              "    <tr style=\"text-align: right;\">\n",
              "      <th></th>\n",
              "      <th>state_region</th>\n",
              "      <th>ages</th>\n",
              "      <th>year</th>\n",
              "      <th>population</th>\n",
              "    </tr>\n",
              "  </thead>\n",
              "  <tbody>\n",
              "    <tr>\n",
              "      <th>0</th>\n",
              "      <td>AL</td>\n",
              "      <td>under18</td>\n",
              "      <td>2012</td>\n",
              "      <td>1117489.0</td>\n",
              "    </tr>\n",
              "    <tr>\n",
              "      <th>1</th>\n",
              "      <td>AL</td>\n",
              "      <td>total</td>\n",
              "      <td>2012</td>\n",
              "      <td>4817528.0</td>\n",
              "    </tr>\n",
              "    <tr>\n",
              "      <th>2</th>\n",
              "      <td>AL</td>\n",
              "      <td>under18</td>\n",
              "      <td>2010</td>\n",
              "      <td>1130966.0</td>\n",
              "    </tr>\n",
              "    <tr>\n",
              "      <th>3</th>\n",
              "      <td>AL</td>\n",
              "      <td>total</td>\n",
              "      <td>2010</td>\n",
              "      <td>4785570.0</td>\n",
              "    </tr>\n",
              "    <tr>\n",
              "      <th>4</th>\n",
              "      <td>AL</td>\n",
              "      <td>under18</td>\n",
              "      <td>2011</td>\n",
              "      <td>1125763.0</td>\n",
              "    </tr>\n",
              "  </tbody>\n",
              "</table>\n",
              "</div>"
            ],
            "text/plain": [
              "  state_region     ages  year  population\n",
              "0           AL  under18  2012   1117489.0\n",
              "1           AL    total  2012   4817528.0\n",
              "2           AL  under18  2010   1130966.0\n",
              "3           AL    total  2010   4785570.0\n",
              "4           AL  under18  2011   1125763.0"
            ]
          },
          "metadata": {
            "tags": []
          },
          "execution_count": 9
        }
      ]
    },
    {
      "cell_type": "markdown",
      "metadata": {
        "id": "vmDZaylQ0RcK",
        "colab_type": "text"
      },
      "source": [
        "### Step 5. Print out the unique values in the state_region column using drop_duplicates()."
      ]
    },
    {
      "cell_type": "code",
      "metadata": {
        "id": "WO02Y2G9z56_",
        "colab_type": "code",
        "outputId": "05d27a69-ae39-4b15-e128-2529321602f0",
        "colab": {
          "base_uri": "https://localhost:8080/",
          "height": 935
        }
      },
      "source": [
        "dat.state_region.drop_duplicates()  # note: this does not permanently delete duplicates"
      ],
      "execution_count": 0,
      "outputs": [
        {
          "output_type": "execute_result",
          "data": {
            "text/plain": [
              "0        AL\n",
              "48       AK\n",
              "96       AZ\n",
              "144      AR\n",
              "192      CA\n",
              "240      CO\n",
              "288      CT\n",
              "336      DE\n",
              "384      DC\n",
              "432      FL\n",
              "480      GA\n",
              "528      HI\n",
              "576      ID\n",
              "624      IL\n",
              "672      IN\n",
              "720      IA\n",
              "768      KS\n",
              "816      KY\n",
              "864      LA\n",
              "912      ME\n",
              "960      MD\n",
              "1008     MA\n",
              "1056     MI\n",
              "1104     MN\n",
              "1152     MS\n",
              "1200     MO\n",
              "1248     MT\n",
              "1296     NE\n",
              "1344     NV\n",
              "1392     NH\n",
              "1440     NJ\n",
              "1488     NM\n",
              "1536     NY\n",
              "1584     NC\n",
              "1632     ND\n",
              "1680     OH\n",
              "1728     OK\n",
              "1776     OR\n",
              "1824     PA\n",
              "1872     RI\n",
              "1920     SC\n",
              "1968     SD\n",
              "2016     TN\n",
              "2064     TX\n",
              "2112     UT\n",
              "2160     VT\n",
              "2208     VA\n",
              "2256     WA\n",
              "2304     WV\n",
              "2352     WI\n",
              "2400     WY\n",
              "2448     PR\n",
              "2496    USA\n",
              "Name: state_region, dtype: object"
            ]
          },
          "metadata": {
            "tags": []
          },
          "execution_count": 10
        }
      ]
    },
    {
      "cell_type": "markdown",
      "metadata": {
        "id": "fVLtYqMKtECm",
        "colab_type": "text"
      },
      "source": [
        "### Step 6. Another way to see unique values in a column is to use the unique() function. This prints out as an array of unique values."
      ]
    },
    {
      "cell_type": "code",
      "metadata": {
        "id": "qWSw9x8us8y6",
        "colab_type": "code",
        "outputId": "2191a176-dfdc-4561-dff0-aac200da1555",
        "colab": {
          "base_uri": "https://localhost:8080/",
          "height": 119
        }
      },
      "source": [
        "dat.state_region.unique()"
      ],
      "execution_count": 0,
      "outputs": [
        {
          "output_type": "execute_result",
          "data": {
            "text/plain": [
              "array(['AL', 'AK', 'AZ', 'AR', 'CA', 'CO', 'CT', 'DE', 'DC', 'FL', 'GA',\n",
              "       'HI', 'ID', 'IL', 'IN', 'IA', 'KS', 'KY', 'LA', 'ME', 'MD', 'MA',\n",
              "       'MI', 'MN', 'MS', 'MO', 'MT', 'NE', 'NV', 'NH', 'NJ', 'NM', 'NY',\n",
              "       'NC', 'ND', 'OH', 'OK', 'OR', 'PA', 'RI', 'SC', 'SD', 'TN', 'TX',\n",
              "       'UT', 'VT', 'VA', 'WA', 'WV', 'WI', 'WY', 'PR', 'USA'],\n",
              "      dtype=object)"
            ]
          },
          "metadata": {
            "tags": []
          },
          "execution_count": 11
        }
      ]
    },
    {
      "cell_type": "markdown",
      "metadata": {
        "id": "2dABH51Is7bC",
        "colab_type": "text"
      },
      "source": [
        "### Step 7. To count the number of unique values in a column, use the len() function."
      ]
    },
    {
      "cell_type": "code",
      "metadata": {
        "id": "9uu0c_vmsAkL",
        "colab_type": "code",
        "outputId": "605056bf-adb4-4fa8-a6f1-76b7f30d1d29",
        "colab": {
          "base_uri": "https://localhost:8080/",
          "height": 34
        }
      },
      "source": [
        "len(dat.state_region.unique())"
      ],
      "execution_count": 0,
      "outputs": [
        {
          "output_type": "execute_result",
          "data": {
            "text/plain": [
              "53"
            ]
          },
          "metadata": {
            "tags": []
          },
          "execution_count": 12
        }
      ]
    },
    {
      "cell_type": "markdown",
      "metadata": {
        "id": "iUIzFtedrXG4",
        "colab_type": "text"
      },
      "source": [
        "### Step 8. Use value_counts() to count the number of observations of each unique value for state_region."
      ]
    },
    {
      "cell_type": "code",
      "metadata": {
        "id": "cbl5LH3hrMmD",
        "colab_type": "code",
        "colab": {}
      },
      "source": [
        "dat.state_region.value_counts()"
      ],
      "execution_count": 0,
      "outputs": []
    },
    {
      "cell_type": "markdown",
      "metadata": {
        "id": "Vsd9kg3y0YU_",
        "colab_type": "text"
      },
      "source": [
        "### Step 9. Filter out all rows except for NC using query()."
      ]
    },
    {
      "cell_type": "code",
      "metadata": {
        "id": "5qQWifgv0YCU",
        "colab_type": "code",
        "colab": {}
      },
      "source": [
        "dat_filtered = dat.query('state_region == \"NC\"')   # note: we are creating a new dataset called dat_filtered that contains the filtered data\n",
        "\n",
        "dat_filtered.head()"
      ],
      "execution_count": 0,
      "outputs": []
    },
    {
      "cell_type": "markdown",
      "metadata": {
        "id": "38EaStPQ9RSa",
        "colab_type": "text"
      },
      "source": [
        "### Step 10. Order the columns by year using sort_values()."
      ]
    },
    {
      "cell_type": "code",
      "metadata": {
        "id": "mG4vCaj39XI4",
        "colab_type": "code",
        "colab": {}
      },
      "source": [
        "\n",
        "dat_sorted = dat_filtered.sort_values(['year'])   # note: ascending is the default sort order\n",
        "\n",
        "dat_sorted.head()"
      ],
      "execution_count": 0,
      "outputs": []
    },
    {
      "cell_type": "markdown",
      "metadata": {
        "id": "tW7WcZVeJHKS",
        "colab_type": "text"
      },
      "source": [
        "### Step 11. Let's see what the mean population is for each category of ages (under18 and total)"
      ]
    },
    {
      "cell_type": "code",
      "metadata": {
        "id": "E00N_C-6JFRN",
        "colab_type": "code",
        "colab": {}
      },
      "source": [
        "age_means = dat_sorted.groupby(['ages']).mean()\n",
        "\n",
        "age_means"
      ],
      "execution_count": 0,
      "outputs": []
    },
    {
      "cell_type": "markdown",
      "metadata": {
        "id": "4qTbeBRcKa0Y",
        "colab_type": "text"
      },
      "source": [
        "### Step 12.  Since we don't need the year column, we can delete it."
      ]
    },
    {
      "cell_type": "code",
      "metadata": {
        "id": "pQbx-YccLXkt",
        "colab_type": "code",
        "colab": {}
      },
      "source": [
        "age_means = age_means.drop(columns=['year'])\n",
        "age_means\n"
      ],
      "execution_count": 0,
      "outputs": []
    },
    {
      "cell_type": "markdown",
      "metadata": {
        "id": "fPbN-ABNMKM4",
        "colab_type": "text"
      },
      "source": [
        "###Step 13. Get the population value for under18 from age_means."
      ]
    },
    {
      "cell_type": "code",
      "metadata": {
        "id": "TY7yBWTbMReC",
        "colab_type": "code",
        "outputId": "48a9200a-0531-40f9-ee6d-26cef2549083",
        "colab": {
          "base_uri": "https://localhost:8080/",
          "height": 34
        }
      },
      "source": [
        "age_means.population['under18']"
      ],
      "execution_count": 0,
      "outputs": [
        {
          "output_type": "execute_result",
          "data": {
            "text/plain": [
              "2000739.625"
            ]
          },
          "metadata": {
            "tags": []
          },
          "execution_count": 18
        }
      ]
    },
    {
      "cell_type": "markdown",
      "metadata": {
        "id": "qEsxpszr5Pu_",
        "colab_type": "text"
      },
      "source": [
        "### Step 14. Read in the drivers.csv dataset from a url."
      ]
    },
    {
      "cell_type": "code",
      "metadata": {
        "id": "aFAfo6Ny5UDQ",
        "colab_type": "code",
        "colab": {}
      },
      "source": [
        "url=\"https://raw.githubusercontent.com/alblaine/data-1/master/bad-drivers/bad-drivers.csv\"\n",
        "\n",
        "drivers = pd.read_csv(url)"
      ],
      "execution_count": 0,
      "outputs": []
    },
    {
      "cell_type": "markdown",
      "metadata": {
        "id": "TWXA6AOpPmTN",
        "colab_type": "text"
      },
      "source": [
        "### Step 15. Get info about the drivers dataset using .info()."
      ]
    },
    {
      "cell_type": "code",
      "metadata": {
        "id": "U4HT0ULfPgL2",
        "colab_type": "code",
        "outputId": "db892a9a-a04a-4f93-87bb-151542b640a2",
        "colab": {
          "base_uri": "https://localhost:8080/",
          "height": 238
        }
      },
      "source": [
        "drivers.info()"
      ],
      "execution_count": 0,
      "outputs": [
        {
          "output_type": "stream",
          "text": [
            "<class 'pandas.core.frame.DataFrame'>\n",
            "RangeIndex: 51 entries, 0 to 50\n",
            "Data columns (total 8 columns):\n",
            "State                                                                                                     51 non-null object\n",
            "Number of drivers involved in fatal collisions per billion miles                                          51 non-null float64\n",
            "Percentage Of Drivers Involved In Fatal Collisions Who Were Speeding                                      51 non-null int64\n",
            "Percentage Of Drivers Involved In Fatal Collisions Who Were Alcohol-Impaired                              51 non-null int64\n",
            "Percentage Of Drivers Involved In Fatal Collisions Who Were Not Distracted                                51 non-null int64\n",
            "Percentage Of Drivers Involved In Fatal Collisions Who Had Not Been Involved In Any Previous Accidents    51 non-null int64\n",
            "Car Insurance Premiums ($)                                                                                51 non-null float64\n",
            "Losses incurred by insurance companies for collisions per insured driver ($)                              51 non-null float64\n",
            "dtypes: float64(3), int64(4), object(1)\n",
            "memory usage: 3.3+ KB\n"
          ],
          "name": "stdout"
        }
      ]
    },
    {
      "cell_type": "markdown",
      "metadata": {
        "id": "hyVArg186cMj",
        "colab_type": "text"
      },
      "source": [
        "### Step 16. Look at the data using the head() command."
      ]
    },
    {
      "cell_type": "code",
      "metadata": {
        "id": "V4Gev5U75i2Z",
        "colab_type": "code",
        "outputId": "0c4a8fd7-2480-4a43-e457-371d09d385e2",
        "colab": {
          "base_uri": "https://localhost:8080/",
          "height": 323
        }
      },
      "source": [
        "drivers.head()"
      ],
      "execution_count": 0,
      "outputs": [
        {
          "output_type": "execute_result",
          "data": {
            "text/html": [
              "<div>\n",
              "<style scoped>\n",
              "    .dataframe tbody tr th:only-of-type {\n",
              "        vertical-align: middle;\n",
              "    }\n",
              "\n",
              "    .dataframe tbody tr th {\n",
              "        vertical-align: top;\n",
              "    }\n",
              "\n",
              "    .dataframe thead th {\n",
              "        text-align: right;\n",
              "    }\n",
              "</style>\n",
              "<table border=\"1\" class=\"dataframe\">\n",
              "  <thead>\n",
              "    <tr style=\"text-align: right;\">\n",
              "      <th></th>\n",
              "      <th>State</th>\n",
              "      <th>Number of drivers involved in fatal collisions per billion miles</th>\n",
              "      <th>Percentage Of Drivers Involved In Fatal Collisions Who Were Speeding</th>\n",
              "      <th>Percentage Of Drivers Involved In Fatal Collisions Who Were Alcohol-Impaired</th>\n",
              "      <th>Percentage Of Drivers Involved In Fatal Collisions Who Were Not Distracted</th>\n",
              "      <th>Percentage Of Drivers Involved In Fatal Collisions Who Had Not Been Involved In Any Previous Accidents</th>\n",
              "      <th>Car Insurance Premiums ($)</th>\n",
              "      <th>Losses incurred by insurance companies for collisions per insured driver ($)</th>\n",
              "    </tr>\n",
              "  </thead>\n",
              "  <tbody>\n",
              "    <tr>\n",
              "      <th>0</th>\n",
              "      <td>Alabama</td>\n",
              "      <td>18.8</td>\n",
              "      <td>39</td>\n",
              "      <td>30</td>\n",
              "      <td>96</td>\n",
              "      <td>80</td>\n",
              "      <td>784.55</td>\n",
              "      <td>145.08</td>\n",
              "    </tr>\n",
              "    <tr>\n",
              "      <th>1</th>\n",
              "      <td>Alaska</td>\n",
              "      <td>18.1</td>\n",
              "      <td>41</td>\n",
              "      <td>25</td>\n",
              "      <td>90</td>\n",
              "      <td>94</td>\n",
              "      <td>1053.48</td>\n",
              "      <td>133.93</td>\n",
              "    </tr>\n",
              "    <tr>\n",
              "      <th>2</th>\n",
              "      <td>Arizona</td>\n",
              "      <td>18.6</td>\n",
              "      <td>35</td>\n",
              "      <td>28</td>\n",
              "      <td>84</td>\n",
              "      <td>96</td>\n",
              "      <td>899.47</td>\n",
              "      <td>110.35</td>\n",
              "    </tr>\n",
              "    <tr>\n",
              "      <th>3</th>\n",
              "      <td>Arkansas</td>\n",
              "      <td>22.4</td>\n",
              "      <td>18</td>\n",
              "      <td>26</td>\n",
              "      <td>94</td>\n",
              "      <td>95</td>\n",
              "      <td>827.34</td>\n",
              "      <td>142.39</td>\n",
              "    </tr>\n",
              "    <tr>\n",
              "      <th>4</th>\n",
              "      <td>California</td>\n",
              "      <td>12.0</td>\n",
              "      <td>35</td>\n",
              "      <td>28</td>\n",
              "      <td>91</td>\n",
              "      <td>89</td>\n",
              "      <td>878.41</td>\n",
              "      <td>165.63</td>\n",
              "    </tr>\n",
              "  </tbody>\n",
              "</table>\n",
              "</div>"
            ],
            "text/plain": [
              "        State  ...  Losses incurred by insurance companies for collisions per insured driver ($)\n",
              "0     Alabama  ...                                             145.08                           \n",
              "1      Alaska  ...                                             133.93                           \n",
              "2     Arizona  ...                                             110.35                           \n",
              "3    Arkansas  ...                                             142.39                           \n",
              "4  California  ...                                             165.63                           \n",
              "\n",
              "[5 rows x 8 columns]"
            ]
          },
          "metadata": {
            "tags": []
          },
          "execution_count": 21
        }
      ]
    },
    {
      "cell_type": "markdown",
      "metadata": {
        "id": "wzG38u_e6t7I",
        "colab_type": "text"
      },
      "source": [
        "### Step 17. Rename the columns to shorter names using rename()"
      ]
    },
    {
      "cell_type": "code",
      "metadata": {
        "id": "ekZpsOo58YD6",
        "colab_type": "code",
        "colab": {}
      },
      "source": [
        "drivers_renamed = drivers.rename(columns={'Number of drivers involved in fatal collisions per billion miles':'num_per_billion',\n",
        "       'Percentage Of Drivers Involved In Fatal Collisions Who Were Speeding':'pct_speeding',\n",
        "       'Percentage Of Drivers Involved In Fatal Collisions Who Were Alcohol-Impaired':'pct_alcohol_impaired',\n",
        "       'Percentage Of Drivers Involved In Fatal Collisions Who Were Not Distracted':'pct_not_distracted',\n",
        "       'Percentage Of Drivers Involved In Fatal Collisions Who Had Not Been Involved In Any Previous Accidents':'pct_no_accidents',\n",
        "       'Car Insurance Premiums ($)':'premiums',\n",
        "       'Losses incurred by insurance companies for collisions per insured driver ($)':'losses'})\n",
        "                       \n",
        "                                 "
      ],
      "execution_count": 0,
      "outputs": []
    },
    {
      "cell_type": "code",
      "metadata": {
        "id": "i73-TA7q-4ej",
        "colab_type": "code",
        "outputId": "8c11effc-243f-4b05-e5e0-e9b33d142633",
        "colab": {
          "base_uri": "https://localhost:8080/",
          "height": 204
        }
      },
      "source": [
        "drivers_renamed.head()\n"
      ],
      "execution_count": 0,
      "outputs": [
        {
          "output_type": "execute_result",
          "data": {
            "text/html": [
              "<div>\n",
              "<style scoped>\n",
              "    .dataframe tbody tr th:only-of-type {\n",
              "        vertical-align: middle;\n",
              "    }\n",
              "\n",
              "    .dataframe tbody tr th {\n",
              "        vertical-align: top;\n",
              "    }\n",
              "\n",
              "    .dataframe thead th {\n",
              "        text-align: right;\n",
              "    }\n",
              "</style>\n",
              "<table border=\"1\" class=\"dataframe\">\n",
              "  <thead>\n",
              "    <tr style=\"text-align: right;\">\n",
              "      <th></th>\n",
              "      <th>State</th>\n",
              "      <th>num_per_billion</th>\n",
              "      <th>pct_speeding</th>\n",
              "      <th>pct_alcohol_impaired</th>\n",
              "      <th>pct_not_distracted</th>\n",
              "      <th>pct_no_accidents</th>\n",
              "      <th>premiums</th>\n",
              "      <th>losses</th>\n",
              "    </tr>\n",
              "  </thead>\n",
              "  <tbody>\n",
              "    <tr>\n",
              "      <th>0</th>\n",
              "      <td>Alabama</td>\n",
              "      <td>18.8</td>\n",
              "      <td>39</td>\n",
              "      <td>30</td>\n",
              "      <td>96</td>\n",
              "      <td>80</td>\n",
              "      <td>784.55</td>\n",
              "      <td>145.08</td>\n",
              "    </tr>\n",
              "    <tr>\n",
              "      <th>1</th>\n",
              "      <td>Alaska</td>\n",
              "      <td>18.1</td>\n",
              "      <td>41</td>\n",
              "      <td>25</td>\n",
              "      <td>90</td>\n",
              "      <td>94</td>\n",
              "      <td>1053.48</td>\n",
              "      <td>133.93</td>\n",
              "    </tr>\n",
              "    <tr>\n",
              "      <th>2</th>\n",
              "      <td>Arizona</td>\n",
              "      <td>18.6</td>\n",
              "      <td>35</td>\n",
              "      <td>28</td>\n",
              "      <td>84</td>\n",
              "      <td>96</td>\n",
              "      <td>899.47</td>\n",
              "      <td>110.35</td>\n",
              "    </tr>\n",
              "    <tr>\n",
              "      <th>3</th>\n",
              "      <td>Arkansas</td>\n",
              "      <td>22.4</td>\n",
              "      <td>18</td>\n",
              "      <td>26</td>\n",
              "      <td>94</td>\n",
              "      <td>95</td>\n",
              "      <td>827.34</td>\n",
              "      <td>142.39</td>\n",
              "    </tr>\n",
              "    <tr>\n",
              "      <th>4</th>\n",
              "      <td>California</td>\n",
              "      <td>12.0</td>\n",
              "      <td>35</td>\n",
              "      <td>28</td>\n",
              "      <td>91</td>\n",
              "      <td>89</td>\n",
              "      <td>878.41</td>\n",
              "      <td>165.63</td>\n",
              "    </tr>\n",
              "  </tbody>\n",
              "</table>\n",
              "</div>"
            ],
            "text/plain": [
              "        State  num_per_billion  ...  premiums  losses\n",
              "0     Alabama             18.8  ...    784.55  145.08\n",
              "1      Alaska             18.1  ...   1053.48  133.93\n",
              "2     Arizona             18.6  ...    899.47  110.35\n",
              "3    Arkansas             22.4  ...    827.34  142.39\n",
              "4  California             12.0  ...    878.41  165.63\n",
              "\n",
              "[5 rows x 8 columns]"
            ]
          },
          "metadata": {
            "tags": []
          },
          "execution_count": 34
        }
      ]
    },
    {
      "cell_type": "markdown",
      "metadata": {
        "id": "Ojv5Xp-8D5-5",
        "colab_type": "text"
      },
      "source": [
        "### Step 18. Create a new dataset keeping only the state, premiums, and losses columns using the .filter() function."
      ]
    },
    {
      "cell_type": "code",
      "metadata": {
        "id": "CXBPLw6zRgbv",
        "colab_type": "code",
        "outputId": "6f0bca96-7087-4f50-ec0e-cef7863dac4e",
        "colab": {
          "base_uri": "https://localhost:8080/",
          "height": 1630
        }
      },
      "source": [
        "drivers_pl = drivers_renamed.filter([\"State\", \"premiums\", \"losses\"])\n",
        "drivers_pl"
      ],
      "execution_count": 0,
      "outputs": [
        {
          "output_type": "execute_result",
          "data": {
            "text/html": [
              "<div>\n",
              "<style scoped>\n",
              "    .dataframe tbody tr th:only-of-type {\n",
              "        vertical-align: middle;\n",
              "    }\n",
              "\n",
              "    .dataframe tbody tr th {\n",
              "        vertical-align: top;\n",
              "    }\n",
              "\n",
              "    .dataframe thead th {\n",
              "        text-align: right;\n",
              "    }\n",
              "</style>\n",
              "<table border=\"1\" class=\"dataframe\">\n",
              "  <thead>\n",
              "    <tr style=\"text-align: right;\">\n",
              "      <th></th>\n",
              "      <th>State</th>\n",
              "      <th>premiums</th>\n",
              "      <th>losses</th>\n",
              "    </tr>\n",
              "  </thead>\n",
              "  <tbody>\n",
              "    <tr>\n",
              "      <th>0</th>\n",
              "      <td>Alabama</td>\n",
              "      <td>784.55</td>\n",
              "      <td>145.08</td>\n",
              "    </tr>\n",
              "    <tr>\n",
              "      <th>1</th>\n",
              "      <td>Alaska</td>\n",
              "      <td>1053.48</td>\n",
              "      <td>133.93</td>\n",
              "    </tr>\n",
              "    <tr>\n",
              "      <th>2</th>\n",
              "      <td>Arizona</td>\n",
              "      <td>899.47</td>\n",
              "      <td>110.35</td>\n",
              "    </tr>\n",
              "    <tr>\n",
              "      <th>3</th>\n",
              "      <td>Arkansas</td>\n",
              "      <td>827.34</td>\n",
              "      <td>142.39</td>\n",
              "    </tr>\n",
              "    <tr>\n",
              "      <th>4</th>\n",
              "      <td>California</td>\n",
              "      <td>878.41</td>\n",
              "      <td>165.63</td>\n",
              "    </tr>\n",
              "    <tr>\n",
              "      <th>5</th>\n",
              "      <td>Colorado</td>\n",
              "      <td>835.50</td>\n",
              "      <td>139.91</td>\n",
              "    </tr>\n",
              "    <tr>\n",
              "      <th>6</th>\n",
              "      <td>Connecticut</td>\n",
              "      <td>1068.73</td>\n",
              "      <td>167.02</td>\n",
              "    </tr>\n",
              "    <tr>\n",
              "      <th>7</th>\n",
              "      <td>Delaware</td>\n",
              "      <td>1137.87</td>\n",
              "      <td>151.48</td>\n",
              "    </tr>\n",
              "    <tr>\n",
              "      <th>8</th>\n",
              "      <td>District of Columbia</td>\n",
              "      <td>1273.89</td>\n",
              "      <td>136.05</td>\n",
              "    </tr>\n",
              "    <tr>\n",
              "      <th>9</th>\n",
              "      <td>Florida</td>\n",
              "      <td>1160.13</td>\n",
              "      <td>144.18</td>\n",
              "    </tr>\n",
              "    <tr>\n",
              "      <th>10</th>\n",
              "      <td>Georgia</td>\n",
              "      <td>913.15</td>\n",
              "      <td>142.80</td>\n",
              "    </tr>\n",
              "    <tr>\n",
              "      <th>11</th>\n",
              "      <td>Hawaii</td>\n",
              "      <td>861.18</td>\n",
              "      <td>120.92</td>\n",
              "    </tr>\n",
              "    <tr>\n",
              "      <th>12</th>\n",
              "      <td>Idaho</td>\n",
              "      <td>641.96</td>\n",
              "      <td>82.75</td>\n",
              "    </tr>\n",
              "    <tr>\n",
              "      <th>13</th>\n",
              "      <td>Illinois</td>\n",
              "      <td>803.11</td>\n",
              "      <td>139.15</td>\n",
              "    </tr>\n",
              "    <tr>\n",
              "      <th>14</th>\n",
              "      <td>Indiana</td>\n",
              "      <td>710.46</td>\n",
              "      <td>108.92</td>\n",
              "    </tr>\n",
              "    <tr>\n",
              "      <th>15</th>\n",
              "      <td>Iowa</td>\n",
              "      <td>649.06</td>\n",
              "      <td>114.47</td>\n",
              "    </tr>\n",
              "    <tr>\n",
              "      <th>16</th>\n",
              "      <td>Kansas</td>\n",
              "      <td>780.45</td>\n",
              "      <td>133.80</td>\n",
              "    </tr>\n",
              "    <tr>\n",
              "      <th>17</th>\n",
              "      <td>Kentucky</td>\n",
              "      <td>872.51</td>\n",
              "      <td>137.13</td>\n",
              "    </tr>\n",
              "    <tr>\n",
              "      <th>18</th>\n",
              "      <td>Louisiana</td>\n",
              "      <td>1281.55</td>\n",
              "      <td>194.78</td>\n",
              "    </tr>\n",
              "    <tr>\n",
              "      <th>19</th>\n",
              "      <td>Maine</td>\n",
              "      <td>661.88</td>\n",
              "      <td>96.57</td>\n",
              "    </tr>\n",
              "    <tr>\n",
              "      <th>20</th>\n",
              "      <td>Maryland</td>\n",
              "      <td>1048.78</td>\n",
              "      <td>192.70</td>\n",
              "    </tr>\n",
              "    <tr>\n",
              "      <th>21</th>\n",
              "      <td>Massachusetts</td>\n",
              "      <td>1011.14</td>\n",
              "      <td>135.63</td>\n",
              "    </tr>\n",
              "    <tr>\n",
              "      <th>22</th>\n",
              "      <td>Michigan</td>\n",
              "      <td>1110.61</td>\n",
              "      <td>152.26</td>\n",
              "    </tr>\n",
              "    <tr>\n",
              "      <th>23</th>\n",
              "      <td>Minnesota</td>\n",
              "      <td>777.18</td>\n",
              "      <td>133.35</td>\n",
              "    </tr>\n",
              "    <tr>\n",
              "      <th>24</th>\n",
              "      <td>Mississippi</td>\n",
              "      <td>896.07</td>\n",
              "      <td>155.77</td>\n",
              "    </tr>\n",
              "    <tr>\n",
              "      <th>25</th>\n",
              "      <td>Missouri</td>\n",
              "      <td>790.32</td>\n",
              "      <td>144.45</td>\n",
              "    </tr>\n",
              "    <tr>\n",
              "      <th>26</th>\n",
              "      <td>Montana</td>\n",
              "      <td>816.21</td>\n",
              "      <td>85.15</td>\n",
              "    </tr>\n",
              "    <tr>\n",
              "      <th>27</th>\n",
              "      <td>Nebraska</td>\n",
              "      <td>732.28</td>\n",
              "      <td>114.82</td>\n",
              "    </tr>\n",
              "    <tr>\n",
              "      <th>28</th>\n",
              "      <td>Nevada</td>\n",
              "      <td>1029.87</td>\n",
              "      <td>138.71</td>\n",
              "    </tr>\n",
              "    <tr>\n",
              "      <th>29</th>\n",
              "      <td>New Hampshire</td>\n",
              "      <td>746.54</td>\n",
              "      <td>120.21</td>\n",
              "    </tr>\n",
              "    <tr>\n",
              "      <th>30</th>\n",
              "      <td>New Jersey</td>\n",
              "      <td>1301.52</td>\n",
              "      <td>159.85</td>\n",
              "    </tr>\n",
              "    <tr>\n",
              "      <th>31</th>\n",
              "      <td>New Mexico</td>\n",
              "      <td>869.85</td>\n",
              "      <td>120.75</td>\n",
              "    </tr>\n",
              "    <tr>\n",
              "      <th>32</th>\n",
              "      <td>New York</td>\n",
              "      <td>1234.31</td>\n",
              "      <td>150.01</td>\n",
              "    </tr>\n",
              "    <tr>\n",
              "      <th>33</th>\n",
              "      <td>North Carolina</td>\n",
              "      <td>708.24</td>\n",
              "      <td>127.82</td>\n",
              "    </tr>\n",
              "    <tr>\n",
              "      <th>34</th>\n",
              "      <td>North Dakota</td>\n",
              "      <td>688.75</td>\n",
              "      <td>109.72</td>\n",
              "    </tr>\n",
              "    <tr>\n",
              "      <th>35</th>\n",
              "      <td>Ohio</td>\n",
              "      <td>697.73</td>\n",
              "      <td>133.52</td>\n",
              "    </tr>\n",
              "    <tr>\n",
              "      <th>36</th>\n",
              "      <td>Oklahoma</td>\n",
              "      <td>881.51</td>\n",
              "      <td>178.86</td>\n",
              "    </tr>\n",
              "    <tr>\n",
              "      <th>37</th>\n",
              "      <td>Oregon</td>\n",
              "      <td>804.71</td>\n",
              "      <td>104.61</td>\n",
              "    </tr>\n",
              "    <tr>\n",
              "      <th>38</th>\n",
              "      <td>Pennsylvania</td>\n",
              "      <td>905.99</td>\n",
              "      <td>153.86</td>\n",
              "    </tr>\n",
              "    <tr>\n",
              "      <th>39</th>\n",
              "      <td>Rhode Island</td>\n",
              "      <td>1148.99</td>\n",
              "      <td>148.58</td>\n",
              "    </tr>\n",
              "    <tr>\n",
              "      <th>40</th>\n",
              "      <td>South Carolina</td>\n",
              "      <td>858.97</td>\n",
              "      <td>116.29</td>\n",
              "    </tr>\n",
              "    <tr>\n",
              "      <th>41</th>\n",
              "      <td>South Dakota</td>\n",
              "      <td>669.31</td>\n",
              "      <td>96.87</td>\n",
              "    </tr>\n",
              "    <tr>\n",
              "      <th>42</th>\n",
              "      <td>Tennessee</td>\n",
              "      <td>767.91</td>\n",
              "      <td>155.57</td>\n",
              "    </tr>\n",
              "    <tr>\n",
              "      <th>43</th>\n",
              "      <td>Texas</td>\n",
              "      <td>1004.75</td>\n",
              "      <td>156.83</td>\n",
              "    </tr>\n",
              "    <tr>\n",
              "      <th>44</th>\n",
              "      <td>Utah</td>\n",
              "      <td>809.38</td>\n",
              "      <td>109.48</td>\n",
              "    </tr>\n",
              "    <tr>\n",
              "      <th>45</th>\n",
              "      <td>Vermont</td>\n",
              "      <td>716.20</td>\n",
              "      <td>109.61</td>\n",
              "    </tr>\n",
              "    <tr>\n",
              "      <th>46</th>\n",
              "      <td>Virginia</td>\n",
              "      <td>768.95</td>\n",
              "      <td>153.72</td>\n",
              "    </tr>\n",
              "    <tr>\n",
              "      <th>47</th>\n",
              "      <td>Washington</td>\n",
              "      <td>890.03</td>\n",
              "      <td>111.62</td>\n",
              "    </tr>\n",
              "    <tr>\n",
              "      <th>48</th>\n",
              "      <td>West Virginia</td>\n",
              "      <td>992.61</td>\n",
              "      <td>152.56</td>\n",
              "    </tr>\n",
              "    <tr>\n",
              "      <th>49</th>\n",
              "      <td>Wisconsin</td>\n",
              "      <td>670.31</td>\n",
              "      <td>106.62</td>\n",
              "    </tr>\n",
              "    <tr>\n",
              "      <th>50</th>\n",
              "      <td>Wyoming</td>\n",
              "      <td>791.14</td>\n",
              "      <td>122.04</td>\n",
              "    </tr>\n",
              "  </tbody>\n",
              "</table>\n",
              "</div>"
            ],
            "text/plain": [
              "                   State  premiums  losses\n",
              "0                Alabama    784.55  145.08\n",
              "1                 Alaska   1053.48  133.93\n",
              "2                Arizona    899.47  110.35\n",
              "3               Arkansas    827.34  142.39\n",
              "4             California    878.41  165.63\n",
              "5               Colorado    835.50  139.91\n",
              "6            Connecticut   1068.73  167.02\n",
              "7               Delaware   1137.87  151.48\n",
              "8   District of Columbia   1273.89  136.05\n",
              "9                Florida   1160.13  144.18\n",
              "10               Georgia    913.15  142.80\n",
              "11                Hawaii    861.18  120.92\n",
              "12                 Idaho    641.96   82.75\n",
              "13              Illinois    803.11  139.15\n",
              "14               Indiana    710.46  108.92\n",
              "15                  Iowa    649.06  114.47\n",
              "16                Kansas    780.45  133.80\n",
              "17              Kentucky    872.51  137.13\n",
              "18             Louisiana   1281.55  194.78\n",
              "19                 Maine    661.88   96.57\n",
              "20              Maryland   1048.78  192.70\n",
              "21         Massachusetts   1011.14  135.63\n",
              "22              Michigan   1110.61  152.26\n",
              "23             Minnesota    777.18  133.35\n",
              "24           Mississippi    896.07  155.77\n",
              "25              Missouri    790.32  144.45\n",
              "26               Montana    816.21   85.15\n",
              "27              Nebraska    732.28  114.82\n",
              "28                Nevada   1029.87  138.71\n",
              "29         New Hampshire    746.54  120.21\n",
              "30            New Jersey   1301.52  159.85\n",
              "31            New Mexico    869.85  120.75\n",
              "32              New York   1234.31  150.01\n",
              "33        North Carolina    708.24  127.82\n",
              "34          North Dakota    688.75  109.72\n",
              "35                  Ohio    697.73  133.52\n",
              "36              Oklahoma    881.51  178.86\n",
              "37                Oregon    804.71  104.61\n",
              "38          Pennsylvania    905.99  153.86\n",
              "39          Rhode Island   1148.99  148.58\n",
              "40        South Carolina    858.97  116.29\n",
              "41          South Dakota    669.31   96.87\n",
              "42             Tennessee    767.91  155.57\n",
              "43                 Texas   1004.75  156.83\n",
              "44                  Utah    809.38  109.48\n",
              "45               Vermont    716.20  109.61\n",
              "46              Virginia    768.95  153.72\n",
              "47            Washington    890.03  111.62\n",
              "48         West Virginia    992.61  152.56\n",
              "49             Wisconsin    670.31  106.62\n",
              "50               Wyoming    791.14  122.04"
            ]
          },
          "metadata": {
            "tags": []
          },
          "execution_count": 37
        }
      ]
    },
    {
      "cell_type": "markdown",
      "metadata": {
        "id": "BsIyGljIERhl",
        "colab_type": "text"
      },
      "source": [
        "### Step 19. Create a new variable, ratio, that is the ratio of losses to premiums (ratio= losses/premiums)"
      ]
    },
    {
      "cell_type": "code",
      "metadata": {
        "id": "bk0927NtEvlJ",
        "colab_type": "code",
        "outputId": "150c0a83-6df7-42d9-f8ec-b5b443f825be",
        "colab": {
          "base_uri": "https://localhost:8080/",
          "height": 1630
        }
      },
      "source": [
        "drivers_pl = drivers_pl.assign(ratio=drivers_pl.losses/drivers_pl.premiums)\n",
        "drivers_pl"
      ],
      "execution_count": 0,
      "outputs": [
        {
          "output_type": "execute_result",
          "data": {
            "text/html": [
              "<div>\n",
              "<style scoped>\n",
              "    .dataframe tbody tr th:only-of-type {\n",
              "        vertical-align: middle;\n",
              "    }\n",
              "\n",
              "    .dataframe tbody tr th {\n",
              "        vertical-align: top;\n",
              "    }\n",
              "\n",
              "    .dataframe thead th {\n",
              "        text-align: right;\n",
              "    }\n",
              "</style>\n",
              "<table border=\"1\" class=\"dataframe\">\n",
              "  <thead>\n",
              "    <tr style=\"text-align: right;\">\n",
              "      <th></th>\n",
              "      <th>State</th>\n",
              "      <th>premiums</th>\n",
              "      <th>losses</th>\n",
              "      <th>ratio</th>\n",
              "    </tr>\n",
              "  </thead>\n",
              "  <tbody>\n",
              "    <tr>\n",
              "      <th>0</th>\n",
              "      <td>Alabama</td>\n",
              "      <td>784.55</td>\n",
              "      <td>145.08</td>\n",
              "      <td>0.184921</td>\n",
              "    </tr>\n",
              "    <tr>\n",
              "      <th>1</th>\n",
              "      <td>Alaska</td>\n",
              "      <td>1053.48</td>\n",
              "      <td>133.93</td>\n",
              "      <td>0.127131</td>\n",
              "    </tr>\n",
              "    <tr>\n",
              "      <th>2</th>\n",
              "      <td>Arizona</td>\n",
              "      <td>899.47</td>\n",
              "      <td>110.35</td>\n",
              "      <td>0.122683</td>\n",
              "    </tr>\n",
              "    <tr>\n",
              "      <th>3</th>\n",
              "      <td>Arkansas</td>\n",
              "      <td>827.34</td>\n",
              "      <td>142.39</td>\n",
              "      <td>0.172106</td>\n",
              "    </tr>\n",
              "    <tr>\n",
              "      <th>4</th>\n",
              "      <td>California</td>\n",
              "      <td>878.41</td>\n",
              "      <td>165.63</td>\n",
              "      <td>0.188557</td>\n",
              "    </tr>\n",
              "    <tr>\n",
              "      <th>5</th>\n",
              "      <td>Colorado</td>\n",
              "      <td>835.50</td>\n",
              "      <td>139.91</td>\n",
              "      <td>0.167457</td>\n",
              "    </tr>\n",
              "    <tr>\n",
              "      <th>6</th>\n",
              "      <td>Connecticut</td>\n",
              "      <td>1068.73</td>\n",
              "      <td>167.02</td>\n",
              "      <td>0.156279</td>\n",
              "    </tr>\n",
              "    <tr>\n",
              "      <th>7</th>\n",
              "      <td>Delaware</td>\n",
              "      <td>1137.87</td>\n",
              "      <td>151.48</td>\n",
              "      <td>0.133126</td>\n",
              "    </tr>\n",
              "    <tr>\n",
              "      <th>8</th>\n",
              "      <td>District of Columbia</td>\n",
              "      <td>1273.89</td>\n",
              "      <td>136.05</td>\n",
              "      <td>0.106799</td>\n",
              "    </tr>\n",
              "    <tr>\n",
              "      <th>9</th>\n",
              "      <td>Florida</td>\n",
              "      <td>1160.13</td>\n",
              "      <td>144.18</td>\n",
              "      <td>0.124279</td>\n",
              "    </tr>\n",
              "    <tr>\n",
              "      <th>10</th>\n",
              "      <td>Georgia</td>\n",
              "      <td>913.15</td>\n",
              "      <td>142.80</td>\n",
              "      <td>0.156382</td>\n",
              "    </tr>\n",
              "    <tr>\n",
              "      <th>11</th>\n",
              "      <td>Hawaii</td>\n",
              "      <td>861.18</td>\n",
              "      <td>120.92</td>\n",
              "      <td>0.140412</td>\n",
              "    </tr>\n",
              "    <tr>\n",
              "      <th>12</th>\n",
              "      <td>Idaho</td>\n",
              "      <td>641.96</td>\n",
              "      <td>82.75</td>\n",
              "      <td>0.128902</td>\n",
              "    </tr>\n",
              "    <tr>\n",
              "      <th>13</th>\n",
              "      <td>Illinois</td>\n",
              "      <td>803.11</td>\n",
              "      <td>139.15</td>\n",
              "      <td>0.173264</td>\n",
              "    </tr>\n",
              "    <tr>\n",
              "      <th>14</th>\n",
              "      <td>Indiana</td>\n",
              "      <td>710.46</td>\n",
              "      <td>108.92</td>\n",
              "      <td>0.153309</td>\n",
              "    </tr>\n",
              "    <tr>\n",
              "      <th>15</th>\n",
              "      <td>Iowa</td>\n",
              "      <td>649.06</td>\n",
              "      <td>114.47</td>\n",
              "      <td>0.176363</td>\n",
              "    </tr>\n",
              "    <tr>\n",
              "      <th>16</th>\n",
              "      <td>Kansas</td>\n",
              "      <td>780.45</td>\n",
              "      <td>133.80</td>\n",
              "      <td>0.171440</td>\n",
              "    </tr>\n",
              "    <tr>\n",
              "      <th>17</th>\n",
              "      <td>Kentucky</td>\n",
              "      <td>872.51</td>\n",
              "      <td>137.13</td>\n",
              "      <td>0.157167</td>\n",
              "    </tr>\n",
              "    <tr>\n",
              "      <th>18</th>\n",
              "      <td>Louisiana</td>\n",
              "      <td>1281.55</td>\n",
              "      <td>194.78</td>\n",
              "      <td>0.151988</td>\n",
              "    </tr>\n",
              "    <tr>\n",
              "      <th>19</th>\n",
              "      <td>Maine</td>\n",
              "      <td>661.88</td>\n",
              "      <td>96.57</td>\n",
              "      <td>0.145903</td>\n",
              "    </tr>\n",
              "    <tr>\n",
              "      <th>20</th>\n",
              "      <td>Maryland</td>\n",
              "      <td>1048.78</td>\n",
              "      <td>192.70</td>\n",
              "      <td>0.183737</td>\n",
              "    </tr>\n",
              "    <tr>\n",
              "      <th>21</th>\n",
              "      <td>Massachusetts</td>\n",
              "      <td>1011.14</td>\n",
              "      <td>135.63</td>\n",
              "      <td>0.134136</td>\n",
              "    </tr>\n",
              "    <tr>\n",
              "      <th>22</th>\n",
              "      <td>Michigan</td>\n",
              "      <td>1110.61</td>\n",
              "      <td>152.26</td>\n",
              "      <td>0.137096</td>\n",
              "    </tr>\n",
              "    <tr>\n",
              "      <th>23</th>\n",
              "      <td>Minnesota</td>\n",
              "      <td>777.18</td>\n",
              "      <td>133.35</td>\n",
              "      <td>0.171582</td>\n",
              "    </tr>\n",
              "    <tr>\n",
              "      <th>24</th>\n",
              "      <td>Mississippi</td>\n",
              "      <td>896.07</td>\n",
              "      <td>155.77</td>\n",
              "      <td>0.173837</td>\n",
              "    </tr>\n",
              "    <tr>\n",
              "      <th>25</th>\n",
              "      <td>Missouri</td>\n",
              "      <td>790.32</td>\n",
              "      <td>144.45</td>\n",
              "      <td>0.182774</td>\n",
              "    </tr>\n",
              "    <tr>\n",
              "      <th>26</th>\n",
              "      <td>Montana</td>\n",
              "      <td>816.21</td>\n",
              "      <td>85.15</td>\n",
              "      <td>0.104324</td>\n",
              "    </tr>\n",
              "    <tr>\n",
              "      <th>27</th>\n",
              "      <td>Nebraska</td>\n",
              "      <td>732.28</td>\n",
              "      <td>114.82</td>\n",
              "      <td>0.156798</td>\n",
              "    </tr>\n",
              "    <tr>\n",
              "      <th>28</th>\n",
              "      <td>Nevada</td>\n",
              "      <td>1029.87</td>\n",
              "      <td>138.71</td>\n",
              "      <td>0.134687</td>\n",
              "    </tr>\n",
              "    <tr>\n",
              "      <th>29</th>\n",
              "      <td>New Hampshire</td>\n",
              "      <td>746.54</td>\n",
              "      <td>120.21</td>\n",
              "      <td>0.161023</td>\n",
              "    </tr>\n",
              "    <tr>\n",
              "      <th>30</th>\n",
              "      <td>New Jersey</td>\n",
              "      <td>1301.52</td>\n",
              "      <td>159.85</td>\n",
              "      <td>0.122818</td>\n",
              "    </tr>\n",
              "    <tr>\n",
              "      <th>31</th>\n",
              "      <td>New Mexico</td>\n",
              "      <td>869.85</td>\n",
              "      <td>120.75</td>\n",
              "      <td>0.138817</td>\n",
              "    </tr>\n",
              "    <tr>\n",
              "      <th>32</th>\n",
              "      <td>New York</td>\n",
              "      <td>1234.31</td>\n",
              "      <td>150.01</td>\n",
              "      <td>0.121533</td>\n",
              "    </tr>\n",
              "    <tr>\n",
              "      <th>33</th>\n",
              "      <td>North Carolina</td>\n",
              "      <td>708.24</td>\n",
              "      <td>127.82</td>\n",
              "      <td>0.180476</td>\n",
              "    </tr>\n",
              "    <tr>\n",
              "      <th>34</th>\n",
              "      <td>North Dakota</td>\n",
              "      <td>688.75</td>\n",
              "      <td>109.72</td>\n",
              "      <td>0.159303</td>\n",
              "    </tr>\n",
              "    <tr>\n",
              "      <th>35</th>\n",
              "      <td>Ohio</td>\n",
              "      <td>697.73</td>\n",
              "      <td>133.52</td>\n",
              "      <td>0.191363</td>\n",
              "    </tr>\n",
              "    <tr>\n",
              "      <th>36</th>\n",
              "      <td>Oklahoma</td>\n",
              "      <td>881.51</td>\n",
              "      <td>178.86</td>\n",
              "      <td>0.202902</td>\n",
              "    </tr>\n",
              "    <tr>\n",
              "      <th>37</th>\n",
              "      <td>Oregon</td>\n",
              "      <td>804.71</td>\n",
              "      <td>104.61</td>\n",
              "      <td>0.129997</td>\n",
              "    </tr>\n",
              "    <tr>\n",
              "      <th>38</th>\n",
              "      <td>Pennsylvania</td>\n",
              "      <td>905.99</td>\n",
              "      <td>153.86</td>\n",
              "      <td>0.169825</td>\n",
              "    </tr>\n",
              "    <tr>\n",
              "      <th>39</th>\n",
              "      <td>Rhode Island</td>\n",
              "      <td>1148.99</td>\n",
              "      <td>148.58</td>\n",
              "      <td>0.129314</td>\n",
              "    </tr>\n",
              "    <tr>\n",
              "      <th>40</th>\n",
              "      <td>South Carolina</td>\n",
              "      <td>858.97</td>\n",
              "      <td>116.29</td>\n",
              "      <td>0.135383</td>\n",
              "    </tr>\n",
              "    <tr>\n",
              "      <th>41</th>\n",
              "      <td>South Dakota</td>\n",
              "      <td>669.31</td>\n",
              "      <td>96.87</td>\n",
              "      <td>0.144731</td>\n",
              "    </tr>\n",
              "    <tr>\n",
              "      <th>42</th>\n",
              "      <td>Tennessee</td>\n",
              "      <td>767.91</td>\n",
              "      <td>155.57</td>\n",
              "      <td>0.202589</td>\n",
              "    </tr>\n",
              "    <tr>\n",
              "      <th>43</th>\n",
              "      <td>Texas</td>\n",
              "      <td>1004.75</td>\n",
              "      <td>156.83</td>\n",
              "      <td>0.156089</td>\n",
              "    </tr>\n",
              "    <tr>\n",
              "      <th>44</th>\n",
              "      <td>Utah</td>\n",
              "      <td>809.38</td>\n",
              "      <td>109.48</td>\n",
              "      <td>0.135264</td>\n",
              "    </tr>\n",
              "    <tr>\n",
              "      <th>45</th>\n",
              "      <td>Vermont</td>\n",
              "      <td>716.20</td>\n",
              "      <td>109.61</td>\n",
              "      <td>0.153044</td>\n",
              "    </tr>\n",
              "    <tr>\n",
              "      <th>46</th>\n",
              "      <td>Virginia</td>\n",
              "      <td>768.95</td>\n",
              "      <td>153.72</td>\n",
              "      <td>0.199909</td>\n",
              "    </tr>\n",
              "    <tr>\n",
              "      <th>47</th>\n",
              "      <td>Washington</td>\n",
              "      <td>890.03</td>\n",
              "      <td>111.62</td>\n",
              "      <td>0.125412</td>\n",
              "    </tr>\n",
              "    <tr>\n",
              "      <th>48</th>\n",
              "      <td>West Virginia</td>\n",
              "      <td>992.61</td>\n",
              "      <td>152.56</td>\n",
              "      <td>0.153696</td>\n",
              "    </tr>\n",
              "    <tr>\n",
              "      <th>49</th>\n",
              "      <td>Wisconsin</td>\n",
              "      <td>670.31</td>\n",
              "      <td>106.62</td>\n",
              "      <td>0.159061</td>\n",
              "    </tr>\n",
              "    <tr>\n",
              "      <th>50</th>\n",
              "      <td>Wyoming</td>\n",
              "      <td>791.14</td>\n",
              "      <td>122.04</td>\n",
              "      <td>0.154258</td>\n",
              "    </tr>\n",
              "  </tbody>\n",
              "</table>\n",
              "</div>"
            ],
            "text/plain": [
              "                   State  premiums  losses     ratio\n",
              "0                Alabama    784.55  145.08  0.184921\n",
              "1                 Alaska   1053.48  133.93  0.127131\n",
              "2                Arizona    899.47  110.35  0.122683\n",
              "3               Arkansas    827.34  142.39  0.172106\n",
              "4             California    878.41  165.63  0.188557\n",
              "5               Colorado    835.50  139.91  0.167457\n",
              "6            Connecticut   1068.73  167.02  0.156279\n",
              "7               Delaware   1137.87  151.48  0.133126\n",
              "8   District of Columbia   1273.89  136.05  0.106799\n",
              "9                Florida   1160.13  144.18  0.124279\n",
              "10               Georgia    913.15  142.80  0.156382\n",
              "11                Hawaii    861.18  120.92  0.140412\n",
              "12                 Idaho    641.96   82.75  0.128902\n",
              "13              Illinois    803.11  139.15  0.173264\n",
              "14               Indiana    710.46  108.92  0.153309\n",
              "15                  Iowa    649.06  114.47  0.176363\n",
              "16                Kansas    780.45  133.80  0.171440\n",
              "17              Kentucky    872.51  137.13  0.157167\n",
              "18             Louisiana   1281.55  194.78  0.151988\n",
              "19                 Maine    661.88   96.57  0.145903\n",
              "20              Maryland   1048.78  192.70  0.183737\n",
              "21         Massachusetts   1011.14  135.63  0.134136\n",
              "22              Michigan   1110.61  152.26  0.137096\n",
              "23             Minnesota    777.18  133.35  0.171582\n",
              "24           Mississippi    896.07  155.77  0.173837\n",
              "25              Missouri    790.32  144.45  0.182774\n",
              "26               Montana    816.21   85.15  0.104324\n",
              "27              Nebraska    732.28  114.82  0.156798\n",
              "28                Nevada   1029.87  138.71  0.134687\n",
              "29         New Hampshire    746.54  120.21  0.161023\n",
              "30            New Jersey   1301.52  159.85  0.122818\n",
              "31            New Mexico    869.85  120.75  0.138817\n",
              "32              New York   1234.31  150.01  0.121533\n",
              "33        North Carolina    708.24  127.82  0.180476\n",
              "34          North Dakota    688.75  109.72  0.159303\n",
              "35                  Ohio    697.73  133.52  0.191363\n",
              "36              Oklahoma    881.51  178.86  0.202902\n",
              "37                Oregon    804.71  104.61  0.129997\n",
              "38          Pennsylvania    905.99  153.86  0.169825\n",
              "39          Rhode Island   1148.99  148.58  0.129314\n",
              "40        South Carolina    858.97  116.29  0.135383\n",
              "41          South Dakota    669.31   96.87  0.144731\n",
              "42             Tennessee    767.91  155.57  0.202589\n",
              "43                 Texas   1004.75  156.83  0.156089\n",
              "44                  Utah    809.38  109.48  0.135264\n",
              "45               Vermont    716.20  109.61  0.153044\n",
              "46              Virginia    768.95  153.72  0.199909\n",
              "47            Washington    890.03  111.62  0.125412\n",
              "48         West Virginia    992.61  152.56  0.153696\n",
              "49             Wisconsin    670.31  106.62  0.159061\n",
              "50               Wyoming    791.14  122.04  0.154258"
            ]
          },
          "metadata": {
            "tags": []
          },
          "execution_count": 39
        }
      ]
    },
    {
      "cell_type": "markdown",
      "metadata": {
        "id": "mwfxA7xpFrgI",
        "colab_type": "text"
      },
      "source": [
        "### Step 20. Create a scatter plot showing premiums = X, losses = Y."
      ]
    },
    {
      "cell_type": "code",
      "metadata": {
        "id": "goMNMAlZIEAD",
        "colab_type": "code",
        "outputId": "675b7aca-8f7a-4fd0-91ca-ad8385dd4edb",
        "colab": {
          "base_uri": "https://localhost:8080/",
          "height": 286
        }
      },
      "source": [
        "plt.scatter(drivers_pl.premiums, drivers_pl.losses)"
      ],
      "execution_count": 0,
      "outputs": [
        {
          "output_type": "execute_result",
          "data": {
            "text/plain": [
              "<matplotlib.collections.PathCollection at 0x7fa6b7f83b70>"
            ]
          },
          "metadata": {
            "tags": []
          },
          "execution_count": 40
        },
        {
          "output_type": "display_data",
          "data": {
            "image/png": "[encoded data removed]",
            "text/plain": [
              "<Figure size 432x288 with 1 Axes>"
            ]
          },
          "metadata": {
            "tags": []
          }
        }
      ]
    },
    {
      "cell_type": "markdown",
      "metadata": {
        "id": "Ag6mT2ELLlP-",
        "colab_type": "text"
      },
      "source": [
        "### Step 21. Get summary statistics about the drivers_pl dataset."
      ]
    },
    {
      "cell_type": "code",
      "metadata": {
        "id": "OWXzLFXPLYnn",
        "colab_type": "code",
        "outputId": "bc463df9-6f83-4449-cb1a-89d89b1be4ba",
        "colab": {
          "base_uri": "https://localhost:8080/",
          "height": 297
        }
      },
      "source": [
        "drivers_pl.describe()"
      ],
      "execution_count": 0,
      "outputs": [
        {
          "output_type": "execute_result",
          "data": {
            "text/html": [
              "<div>\n",
              "<style scoped>\n",
              "    .dataframe tbody tr th:only-of-type {\n",
              "        vertical-align: middle;\n",
              "    }\n",
              "\n",
              "    .dataframe tbody tr th {\n",
              "        vertical-align: top;\n",
              "    }\n",
              "\n",
              "    .dataframe thead th {\n",
              "        text-align: right;\n",
              "    }\n",
              "</style>\n",
              "<table border=\"1\" class=\"dataframe\">\n",
              "  <thead>\n",
              "    <tr style=\"text-align: right;\">\n",
              "      <th></th>\n",
              "      <th>premiums</th>\n",
              "      <th>losses</th>\n",
              "      <th>ratio</th>\n",
              "    </tr>\n",
              "  </thead>\n",
              "  <tbody>\n",
              "    <tr>\n",
              "      <th>count</th>\n",
              "      <td>51.000000</td>\n",
              "      <td>51.000000</td>\n",
              "      <td>51.000000</td>\n",
              "    </tr>\n",
              "    <tr>\n",
              "      <th>mean</th>\n",
              "      <td>886.957647</td>\n",
              "      <td>134.493137</td>\n",
              "      <td>0.153809</td>\n",
              "    </tr>\n",
              "    <tr>\n",
              "      <th>std</th>\n",
              "      <td>178.296285</td>\n",
              "      <td>24.835922</td>\n",
              "      <td>0.024613</td>\n",
              "    </tr>\n",
              "    <tr>\n",
              "      <th>min</th>\n",
              "      <td>641.960000</td>\n",
              "      <td>82.750000</td>\n",
              "      <td>0.104324</td>\n",
              "    </tr>\n",
              "    <tr>\n",
              "      <th>25%</th>\n",
              "      <td>768.430000</td>\n",
              "      <td>114.645000</td>\n",
              "      <td>0.134411</td>\n",
              "    </tr>\n",
              "    <tr>\n",
              "      <th>50%</th>\n",
              "      <td>858.970000</td>\n",
              "      <td>136.050000</td>\n",
              "      <td>0.154258</td>\n",
              "    </tr>\n",
              "    <tr>\n",
              "      <th>75%</th>\n",
              "      <td>1007.945000</td>\n",
              "      <td>151.870000</td>\n",
              "      <td>0.171844</td>\n",
              "    </tr>\n",
              "    <tr>\n",
              "      <th>max</th>\n",
              "      <td>1301.520000</td>\n",
              "      <td>194.780000</td>\n",
              "      <td>0.202902</td>\n",
              "    </tr>\n",
              "  </tbody>\n",
              "</table>\n",
              "</div>"
            ],
            "text/plain": [
              "          premiums      losses      ratio\n",
              "count    51.000000   51.000000  51.000000\n",
              "mean    886.957647  134.493137   0.153809\n",
              "std     178.296285   24.835922   0.024613\n",
              "min     641.960000   82.750000   0.104324\n",
              "25%     768.430000  114.645000   0.134411\n",
              "50%     858.970000  136.050000   0.154258\n",
              "75%    1007.945000  151.870000   0.171844\n",
              "max    1301.520000  194.780000   0.202902"
            ]
          },
          "metadata": {
            "tags": []
          },
          "execution_count": 41
        }
      ]
    },
    {
      "cell_type": "markdown",
      "metadata": {
        "id": "4UDen3_1LtqG",
        "colab_type": "text"
      },
      "source": [
        "### Step 22. Save the summary statistics into their own dataset."
      ]
    },
    {
      "cell_type": "code",
      "metadata": {
        "id": "Ga2udhwYLzPG",
        "colab_type": "code",
        "colab": {}
      },
      "source": [
        "dpl_summary = drivers_pl.describe()\n"
      ],
      "execution_count": 0,
      "outputs": []
    },
    {
      "cell_type": "code",
      "metadata": {
        "id": "AYvgtZT-L9eG",
        "colab_type": "code",
        "outputId": "c8b2ba60-e4bd-4c79-df69-6a700ee569ff",
        "colab": {
          "base_uri": "https://localhost:8080/",
          "height": 297
        }
      },
      "source": [
        "dpl_summary"
      ],
      "execution_count": 0,
      "outputs": [
        {
          "output_type": "execute_result",
          "data": {
            "text/html": [
              "<div>\n",
              "<style scoped>\n",
              "    .dataframe tbody tr th:only-of-type {\n",
              "        vertical-align: middle;\n",
              "    }\n",
              "\n",
              "    .dataframe tbody tr th {\n",
              "        vertical-align: top;\n",
              "    }\n",
              "\n",
              "    .dataframe thead th {\n",
              "        text-align: right;\n",
              "    }\n",
              "</style>\n",
              "<table border=\"1\" class=\"dataframe\">\n",
              "  <thead>\n",
              "    <tr style=\"text-align: right;\">\n",
              "      <th></th>\n",
              "      <th>premiums</th>\n",
              "      <th>losses</th>\n",
              "      <th>ratio</th>\n",
              "    </tr>\n",
              "  </thead>\n",
              "  <tbody>\n",
              "    <tr>\n",
              "      <th>count</th>\n",
              "      <td>51.000000</td>\n",
              "      <td>51.000000</td>\n",
              "      <td>51.000000</td>\n",
              "    </tr>\n",
              "    <tr>\n",
              "      <th>mean</th>\n",
              "      <td>886.957647</td>\n",
              "      <td>134.493137</td>\n",
              "      <td>0.153809</td>\n",
              "    </tr>\n",
              "    <tr>\n",
              "      <th>std</th>\n",
              "      <td>178.296285</td>\n",
              "      <td>24.835922</td>\n",
              "      <td>0.024613</td>\n",
              "    </tr>\n",
              "    <tr>\n",
              "      <th>min</th>\n",
              "      <td>641.960000</td>\n",
              "      <td>82.750000</td>\n",
              "      <td>0.104324</td>\n",
              "    </tr>\n",
              "    <tr>\n",
              "      <th>25%</th>\n",
              "      <td>768.430000</td>\n",
              "      <td>114.645000</td>\n",
              "      <td>0.134411</td>\n",
              "    </tr>\n",
              "    <tr>\n",
              "      <th>50%</th>\n",
              "      <td>858.970000</td>\n",
              "      <td>136.050000</td>\n",
              "      <td>0.154258</td>\n",
              "    </tr>\n",
              "    <tr>\n",
              "      <th>75%</th>\n",
              "      <td>1007.945000</td>\n",
              "      <td>151.870000</td>\n",
              "      <td>0.171844</td>\n",
              "    </tr>\n",
              "    <tr>\n",
              "      <th>max</th>\n",
              "      <td>1301.520000</td>\n",
              "      <td>194.780000</td>\n",
              "      <td>0.202902</td>\n",
              "    </tr>\n",
              "  </tbody>\n",
              "</table>\n",
              "</div>"
            ],
            "text/plain": [
              "          premiums      losses      ratio\n",
              "count    51.000000   51.000000  51.000000\n",
              "mean    886.957647  134.493137   0.153809\n",
              "std     178.296285   24.835922   0.024613\n",
              "min     641.960000   82.750000   0.104324\n",
              "25%     768.430000  114.645000   0.134411\n",
              "50%     858.970000  136.050000   0.154258\n",
              "75%    1007.945000  151.870000   0.171844\n",
              "max    1301.520000  194.780000   0.202902"
            ]
          },
          "metadata": {
            "tags": []
          },
          "execution_count": 43
        }
      ]
    },
    {
      "cell_type": "markdown",
      "metadata": {
        "id": "n0_8fFARMoIY",
        "colab_type": "text"
      },
      "source": [
        "### Step 23. Access the mean of the premiums column."
      ]
    },
    {
      "cell_type": "code",
      "metadata": {
        "id": "qVNsxXpdQXgo",
        "colab_type": "code",
        "outputId": "699dcd83-6f2b-4dcf-cef8-25e47ce4acfc",
        "colab": {
          "base_uri": "https://localhost:8080/",
          "height": 34
        }
      },
      "source": [
        "dpl_summary.premiums['mean']"
      ],
      "execution_count": 0,
      "outputs": [
        {
          "output_type": "execute_result",
          "data": {
            "text/plain": [
              "886.9576470588232"
            ]
          },
          "metadata": {
            "tags": []
          },
          "execution_count": 44
        }
      ]
    },
    {
      "cell_type": "code",
      "metadata": {
        "id": "Idlgaz-NQ01U",
        "colab_type": "code",
        "outputId": "7627c2c7-dc01-4cad-f175-0dc8c8c0e017",
        "colab": {
          "base_uri": "https://localhost:8080/",
          "height": 34
        }
      },
      "source": [
        "dpl_summary.premiums[1]"
      ],
      "execution_count": 0,
      "outputs": [
        {
          "output_type": "execute_result",
          "data": {
            "text/plain": [
              "886.9576470588232"
            ]
          },
          "metadata": {
            "tags": []
          },
          "execution_count": 45
        }
      ]
    },
    {
      "cell_type": "markdown",
      "metadata": {
        "id": "vTPuiax5P6tR",
        "colab_type": "text"
      },
      "source": [
        "### Step 24. Transpose columns and rows in dpl_summary using transpose()"
      ]
    },
    {
      "cell_type": "code",
      "metadata": {
        "id": "Cx48c3PyP_1r",
        "colab_type": "code",
        "outputId": "d9e6b358-8309-45c3-f53e-cb156cb837f1",
        "colab": {
          "base_uri": "https://localhost:8080/",
          "height": 142
        }
      },
      "source": [
        "dpl_summary.transpose()"
      ],
      "execution_count": 0,
      "outputs": [
        {
          "output_type": "execute_result",
          "data": {
            "text/html": [
              "<div>\n",
              "<style scoped>\n",
              "    .dataframe tbody tr th:only-of-type {\n",
              "        vertical-align: middle;\n",
              "    }\n",
              "\n",
              "    .dataframe tbody tr th {\n",
              "        vertical-align: top;\n",
              "    }\n",
              "\n",
              "    .dataframe thead th {\n",
              "        text-align: right;\n",
              "    }\n",
              "</style>\n",
              "<table border=\"1\" class=\"dataframe\">\n",
              "  <thead>\n",
              "    <tr style=\"text-align: right;\">\n",
              "      <th></th>\n",
              "      <th>count</th>\n",
              "      <th>mean</th>\n",
              "      <th>std</th>\n",
              "      <th>min</th>\n",
              "      <th>25%</th>\n",
              "      <th>50%</th>\n",
              "      <th>75%</th>\n",
              "      <th>max</th>\n",
              "    </tr>\n",
              "  </thead>\n",
              "  <tbody>\n",
              "    <tr>\n",
              "      <th>premiums</th>\n",
              "      <td>51.0</td>\n",
              "      <td>886.957647</td>\n",
              "      <td>178.296285</td>\n",
              "      <td>641.960000</td>\n",
              "      <td>768.430000</td>\n",
              "      <td>858.970000</td>\n",
              "      <td>1007.945000</td>\n",
              "      <td>1301.520000</td>\n",
              "    </tr>\n",
              "    <tr>\n",
              "      <th>losses</th>\n",
              "      <td>51.0</td>\n",
              "      <td>134.493137</td>\n",
              "      <td>24.835922</td>\n",
              "      <td>82.750000</td>\n",
              "      <td>114.645000</td>\n",
              "      <td>136.050000</td>\n",
              "      <td>151.870000</td>\n",
              "      <td>194.780000</td>\n",
              "    </tr>\n",
              "    <tr>\n",
              "      <th>ratio</th>\n",
              "      <td>51.0</td>\n",
              "      <td>0.153809</td>\n",
              "      <td>0.024613</td>\n",
              "      <td>0.104324</td>\n",
              "      <td>0.134411</td>\n",
              "      <td>0.154258</td>\n",
              "      <td>0.171844</td>\n",
              "      <td>0.202902</td>\n",
              "    </tr>\n",
              "  </tbody>\n",
              "</table>\n",
              "</div>"
            ],
            "text/plain": [
              "          count        mean         std  ...         50%          75%          max\n",
              "premiums   51.0  886.957647  178.296285  ...  858.970000  1007.945000  1301.520000\n",
              "losses     51.0  134.493137   24.835922  ...  136.050000   151.870000   194.780000\n",
              "ratio      51.0    0.153809    0.024613  ...    0.154258     0.171844     0.202902\n",
              "\n",
              "[3 rows x 8 columns]"
            ]
          },
          "metadata": {
            "tags": []
          },
          "execution_count": 46
        }
      ]
    },
    {
      "cell_type": "markdown",
      "metadata": {
        "id": "2C0yTesFO95F",
        "colab_type": "text"
      },
      "source": [
        "### Step 25. Practice. Read in a new dataset from the url provided using the read_csv() command. Name the dataset 'exdat'."
      ]
    },
    {
      "cell_type": "code",
      "metadata": {
        "id": "MmGEAI8mPEUK",
        "colab_type": "code",
        "outputId": "f9a8db1b-10d1-483f-a473-e539c5ab3789",
        "colab": {
          "base_uri": "https://localhost:8080/",
          "height": 204
        }
      },
      "source": [
        "url = \"https://raw.githubusercontent.com/alblaine/exchange-rates/master/data/annual.csv\"\n",
        "\n",
        "exdat =  pd.read_csv(url)\n",
        "\n",
        "exdat.head()"
      ],
      "execution_count": 0,
      "outputs": [
        {
          "output_type": "execute_result",
          "data": {
            "text/html": [
              "<div>\n",
              "<style scoped>\n",
              "    .dataframe tbody tr th:only-of-type {\n",
              "        vertical-align: middle;\n",
              "    }\n",
              "\n",
              "    .dataframe tbody tr th {\n",
              "        vertical-align: top;\n",
              "    }\n",
              "\n",
              "    .dataframe thead th {\n",
              "        text-align: right;\n",
              "    }\n",
              "</style>\n",
              "<table border=\"1\" class=\"dataframe\">\n",
              "  <thead>\n",
              "    <tr style=\"text-align: right;\">\n",
              "      <th></th>\n",
              "      <th>Date</th>\n",
              "      <th>Country</th>\n",
              "      <th>Exchange rate</th>\n",
              "    </tr>\n",
              "  </thead>\n",
              "  <tbody>\n",
              "    <tr>\n",
              "      <th>0</th>\n",
              "      <td>1971-01-01</td>\n",
              "      <td>Australia</td>\n",
              "      <td>0.880282</td>\n",
              "    </tr>\n",
              "    <tr>\n",
              "      <th>1</th>\n",
              "      <td>1972-01-01</td>\n",
              "      <td>Australia</td>\n",
              "      <td>0.838715</td>\n",
              "    </tr>\n",
              "    <tr>\n",
              "      <th>2</th>\n",
              "      <td>1973-01-01</td>\n",
              "      <td>Australia</td>\n",
              "      <td>0.704722</td>\n",
              "    </tr>\n",
              "    <tr>\n",
              "      <th>3</th>\n",
              "      <td>1974-01-01</td>\n",
              "      <td>Australia</td>\n",
              "      <td>0.694975</td>\n",
              "    </tr>\n",
              "    <tr>\n",
              "      <th>4</th>\n",
              "      <td>1975-01-01</td>\n",
              "      <td>Australia</td>\n",
              "      <td>0.764701</td>\n",
              "    </tr>\n",
              "  </tbody>\n",
              "</table>\n",
              "</div>"
            ],
            "text/plain": [
              "         Date    Country  Exchange rate\n",
              "0  1971-01-01  Australia       0.880282\n",
              "1  1972-01-01  Australia       0.838715\n",
              "2  1973-01-01  Australia       0.704722\n",
              "3  1974-01-01  Australia       0.694975\n",
              "4  1975-01-01  Australia       0.764701"
            ]
          },
          "metadata": {
            "tags": []
          },
          "execution_count": 47
        }
      ]
    },
    {
      "cell_type": "markdown",
      "metadata": {
        "id": "85wAbYH2PJg5",
        "colab_type": "text"
      },
      "source": [
        "### Step 26. Create a year column based on the Date column (ex: 1971)"
      ]
    },
    {
      "cell_type": "markdown",
      "metadata": {
        "id": "c_WJGcaencqB",
        "colab_type": "text"
      },
      "source": [
        "Note that **.assign** creates a new column, **pd.DatetimeIndex()** converts the Date column into a Date object in Python, and **.year** extracts the year value."
      ]
    },
    {
      "cell_type": "code",
      "metadata": {
        "id": "5tZBCndpPZCX",
        "colab_type": "code",
        "outputId": "bf6ea9b7-c67a-4ebf-fc50-7b85e486dd4a",
        "colab": {
          "base_uri": "https://localhost:8080/",
          "height": 85
        }
      },
      "source": [
        "# See how to convert a date to year using DatatimeIndex()\n",
        "pd.DatetimeIndex(exdat['Date']).year\n",
        "\n"
      ],
      "execution_count": 0,
      "outputs": [
        {
          "output_type": "execute_result",
          "data": {
            "text/plain": [
              "Int64Index([1971, 1972, 1973, 1974, 1975, 1976, 1977, 1978, 1979, 1980,\n",
              "            ...\n",
              "            2008, 2009, 2010, 2011, 2012, 2013, 2014, 2015, 2016, 2017],\n",
              "           dtype='int64', name='Date', length=825)"
            ]
          },
          "metadata": {
            "tags": []
          },
          "execution_count": 53
        }
      ]
    },
    {
      "cell_type": "code",
      "metadata": {
        "id": "8awjLC3gS3lJ",
        "colab_type": "code",
        "outputId": "ab23916d-afe0-4cf5-a5ed-be8dc09ebdf4",
        "colab": {
          "base_uri": "https://localhost:8080/",
          "height": 1969
        }
      },
      "source": [
        "# Now do it on this dataset and \n",
        "\n",
        "exdat = exdat.assign(year=pd.DatetimeIndex(exdat['Date']).year)  # see the Pandas docs here: https://pandas.pydata.org/pandas-docs/stable/generated/pandas.DatetimeIndex.html\n",
        "exdat"
      ],
      "execution_count": 0,
      "outputs": [
        {
          "output_type": "execute_result",
          "data": {
            "text/html": [
              "<div>\n",
              "<style scoped>\n",
              "    .dataframe tbody tr th:only-of-type {\n",
              "        vertical-align: middle;\n",
              "    }\n",
              "\n",
              "    .dataframe tbody tr th {\n",
              "        vertical-align: top;\n",
              "    }\n",
              "\n",
              "    .dataframe thead th {\n",
              "        text-align: right;\n",
              "    }\n",
              "</style>\n",
              "<table border=\"1\" class=\"dataframe\">\n",
              "  <thead>\n",
              "    <tr style=\"text-align: right;\">\n",
              "      <th></th>\n",
              "      <th>Date</th>\n",
              "      <th>Country</th>\n",
              "      <th>Exchange rate</th>\n",
              "      <th>year</th>\n",
              "    </tr>\n",
              "  </thead>\n",
              "  <tbody>\n",
              "    <tr>\n",
              "      <th>0</th>\n",
              "      <td>1971-01-01</td>\n",
              "      <td>Australia</td>\n",
              "      <td>0.880282</td>\n",
              "      <td>1971</td>\n",
              "    </tr>\n",
              "    <tr>\n",
              "      <th>1</th>\n",
              "      <td>1972-01-01</td>\n",
              "      <td>Australia</td>\n",
              "      <td>0.838715</td>\n",
              "      <td>1972</td>\n",
              "    </tr>\n",
              "    <tr>\n",
              "      <th>2</th>\n",
              "      <td>1973-01-01</td>\n",
              "      <td>Australia</td>\n",
              "      <td>0.704722</td>\n",
              "      <td>1973</td>\n",
              "    </tr>\n",
              "    <tr>\n",
              "      <th>3</th>\n",
              "      <td>1974-01-01</td>\n",
              "      <td>Australia</td>\n",
              "      <td>0.694975</td>\n",
              "      <td>1974</td>\n",
              "    </tr>\n",
              "    <tr>\n",
              "      <th>4</th>\n",
              "      <td>1975-01-01</td>\n",
              "      <td>Australia</td>\n",
              "      <td>0.764701</td>\n",
              "      <td>1975</td>\n",
              "    </tr>\n",
              "    <tr>\n",
              "      <th>5</th>\n",
              "      <td>1976-01-01</td>\n",
              "      <td>Australia</td>\n",
              "      <td>0.818666</td>\n",
              "      <td>1976</td>\n",
              "    </tr>\n",
              "    <tr>\n",
              "      <th>6</th>\n",
              "      <td>1977-01-01</td>\n",
              "      <td>Australia</td>\n",
              "      <td>0.902364</td>\n",
              "      <td>1977</td>\n",
              "    </tr>\n",
              "    <tr>\n",
              "      <th>7</th>\n",
              "      <td>1978-01-01</td>\n",
              "      <td>Australia</td>\n",
              "      <td>0.874049</td>\n",
              "      <td>1978</td>\n",
              "    </tr>\n",
              "    <tr>\n",
              "      <th>8</th>\n",
              "      <td>1979-01-01</td>\n",
              "      <td>Australia</td>\n",
              "      <td>0.894694</td>\n",
              "      <td>1979</td>\n",
              "    </tr>\n",
              "    <tr>\n",
              "      <th>9</th>\n",
              "      <td>1980-01-01</td>\n",
              "      <td>Australia</td>\n",
              "      <td>0.877578</td>\n",
              "      <td>1980</td>\n",
              "    </tr>\n",
              "    <tr>\n",
              "      <th>10</th>\n",
              "      <td>1981-01-01</td>\n",
              "      <td>Australia</td>\n",
              "      <td>0.869943</td>\n",
              "      <td>1981</td>\n",
              "    </tr>\n",
              "    <tr>\n",
              "      <th>11</th>\n",
              "      <td>1982-01-01</td>\n",
              "      <td>Australia</td>\n",
              "      <td>0.983768</td>\n",
              "      <td>1982</td>\n",
              "    </tr>\n",
              "    <tr>\n",
              "      <th>12</th>\n",
              "      <td>1983-01-01</td>\n",
              "      <td>Australia</td>\n",
              "      <td>1.109385</td>\n",
              "      <td>1983</td>\n",
              "    </tr>\n",
              "    <tr>\n",
              "      <th>13</th>\n",
              "      <td>1984-01-01</td>\n",
              "      <td>Australia</td>\n",
              "      <td>1.137010</td>\n",
              "      <td>1984</td>\n",
              "    </tr>\n",
              "    <tr>\n",
              "      <th>14</th>\n",
              "      <td>1985-01-01</td>\n",
              "      <td>Australia</td>\n",
              "      <td>1.427959</td>\n",
              "      <td>1985</td>\n",
              "    </tr>\n",
              "    <tr>\n",
              "      <th>15</th>\n",
              "      <td>1986-01-01</td>\n",
              "      <td>Australia</td>\n",
              "      <td>1.490535</td>\n",
              "      <td>1986</td>\n",
              "    </tr>\n",
              "    <tr>\n",
              "      <th>16</th>\n",
              "      <td>1987-01-01</td>\n",
              "      <td>Australia</td>\n",
              "      <td>1.425720</td>\n",
              "      <td>1987</td>\n",
              "    </tr>\n",
              "    <tr>\n",
              "      <th>17</th>\n",
              "      <td>1988-01-01</td>\n",
              "      <td>Australia</td>\n",
              "      <td>1.275348</td>\n",
              "      <td>1988</td>\n",
              "    </tr>\n",
              "    <tr>\n",
              "      <th>18</th>\n",
              "      <td>1989-01-01</td>\n",
              "      <td>Australia</td>\n",
              "      <td>1.262786</td>\n",
              "      <td>1989</td>\n",
              "    </tr>\n",
              "    <tr>\n",
              "      <th>19</th>\n",
              "      <td>1990-01-01</td>\n",
              "      <td>Australia</td>\n",
              "      <td>1.280902</td>\n",
              "      <td>1990</td>\n",
              "    </tr>\n",
              "    <tr>\n",
              "      <th>20</th>\n",
              "      <td>1991-01-01</td>\n",
              "      <td>Australia</td>\n",
              "      <td>1.284192</td>\n",
              "      <td>1991</td>\n",
              "    </tr>\n",
              "    <tr>\n",
              "      <th>21</th>\n",
              "      <td>1992-01-01</td>\n",
              "      <td>Australia</td>\n",
              "      <td>1.360174</td>\n",
              "      <td>1992</td>\n",
              "    </tr>\n",
              "    <tr>\n",
              "      <th>22</th>\n",
              "      <td>1993-01-01</td>\n",
              "      <td>Australia</td>\n",
              "      <td>1.470805</td>\n",
              "      <td>1993</td>\n",
              "    </tr>\n",
              "    <tr>\n",
              "      <th>23</th>\n",
              "      <td>1994-01-01</td>\n",
              "      <td>Australia</td>\n",
              "      <td>1.366867</td>\n",
              "      <td>1994</td>\n",
              "    </tr>\n",
              "    <tr>\n",
              "      <th>24</th>\n",
              "      <td>1995-01-01</td>\n",
              "      <td>Australia</td>\n",
              "      <td>1.350074</td>\n",
              "      <td>1995</td>\n",
              "    </tr>\n",
              "    <tr>\n",
              "      <th>25</th>\n",
              "      <td>1996-01-01</td>\n",
              "      <td>Australia</td>\n",
              "      <td>1.277466</td>\n",
              "      <td>1996</td>\n",
              "    </tr>\n",
              "    <tr>\n",
              "      <th>26</th>\n",
              "      <td>1997-01-01</td>\n",
              "      <td>Australia</td>\n",
              "      <td>1.344628</td>\n",
              "      <td>1997</td>\n",
              "    </tr>\n",
              "    <tr>\n",
              "      <th>27</th>\n",
              "      <td>1998-01-01</td>\n",
              "      <td>Australia</td>\n",
              "      <td>1.589572</td>\n",
              "      <td>1998</td>\n",
              "    </tr>\n",
              "    <tr>\n",
              "      <th>28</th>\n",
              "      <td>1999-01-01</td>\n",
              "      <td>Australia</td>\n",
              "      <td>1.549427</td>\n",
              "      <td>1999</td>\n",
              "    </tr>\n",
              "    <tr>\n",
              "      <th>29</th>\n",
              "      <td>2000-01-01</td>\n",
              "      <td>Australia</td>\n",
              "      <td>1.719690</td>\n",
              "      <td>2000</td>\n",
              "    </tr>\n",
              "    <tr>\n",
              "      <th>...</th>\n",
              "      <td>...</td>\n",
              "      <td>...</td>\n",
              "      <td>...</td>\n",
              "      <td>...</td>\n",
              "    </tr>\n",
              "    <tr>\n",
              "      <th>795</th>\n",
              "      <td>2011-01-01</td>\n",
              "      <td>Thailand</td>\n",
              "      <td>30.462200</td>\n",
              "      <td>2011</td>\n",
              "    </tr>\n",
              "    <tr>\n",
              "      <th>796</th>\n",
              "      <td>2012-01-01</td>\n",
              "      <td>Thailand</td>\n",
              "      <td>31.054600</td>\n",
              "      <td>2012</td>\n",
              "    </tr>\n",
              "    <tr>\n",
              "      <th>797</th>\n",
              "      <td>2013-01-01</td>\n",
              "      <td>Thailand</td>\n",
              "      <td>30.696300</td>\n",
              "      <td>2013</td>\n",
              "    </tr>\n",
              "    <tr>\n",
              "      <th>798</th>\n",
              "      <td>2014-01-01</td>\n",
              "      <td>Thailand</td>\n",
              "      <td>32.461500</td>\n",
              "      <td>2014</td>\n",
              "    </tr>\n",
              "    <tr>\n",
              "      <th>799</th>\n",
              "      <td>2015-01-01</td>\n",
              "      <td>Thailand</td>\n",
              "      <td>34.241500</td>\n",
              "      <td>2015</td>\n",
              "    </tr>\n",
              "    <tr>\n",
              "      <th>800</th>\n",
              "      <td>2016-01-01</td>\n",
              "      <td>Thailand</td>\n",
              "      <td>35.263500</td>\n",
              "      <td>2016</td>\n",
              "    </tr>\n",
              "    <tr>\n",
              "      <th>801</th>\n",
              "      <td>2017-01-01</td>\n",
              "      <td>Thailand</td>\n",
              "      <td>33.913400</td>\n",
              "      <td>2017</td>\n",
              "    </tr>\n",
              "    <tr>\n",
              "      <th>802</th>\n",
              "      <td>1995-01-01</td>\n",
              "      <td>Venezuela</td>\n",
              "      <td>0.174800</td>\n",
              "      <td>1995</td>\n",
              "    </tr>\n",
              "    <tr>\n",
              "      <th>803</th>\n",
              "      <td>1996-01-01</td>\n",
              "      <td>Venezuela</td>\n",
              "      <td>0.417200</td>\n",
              "      <td>1996</td>\n",
              "    </tr>\n",
              "    <tr>\n",
              "      <th>804</th>\n",
              "      <td>1997-01-01</td>\n",
              "      <td>Venezuela</td>\n",
              "      <td>0.488900</td>\n",
              "      <td>1997</td>\n",
              "    </tr>\n",
              "    <tr>\n",
              "      <th>805</th>\n",
              "      <td>1998-01-01</td>\n",
              "      <td>Venezuela</td>\n",
              "      <td>0.548400</td>\n",
              "      <td>1998</td>\n",
              "    </tr>\n",
              "    <tr>\n",
              "      <th>806</th>\n",
              "      <td>1999-01-01</td>\n",
              "      <td>Venezuela</td>\n",
              "      <td>0.606800</td>\n",
              "      <td>1999</td>\n",
              "    </tr>\n",
              "    <tr>\n",
              "      <th>807</th>\n",
              "      <td>2000-01-01</td>\n",
              "      <td>Venezuela</td>\n",
              "      <td>0.680500</td>\n",
              "      <td>2000</td>\n",
              "    </tr>\n",
              "    <tr>\n",
              "      <th>808</th>\n",
              "      <td>2001-01-01</td>\n",
              "      <td>Venezuela</td>\n",
              "      <td>0.724100</td>\n",
              "      <td>2001</td>\n",
              "    </tr>\n",
              "    <tr>\n",
              "      <th>809</th>\n",
              "      <td>2002-01-01</td>\n",
              "      <td>Venezuela</td>\n",
              "      <td>1.161200</td>\n",
              "      <td>2002</td>\n",
              "    </tr>\n",
              "    <tr>\n",
              "      <th>810</th>\n",
              "      <td>2003-01-01</td>\n",
              "      <td>Venezuela</td>\n",
              "      <td>1.613400</td>\n",
              "      <td>2003</td>\n",
              "    </tr>\n",
              "    <tr>\n",
              "      <th>811</th>\n",
              "      <td>2004-01-01</td>\n",
              "      <td>Venezuela</td>\n",
              "      <td>1.886100</td>\n",
              "      <td>2004</td>\n",
              "    </tr>\n",
              "    <tr>\n",
              "      <th>812</th>\n",
              "      <td>2005-01-01</td>\n",
              "      <td>Venezuela</td>\n",
              "      <td>2.107100</td>\n",
              "      <td>2005</td>\n",
              "    </tr>\n",
              "    <tr>\n",
              "      <th>813</th>\n",
              "      <td>2006-01-01</td>\n",
              "      <td>Venezuela</td>\n",
              "      <td>2.144600</td>\n",
              "      <td>2006</td>\n",
              "    </tr>\n",
              "    <tr>\n",
              "      <th>814</th>\n",
              "      <td>2007-01-01</td>\n",
              "      <td>Venezuela</td>\n",
              "      <td>2.144600</td>\n",
              "      <td>2007</td>\n",
              "    </tr>\n",
              "    <tr>\n",
              "      <th>815</th>\n",
              "      <td>2008-01-01</td>\n",
              "      <td>Venezuela</td>\n",
              "      <td>2.144600</td>\n",
              "      <td>2008</td>\n",
              "    </tr>\n",
              "    <tr>\n",
              "      <th>816</th>\n",
              "      <td>2009-01-01</td>\n",
              "      <td>Venezuela</td>\n",
              "      <td>2.144500</td>\n",
              "      <td>2009</td>\n",
              "    </tr>\n",
              "    <tr>\n",
              "      <th>817</th>\n",
              "      <td>2010-01-01</td>\n",
              "      <td>Venezuela</td>\n",
              "      <td>4.238000</td>\n",
              "      <td>2010</td>\n",
              "    </tr>\n",
              "    <tr>\n",
              "      <th>818</th>\n",
              "      <td>2011-01-01</td>\n",
              "      <td>Venezuela</td>\n",
              "      <td>4.289300</td>\n",
              "      <td>2011</td>\n",
              "    </tr>\n",
              "    <tr>\n",
              "      <th>819</th>\n",
              "      <td>2012-01-01</td>\n",
              "      <td>Venezuela</td>\n",
              "      <td>4.289300</td>\n",
              "      <td>2012</td>\n",
              "    </tr>\n",
              "    <tr>\n",
              "      <th>820</th>\n",
              "      <td>2013-01-01</td>\n",
              "      <td>Venezuela</td>\n",
              "      <td>6.069700</td>\n",
              "      <td>2013</td>\n",
              "    </tr>\n",
              "    <tr>\n",
              "      <th>821</th>\n",
              "      <td>2014-01-01</td>\n",
              "      <td>Venezuela</td>\n",
              "      <td>6.284200</td>\n",
              "      <td>2014</td>\n",
              "    </tr>\n",
              "    <tr>\n",
              "      <th>822</th>\n",
              "      <td>2015-01-01</td>\n",
              "      <td>Venezuela</td>\n",
              "      <td>6.284200</td>\n",
              "      <td>2015</td>\n",
              "    </tr>\n",
              "    <tr>\n",
              "      <th>823</th>\n",
              "      <td>2016-01-01</td>\n",
              "      <td>Venezuela</td>\n",
              "      <td>9.283900</td>\n",
              "      <td>2016</td>\n",
              "    </tr>\n",
              "    <tr>\n",
              "      <th>824</th>\n",
              "      <td>2017-01-01</td>\n",
              "      <td>Venezuela</td>\n",
              "      <td>9.975000</td>\n",
              "      <td>2017</td>\n",
              "    </tr>\n",
              "  </tbody>\n",
              "</table>\n",
              "<p>825 rows × 4 columns</p>\n",
              "</div>"
            ],
            "text/plain": [
              "           Date    Country  Exchange rate  year\n",
              "0    1971-01-01  Australia       0.880282  1971\n",
              "1    1972-01-01  Australia       0.838715  1972\n",
              "2    1973-01-01  Australia       0.704722  1973\n",
              "3    1974-01-01  Australia       0.694975  1974\n",
              "4    1975-01-01  Australia       0.764701  1975\n",
              "5    1976-01-01  Australia       0.818666  1976\n",
              "6    1977-01-01  Australia       0.902364  1977\n",
              "7    1978-01-01  Australia       0.874049  1978\n",
              "8    1979-01-01  Australia       0.894694  1979\n",
              "9    1980-01-01  Australia       0.877578  1980\n",
              "10   1981-01-01  Australia       0.869943  1981\n",
              "11   1982-01-01  Australia       0.983768  1982\n",
              "12   1983-01-01  Australia       1.109385  1983\n",
              "13   1984-01-01  Australia       1.137010  1984\n",
              "14   1985-01-01  Australia       1.427959  1985\n",
              "15   1986-01-01  Australia       1.490535  1986\n",
              "16   1987-01-01  Australia       1.425720  1987\n",
              "17   1988-01-01  Australia       1.275348  1988\n",
              "18   1989-01-01  Australia       1.262786  1989\n",
              "19   1990-01-01  Australia       1.280902  1990\n",
              "20   1991-01-01  Australia       1.284192  1991\n",
              "21   1992-01-01  Australia       1.360174  1992\n",
              "22   1993-01-01  Australia       1.470805  1993\n",
              "23   1994-01-01  Australia       1.366867  1994\n",
              "24   1995-01-01  Australia       1.350074  1995\n",
              "25   1996-01-01  Australia       1.277466  1996\n",
              "26   1997-01-01  Australia       1.344628  1997\n",
              "27   1998-01-01  Australia       1.589572  1998\n",
              "28   1999-01-01  Australia       1.549427  1999\n",
              "29   2000-01-01  Australia       1.719690  2000\n",
              "..          ...        ...            ...   ...\n",
              "795  2011-01-01   Thailand      30.462200  2011\n",
              "796  2012-01-01   Thailand      31.054600  2012\n",
              "797  2013-01-01   Thailand      30.696300  2013\n",
              "798  2014-01-01   Thailand      32.461500  2014\n",
              "799  2015-01-01   Thailand      34.241500  2015\n",
              "800  2016-01-01   Thailand      35.263500  2016\n",
              "801  2017-01-01   Thailand      33.913400  2017\n",
              "802  1995-01-01  Venezuela       0.174800  1995\n",
              "803  1996-01-01  Venezuela       0.417200  1996\n",
              "804  1997-01-01  Venezuela       0.488900  1997\n",
              "805  1998-01-01  Venezuela       0.548400  1998\n",
              "806  1999-01-01  Venezuela       0.606800  1999\n",
              "807  2000-01-01  Venezuela       0.680500  2000\n",
              "808  2001-01-01  Venezuela       0.724100  2001\n",
              "809  2002-01-01  Venezuela       1.161200  2002\n",
              "810  2003-01-01  Venezuela       1.613400  2003\n",
              "811  2004-01-01  Venezuela       1.886100  2004\n",
              "812  2005-01-01  Venezuela       2.107100  2005\n",
              "813  2006-01-01  Venezuela       2.144600  2006\n",
              "814  2007-01-01  Venezuela       2.144600  2007\n",
              "815  2008-01-01  Venezuela       2.144600  2008\n",
              "816  2009-01-01  Venezuela       2.144500  2009\n",
              "817  2010-01-01  Venezuela       4.238000  2010\n",
              "818  2011-01-01  Venezuela       4.289300  2011\n",
              "819  2012-01-01  Venezuela       4.289300  2012\n",
              "820  2013-01-01  Venezuela       6.069700  2013\n",
              "821  2014-01-01  Venezuela       6.284200  2014\n",
              "822  2015-01-01  Venezuela       6.284200  2015\n",
              "823  2016-01-01  Venezuela       9.283900  2016\n",
              "824  2017-01-01  Venezuela       9.975000  2017\n",
              "\n",
              "[825 rows x 4 columns]"
            ]
          },
          "metadata": {
            "tags": []
          },
          "execution_count": 54
        }
      ]
    },
    {
      "cell_type": "markdown",
      "metadata": {
        "id": "SdaKA6J_TogF",
        "colab_type": "text"
      },
      "source": [
        "### Step. 27. Delete the Date column using drop()."
      ]
    },
    {
      "cell_type": "code",
      "metadata": {
        "id": "WMyt9mZyT-h6",
        "colab_type": "code",
        "colab": {}
      },
      "source": [
        "exdat = exdat.drop(columns=['Date'])\n",
        "exdat.head()"
      ],
      "execution_count": 0,
      "outputs": []
    },
    {
      "cell_type": "markdown",
      "metadata": {
        "id": "oLJ7BEWGSk-_",
        "colab_type": "text"
      },
      "source": [
        "### Step 28. Practice. Filter the data to only include China and Mexico using the query() function."
      ]
    },
    {
      "cell_type": "code",
      "metadata": {
        "id": "LtEbYO0MS2TF",
        "colab_type": "code",
        "colab": {}
      },
      "source": [
        "exdat_filtered = exdat.query('Country == \"China\" or Country == \"Mexico\"')\n",
        "\n",
        "exdat_filtered"
      ],
      "execution_count": 0,
      "outputs": []
    },
    {
      "cell_type": "markdown",
      "metadata": {
        "colab_type": "text",
        "id": "iyLVvmVcZ-Nt"
      },
      "source": [
        "### Step 29. Practice. Rename the \"Exchange rate\" column to \"rate\". We shouldn't have spaces in our variable names."
      ]
    },
    {
      "cell_type": "code",
      "metadata": {
        "colab_type": "code",
        "id": "8LEaVe1fZ9sA",
        "colab": {}
      },
      "source": [
        "exdat_filtered = exdat_filtered.rename(columns={'Exchange rate':'rate'})\n",
        "\n",
        "exdat_filtered"
      ],
      "execution_count": 0,
      "outputs": []
    }
  ]
}