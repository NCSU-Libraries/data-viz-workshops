{
 "cells": [
  {
   "cell_type": "markdown",
   "metadata": {
    "colab_type": "text",
    "id": "oGRR3FVUVyQb"
   },
   "source": [
    "<h1 align=\"center\">Text Analysis with Python</h1>\n",
    "\n",
    "## Instructors\n",
    "- Scott Bailey \n",
    "- Vincent Tompkins\n",
    "\n",
    "## Learning objectives\n",
    "\n",
    "Develop practical knowledge of an end-to-end workflow for text analysis in Python using two specific libraries: spaCy and textacy.\n",
    "\n",
    "- Import data\n",
    "- Clean/preprocess text data\n",
    "- Analyze single documents\n",
    "- Analyze a full corpus\n",
    "\n",
    "\n",
    "## Topics\n",
    "\n",
    "- Document Tokenization\n",
    "- Part-of-Speech (POS) Tagging\n",
    "- Named-Entity Recognition (NER)\n",
    "- Corpus Analysis and Vectorization\n",
    "\n",
    "##  Setup\n",
    "\n",
    "Clicking the \"Open in Colab\" button you can see after opening the Github link above will create a new temporary copy of the notebook in the Google Colaboratory environment. If you then click the \"Copy to Drive\" button that appears in the menu bar, the notebook will then be attached to your own user account, so you can edit it in any way you like -- you can even take notes directly in the notebook.\n",
    "\n",
    "## Zoom etiquette\n",
    "\n",
    "Please make sure that your mic is muted during the workshop.\n",
    "\n",
    "## Questions during the workshop\n",
    "\n",
    "During the workshop, we have a second instructor who will be monitoring chat on Zoom. Please feel free to ask questions by chat throughout the workshop. Our second instructor will answer as able, and will aggregate questions with answers that might help everyone. \n",
    "\n",
    "At the end of each section of the workshop, the primary instructor will answer aggregated and new questions as time permits. If we aren't able to get to your question during the workshop, please follow up with us afterward. \n",
    "\n",
    "## Jupyter Notebooks and Google Colaboratory\n",
    "\n",
    "Jupyter notebooks are a way to write and run Python code in an interactive way. They're quickly becoming a standard way of putting together data, code, and written explanations or visualizations into a single document and sharing that. There are a lot of ways that you can run Jupyter notebooks, including just locally on your computer, but we've decided to use Google's Colaboratory notebook platform for this workshop.  Colaboratory is “a Google research project created to help disseminate machine learning education and research.”  If you would like to know more about Colaboratory in general, you can visit the [Welcome Notebook](https://colab.research.google.com/notebooks/welcome.ipynb).\n",
    "\n",
    "Using the Google Colaboratory platform allows us to focus on learning and writing Python in the workshop rather than on setting up Python, which can sometimes take a bit of extra work depending on platforms, operating systems, and other installed applications. If you'd like to install a Python distribution locally, though, we're happy to help. Feel free to drop by our walk-in consulting or schedule an appointment with us.\n",
    "\n",
    "https://go.ncsu.edu/dvs-request\n",
    "\n",
    "## Environment\n",
    "If you would prefer to use Anaconda or your own local installation of python or Jupyter Notebooks, for this workshop you will need an environment with the following packages installed and available:\n",
    "- `spacy`\n",
    "- `textacy`\n",
    "\n",
    "Please note that we will not have time during the workshop to support you with problems related to a local environment, and we do recommend using the Colaboratory notebooks if you are at all unsure."
   ]
  },
  {
   "cell_type": "markdown",
   "metadata": {
    "colab_type": "text",
    "id": "kEFaMNm3VyQf"
   },
   "source": [
    "# Document-level Analysis with `spaCy`\n",
    "\n",
    "Let's start by learning how spaCy works, and using it to start analyzing a single textual document. We'll work with some sample data throughout, but talk through importing larger corpora later in the workshop. \n",
    "\n",
    "For now, we'll start with imports, setting up the model, and working with a short text. "
   ]
  },
  {
   "cell_type": "code",
   "execution_count": 1,
   "metadata": {
    "colab": {},
    "colab_type": "code",
    "id": "m1u3OoHQVyQh"
   },
   "outputs": [],
   "source": [
    "import spacy"
   ]
  },
  {
   "cell_type": "markdown",
   "metadata": {
    "colab_type": "text",
    "id": "mRVkmEOvVyQq"
   },
   "source": [
    "spaCy uses pre-trained neural network models to process text. Here we're going to download and use a medium-sized English multi-task CNN, which has high accuracy for part of speech tagging, entity recognition, and includes word vectors."
   ]
  },
  {
   "cell_type": "code",
   "execution_count": null,
   "metadata": {
    "colab": {},
    "colab_type": "code",
    "id": "h3lrUP1cVyQs"
   },
   "outputs": [],
   "source": [
    "!python -m spacy download en_core_web_md"
   ]
  },
  {
   "cell_type": "code",
   "execution_count": 2,
   "metadata": {
    "colab": {},
    "colab_type": "code",
    "id": "31NWduWIVyQz"
   },
   "outputs": [],
   "source": [
    "# Once we've installed the model, we can load it like any other Python library\n",
    "import en_core_web_md"
   ]
  },
  {
   "cell_type": "code",
   "execution_count": 3,
   "metadata": {
    "colab": {},
    "colab_type": "code",
    "id": "VT2rin_fVyQ6"
   },
   "outputs": [],
   "source": [
    "# Load the language model\n",
    "nlp = en_core_web_md.load()"
   ]
  },
  {
   "cell_type": "code",
   "execution_count": 4,
   "metadata": {
    "colab": {},
    "colab_type": "code",
    "id": "gQYz476fVyRA"
   },
   "outputs": [],
   "source": [
    "# From H.G. Well's A Short History of the World, Project Gutenberg \n",
    "text = \"\"\"Even under the Assyrian monarchs and especially under\n",
    "Sardanapalus, Babylon had been a scene of great intellectual\n",
    "activity.  {111} Sardanapalus, though an Assyrian, had been quite\n",
    "Babylon-ized.  He made a library, a library not of paper but of\n",
    "the clay tablets that were used for writing in Mesopotamia since\n",
    "early Sumerian days.  His collection has been unearthed and is\n",
    "perhaps the most precious store of historical material in the\n",
    "world.  The last of the Chaldean line of Babylonian monarchs,\n",
    "Nabonidus, had even keener literary tastes.  He patronized\n",
    "antiquarian researches, and when a date was worked out by his\n",
    "investigators for the accession of Sargon I he commemorated the\n",
    "fact by inscriptions.  But there were many signs of disunion in\n",
    "his empire, and he sought to centralize it by bringing a number of\n",
    "the various local gods to Babylon and setting up temples to them\n",
    "there.  This device was to be practised quite successfully by the\n",
    "Romans in later times, but in Babylon it roused the jealousy of\n",
    "the powerful priesthood of Bel Marduk, the dominant god of the\n",
    "Babylonians.  They cast about for a possible alternative to\n",
    "Nabonidus and found it in Cyrus the Persian, the ruler of the\n",
    "adjacent Median Empire.  Cyrus had already distinguished himself\n",
    "by conquering Croesus, the rich king of Lydia in Eastern Asia\n",
    "Minor.  {112} He came up against Babylon, there was a battle\n",
    "outside the walls, and the gates of the city were opened to him\n",
    "(538 B.C.).  His soldiers entered the city without fighting.  The\n",
    "crown prince Belshazzar, the son of Nabonidus, was feasting, the\n",
    "Bible relates, when a hand appeared and wrote in letters of fire\n",
    "upon the wall these mystical words: _\"Mene, Mene, Tekel,\n",
    "Upharsin,\"_ which was interpreted by the prophet Daniel, whom he\n",
    "summoned to read the riddle, as \"God has numbered thy kingdom and\n",
    "finished it; thou art weighed in the balance and found wanting and\n",
    "thy kingdom is given to the Medes and Persians.\"  Possibly the\n",
    "priests of Bel Marduk knew something about that writing on the\n",
    "wall.  Belshazzar was killed that night, says the Bible.\n",
    "Nabonidus was taken prisoner, and the occupation of the city was\n",
    "so peaceful that the services of Bel Marduk continued without\n",
    "intermission.\"\"\""
   ]
  },
  {
   "cell_type": "code",
   "execution_count": 5,
   "metadata": {
    "colab": {},
    "colab_type": "code",
    "id": "LR5v_iE3VyRG"
   },
   "outputs": [],
   "source": [
    "doc = nlp(text)"
   ]
  },
  {
   "cell_type": "markdown",
   "metadata": {
    "colab_type": "text",
    "id": "K9pYgwcqVyRL"
   },
   "source": [
    "Once we pass the text into the NLP model, spaCy processes the entire text and makes many features available."
   ]
  },
  {
   "cell_type": "markdown",
   "metadata": {
    "colab_type": "text",
    "id": "HnkTWvuwVyRN"
   },
   "source": [
    "## Tokenization\n",
    "\n",
    "The doc created by spaCy immediately provides access to the word level tokens of the text."
   ]
  },
  {
   "cell_type": "code",
   "execution_count": 6,
   "metadata": {
    "colab": {},
    "colab_type": "code",
    "id": "Zg6EB7WeVyRR"
   },
   "outputs": [
    {
     "name": "stdout",
     "output_type": "stream",
     "text": [
      "Even\n",
      "under\n",
      "the\n",
      "Assyrian\n",
      "monarchs\n",
      "and\n",
      "especially\n",
      "under\n",
      "\n",
      "\n",
      "Sardanapalus\n",
      ",\n",
      "Babylon\n",
      "had\n",
      "been\n",
      "a\n"
     ]
    }
   ],
   "source": [
    "for token in doc[:15]:\n",
    "  print(token)"
   ]
  },
  {
   "cell_type": "markdown",
   "metadata": {
    "colab_type": "text",
    "id": "yh2z0VkgVyRW"
   },
   "source": [
    "Each of these tokens has a number of properties, and we'll look a bit more closely at this in a minute when we think about preprocessing texts, but let's continue our quick tour. \n",
    "\n",
    "spaCy also automatically provides sentence level tokenization."
   ]
  },
  {
   "cell_type": "code",
   "execution_count": 7,
   "metadata": {
    "colab": {},
    "colab_type": "code",
    "id": "c6Rr6LvXVyRY"
   },
   "outputs": [
    {
     "name": "stdout",
     "output_type": "stream",
     "text": [
      "Even under the Assyrian monarchs and especially under\n",
      "Sardanapalus, Babylon had been a scene of great intellectual\n",
      "activity.  \n",
      "--\n",
      "\n",
      "{111} Sardanapalus, though an Assyrian, had been quite\n",
      "Babylon-ized.  \n",
      "--\n",
      "\n",
      "He made a library, a library not of paper but of\n",
      "\n",
      "--\n",
      "\n",
      "the clay tablets that were used for writing in Mesopotamia since\n",
      "\n",
      "--\n",
      "\n",
      "early Sumerian days.  \n",
      "--\n",
      "\n",
      "His collection has been unearthed and is\n",
      "perhaps the most precious store of historical material in the\n",
      "world.  \n",
      "--\n",
      "\n",
      "The last of the Chaldean line of Babylonian monarchs,\n",
      "Nabonidus, had even keener literary tastes.  \n",
      "--\n",
      "\n",
      "He patronized\n",
      "antiquarian researches, and when a date was worked out by his\n",
      "investigators for the accession of Sargon\n",
      "--\n",
      "\n",
      "I\n",
      "--\n",
      "\n",
      "he commemorated the\n",
      "fact by inscriptions.  \n",
      "--\n",
      "\n",
      "But there were many signs of disunion in\n",
      "his empire, and he sought to centralize it by bringing a number of\n",
      "the various local gods to Babylon and setting up temples to them\n",
      "there.  \n",
      "--\n",
      "\n",
      "This device was to be practised quite successfully by the\n",
      "Romans in later times, but in Babylon it roused the jealousy of\n",
      "the powerful priesthood of Bel Marduk, the dominant god of the\n",
      "Babylonians.  \n",
      "--\n",
      "\n",
      "They cast about for a possible alternative to\n",
      "Nabonidus and found it in Cyrus the Persian, the ruler of the\n",
      "adjacent Median Empire.  \n",
      "--\n",
      "\n",
      "Cyrus had already distinguished himself\n",
      "by conquering Croesus, the rich king of Lydia in Eastern Asia\n",
      "Minor.  \n",
      "--\n",
      "\n",
      "{112} He came up against Babylon, there was a battle\n",
      "outside the walls, and the gates of the city were opened to him\n",
      "(538 B.C.).  \n",
      "--\n",
      "\n",
      "His soldiers entered the city without fighting.  \n",
      "--\n",
      "\n",
      "The\n",
      "crown prince Belshazzar, the son of Nabonidus, was feasting, the\n",
      "Bible relates, when a hand appeared and wrote in letters of fire\n",
      "upon the wall these mystical words: _\"Mene, Mene, Tekel,\n",
      "Upharsin,\"\n",
      "--\n",
      "\n",
      "_ which was interpreted by the prophet Daniel, whom he\n",
      "summoned to read the riddle, as \"God has numbered thy kingdom and\n",
      "finished it; thou art weighed in the balance and found wanting\n",
      "--\n",
      "\n",
      "and\n",
      "thy kingdom is given to the Medes and Persians.\"  \n",
      "--\n",
      "\n",
      "Possibly the\n",
      "priests of Bel Marduk knew something about that writing on the\n",
      "wall.  \n",
      "--\n",
      "\n",
      "Belshazzar was killed that night, says the Bible.\n",
      "\n",
      "--\n",
      "\n",
      "Nabonidus was taken prisoner, and the occupation of the city was\n",
      "so peaceful that the services of Bel Marduk continued without\n",
      "intermission.\n",
      "--\n",
      "\n"
     ]
    }
   ],
   "source": [
    "for sent in doc.sents:\n",
    "    print(sent.text + \"\\n--\\n\")"
   ]
  },
  {
   "cell_type": "markdown",
   "metadata": {
    "colab_type": "text",
    "id": "rcwG9tH9VyRd"
   },
   "source": [
    "We can collect both words and sentences into standard Python data structures."
   ]
  },
  {
   "cell_type": "code",
   "execution_count": 8,
   "metadata": {
    "colab": {},
    "colab_type": "code",
    "id": "ZwnDSjL7VyRe"
   },
   "outputs": [
    {
     "data": {
      "text/plain": [
       "['Even under the Assyrian monarchs and especially under\\nSardanapalus, Babylon had been a scene of great intellectual\\nactivity.  ',\n",
       " '{111} Sardanapalus, though an Assyrian, had been quite\\nBabylon-ized.  ',\n",
       " 'He made a library, a library not of paper but of\\n',\n",
       " 'the clay tablets that were used for writing in Mesopotamia since\\n',\n",
       " 'early Sumerian days.  ',\n",
       " 'His collection has been unearthed and is\\nperhaps the most precious store of historical material in the\\nworld.  ',\n",
       " 'The last of the Chaldean line of Babylonian monarchs,\\nNabonidus, had even keener literary tastes.  ',\n",
       " 'He patronized\\nantiquarian researches, and when a date was worked out by his\\ninvestigators for the accession of Sargon',\n",
       " 'I',\n",
       " 'he commemorated the\\nfact by inscriptions.  ',\n",
       " 'But there were many signs of disunion in\\nhis empire, and he sought to centralize it by bringing a number of\\nthe various local gods to Babylon and setting up temples to them\\nthere.  ',\n",
       " 'This device was to be practised quite successfully by the\\nRomans in later times, but in Babylon it roused the jealousy of\\nthe powerful priesthood of Bel Marduk, the dominant god of the\\nBabylonians.  ',\n",
       " 'They cast about for a possible alternative to\\nNabonidus and found it in Cyrus the Persian, the ruler of the\\nadjacent Median Empire.  ',\n",
       " 'Cyrus had already distinguished himself\\nby conquering Croesus, the rich king of Lydia in Eastern Asia\\nMinor.  ',\n",
       " '{112} He came up against Babylon, there was a battle\\noutside the walls, and the gates of the city were opened to him\\n(538 B.C.).  ',\n",
       " 'His soldiers entered the city without fighting.  ',\n",
       " 'The\\ncrown prince Belshazzar, the son of Nabonidus, was feasting, the\\nBible relates, when a hand appeared and wrote in letters of fire\\nupon the wall these mystical words: _\"Mene, Mene, Tekel,\\nUpharsin,\"',\n",
       " '_ which was interpreted by the prophet Daniel, whom he\\nsummoned to read the riddle, as \"God has numbered thy kingdom and\\nfinished it; thou art weighed in the balance and found wanting',\n",
       " 'and\\nthy kingdom is given to the Medes and Persians.\"  ',\n",
       " 'Possibly the\\npriests of Bel Marduk knew something about that writing on the\\nwall.  ',\n",
       " 'Belshazzar was killed that night, says the Bible.\\n',\n",
       " 'Nabonidus was taken prisoner, and the occupation of the city was\\nso peaceful that the services of Bel Marduk continued without\\nintermission.']"
      ]
     },
     "execution_count": 8,
     "metadata": {},
     "output_type": "execute_result"
    }
   ],
   "source": [
    "sentences = [sent.text for sent in doc.sents]\n",
    "sentences"
   ]
  },
  {
   "cell_type": "code",
   "execution_count": 9,
   "metadata": {
    "colab": {},
    "colab_type": "code",
    "id": "NVJF1L5PVyRi"
   },
   "outputs": [
    {
     "data": {
      "text/plain": [
       "['Even',\n",
       " 'under',\n",
       " 'the',\n",
       " 'Assyrian',\n",
       " 'monarchs',\n",
       " 'and',\n",
       " 'especially',\n",
       " 'under',\n",
       " '\\n',\n",
       " 'Sardanapalus',\n",
       " ',',\n",
       " 'Babylon',\n",
       " 'had',\n",
       " 'been',\n",
       " 'a',\n",
       " 'scene',\n",
       " 'of',\n",
       " 'great',\n",
       " 'intellectual',\n",
       " '\\n',\n",
       " 'activity',\n",
       " '.',\n",
       " ' ',\n",
       " '{',\n",
       " '111',\n",
       " '}',\n",
       " 'Sardanapalus',\n",
       " ',',\n",
       " 'though',\n",
       " 'an']"
      ]
     },
     "execution_count": 9,
     "metadata": {},
     "output_type": "execute_result"
    }
   ],
   "source": [
    "words = [token.text for token in doc]\n",
    "words[:30]"
   ]
  },
  {
   "cell_type": "markdown",
   "metadata": {
    "colab_type": "text",
    "id": "xndApEFuVyRn"
   },
   "source": [
    "### Filtering Tokens\n",
    "\n",
    "Let's start with cleaning the text and counting to see what we can learn."
   ]
  },
  {
   "cell_type": "code",
   "execution_count": 10,
   "metadata": {
    "colab": {},
    "colab_type": "code",
    "id": "ZSHaSQWqVyRo"
   },
   "outputs": [
    {
     "name": "stdout",
     "output_type": "stream",
     "text": [
      "Even False\n",
      "under False\n",
      "the False\n",
      "Assyrian False\n",
      "monarchs False\n",
      "and False\n",
      "especially False\n",
      "under False\n",
      "\n",
      " False\n",
      "Sardanapalus False\n",
      "Babylon False\n",
      "had False\n",
      "been False\n",
      "a False\n",
      "scene False\n",
      "of False\n",
      "great False\n",
      "intellectual False\n",
      "\n",
      " False\n",
      "activity False\n"
     ]
    }
   ],
   "source": [
    "# One of the common things we do in text analysis is to remove punctuation\n",
    "no_punct = [token for token in doc if token.is_punct == False]\n",
    "for token in no_punct[:20]:\n",
    "  print(token.text, token.is_punct)"
   ]
  },
  {
   "cell_type": "code",
   "execution_count": 11,
   "metadata": {
    "colab": {},
    "colab_type": "code",
    "id": "K63rP_PJVyRs"
   },
   "outputs": [
    {
     "name": "stdout",
     "output_type": "stream",
     "text": [
      "Even\n",
      "under\n",
      "the\n",
      "Assyrian\n",
      "monarchs\n",
      "and\n",
      "especially\n",
      "under\n",
      "Sardanapalus\n",
      "Babylon\n",
      "had\n",
      "been\n",
      "a\n",
      "scene\n",
      "of\n",
      "great\n",
      "intellectual\n",
      "activity\n",
      "111\n",
      "Sardanapalus\n",
      "though\n",
      "an\n",
      "Assyrian\n",
      "had\n",
      "been\n",
      "quite\n",
      "Babylon\n",
      "ized\n",
      "He\n",
      "made\n"
     ]
    }
   ],
   "source": [
    "# This has worked, but left in new line characters and spaces\n",
    "no_punct_or_space = [token for token in doc if token.is_punct == False and token.is_space == False]\n",
    "for token in no_punct_or_space[:30]:\n",
    "  print(token.text)"
   ]
  },
  {
   "cell_type": "code",
   "execution_count": 12,
   "metadata": {
    "colab": {},
    "colab_type": "code",
    "id": "YHjzgbbgVyRw"
   },
   "outputs": [
    {
     "data": {
      "text/plain": [
       "['even',\n",
       " 'under',\n",
       " 'the',\n",
       " 'assyrian',\n",
       " 'monarchs',\n",
       " 'and',\n",
       " 'especially',\n",
       " 'under',\n",
       " 'sardanapalus',\n",
       " 'babylon',\n",
       " 'had',\n",
       " 'been',\n",
       " 'a',\n",
       " 'scene',\n",
       " 'of',\n",
       " 'great',\n",
       " 'intellectual',\n",
       " 'activity',\n",
       " 'sardanapalus',\n",
       " 'though',\n",
       " 'an',\n",
       " 'assyrian',\n",
       " 'had',\n",
       " 'been',\n",
       " 'quite',\n",
       " 'babylon',\n",
       " 'ized',\n",
       " 'he',\n",
       " 'made',\n",
       " 'a']"
      ]
     },
     "execution_count": 12,
     "metadata": {},
     "output_type": "execute_result"
    }
   ],
   "source": [
    "# Let's say we also want to remove numbers, and lowercase everything\n",
    "lower_alpha = [token.lower_ for token in no_punct_or_space if token.is_alpha == True]\n",
    "lower_alpha[:30]"
   ]
  },
  {
   "cell_type": "markdown",
   "metadata": {
    "colab_type": "text",
    "id": "sbpLhAqnVyR1"
   },
   "source": [
    "One other common bit of preprocessing is to remove stopwords, that is, the common words in a language that don't convey the information that we are looking for in our analysis. For example, if we looked for the most common words in a text, we would want to remove stopwords so that we don't only get words such as 'a,' 'the,' and 'and.'"
   ]
  },
  {
   "cell_type": "code",
   "execution_count": 13,
   "metadata": {
    "colab": {},
    "colab_type": "code",
    "id": "STyEpj96VyR2"
   },
   "outputs": [
    {
     "data": {
      "text/plain": [
       "['assyrian',\n",
       " 'monarchs',\n",
       " 'especially',\n",
       " 'sardanapalus',\n",
       " 'babylon',\n",
       " 'scene',\n",
       " 'great',\n",
       " 'intellectual',\n",
       " 'activity',\n",
       " 'sardanapalus',\n",
       " 'assyrian',\n",
       " 'babylon',\n",
       " 'ized',\n",
       " 'library',\n",
       " 'library',\n",
       " 'paper',\n",
       " 'clay',\n",
       " 'tablets',\n",
       " 'writing',\n",
       " 'mesopotamia',\n",
       " 'early',\n",
       " 'sumerian',\n",
       " 'days',\n",
       " 'collection',\n",
       " 'unearthed',\n",
       " 'precious',\n",
       " 'store',\n",
       " 'historical',\n",
       " 'material',\n",
       " 'world']"
      ]
     },
     "execution_count": 13,
     "metadata": {},
     "output_type": "execute_result"
    }
   ],
   "source": [
    "clean = [token.lower_ for token in no_punct_or_space if token.is_alpha == True and token.is_stop == False]\n",
    "clean[:30]"
   ]
  },
  {
   "cell_type": "markdown",
   "metadata": {
    "colab_type": "text",
    "id": "wWe736X7mwKF"
   },
   "source": [
    "For this piece, we've used spaCy's built in stopword list, which is used to create the property `is_stop` for each token. There's a good chance you would want to create custom stopwords lists though, especially if you're working with historical text. "
   ]
  },
  {
   "cell_type": "code",
   "execution_count": 14,
   "metadata": {
    "colab": {},
    "colab_type": "code",
    "collapsed": true,
    "id": "tP8b8upcmx5q",
    "jupyter": {
     "outputs_hidden": true
    }
   },
   "outputs": [
    {
     "data": {
      "text/plain": [
       "['even',\n",
       " 'under',\n",
       " 'the',\n",
       " 'monarchs',\n",
       " 'and',\n",
       " 'especially',\n",
       " 'under',\n",
       " '\\n',\n",
       " 'sardanapalus',\n",
       " ',',\n",
       " 'had',\n",
       " 'been',\n",
       " 'a',\n",
       " 'scene',\n",
       " 'of',\n",
       " 'great',\n",
       " 'intellectual',\n",
       " '\\n',\n",
       " 'activity',\n",
       " '.',\n",
       " ' ',\n",
       " '{',\n",
       " '111',\n",
       " '}',\n",
       " 'sardanapalus',\n",
       " ',',\n",
       " 'though',\n",
       " 'an',\n",
       " ',',\n",
       " 'had',\n",
       " 'been',\n",
       " 'quite',\n",
       " '\\n',\n",
       " '-',\n",
       " 'ized',\n",
       " '.',\n",
       " ' ',\n",
       " 'he',\n",
       " 'made',\n",
       " 'a',\n",
       " 'library',\n",
       " ',',\n",
       " 'a',\n",
       " 'library',\n",
       " 'not',\n",
       " 'of',\n",
       " 'paper',\n",
       " 'but',\n",
       " 'of',\n",
       " '\\n',\n",
       " 'the',\n",
       " 'clay',\n",
       " 'tablets',\n",
       " 'that',\n",
       " 'were',\n",
       " 'used',\n",
       " 'for',\n",
       " 'writing',\n",
       " 'in',\n",
       " 'mesopotamia',\n",
       " 'since',\n",
       " '\\n',\n",
       " 'early',\n",
       " 'sumerian',\n",
       " 'days',\n",
       " '.',\n",
       " ' ',\n",
       " 'his',\n",
       " 'collection',\n",
       " 'has',\n",
       " 'been',\n",
       " 'unearthed',\n",
       " 'and',\n",
       " 'is',\n",
       " '\\n',\n",
       " 'perhaps',\n",
       " 'the',\n",
       " 'most',\n",
       " 'precious',\n",
       " 'store',\n",
       " 'of',\n",
       " 'historical',\n",
       " 'material',\n",
       " 'in',\n",
       " 'the',\n",
       " '\\n',\n",
       " 'world',\n",
       " '.',\n",
       " ' ',\n",
       " 'the',\n",
       " 'last',\n",
       " 'of',\n",
       " 'the',\n",
       " 'chaldean',\n",
       " 'line',\n",
       " 'of',\n",
       " 'babylonian',\n",
       " 'monarchs',\n",
       " ',',\n",
       " '\\n',\n",
       " 'nabonidus',\n",
       " ',',\n",
       " 'had',\n",
       " 'even',\n",
       " 'keener',\n",
       " 'literary',\n",
       " 'tastes',\n",
       " '.',\n",
       " ' ',\n",
       " 'he',\n",
       " 'patronized',\n",
       " '\\n',\n",
       " 'antiquarian',\n",
       " 'researches',\n",
       " ',',\n",
       " 'and',\n",
       " 'when',\n",
       " 'a',\n",
       " 'date',\n",
       " 'was',\n",
       " 'worked',\n",
       " 'out',\n",
       " 'by',\n",
       " 'his',\n",
       " '\\n',\n",
       " 'investigators',\n",
       " 'for',\n",
       " 'the',\n",
       " 'accession',\n",
       " 'of',\n",
       " 'sargon',\n",
       " 'i',\n",
       " 'he',\n",
       " 'commemorated',\n",
       " 'the',\n",
       " '\\n',\n",
       " 'fact',\n",
       " 'by',\n",
       " 'inscriptions',\n",
       " '.',\n",
       " ' ',\n",
       " 'but',\n",
       " 'there',\n",
       " 'were',\n",
       " 'many',\n",
       " 'signs',\n",
       " 'of',\n",
       " 'disunion',\n",
       " 'in',\n",
       " '\\n',\n",
       " 'his',\n",
       " 'empire',\n",
       " ',',\n",
       " 'and',\n",
       " 'he',\n",
       " 'sought',\n",
       " 'to',\n",
       " 'centralize',\n",
       " 'it',\n",
       " 'by',\n",
       " 'bringing',\n",
       " 'a',\n",
       " 'number',\n",
       " 'of',\n",
       " '\\n',\n",
       " 'the',\n",
       " 'various',\n",
       " 'local',\n",
       " 'gods',\n",
       " 'to',\n",
       " 'and',\n",
       " 'setting',\n",
       " 'up',\n",
       " 'temples',\n",
       " 'to',\n",
       " 'them',\n",
       " '\\n',\n",
       " 'there',\n",
       " '.',\n",
       " ' ',\n",
       " 'this',\n",
       " 'device',\n",
       " 'was',\n",
       " 'to',\n",
       " 'be',\n",
       " 'practised',\n",
       " 'quite',\n",
       " 'successfully',\n",
       " 'by',\n",
       " 'the',\n",
       " '\\n',\n",
       " 'romans',\n",
       " 'in',\n",
       " 'later',\n",
       " 'times',\n",
       " ',',\n",
       " 'but',\n",
       " 'in',\n",
       " 'it',\n",
       " 'roused',\n",
       " 'the',\n",
       " 'jealousy',\n",
       " 'of',\n",
       " '\\n',\n",
       " 'the',\n",
       " 'powerful',\n",
       " 'priesthood',\n",
       " 'of',\n",
       " 'bel',\n",
       " 'marduk',\n",
       " ',',\n",
       " 'the',\n",
       " 'dominant',\n",
       " 'god',\n",
       " 'of',\n",
       " 'the',\n",
       " '\\n',\n",
       " 'babylonians',\n",
       " '.',\n",
       " ' ',\n",
       " 'they',\n",
       " 'cast',\n",
       " 'about',\n",
       " 'for',\n",
       " 'a',\n",
       " 'possible',\n",
       " 'alternative',\n",
       " 'to',\n",
       " '\\n',\n",
       " 'nabonidus',\n",
       " 'and',\n",
       " 'found',\n",
       " 'it',\n",
       " 'in',\n",
       " 'cyrus',\n",
       " 'the',\n",
       " 'persian',\n",
       " ',',\n",
       " 'the',\n",
       " 'ruler',\n",
       " 'of',\n",
       " 'the',\n",
       " '\\n',\n",
       " 'adjacent',\n",
       " 'median',\n",
       " 'empire',\n",
       " '.',\n",
       " ' ',\n",
       " 'cyrus',\n",
       " 'had',\n",
       " 'already',\n",
       " 'distinguished',\n",
       " 'himself',\n",
       " '\\n',\n",
       " 'by',\n",
       " 'conquering',\n",
       " 'croesus',\n",
       " ',',\n",
       " 'the',\n",
       " 'rich',\n",
       " 'king',\n",
       " 'of',\n",
       " 'lydia',\n",
       " 'in',\n",
       " 'eastern',\n",
       " 'asia',\n",
       " '\\n',\n",
       " 'minor',\n",
       " '.',\n",
       " ' ',\n",
       " '{',\n",
       " '112',\n",
       " '}',\n",
       " 'he',\n",
       " 'came',\n",
       " 'up',\n",
       " 'against',\n",
       " ',',\n",
       " 'there',\n",
       " 'was',\n",
       " 'a',\n",
       " 'battle',\n",
       " '\\n',\n",
       " 'outside',\n",
       " 'the',\n",
       " 'walls',\n",
       " ',',\n",
       " 'and',\n",
       " 'the',\n",
       " 'gates',\n",
       " 'of',\n",
       " 'the',\n",
       " 'city',\n",
       " 'were',\n",
       " 'opened',\n",
       " 'to',\n",
       " 'him',\n",
       " '\\n',\n",
       " '(',\n",
       " '538',\n",
       " 'b.c.',\n",
       " ')',\n",
       " '.',\n",
       " ' ',\n",
       " 'his',\n",
       " 'soldiers',\n",
       " 'entered',\n",
       " 'the',\n",
       " 'city',\n",
       " 'without',\n",
       " 'fighting',\n",
       " '.',\n",
       " ' ',\n",
       " 'the',\n",
       " '\\n',\n",
       " 'crown',\n",
       " 'prince',\n",
       " 'belshazzar',\n",
       " ',',\n",
       " 'the',\n",
       " 'son',\n",
       " 'of',\n",
       " 'nabonidus',\n",
       " ',',\n",
       " 'was',\n",
       " 'feasting',\n",
       " ',',\n",
       " 'the',\n",
       " '\\n',\n",
       " 'bible',\n",
       " 'relates',\n",
       " ',',\n",
       " 'when',\n",
       " 'a',\n",
       " 'hand',\n",
       " 'appeared',\n",
       " 'and',\n",
       " 'wrote',\n",
       " 'in',\n",
       " 'letters',\n",
       " 'of',\n",
       " 'fire',\n",
       " '\\n',\n",
       " 'upon',\n",
       " 'the',\n",
       " 'wall',\n",
       " 'these',\n",
       " 'mystical',\n",
       " 'words',\n",
       " ':',\n",
       " '_',\n",
       " '\"',\n",
       " 'mene',\n",
       " ',',\n",
       " 'mene',\n",
       " ',',\n",
       " 'tekel',\n",
       " ',',\n",
       " '\\n',\n",
       " 'upharsin',\n",
       " ',',\n",
       " '\"',\n",
       " '_',\n",
       " 'which',\n",
       " 'was',\n",
       " 'interpreted',\n",
       " 'by',\n",
       " 'the',\n",
       " 'prophet',\n",
       " 'daniel',\n",
       " ',',\n",
       " 'whom',\n",
       " 'he',\n",
       " '\\n',\n",
       " 'summoned',\n",
       " 'to',\n",
       " 'read',\n",
       " 'the',\n",
       " 'riddle',\n",
       " ',',\n",
       " 'as',\n",
       " '\"',\n",
       " 'god',\n",
       " 'has',\n",
       " 'numbered',\n",
       " 'thy',\n",
       " 'kingdom',\n",
       " 'and',\n",
       " '\\n',\n",
       " 'finished',\n",
       " 'it',\n",
       " ';',\n",
       " 'thou',\n",
       " 'art',\n",
       " 'weighed',\n",
       " 'in',\n",
       " 'the',\n",
       " 'balance',\n",
       " 'and',\n",
       " 'found',\n",
       " 'wanting',\n",
       " 'and',\n",
       " '\\n',\n",
       " 'thy',\n",
       " 'kingdom',\n",
       " 'is',\n",
       " 'given',\n",
       " 'to',\n",
       " 'the',\n",
       " 'medes',\n",
       " 'and',\n",
       " 'persians',\n",
       " '.',\n",
       " '\"',\n",
       " ' ',\n",
       " 'possibly',\n",
       " 'the',\n",
       " '\\n',\n",
       " 'priests',\n",
       " 'of',\n",
       " 'bel',\n",
       " 'marduk',\n",
       " 'knew',\n",
       " 'something',\n",
       " 'about',\n",
       " 'that',\n",
       " 'writing',\n",
       " 'on',\n",
       " 'the',\n",
       " '\\n',\n",
       " 'wall',\n",
       " '.',\n",
       " ' ',\n",
       " 'belshazzar',\n",
       " 'was',\n",
       " 'killed',\n",
       " 'that',\n",
       " 'night',\n",
       " ',',\n",
       " 'says',\n",
       " 'the',\n",
       " 'bible',\n",
       " '.',\n",
       " '\\n',\n",
       " 'nabonidus',\n",
       " 'was',\n",
       " 'taken',\n",
       " 'prisoner',\n",
       " ',',\n",
       " 'and',\n",
       " 'the',\n",
       " 'occupation',\n",
       " 'of',\n",
       " 'the',\n",
       " 'city',\n",
       " 'was',\n",
       " '\\n',\n",
       " 'so',\n",
       " 'peaceful',\n",
       " 'that',\n",
       " 'the',\n",
       " 'services',\n",
       " 'of',\n",
       " 'bel',\n",
       " 'marduk',\n",
       " 'continued',\n",
       " 'without',\n",
       " '\\n',\n",
       " 'intermission',\n",
       " '.']"
      ]
     },
     "execution_count": 14,
     "metadata": {},
     "output_type": "execute_result"
    }
   ],
   "source": [
    "# We'll just pick a couple of words we know are in the example\n",
    "custom_stopwords = [\"assyrian\", \"babylon\"]\n",
    "\n",
    "custom_clean = [token.lower_ for token in doc if token.lower_ not in custom_stopwords]\n",
    "custom_clean"
   ]
  },
  {
   "cell_type": "markdown",
   "metadata": {
    "colab_type": "text",
    "id": "_ENXxjBHVyR8"
   },
   "source": [
    "At this point, we have a list of lower-cased tokens that doesn't contain punctuation, white-space, numbers, or stopwords. Depending on our analysis, we may or may not want to do this much cleaning. But, it is good to understand how much we can do just with spaCy. "
   ]
  },
  {
   "cell_type": "markdown",
   "metadata": {
    "colab_type": "text",
    "id": "qSGJfxiaVyR-"
   },
   "source": [
    "### Counting Tokens\n",
    "\n",
    "Let's then look at what we can do now that we have groups of tokens at different lengths. We can start with just counting."
   ]
  },
  {
   "cell_type": "code",
   "execution_count": 15,
   "metadata": {
    "colab": {},
    "colab_type": "code",
    "id": "NEFjnPPLVySA"
   },
   "outputs": [
    {
     "name": "stdout",
     "output_type": "stream",
     "text": [
      "Number of tokens in document:  477\n",
      "Number of tokens in cleaned document:  175\n",
      "Number of unique tokens in cleaned document:  147\n"
     ]
    }
   ],
   "source": [
    "print(\"Number of tokens in document: \", len(doc))\n",
    "print(\"Number of tokens in cleaned document: \", len(clean))\n",
    "print(\"Number of unique tokens in cleaned document: \", len(set(clean)))"
   ]
  },
  {
   "cell_type": "code",
   "execution_count": 16,
   "metadata": {
    "colab": {},
    "colab_type": "code",
    "id": "M6JRDl22VySL"
   },
   "outputs": [],
   "source": [
    "from collections import Counter"
   ]
  },
  {
   "cell_type": "code",
   "execution_count": 17,
   "metadata": {
    "colab": {},
    "colab_type": "code",
    "id": "MZwZ3En1VySY"
   },
   "outputs": [
    {
     "data": {
      "text/plain": [
       "[('the', 36),\n",
       " ('\\n', 35),\n",
       " (',', 26),\n",
       " ('of', 20),\n",
       " ('.', 16),\n",
       " (' ', 14),\n",
       " ('and', 13),\n",
       " ('in', 9),\n",
       " ('a', 8),\n",
       " ('was', 8),\n",
       " ('to', 8),\n",
       " ('he', 6),\n",
       " ('by', 6),\n",
       " ('babylon', 5),\n",
       " ('had', 4),\n",
       " ('that', 4),\n",
       " ('his', 4),\n",
       " ('nabonidus', 4),\n",
       " ('it', 4),\n",
       " ('\"', 4)]"
      ]
     },
     "execution_count": 17,
     "metadata": {},
     "output_type": "execute_result"
    }
   ],
   "source": [
    "full_counter = Counter([token.lower_ for token in doc])\n",
    "full_counter.most_common(20)"
   ]
  },
  {
   "cell_type": "code",
   "execution_count": 18,
   "metadata": {
    "colab": {},
    "colab_type": "code",
    "id": "cIrMQFp6VySg"
   },
   "outputs": [
    {
     "data": {
      "text/plain": [
       "[('babylon', 5),\n",
       " ('nabonidus', 4),\n",
       " ('bel', 3),\n",
       " ('marduk', 3),\n",
       " ('city', 3),\n",
       " ('assyrian', 2),\n",
       " ('monarchs', 2),\n",
       " ('sardanapalus', 2),\n",
       " ('library', 2),\n",
       " ('writing', 2),\n",
       " ('empire', 2),\n",
       " ('god', 2),\n",
       " ('found', 2),\n",
       " ('cyrus', 2),\n",
       " ('belshazzar', 2),\n",
       " ('bible', 2),\n",
       " ('wall', 2),\n",
       " ('mene', 2),\n",
       " ('thy', 2),\n",
       " ('kingdom', 2)]"
      ]
     },
     "execution_count": 18,
     "metadata": {},
     "output_type": "execute_result"
    }
   ],
   "source": [
    "cleaned_counter = Counter(clean)\n",
    "cleaned_counter.most_common(20)"
   ]
  },
  {
   "cell_type": "markdown",
   "metadata": {
    "colab_type": "text",
    "id": "NL9FAgJjVySu"
   },
   "source": [
    "**Question:** Why do we have to use a list comprehension for the non-clean doc while we can just pass a variable directly for the cleaned set of tokens?"
   ]
  },
  {
   "cell_type": "markdown",
   "metadata": {
    "colab_type": "text",
    "id": "xRNYHP7wVySv"
   },
   "source": [
    "## Part-of-Speech Tagging\n",
    "\n",
    "Let's turn to the other aspects of the text that spaCy exposes for us. Depending on what questions we might have about the text, these will be more or less helpful. \n",
    "\n",
    "We'll start with parts of speech. "
   ]
  },
  {
   "cell_type": "code",
   "execution_count": 19,
   "metadata": {
    "colab": {},
    "colab_type": "code",
    "id": "RLVUUOT9VySw"
   },
   "outputs": [
    {
     "name": "stdout",
     "output_type": "stream",
     "text": [
      "Even ADV\n",
      "under ADP\n",
      "the DET\n",
      "Assyrian ADJ\n",
      "monarchs NOUN\n",
      "and CCONJ\n",
      "especially ADV\n",
      "under ADP\n",
      "\n",
      " SPACE\n",
      "Sardanapalus PROPN\n",
      ", PUNCT\n",
      "Babylon PROPN\n",
      "had AUX\n",
      "been AUX\n",
      "a DET\n",
      "scene NOUN\n",
      "of ADP\n",
      "great ADJ\n",
      "intellectual ADJ\n",
      "\n",
      " SPACE\n",
      "activity NOUN\n",
      ". PUNCT\n",
      "  SPACE\n",
      "{ PUNCT\n",
      "111 NUM\n",
      "} PUNCT\n",
      "Sardanapalus PROPN\n",
      ", PUNCT\n",
      "though SCONJ\n",
      "an DET\n"
     ]
    }
   ],
   "source": [
    "# spaCy provides two levels of POS tagging. Here's the more general.\n",
    "for token in doc[:30]:\n",
    "  print(token.text, token.pos_)"
   ]
  },
  {
   "cell_type": "code",
   "execution_count": 20,
   "metadata": {
    "colab": {},
    "colab_type": "code",
    "id": "FbB2eeMTVyS2"
   },
   "outputs": [
    {
     "name": "stdout",
     "output_type": "stream",
     "text": [
      "Even RB\n",
      "under IN\n",
      "the DT\n",
      "Assyrian JJ\n",
      "monarchs NN\n",
      "and CC\n",
      "especially RB\n",
      "under IN\n",
      "\n",
      " _SP\n",
      "Sardanapalus NNP\n",
      ", ,\n",
      "Babylon NNP\n",
      "had VBD\n",
      "been VBN\n",
      "a DT\n",
      "scene NN\n",
      "of IN\n",
      "great JJ\n",
      "intellectual JJ\n",
      "\n",
      " _SP\n",
      "activity NN\n",
      ". .\n",
      "  _SP\n",
      "{ -LRB-\n",
      "111 CD\n",
      "} -RRB-\n",
      "Sardanapalus NNP\n",
      ", ,\n",
      "though IN\n",
      "an DT\n"
     ]
    }
   ],
   "source": [
    "# We also have the more specific Penn Treenbank tags.\n",
    "# https://www.ling.upenn.edu/courses/Fall_2003/ling001/penn_treebank_pos.html\n",
    "for token in doc[:30]:\n",
    "  print(token.text, token.tag_)"
   ]
  },
  {
   "cell_type": "markdown",
   "metadata": {
    "colab_type": "text",
    "id": "H6X3cbcmVyS4"
   },
   "source": [
    "We can accumulate the groups of tokens by way of these in order understand distributions of parts of speech throughout the text. "
   ]
  },
  {
   "cell_type": "code",
   "execution_count": 21,
   "metadata": {
    "colab": {},
    "colab_type": "code",
    "id": "wVey8EXsVyS5"
   },
   "outputs": [],
   "source": [
    "nouns = [token for token in doc if token.pos_ == \"NOUN\"]\n",
    "verbs = [token for token in doc if token.pos_ == \"VERB\"]\n",
    "proper_nouns = [token for token in doc if token.pos_ == \"PROPN\"]\n",
    "adjectives = [token for token in doc if token.pos_ == \"ADJ\"]\n",
    "adverbs = [token for token in doc if token.pos_ == \"ADV\"]"
   ]
  },
  {
   "cell_type": "code",
   "execution_count": 22,
   "metadata": {
    "colab": {},
    "colab_type": "code",
    "id": "Qp6pH7VjVyTC"
   },
   "outputs": [
    {
     "data": {
      "text/plain": [
       "{'nouns': 67, 'verbs': 39, 'proper_nouns': 47, 'adjectives': 24, 'adverbs': 14}"
      ]
     },
     "execution_count": 22,
     "metadata": {},
     "output_type": "execute_result"
    }
   ],
   "source": [
    "pos_counts = {\n",
    "    \"nouns\": len(nouns),\n",
    "    \"verbs\": len(verbs),\n",
    "    \"proper_nouns\": len(proper_nouns),\n",
    "    \"adjectives\": len(adjectives),\n",
    "    \"adverbs\": len(adverbs) \n",
    "}\n",
    "\n",
    "pos_counts"
   ]
  },
  {
   "cell_type": "markdown",
   "metadata": {
    "colab_type": "text",
    "id": "0_1y3C5LVyTP"
   },
   "source": [
    "spaCy also provides full dependency parsing, but we're going to leave that alone for the moment. We'll turn instead to named entity recognition. "
   ]
  },
  {
   "cell_type": "markdown",
   "metadata": {
    "colab_type": "text",
    "id": "29Mqf_S0VyTR"
   },
   "source": [
    "## Named-Entity Recognition\n",
    "\n",
    "https://spacy.io/api/annotation#named-entities"
   ]
  },
  {
   "cell_type": "code",
   "execution_count": 23,
   "metadata": {
    "colab": {},
    "colab_type": "code",
    "id": "KodfOLmHVyTS"
   },
   "outputs": [
    {
     "name": "stdout",
     "output_type": "stream",
     "text": [
      "Assyrian NORP\n",
      "Babylon ORG\n",
      "111 CARDINAL\n",
      "Sardanapalus NORP\n",
      "Assyrian NORP\n",
      "Babylon PRODUCT\n",
      "Mesopotamia GPE\n",
      "early Sumerian days DATE\n",
      "the\n",
      "world LOC\n",
      "Chaldean NORP\n",
      "Babylonian NORP\n",
      "Sargon PERSON\n",
      "Babylon WORK_OF_ART\n",
      "Romans NORP\n",
      "Babylon PRODUCT\n",
      "Bel Marduk PERSON\n",
      "Babylonians NORP\n",
      "Cyrus ORG\n",
      "Persian NORP\n",
      "the\n",
      "adjacent Median Empire ORG\n",
      "Croesus ORG\n",
      "Lydia GPE\n",
      "Eastern Asia LOC\n",
      "112 CARDINAL\n",
      "Babylon ORG\n",
      "538 CARDINAL\n",
      "B.C. GPE\n",
      "Belshazzar PERSON\n",
      "Nabonidus NORP\n",
      "Bible WORK_OF_ART\n",
      "_\"Mene, Mene, PERSON\n",
      "Tekel GPE\n",
      "Upharsin PERSON\n",
      "Daniel PERSON\n",
      "Medes PERSON\n",
      "Persians NORP\n",
      "Bel Marduk PERSON\n",
      "Belshazzar PERSON\n",
      "night TIME\n",
      "Bible WORK_OF_ART\n",
      "Nabonidus PERSON\n",
      "Bel Marduk PERSON\n"
     ]
    }
   ],
   "source": [
    "for ent in doc.ents:\n",
    "  print(ent.text, ent.label_)"
   ]
  },
  {
   "cell_type": "markdown",
   "metadata": {
    "colab_type": "text",
    "id": "HGCSdUMAVyTa"
   },
   "source": [
    "What if we only care about geo-political entities or locations?"
   ]
  },
  {
   "cell_type": "code",
   "execution_count": 24,
   "metadata": {
    "colab": {},
    "colab_type": "code",
    "id": "AhIk-M0DVyTc"
   },
   "outputs": [
    {
     "data": {
      "text/plain": [
       "[('Mesopotamia', 'GPE'),\n",
       " ('the\\nworld', 'LOC'),\n",
       " ('Lydia', 'GPE'),\n",
       " ('Eastern Asia', 'LOC'),\n",
       " ('B.C.', 'GPE'),\n",
       " ('Tekel', 'GPE')]"
      ]
     },
     "execution_count": 24,
     "metadata": {},
     "output_type": "execute_result"
    }
   ],
   "source": [
    "ent_filtered = [(ent.text, ent.label_) for ent in doc.ents if ent.label_ in [\"GPE\", \"LOC\"]]\n",
    "ent_filtered"
   ]
  },
  {
   "cell_type": "markdown",
   "metadata": {
    "colab_type": "text",
    "id": "buJBVUPQVyTe"
   },
   "source": [
    "### Visualizing Parses\n",
    "\n",
    "spaCy also has a nice built-in visualizer."
   ]
  },
  {
   "cell_type": "code",
   "execution_count": 25,
   "metadata": {
    "colab": {},
    "colab_type": "code",
    "id": "f3Ra-HtPVyTf"
   },
   "outputs": [],
   "source": [
    "from spacy import displacy"
   ]
  },
  {
   "cell_type": "code",
   "execution_count": 26,
   "metadata": {
    "colab": {},
    "colab_type": "code",
    "id": "NIO_FEoLVyTi"
   },
   "outputs": [
    {
     "data": {
      "text/html": [
       "<div class=\"entities\" style=\"line-height: 2.5; direction: ltr\">Even under the \n",
       "<mark class=\"entity\" style=\"background: #c887fb; padding: 0.45em 0.6em; margin: 0 0.25em; line-height: 1; border-radius: 0.35em;\">\n",
       "    Assyrian\n",
       "    <span style=\"font-size: 0.8em; font-weight: bold; line-height: 1; border-radius: 0.35em; text-transform: uppercase; vertical-align: middle; margin-left: 0.5rem\">NORP</span>\n",
       "</mark>\n",
       " monarchs and especially under</br>Sardanapalus, \n",
       "<mark class=\"entity\" style=\"background: #7aecec; padding: 0.45em 0.6em; margin: 0 0.25em; line-height: 1; border-radius: 0.35em;\">\n",
       "    Babylon\n",
       "    <span style=\"font-size: 0.8em; font-weight: bold; line-height: 1; border-radius: 0.35em; text-transform: uppercase; vertical-align: middle; margin-left: 0.5rem\">ORG</span>\n",
       "</mark>\n",
       " had been a scene of great intellectual</br>activity.  {\n",
       "<mark class=\"entity\" style=\"background: #e4e7d2; padding: 0.45em 0.6em; margin: 0 0.25em; line-height: 1; border-radius: 0.35em;\">\n",
       "    111\n",
       "    <span style=\"font-size: 0.8em; font-weight: bold; line-height: 1; border-radius: 0.35em; text-transform: uppercase; vertical-align: middle; margin-left: 0.5rem\">CARDINAL</span>\n",
       "</mark>\n",
       "} \n",
       "<mark class=\"entity\" style=\"background: #c887fb; padding: 0.45em 0.6em; margin: 0 0.25em; line-height: 1; border-radius: 0.35em;\">\n",
       "    Sardanapalus\n",
       "    <span style=\"font-size: 0.8em; font-weight: bold; line-height: 1; border-radius: 0.35em; text-transform: uppercase; vertical-align: middle; margin-left: 0.5rem\">NORP</span>\n",
       "</mark>\n",
       ", though an \n",
       "<mark class=\"entity\" style=\"background: #c887fb; padding: 0.45em 0.6em; margin: 0 0.25em; line-height: 1; border-radius: 0.35em;\">\n",
       "    Assyrian\n",
       "    <span style=\"font-size: 0.8em; font-weight: bold; line-height: 1; border-radius: 0.35em; text-transform: uppercase; vertical-align: middle; margin-left: 0.5rem\">NORP</span>\n",
       "</mark>\n",
       ", had been quite</br>\n",
       "<mark class=\"entity\" style=\"background: #bfeeb7; padding: 0.45em 0.6em; margin: 0 0.25em; line-height: 1; border-radius: 0.35em;\">\n",
       "    Babylon\n",
       "    <span style=\"font-size: 0.8em; font-weight: bold; line-height: 1; border-radius: 0.35em; text-transform: uppercase; vertical-align: middle; margin-left: 0.5rem\">PRODUCT</span>\n",
       "</mark>\n",
       "-ized.  He made a library, a library not of paper but of</br>the clay tablets that were used for writing in \n",
       "<mark class=\"entity\" style=\"background: #feca74; padding: 0.45em 0.6em; margin: 0 0.25em; line-height: 1; border-radius: 0.35em;\">\n",
       "    Mesopotamia\n",
       "    <span style=\"font-size: 0.8em; font-weight: bold; line-height: 1; border-radius: 0.35em; text-transform: uppercase; vertical-align: middle; margin-left: 0.5rem\">GPE</span>\n",
       "</mark>\n",
       " since</br>\n",
       "<mark class=\"entity\" style=\"background: #bfe1d9; padding: 0.45em 0.6em; margin: 0 0.25em; line-height: 1; border-radius: 0.35em;\">\n",
       "    early Sumerian days\n",
       "    <span style=\"font-size: 0.8em; font-weight: bold; line-height: 1; border-radius: 0.35em; text-transform: uppercase; vertical-align: middle; margin-left: 0.5rem\">DATE</span>\n",
       "</mark>\n",
       ".  His collection has been unearthed and is</br>perhaps the most precious store of historical material in \n",
       "<mark class=\"entity\" style=\"background: #ff9561; padding: 0.45em 0.6em; margin: 0 0.25em; line-height: 1; border-radius: 0.35em;\">\n",
       "    the\n",
       "world\n",
       "    <span style=\"font-size: 0.8em; font-weight: bold; line-height: 1; border-radius: 0.35em; text-transform: uppercase; vertical-align: middle; margin-left: 0.5rem\">LOC</span>\n",
       "</mark>\n",
       ".  The last of the \n",
       "<mark class=\"entity\" style=\"background: #c887fb; padding: 0.45em 0.6em; margin: 0 0.25em; line-height: 1; border-radius: 0.35em;\">\n",
       "    Chaldean\n",
       "    <span style=\"font-size: 0.8em; font-weight: bold; line-height: 1; border-radius: 0.35em; text-transform: uppercase; vertical-align: middle; margin-left: 0.5rem\">NORP</span>\n",
       "</mark>\n",
       " line of \n",
       "<mark class=\"entity\" style=\"background: #c887fb; padding: 0.45em 0.6em; margin: 0 0.25em; line-height: 1; border-radius: 0.35em;\">\n",
       "    Babylonian\n",
       "    <span style=\"font-size: 0.8em; font-weight: bold; line-height: 1; border-radius: 0.35em; text-transform: uppercase; vertical-align: middle; margin-left: 0.5rem\">NORP</span>\n",
       "</mark>\n",
       " monarchs,</br>Nabonidus, had even keener literary tastes.  He patronized</br>antiquarian researches, and when a date was worked out by his</br>investigators for the accession of \n",
       "<mark class=\"entity\" style=\"background: #aa9cfc; padding: 0.45em 0.6em; margin: 0 0.25em; line-height: 1; border-radius: 0.35em;\">\n",
       "    Sargon\n",
       "    <span style=\"font-size: 0.8em; font-weight: bold; line-height: 1; border-radius: 0.35em; text-transform: uppercase; vertical-align: middle; margin-left: 0.5rem\">PERSON</span>\n",
       "</mark>\n",
       " I he commemorated the</br>fact by inscriptions.  But there were many signs of disunion in</br>his empire, and he sought to centralize it by bringing a number of</br>the various local gods to \n",
       "<mark class=\"entity\" style=\"background: #f0d0ff; padding: 0.45em 0.6em; margin: 0 0.25em; line-height: 1; border-radius: 0.35em;\">\n",
       "    Babylon\n",
       "    <span style=\"font-size: 0.8em; font-weight: bold; line-height: 1; border-radius: 0.35em; text-transform: uppercase; vertical-align: middle; margin-left: 0.5rem\">WORK_OF_ART</span>\n",
       "</mark>\n",
       " and setting up temples to them</br>there.  This device was to be practised quite successfully by the</br>\n",
       "<mark class=\"entity\" style=\"background: #c887fb; padding: 0.45em 0.6em; margin: 0 0.25em; line-height: 1; border-radius: 0.35em;\">\n",
       "    Romans\n",
       "    <span style=\"font-size: 0.8em; font-weight: bold; line-height: 1; border-radius: 0.35em; text-transform: uppercase; vertical-align: middle; margin-left: 0.5rem\">NORP</span>\n",
       "</mark>\n",
       " in later times, but in \n",
       "<mark class=\"entity\" style=\"background: #bfeeb7; padding: 0.45em 0.6em; margin: 0 0.25em; line-height: 1; border-radius: 0.35em;\">\n",
       "    Babylon\n",
       "    <span style=\"font-size: 0.8em; font-weight: bold; line-height: 1; border-radius: 0.35em; text-transform: uppercase; vertical-align: middle; margin-left: 0.5rem\">PRODUCT</span>\n",
       "</mark>\n",
       " it roused the jealousy of</br>the powerful priesthood of \n",
       "<mark class=\"entity\" style=\"background: #aa9cfc; padding: 0.45em 0.6em; margin: 0 0.25em; line-height: 1; border-radius: 0.35em;\">\n",
       "    Bel Marduk\n",
       "    <span style=\"font-size: 0.8em; font-weight: bold; line-height: 1; border-radius: 0.35em; text-transform: uppercase; vertical-align: middle; margin-left: 0.5rem\">PERSON</span>\n",
       "</mark>\n",
       ", the dominant god of the</br>\n",
       "<mark class=\"entity\" style=\"background: #c887fb; padding: 0.45em 0.6em; margin: 0 0.25em; line-height: 1; border-radius: 0.35em;\">\n",
       "    Babylonians\n",
       "    <span style=\"font-size: 0.8em; font-weight: bold; line-height: 1; border-radius: 0.35em; text-transform: uppercase; vertical-align: middle; margin-left: 0.5rem\">NORP</span>\n",
       "</mark>\n",
       ".  They cast about for a possible alternative to</br>Nabonidus and found it in \n",
       "<mark class=\"entity\" style=\"background: #7aecec; padding: 0.45em 0.6em; margin: 0 0.25em; line-height: 1; border-radius: 0.35em;\">\n",
       "    Cyrus\n",
       "    <span style=\"font-size: 0.8em; font-weight: bold; line-height: 1; border-radius: 0.35em; text-transform: uppercase; vertical-align: middle; margin-left: 0.5rem\">ORG</span>\n",
       "</mark>\n",
       " the \n",
       "<mark class=\"entity\" style=\"background: #c887fb; padding: 0.45em 0.6em; margin: 0 0.25em; line-height: 1; border-radius: 0.35em;\">\n",
       "    Persian\n",
       "    <span style=\"font-size: 0.8em; font-weight: bold; line-height: 1; border-radius: 0.35em; text-transform: uppercase; vertical-align: middle; margin-left: 0.5rem\">NORP</span>\n",
       "</mark>\n",
       ", the ruler of \n",
       "<mark class=\"entity\" style=\"background: #7aecec; padding: 0.45em 0.6em; margin: 0 0.25em; line-height: 1; border-radius: 0.35em;\">\n",
       "    the\n",
       "adjacent Median Empire\n",
       "    <span style=\"font-size: 0.8em; font-weight: bold; line-height: 1; border-radius: 0.35em; text-transform: uppercase; vertical-align: middle; margin-left: 0.5rem\">ORG</span>\n",
       "</mark>\n",
       ".  Cyrus had already distinguished himself</br>by conquering \n",
       "<mark class=\"entity\" style=\"background: #7aecec; padding: 0.45em 0.6em; margin: 0 0.25em; line-height: 1; border-radius: 0.35em;\">\n",
       "    Croesus\n",
       "    <span style=\"font-size: 0.8em; font-weight: bold; line-height: 1; border-radius: 0.35em; text-transform: uppercase; vertical-align: middle; margin-left: 0.5rem\">ORG</span>\n",
       "</mark>\n",
       ", the rich king of \n",
       "<mark class=\"entity\" style=\"background: #feca74; padding: 0.45em 0.6em; margin: 0 0.25em; line-height: 1; border-radius: 0.35em;\">\n",
       "    Lydia\n",
       "    <span style=\"font-size: 0.8em; font-weight: bold; line-height: 1; border-radius: 0.35em; text-transform: uppercase; vertical-align: middle; margin-left: 0.5rem\">GPE</span>\n",
       "</mark>\n",
       " in \n",
       "<mark class=\"entity\" style=\"background: #ff9561; padding: 0.45em 0.6em; margin: 0 0.25em; line-height: 1; border-radius: 0.35em;\">\n",
       "    Eastern Asia\n",
       "    <span style=\"font-size: 0.8em; font-weight: bold; line-height: 1; border-radius: 0.35em; text-transform: uppercase; vertical-align: middle; margin-left: 0.5rem\">LOC</span>\n",
       "</mark>\n",
       "</br>Minor.  {\n",
       "<mark class=\"entity\" style=\"background: #e4e7d2; padding: 0.45em 0.6em; margin: 0 0.25em; line-height: 1; border-radius: 0.35em;\">\n",
       "    112\n",
       "    <span style=\"font-size: 0.8em; font-weight: bold; line-height: 1; border-radius: 0.35em; text-transform: uppercase; vertical-align: middle; margin-left: 0.5rem\">CARDINAL</span>\n",
       "</mark>\n",
       "} He came up against \n",
       "<mark class=\"entity\" style=\"background: #7aecec; padding: 0.45em 0.6em; margin: 0 0.25em; line-height: 1; border-radius: 0.35em;\">\n",
       "    Babylon\n",
       "    <span style=\"font-size: 0.8em; font-weight: bold; line-height: 1; border-radius: 0.35em; text-transform: uppercase; vertical-align: middle; margin-left: 0.5rem\">ORG</span>\n",
       "</mark>\n",
       ", there was a battle</br>outside the walls, and the gates of the city were opened to him</br>(\n",
       "<mark class=\"entity\" style=\"background: #e4e7d2; padding: 0.45em 0.6em; margin: 0 0.25em; line-height: 1; border-radius: 0.35em;\">\n",
       "    538\n",
       "    <span style=\"font-size: 0.8em; font-weight: bold; line-height: 1; border-radius: 0.35em; text-transform: uppercase; vertical-align: middle; margin-left: 0.5rem\">CARDINAL</span>\n",
       "</mark>\n",
       " \n",
       "<mark class=\"entity\" style=\"background: #feca74; padding: 0.45em 0.6em; margin: 0 0.25em; line-height: 1; border-radius: 0.35em;\">\n",
       "    B.C.\n",
       "    <span style=\"font-size: 0.8em; font-weight: bold; line-height: 1; border-radius: 0.35em; text-transform: uppercase; vertical-align: middle; margin-left: 0.5rem\">GPE</span>\n",
       "</mark>\n",
       ").  His soldiers entered the city without fighting.  The</br>crown prince \n",
       "<mark class=\"entity\" style=\"background: #aa9cfc; padding: 0.45em 0.6em; margin: 0 0.25em; line-height: 1; border-radius: 0.35em;\">\n",
       "    Belshazzar\n",
       "    <span style=\"font-size: 0.8em; font-weight: bold; line-height: 1; border-radius: 0.35em; text-transform: uppercase; vertical-align: middle; margin-left: 0.5rem\">PERSON</span>\n",
       "</mark>\n",
       ", the son of \n",
       "<mark class=\"entity\" style=\"background: #c887fb; padding: 0.45em 0.6em; margin: 0 0.25em; line-height: 1; border-radius: 0.35em;\">\n",
       "    Nabonidus\n",
       "    <span style=\"font-size: 0.8em; font-weight: bold; line-height: 1; border-radius: 0.35em; text-transform: uppercase; vertical-align: middle; margin-left: 0.5rem\">NORP</span>\n",
       "</mark>\n",
       ", was feasting, the</br>\n",
       "<mark class=\"entity\" style=\"background: #f0d0ff; padding: 0.45em 0.6em; margin: 0 0.25em; line-height: 1; border-radius: 0.35em;\">\n",
       "    Bible\n",
       "    <span style=\"font-size: 0.8em; font-weight: bold; line-height: 1; border-radius: 0.35em; text-transform: uppercase; vertical-align: middle; margin-left: 0.5rem\">WORK_OF_ART</span>\n",
       "</mark>\n",
       " relates, when a hand appeared and wrote in letters of fire</br>upon the wall these mystical words: \n",
       "<mark class=\"entity\" style=\"background: #aa9cfc; padding: 0.45em 0.6em; margin: 0 0.25em; line-height: 1; border-radius: 0.35em;\">\n",
       "    _&quot;Mene, Mene,\n",
       "    <span style=\"font-size: 0.8em; font-weight: bold; line-height: 1; border-radius: 0.35em; text-transform: uppercase; vertical-align: middle; margin-left: 0.5rem\">PERSON</span>\n",
       "</mark>\n",
       " \n",
       "<mark class=\"entity\" style=\"background: #feca74; padding: 0.45em 0.6em; margin: 0 0.25em; line-height: 1; border-radius: 0.35em;\">\n",
       "    Tekel\n",
       "    <span style=\"font-size: 0.8em; font-weight: bold; line-height: 1; border-radius: 0.35em; text-transform: uppercase; vertical-align: middle; margin-left: 0.5rem\">GPE</span>\n",
       "</mark>\n",
       ",</br>\n",
       "<mark class=\"entity\" style=\"background: #aa9cfc; padding: 0.45em 0.6em; margin: 0 0.25em; line-height: 1; border-radius: 0.35em;\">\n",
       "    Upharsin\n",
       "    <span style=\"font-size: 0.8em; font-weight: bold; line-height: 1; border-radius: 0.35em; text-transform: uppercase; vertical-align: middle; margin-left: 0.5rem\">PERSON</span>\n",
       "</mark>\n",
       ",&quot;_ which was interpreted by the prophet \n",
       "<mark class=\"entity\" style=\"background: #aa9cfc; padding: 0.45em 0.6em; margin: 0 0.25em; line-height: 1; border-radius: 0.35em;\">\n",
       "    Daniel\n",
       "    <span style=\"font-size: 0.8em; font-weight: bold; line-height: 1; border-radius: 0.35em; text-transform: uppercase; vertical-align: middle; margin-left: 0.5rem\">PERSON</span>\n",
       "</mark>\n",
       ", whom he</br>summoned to read the riddle, as &quot;God has numbered thy kingdom and</br>finished it; thou art weighed in the balance and found wanting and</br>thy kingdom is given to the \n",
       "<mark class=\"entity\" style=\"background: #aa9cfc; padding: 0.45em 0.6em; margin: 0 0.25em; line-height: 1; border-radius: 0.35em;\">\n",
       "    Medes\n",
       "    <span style=\"font-size: 0.8em; font-weight: bold; line-height: 1; border-radius: 0.35em; text-transform: uppercase; vertical-align: middle; margin-left: 0.5rem\">PERSON</span>\n",
       "</mark>\n",
       " and \n",
       "<mark class=\"entity\" style=\"background: #c887fb; padding: 0.45em 0.6em; margin: 0 0.25em; line-height: 1; border-radius: 0.35em;\">\n",
       "    Persians\n",
       "    <span style=\"font-size: 0.8em; font-weight: bold; line-height: 1; border-radius: 0.35em; text-transform: uppercase; vertical-align: middle; margin-left: 0.5rem\">NORP</span>\n",
       "</mark>\n",
       ".&quot;  Possibly the</br>priests of \n",
       "<mark class=\"entity\" style=\"background: #aa9cfc; padding: 0.45em 0.6em; margin: 0 0.25em; line-height: 1; border-radius: 0.35em;\">\n",
       "    Bel Marduk\n",
       "    <span style=\"font-size: 0.8em; font-weight: bold; line-height: 1; border-radius: 0.35em; text-transform: uppercase; vertical-align: middle; margin-left: 0.5rem\">PERSON</span>\n",
       "</mark>\n",
       " knew something about that writing on the</br>wall.  \n",
       "<mark class=\"entity\" style=\"background: #aa9cfc; padding: 0.45em 0.6em; margin: 0 0.25em; line-height: 1; border-radius: 0.35em;\">\n",
       "    Belshazzar\n",
       "    <span style=\"font-size: 0.8em; font-weight: bold; line-height: 1; border-radius: 0.35em; text-transform: uppercase; vertical-align: middle; margin-left: 0.5rem\">PERSON</span>\n",
       "</mark>\n",
       " was killed that \n",
       "<mark class=\"entity\" style=\"background: #bfe1d9; padding: 0.45em 0.6em; margin: 0 0.25em; line-height: 1; border-radius: 0.35em;\">\n",
       "    night\n",
       "    <span style=\"font-size: 0.8em; font-weight: bold; line-height: 1; border-radius: 0.35em; text-transform: uppercase; vertical-align: middle; margin-left: 0.5rem\">TIME</span>\n",
       "</mark>\n",
       ", says the \n",
       "<mark class=\"entity\" style=\"background: #f0d0ff; padding: 0.45em 0.6em; margin: 0 0.25em; line-height: 1; border-radius: 0.35em;\">\n",
       "    Bible\n",
       "    <span style=\"font-size: 0.8em; font-weight: bold; line-height: 1; border-radius: 0.35em; text-transform: uppercase; vertical-align: middle; margin-left: 0.5rem\">WORK_OF_ART</span>\n",
       "</mark>\n",
       ".</br>\n",
       "<mark class=\"entity\" style=\"background: #aa9cfc; padding: 0.45em 0.6em; margin: 0 0.25em; line-height: 1; border-radius: 0.35em;\">\n",
       "    Nabonidus\n",
       "    <span style=\"font-size: 0.8em; font-weight: bold; line-height: 1; border-radius: 0.35em; text-transform: uppercase; vertical-align: middle; margin-left: 0.5rem\">PERSON</span>\n",
       "</mark>\n",
       " was taken prisoner, and the occupation of the city was</br>so peaceful that the services of \n",
       "<mark class=\"entity\" style=\"background: #aa9cfc; padding: 0.45em 0.6em; margin: 0 0.25em; line-height: 1; border-radius: 0.35em;\">\n",
       "    Bel Marduk\n",
       "    <span style=\"font-size: 0.8em; font-weight: bold; line-height: 1; border-radius: 0.35em; text-transform: uppercase; vertical-align: middle; margin-left: 0.5rem\">PERSON</span>\n",
       "</mark>\n",
       " continued without\n",
       "intermission.</div>"
      ],
      "text/plain": [
       "<IPython.core.display.HTML object>"
      ]
     },
     "metadata": {},
     "output_type": "display_data"
    }
   ],
   "source": [
    "displacy.render(doc, style=\"ent\", jupyter=True)"
   ]
  },
  {
   "cell_type": "markdown",
   "metadata": {
    "colab_type": "text",
    "id": "VU5dIAnMiODg"
   },
   "source": [
    "### Activity\n",
    "\n",
    "Pick either a particular part of speech or a named entity type, and write code to determine the most common words of that type. "
   ]
  },
  {
   "cell_type": "code",
   "execution_count": null,
   "metadata": {
    "colab": {},
    "colab_type": "code",
    "id": "mro3MhI-ieQk"
   },
   "outputs": [],
   "source": []
  },
  {
   "cell_type": "markdown",
   "metadata": {
    "colab_type": "text",
    "id": "3F5P7cbMVyTl"
   },
   "source": [
    "# Corpus-level Analysis with `textacy`"
   ]
  },
  {
   "cell_type": "markdown",
   "metadata": {
    "colab_type": "text",
    "id": "FCwkgf9pVyTl"
   },
   "source": [
    "Let's shift to thinking about a whole corpus rather than a single document.\n",
    "\n",
    "In doing so, we could keep working with spaCy directly if the features that it exposes help us answer the research questions we are asking. \n",
    "\n",
    "Instead, though, we're going to take advantage of textacy, a library built on spaCy that adds features, including a sense of a Corpus and built in analytics on it. "
   ]
  },
  {
   "cell_type": "code",
   "execution_count": 27,
   "metadata": {
    "colab": {},
    "colab_type": "code",
    "id": "Jp3AcJezVyTn"
   },
   "outputs": [
    {
     "name": "stdout",
     "output_type": "stream",
     "text": [
      "Requirement already satisfied: textacy in /Users/csbaile3/projects/data-viz-workshops/lib/python3.8/site-packages (0.9.1)\n",
      "Requirement already satisfied: cachetools>=2.0.1 in /Users/csbaile3/projects/data-viz-workshops/lib/python3.8/site-packages (from textacy) (4.0.0)\n",
      "Requirement already satisfied: spacy>=2.0.12 in /Users/csbaile3/projects/data-viz-workshops/lib/python3.8/site-packages (from textacy) (2.2.3)\n",
      "Requirement already satisfied: requests>=2.10.0 in /Users/csbaile3/projects/data-viz-workshops/lib/python3.8/site-packages (from textacy) (2.22.0)\n",
      "Requirement already satisfied: pyemd>=0.5.0 in /Users/csbaile3/projects/data-viz-workshops/lib/python3.8/site-packages (from textacy) (0.5.1)\n",
      "Requirement already satisfied: numpy>=1.17.0 in /Users/csbaile3/projects/data-viz-workshops/lib/python3.8/site-packages (from textacy) (1.18.1)\n",
      "Requirement already satisfied: scikit-learn>=0.19.0 in /Users/csbaile3/projects/data-viz-workshops/lib/python3.8/site-packages (from textacy) (0.22.1)\n",
      "Requirement already satisfied: joblib>=0.13.0 in /Users/csbaile3/projects/data-viz-workshops/lib/python3.8/site-packages (from textacy) (0.14.1)\n",
      "Requirement already satisfied: networkx>=2.0 in /Users/csbaile3/projects/data-viz-workshops/lib/python3.8/site-packages (from textacy) (2.4)\n",
      "Requirement already satisfied: srsly>=0.0.5 in /Users/csbaile3/projects/data-viz-workshops/lib/python3.8/site-packages (from textacy) (1.0.1)\n",
      "Requirement already satisfied: tqdm>=4.19.6 in /Users/csbaile3/projects/data-viz-workshops/lib/python3.8/site-packages (from textacy) (4.42.1)\n",
      "Requirement already satisfied: scipy>=0.17.0 in /Users/csbaile3/projects/data-viz-workshops/lib/python3.8/site-packages (from textacy) (1.4.1)\n",
      "Requirement already satisfied: jellyfish>=0.7.0 in /Users/csbaile3/projects/data-viz-workshops/lib/python3.8/site-packages (from textacy) (0.7.2)\n",
      "Requirement already satisfied: cytoolz>=0.8.0 in /Users/csbaile3/projects/data-viz-workshops/lib/python3.8/site-packages (from textacy) (0.10.1)\n",
      "Requirement already satisfied: pyphen>=0.9.4 in /Users/csbaile3/projects/data-viz-workshops/lib/python3.8/site-packages (from textacy) (0.9.5)\n",
      "Requirement already satisfied: wasabi<1.1.0,>=0.4.0 in /Users/csbaile3/projects/data-viz-workshops/lib/python3.8/site-packages (from spacy>=2.0.12->textacy) (0.6.0)\n",
      "Requirement already satisfied: cymem<2.1.0,>=2.0.2 in /Users/csbaile3/projects/data-viz-workshops/lib/python3.8/site-packages (from spacy>=2.0.12->textacy) (2.0.3)\n",
      "Requirement already satisfied: setuptools in /Users/csbaile3/projects/data-viz-workshops/lib/python3.8/site-packages (from spacy>=2.0.12->textacy) (45.2.0)\n",
      "Requirement already satisfied: blis<0.5.0,>=0.4.0 in /Users/csbaile3/projects/data-viz-workshops/lib/python3.8/site-packages (from spacy>=2.0.12->textacy) (0.4.1)\n",
      "Requirement already satisfied: murmurhash<1.1.0,>=0.28.0 in /Users/csbaile3/projects/data-viz-workshops/lib/python3.8/site-packages (from spacy>=2.0.12->textacy) (1.0.2)\n",
      "Requirement already satisfied: thinc<7.4.0,>=7.3.0 in /Users/csbaile3/projects/data-viz-workshops/lib/python3.8/site-packages (from spacy>=2.0.12->textacy) (7.3.1)\n",
      "Requirement already satisfied: catalogue<1.1.0,>=0.0.7 in /Users/csbaile3/projects/data-viz-workshops/lib/python3.8/site-packages (from spacy>=2.0.12->textacy) (1.0.0)\n",
      "Requirement already satisfied: preshed<3.1.0,>=3.0.2 in /Users/csbaile3/projects/data-viz-workshops/lib/python3.8/site-packages (from spacy>=2.0.12->textacy) (3.0.2)\n",
      "Requirement already satisfied: plac<1.2.0,>=0.9.6 in /Users/csbaile3/projects/data-viz-workshops/lib/python3.8/site-packages (from spacy>=2.0.12->textacy) (1.1.3)\n",
      "Requirement already satisfied: idna<2.9,>=2.5 in /Users/csbaile3/projects/data-viz-workshops/lib/python3.8/site-packages (from requests>=2.10.0->textacy) (2.8)\n",
      "Requirement already satisfied: chardet<3.1.0,>=3.0.2 in /Users/csbaile3/projects/data-viz-workshops/lib/python3.8/site-packages (from requests>=2.10.0->textacy) (3.0.4)\n",
      "Requirement already satisfied: certifi>=2017.4.17 in /Users/csbaile3/projects/data-viz-workshops/lib/python3.8/site-packages (from requests>=2.10.0->textacy) (2019.11.28)\n",
      "Requirement already satisfied: urllib3!=1.25.0,!=1.25.1,<1.26,>=1.21.1 in /Users/csbaile3/projects/data-viz-workshops/lib/python3.8/site-packages (from requests>=2.10.0->textacy) (1.25.8)\n",
      "Requirement already satisfied: decorator>=4.3.0 in /Users/csbaile3/projects/data-viz-workshops/lib/python3.8/site-packages (from networkx>=2.0->textacy) (4.4.1)\n",
      "Requirement already satisfied: toolz>=0.8.0 in /Users/csbaile3/projects/data-viz-workshops/lib/python3.8/site-packages (from cytoolz>=0.8.0->textacy) (0.10.0)\n"
     ]
    }
   ],
   "source": [
    "!pip install textacy"
   ]
  },
  {
   "cell_type": "markdown",
   "metadata": {
    "colab_type": "text",
    "id": "iMqTW64-VyTp"
   },
   "source": [
    "## Generating Corpora\n",
    "\n",
    "We'll use some of the data that is included in textacy as our corpus. You could absolutely import data otherwise, whether through reading in plain text or xml files, or pulling text data and metadata from a csv file. "
   ]
  },
  {
   "cell_type": "code",
   "execution_count": 28,
   "metadata": {
    "colab": {},
    "colab_type": "code",
    "id": "t8HmDN36VyTq"
   },
   "outputs": [],
   "source": [
    "import textacy\n",
    "import textacy.datasets"
   ]
  },
  {
   "cell_type": "code",
   "execution_count": 29,
   "metadata": {
    "colab": {},
    "colab_type": "code",
    "id": "VYKe7-BCVyTs"
   },
   "outputs": [],
   "source": [
    "# We'll work with some Supreme Court cases: https://chartbeat-labs.github.io/textacy/_modules/textacy/datasets/supreme_court.html\n",
    "data = textacy.datasets.SupremeCourt()"
   ]
  },
  {
   "cell_type": "code",
   "execution_count": 30,
   "metadata": {
    "colab": {},
    "colab_type": "code",
    "id": "9xmidNbxVyTu"
   },
   "outputs": [],
   "source": [
    "data.download()"
   ]
  },
  {
   "cell_type": "markdown",
   "metadata": {
    "colab_type": "text",
    "id": "V9X-twUBVyTw"
   },
   "source": [
    "What we have here is a collection of Supreme Court decisions, both full text and metadata. \n",
    "\n",
    "Let's look at a single one to see what we have."
   ]
  },
  {
   "cell_type": "code",
   "execution_count": 31,
   "metadata": {
    "colab": {},
    "colab_type": "code",
    "id": "WHMbaig9VyTx"
   },
   "outputs": [
    {
     "data": {
      "text/plain": [
       "'[ Halliburton Oil Well Cementing Co. v. Walker Mr.Earl Babcock, of Duncan, Okl. (Harry C. Robb, of Washington, D.C., on the brief), for petitioner.\\n Mr. Harold W. Mattingly, of Los Angeles, Cal., for '"
      ]
     },
     "execution_count": 31,
     "metadata": {},
     "output_type": "execute_result"
    }
   ],
   "source": [
    "single = list(data.texts(limit=1))[0]\n",
    "single[:200]"
   ]
  },
  {
   "cell_type": "markdown",
   "metadata": {
    "colab_type": "text",
    "id": "B4Xf3CkM9dJS"
   },
   "source": [
    "Let's go ahead and pull a full set of texts with metadata. To keep it a bit more manageable time-wise, we'll only collect 100 of the records."
   ]
  },
  {
   "cell_type": "code",
   "execution_count": 32,
   "metadata": {
    "colab": {},
    "colab_type": "code",
    "collapsed": true,
    "id": "bZk5b7zxVyTz",
    "jupyter": {
     "outputs_hidden": true
    }
   },
   "outputs": [
    {
     "data": {
      "text/plain": [
       "('[ Halliburton Oil Well Cementing Co. v. Walker Mr.Earl Babcock, of Duncan, Okl. (Harry C. Robb, of Washington, D.C., on the brief), for petitioner.\\n Mr. Harold W. Mattingly, of Los Angeles, Cal., for respondents.\\n Mr. Justice BLACK delivered the opinion of the Court.\\n Cranford P. Walker, owner of Patent No. 2,156,519, and the other respondents, licensees under the patent, brought this suit in a federal district court alleging that petitioner, Halliburton Oil Well Cementing Company, had infringed certain of the claims of the Walker patent. The district court held the claims in issue valid and infringed by Halliburton. The circuit court of appeals affirmed, 9 Cir., 146 F.2d 817, and denied Halliburton\\'s petition for rehearing. 149 F.2d 896. Petitioner\\'s application to this Court for certiorari urged, among other grounds, that the claims held valid failed to make the \\'full, clear, concise, and exact\\' description of the alleged invention required by Rev.Stat. 4888C. 33, 35 U.S.C.A. 33,1 as that statute was interpreted by us in General Electric Co. v. Wabash Appliance Corporation, .2 This statutory requirement of distinctness and certainty in claims is important in patent law. We granted certiorari to consider whether it was correctly applied in this case. .3\\n The patent in suit was sustained as embodying an improvement over a past patent of Lehr and Wyatt (No. 2,047,974) upon an apparatus designed to facilitate the pumping of oil out of wells which do not have sufficient natural pressures to force the oil to gush. An outline of the background and setting of these patents is helpful to an understanding of the problem presented.\\n In order to operate a pump in an oil well most efficiently, cheaply, and with the least waste, the pump must be placed in an appropriate relationship to the fluid surface of the oil. Properly to place the pump in this relationship requires knowledge of the distance from the well top to the fluid surface. At least by the latter 1920\\'s problems of waste and expense in connection with non-gusher oil wells pressed upon the industry. See Railroad Commission of Texas v. Rowan & Nichols Oil Co., ; Burford v. Sun Oil Co., . It became apparent that inefficient pumping, one cause of waste, was in some measure attributable to lack of accurate knowledge of distance from well top to fluid surface. Ability to measure this distance in each separate non-gusher oil well became an obvious next step in the solution of this minor aspect of the problem of waste.\\n The surface and internal machinery and the corkscrew conformation of some oil wells make it impractical to measure depth by the familiar method of lowering a rope or cable. In casting about for an alternative method it was quite natural to hit upon the possibility of utilizing a sound-echo- time method. Unknown distances had frequently been ascertained by this method. Given the time elapsing between the injection of a sound into an oil well and the return of its echo from the fluid surface, and assuming the velocity of the sound to be about 1,100 feet per second, as it is in the open air, it would be easy to find the distance. Not only had this sound-echo-time method been long known and generally used to find unknown distances, but in 1898 Batcheller, in Patent No. 602,422, had described an apparatus to find a distance in a tubular space. Obviously an oil well is such a space. He described a device whereby the noise from a gun might be injected into a tube; the returning echoes from obstructions agitated a diaphragm, which in turn moved a stylus. The stylus recorded on a piece of paper a graph or diagram showing the variant movements of the diaphragm caused by its response to all the different echo waves.\\n In the late 1920\\'s the oil industry began to experiment in the use of this same sound-echo-time method for measur- ing the distance to the fluid surface in deep oil wells. A product of this experimentation was the Lehr and Wyatt patent, upon which the present patent claims to be an improvement. It proposed to measure the distance by measuring the time of travel of the echo of \\'an impulse wave\\' generated by a \\'sudden change in pressure.\\' The apparatus described included a gas cylinder with a quick operating valve by means of which a short blast of gas could be injected into a well. It was stated in the patent that the time elapsing between the release of the gas and the return of the echo of the waves produced by it could be observed in any desired manner. But the patentee\\'s application and drawings noted that the wave impulses could be recorded by use of a microphone which might include an amplifier and an appropriate device to record a picture of the wave impulses.\\n This Lehr and Wyatt patent, it is therefore apparent, simply provided an apparatus composed of old and well-known devices to measure the time required for pressure waves to move to and back from the fluid surface of an oil well. But the assumption that sound and pressure waves would travel in oil wells at open-air velocity of 1,100 feet per second proved to be erroneous. For this reason the timevelocity computation of Lehr and Wyatt for measuring the distance to the fluid surface produced inaccurate results.\\n After conferences with Lehr, Walker undertook to search for a method which would more accurately indicate the sound and pressure wave velocity in each well. Walker was familiar with the structure of oil wells. The oil flow pipe in a well, known as a tubing string, is jointed and where these joints occur there are collars or shoulders. There are also one or more relatively prominent projections on the oil flow pipe known as tubing catchers. In wells where the distance to the tubing catcher is known, Walker observed that the distance to the fluid surface could be measured by a simple time-distance proportion formula. 4\\n For those wells in which the distance to the tubing catcher was unknown, Walker also suggested another idea. The sections of tubing pipe used in a given oil well are generally of equal length. Therefore the shoulders in a given well ordinarily are at equal intervals from each other. But the section length and therefore the interval may vary from well to well. Walker concluded that he could measure the unknown distance to the tubing catcher if he could observe and record the shoulder echo waves. Thus multiplication of the number of shoulders observed by the known length of a pipe section would produce the distance to the tubing catcher. With this distance, he could solve the distance to the fluid surface by the same proportion formula used when the distance to the tubing catcher was a matter of record. The Lehr and Wyatt instrument could record all these echo waves. But the potential usefulness of the echoes from the shoulders and the tubing catcher which their machine recorded had not occurred to Lehr and Wyatt and consequently they had made no effort better to observe and record them. Walker\\'s contribution which he claims to be invention was in effect to add to Lehr and Wyatt\\'s apparatus a well-known device which would make the regularly appearing shoulder echo waves more prominent on the graph and easier to count.\\n The device added was a mechanical acoustical resonator. This was a short pipe which would receive wave impulses at the mouth of the well. Walker\\'s testimony was, and his specifications state, that by making the length of this tubal resonator one-third the length of the tubing joints, the resonator would serve as a tuner, adjusted to the frequency of the shoulder echo waves. It would simultaneously amplify these echo waves and eliminate unwanted echoes from other obstructions thus producing a clearer picture of the shoulder echo waves. His specifications show, attached to the tubal resonator, a coupler, the manipulation of which would adjust the length of the tube to one-third of the interval between shoulders in a particular well. His specifications and drawings also show the physical structure of a complete apparatus, designed to inject pressure impulses into a well, and to receive, note, record and time the impulse waves.\\n The District Court held the claims here in suit valid upon its finding that Walker\\'s \\'apparatus differs from and is an improvement over the prior art in the incorporation in such apparatus of a tuned acoustical means which performs the functions of a sound filter ....\\' The circuit court of appeals affirmed this holding, stating that the trial court had found \\'that the only part of this patent constituting invention over the prior art is the \\'tuned acoustical means which performs the functions of a sound filter.\"\\n For our purpose in passing upon the sufficiency of the claims against prohibited indefiniteness we can accept without ratifying the findings of the lower court that the addition of \\'(a) tuned acoustical means\\' performing the \\'functions of a sound filter\\' brought about a new patentable combination, even though it advanced only a narrow step beyond Lehr and Wyatt\\'s old combination. 5 We must, however, determine whether, as petitioner charges, the claims here held valid run afoul of Rev.Stat. 4888 because they do not describe the invention but use \\'conveniently functional language at the exact point of novelty.\\' General Electric Co. v. Wabash Appliance Corporation supraat page 371, 58 S.Ct. at page 903\\n Walker, in some of his claims, e.g., claims 2 and 3, does describe the tuned acoustical pipe as an integral part of his invention, showing its structure, its working arrangement in the alleged new combination, and the manner of its connection with the other parts. But no one of the claims on which this judgment rests has even suggested the physical structure of the acoustical resonator. 6\\n No one of these claims describes the physical relation of the Walker addition to the old Lehr and Wyatt machine. No one of these claims describes the manner in which the Walker addition will operate together with the old Lehr and Wyatt machine so as to make the \\'new\\' unitary apparatus perform its designed function. Thus the claims failed adequately to depict the structure, mode, and operation of the parts in combination.\\n A claim typical of all of those held valid only describes the resonator and its relation with the rest of the apparatus as \\'means associated with said pressure responsive device for tuning said receiving means to the frequency of echoes from the tubing collars of said tubing section to clearly distinguish the echoes of said couplings from each other.\\' 7\\n The language of the claim thus describes this most crucial element in the \\'new\\' combination in terms of what it will do rather than in terms of its own physical characteristics or its arrangement in the new combination apparatus. We have held that a claim with such a description of a product is invalid as a violation of Rev.Stat. 4888. Holland Furniture Co. v. Perkins Glue Co., , 257 S., 48 S.Ct. 474, 478, 479; General Electric Co. v. Wabash Appliance Corporation, supra. We understand that the circuit court of appeals held that the same rigid standards of description required for product claims is not required for a combination patent embodying old elements only. We have a different view.\\n Rev.Stat. 4888 pointedly provides that \\'in the case of a machine, he (the patentee) shall explain the principle thereof, and the best mode in which he has contemplated applying that principle, so as to distinguish it from other inventions; and he shall particularly point out and distinctively claim the part, improvement, or combination which he claims as his invention or discovery.\\' It has long been held that the word \\'machine\\' includes a combination. Corning et al. v. Burden, 15 How. 252, 267. We are not persuaded that the public and those affected by patents should lose the protection of this statute merely because the patented device is a combination of old elements.\\n Patents on machines which join old and well-known devices with the declared object of achieving new results, or patents which add an old element to improve a preexisting combination, easily lend themselves to abuse. And to prevent extension of a patent\\'s scope beyond what was actually invented, courts have viewed claims to combinations and improvements or additions to them with very close scrutiny. Cf. Lincoln Engineering Co. of Illinois v. Stewart Warner Corporation, , 549-551, 58 S.Ct. 662. For the same reason, courts have qualified the scope of what is meant by the equivalent of an ingredient of a combination of old elements. Gill v. Wells, 22 Wall. 1, 28, 29. Fuller v. Yentzer, , 298 S.. It is quite consistent with this strict interpretation of patents for machines which combine old elements to require clear description in combination claims. This view, clearly expressed in Gill v. Wells, supra, is that\\n\\'Where the ingredients are all old the invention ... consists entirely in the combination, and the requirement of the Patent Act that the invention shall be fully and exactly described applies with as much force to such an invention as to any other class, because if not fulfilled all three of the great ends intended to be accomplished by that requirement would be defeated. ... (1.) That the Government may know what they have granted and what will become public property when the term of the monopoly expires. (2.) That licensed persons desiring to practice the invention may know, during the term, how to make, construct, and use the invention. (3.) That other inventors may know what part of the field of invention is unoccupied.\\n\\'Purposes such as these are of great importance in every case, but the fulfillment of them is never more necessary than when such inquiries arise in respect to a patent for a machine which consists of a combination of old ingredients. Patents of that kind are much more numerous than any other, and consequently it is of the greatest importance that the description of the combination, which is the invention, should be full, clear, concise, and exact.\\' Gill v. Wells, supra, 22 Wall. at pages 25, 26.\\n These principles were again emphasized in Merrill v. Yeomans, , 570, where it was said that \\'... in cases where the invention is a new combination of old devices, he (the patentee) is bound to describe with particularity all these old devices, and then the new mode of combining them, for which he desires a patent.\\' This view has most recently been reiterated in General Electric Co. v. Wabash Appliance Corporation, supraat pages 368, 369, 58 S.Ct. at pages 901, 902. Cogent reasons would have to be presented to persuade us to depart from this established doctrine. The facts of the case before us, far from undermining our confidence in these earlier pronouncements, reinforce the conclusion that the statutory requirement for a clear description of claims applies to a combination of old devices.\\n This patent and the infringement proceedings brought under it illustrate the hazards of carving out an exception to the sweeping demand Congress made in Rev.Stat. 4888. Neither in the specification, the drawing, nor in the claims here under consideration, was there any indication that the patentee contemplated any specific structural alternative for the acoustical resonator or for the resonator\\'s relationship to the other parts of the machine. Petitioner was working in a field crowded almost, if not completely, to the point of exhaustion. In 1920, Tucker, in Patent No. 1,451,356, had shown a tuned acoustical resonator in a sound detecting device which measured distances. Lehr and Wyatt had provided for amplification of their waves. Sufficient amplification and exaggeration of all the differ- ent waves which Lehr and Wyatt recorded on their machine would have made it easy to distinguish the tubing catcher and regular shoulder waves from all others. For, even without this amplification, the echo waves from tubing collars could by proper magnification have been recorded and accurately counted, had Lehr and Wyatt recognized their importance in computing the velocity. Cf. General Electric Co. v. Jewel Incandescent Lamp Co., .\\n Under these circumstances the broadness, ambiguity, and overhanging threat of the functional claim of Walker become apparent. What he claimed in the court below and what he claims here is that his patent bars anyone from using in an oil well any device heretofore or hereafter invented which combined with the Lehr and Wyatt machine performs the function of clearly and distinctly catching and recording echoes from tubing joints with regularity. Just how many different devices there are of various kinds and characters which would serve to emphasize these echoes, we do not know. The Halliburton device, alleged to infringe, employs an electric filter for this purpose. In this age of technological development there may be many other devices beyond our present information or indeed our imagination which will perform that function and yet fit these claims. And unless frightened from the course of experimentation by broad functional claims like these, inventive genius may evolve many more devices to accomplish the same purpose. See United Carbon Co. et al. v. Binney & Smith Co., ; Burr v. Duryee, 1 Wall. 531, 568; O\\'Reilly et al. v. Morse et al., 15 How. 62, 112, 113. Yet if Walker\\'s blanket claims be valid, no device to clarify echo waves, now known or hereafter invented, whether the device be an actual equivalent of Walker\\'s ingredient or not, could be used in a combination such as this, during the life of Walker\\'s patent. Had Walker accurately described the machine he claims to have invented, he would have had no such broad rights to bar the use of all devices now or hereafter known which could accent waves. For had he accurately described the resonator together with the Lehr and Wyatt apparatus, and sued for infringement, charging the use of something else used in combination to accent the waves, the alleged infringer could have prevailed if the substituted device (1) performed a substantially different function; (2) was not known at the date of Walker\\'s patent as a proper substitute for the resonator; or (3) had been actually invented after the date of the patent. Fuller v. Yentzer, supraat pages 296, 297; Gill v. Wells, supra, 22 Wall. at page 29. Certainly, if we are to be consistent with Rev.Stat. 4888, a patentee cannot obtain greater coverage by failing to describe his invention than by describing it as the statute commands.\\n It is urged that our conclusion is in conflict with the decision of Continental Paper Bag Co. v. Eastern Paper Bag Co., . In that case, however, the claims structurally described the physical and operating relationship of all the crucial parts of the novel combination. 8\\n The court there decided only that there had been an infringement of this adequately described invention. That case is not authority for sustaining the claims before us which fail adequately to describe the alleged invention.\\nREVERSED.\\n Mr. Justice FRANKFURTER concurs with the Court\\'s opinion in so far as it finds this claim lacking in the definiteness required by Rev.Stat. 4888, 35 U.S.C. 33, 35 U.S.C.A. 33, but reserves judgment as to considerations that may be peculiar to combination patents in satisfying that requirement.\\n Mr. Justice BURTON dissents. Footnotes\\n[\\nFootnote 1\\n] \\'33. Application for Patent; Description; Specification and Claim. Before any inventor or discoverer shall receive a patent for his invention or discovery he shall make application therefor, in writing, to the Commissioner of Patents, and shall file in the Patent Office a written description of the same, and of the manner and process of making, constructing, compounding, and using it, in such full, clear, concise, and exact terms as to enable any person skilled in the art or science to which it appertains, or with which it is most nearly connected, to make, construct, compound, and use the same; and in case of a machine, he shall explain the principle thereof, and the best mode in which he has contemplated applying that principle, so as to distinguish it from other inventions; and he shall particularly point out and distinctly claim the part, improvement, or combination which he claims as his invention or discovery. ...\\' [\\nFootnote 2\\n] Other alleged errors were urged in the application for certiorari and have been argued here, but since we find the question of definiteness of the claim decisive of the controversy, we shall not further advert to the other contentions. [\\nFootnote 3\\n] This case was previously affirmed by a divided court, and upon petition for rehearing was restored to the docket for reargument. . [\\nFootnote 4\\n] The known distance from well top to the tubing catcher is to the unknown distance from well top to the fluid surface as the time an echo requires to travel from the tubing catcher is to the time required for an echo to travel from the fluid surface.\\n Walker\\'s patent emphasizes that his invention solves the velocity of sound waves in wells of various pressures in which sound did not travel at open-air or a uniform speed. Mathematically, of course, his determination of the distance by proportions determines the distance to the fluid surface directly without necessarily considering velocity in feet per second as a factor. [\\nFootnote 5\\n] See Hailes v. Van Wormer, 20 Wall. 353; Knapp v. Morss, , 228 S., 14 S.Ct. 81, 83, 84; Textile Machine Works v. Louis Hirsch Textile Machines, Inc., , 58 S. Ct. 291; Lincoln Engineering Co. of Illinois v. Stewart- Warner Corp., , 550 S., 58 S.Ct. 662, 664, 665. [\\nFootnote 6\\n] Halliburton does not challenge the adequacy of the description of any other features of the \\'new combination.\\' The elements of Walker\\'s apparatus other than the filter are so nearly identical to what Lehr and Wyatt patented that we can speak of these other elements as the \\'Lehr and Wyatt machine.\\' [\\nFootnote 7\\n] Both parties have used Claim 1 as a typical example for purposes of argument throughout the litigation. Other claims need not be set out. Claim 1 is as follows: \\'In an apparatus for determining the location of an obstruction in a well having therein a string of assembling tubing sections inter-connected with each other by coupling collars, means communicating with said well for creating a pressure impulse in said well, echo receiving means including a pressure responsive device exposed to said well for receiving pressure impulses from the well and for measuring the lapse of time between the creation of the impulse and the arrival at said receiving means of the echo from said obstruction, and means associated with said pressure responsive device for tuning said receiving means to the frequency of echoes from the tubing collars of said tubing sections to clearly distinguish the echoes from said couplings from each other.\\' [\\nFootnote 8\\n] The typical claim there in suit was as follows: \\'2. In a paper bag machine, the combination of the rotating cylinder provided with one or more pairs of sidefolding fingers adapted to be moved toward or from each other, a forming plate also provided with side-forming fingers adapted to be moved toward or from each other, means for operating said fingers at definite times during the formative action upon the bag tube, operating means for the forming plate adapted to cause the said plate to oscillate about its rear edge upon the surface of the cylinder during the rotary movement of said cylinder for the purpose of opening and forming the bottom of the bag tube, a finger moving with the forming plate for receiving the upper sheet of the tube and lifting it during the formative action, power devices for returning the forming plate to its original position to receive a new bag tube, and means to move the bag tube with the cylinder.\\' Continental Paper Bag Co. v. Eastern Paper Bag Co., , 417, n. 1, 28 S.Ct. 748, 750.',\n",
       " {'issue': '80180',\n",
       "  'issue_area': 8,\n",
       "  'n_min_votes': 1,\n",
       "  'case_name': 'HALLIBURTON OIL WELL CEMENTING CO. v. WALKER et al., DOING BUSINESS AS DEPTHOGRAPH CO.',\n",
       "  'maj_opinion_author': 78,\n",
       "  'decision_date': '1946-11-18',\n",
       "  'decision_direction': 'liberal',\n",
       "  'n_maj_votes': 8,\n",
       "  'us_cite_id': '329 U.S. 1',\n",
       "  'argument_date': '1946-01-09'})"
      ]
     },
     "execution_count": 32,
     "metadata": {},
     "output_type": "execute_result"
    }
   ],
   "source": [
    "records = data.records(limit=100)\n",
    "\n",
    "# Records here is a generator - we can look at the first record by passing it to the next function.\n",
    "next(records)"
   ]
  },
  {
   "cell_type": "markdown",
   "metadata": {
    "colab_type": "text",
    "id": "6TwurMgHVyT0"
   },
   "source": [
    "textacy includes the idea of a corpus, while spaCy only has an idea of a single documents, though you can compose documents in standard Python data structures. Every corpus takes some texts or text plus metadata, along with a language model. "
   ]
  },
  {
   "cell_type": "code",
   "execution_count": 33,
   "metadata": {
    "colab": {},
    "colab_type": "code",
    "id": "7gdHIQAyVyT0"
   },
   "outputs": [],
   "source": [
    "corpus = textacy.Corpus(nlp, data=records)"
   ]
  },
  {
   "cell_type": "code",
   "execution_count": 34,
   "metadata": {
    "colab": {},
    "colab_type": "code",
    "id": "U_0YOC-kVyT3"
   },
   "outputs": [
    {
     "data": {
      "text/plain": [
       "Corpus(99 docs, 610586 tokens)"
      ]
     },
     "execution_count": 34,
     "metadata": {},
     "output_type": "execute_result"
    }
   ],
   "source": [
    "corpus"
   ]
  },
  {
   "cell_type": "code",
   "execution_count": 35,
   "metadata": {
    "colab": {},
    "colab_type": "code",
    "id": "tBnvE5ZJVyT7"
   },
   "outputs": [
    {
     "data": {
      "text/plain": [
       "['Doc(5222 tokens: \"Rehearing Denied Dec. 16, 1946. See . Mr.Claude...\")',\n",
       " 'Doc(3616 tokens: \"Rehearing Denied Dec. 16, 1946  See .  Appeal f...\")',\n",
       " 'Doc(9169 tokens: \"Mr. Walter J. Cummings, Jr., of Washington, D.C...\")',\n",
       " 'Doc(1423 tokens: \"Mr.A. Devitt Vaneck, of Washington, D.C., for p...\")',\n",
       " 'Doc(7624 tokens: \"Action by Richfield Oil Corporation against Sta...\")']"
      ]
     },
     "execution_count": 35,
     "metadata": {},
     "output_type": "execute_result"
    }
   ],
   "source": [
    "[doc._.preview for doc in corpus[:5]]"
   ]
  },
  {
   "cell_type": "markdown",
   "metadata": {
    "colab_type": "text",
    "id": "JuBjFKQ4VyT8"
   },
   "source": [
    "We can see that the type of each item in the corpus is a `Doc` - this is effectively a spaCy doc with all of the calculated features. Textacy does give you some capacity to work with those features through it's API, and also exposes new features, such as ngrams and ranking algorithms for single documents. We'll come back to these once we work a bit at the corpus level. "
   ]
  },
  {
   "cell_type": "markdown",
   "metadata": {
    "colab_type": "text",
    "id": "-DFWqESvVyT8"
   },
   "source": [
    "We can filter this corpus based on metadata once we make it."
   ]
  },
  {
   "cell_type": "code",
   "execution_count": 36,
   "metadata": {
    "colab": {},
    "colab_type": "code",
    "id": "j-CqNgQaVyUC"
   },
   "outputs": [
    {
     "data": {
      "text/plain": [
       "64"
      ]
     },
     "execution_count": 36,
     "metadata": {},
     "output_type": "execute_result"
    }
   ],
   "source": [
    "# Here we'll find all the cases where the number of justices voting in the majority was greater than 6. \n",
    "recent = [doc for doc in corpus.get(lambda doc: doc._.meta[\"n_maj_votes\"] > 6)]\n",
    "len(recent)"
   ]
  },
  {
   "cell_type": "code",
   "execution_count": 37,
   "metadata": {
    "colab": {},
    "colab_type": "code",
    "id": "4o5hy0pCVyUG"
   },
   "outputs": [
    {
     "data": {
      "text/plain": [
       "'Doc(7624 tokens: \"Action by Richfield Oil Corporation against Sta...\")'"
      ]
     },
     "execution_count": 37,
     "metadata": {},
     "output_type": "execute_result"
    }
   ],
   "source": [
    "recent[0]._.preview"
   ]
  },
  {
   "cell_type": "markdown",
   "metadata": {
    "colab_type": "text",
    "id": "B8YO2bgIVyUM"
   },
   "source": [
    "## Analyzing the Corpus\n",
    "\n",
    "Let's look at what we get out of the box from textacy once we've built a corpus."
   ]
  },
  {
   "cell_type": "code",
   "execution_count": 38,
   "metadata": {
    "colab": {},
    "colab_type": "code",
    "id": "_wOMpBE0VyUM"
   },
   "outputs": [
    {
     "name": "stdout",
     "output_type": "stream",
     "text": [
      "number of documents:  99\n",
      "number of sentences:  27506\n",
      "number of tokens:  610586\n"
     ]
    }
   ],
   "source": [
    "print(\"number of documents: \", corpus.n_docs)\n",
    "print(\"number of sentences: \", corpus.n_sents)\n",
    "print(\"number of tokens: \", corpus.n_tokens)"
   ]
  },
  {
   "cell_type": "code",
   "execution_count": 39,
   "metadata": {
    "colab": {},
    "colab_type": "code",
    "id": "WiQQrx5SVyUO"
   },
   "outputs": [],
   "source": [
    "# We'll pass as_strings so that the results we look at will give us strings rather than unique ids.\n",
    "counts = corpus.word_counts(as_strings=True)"
   ]
  },
  {
   "cell_type": "markdown",
   "metadata": {
    "colab_type": "text",
    "id": "bWwr9r1fFOuE"
   },
   "source": [
    "Notice that, by default, the `word_counts` function is doing a certain amount of cleaning for you: https://chartbeat-labs.github.io/textacy/api_reference/lang_doc_corpus.html#textacy.corpus.Corpus.word_counts "
   ]
  },
  {
   "cell_type": "code",
   "execution_count": 40,
   "metadata": {
    "colab": {},
    "colab_type": "code",
    "id": "blFXigFMVyUQ"
   },
   "outputs": [
    {
     "data": {
      "text/plain": [
       "[('-PRON-', 15179),\n",
       " ('v.', 3067),\n",
       " ('Court', 2150),\n",
       " ('case', 2093),\n",
       " ('court', 1758),\n",
       " ('Act', 1740),\n",
       " ('States', 1675),\n",
       " ('United', 1606),\n",
       " ('state', 1573),\n",
       " ('Co.', 1226),\n",
       " ('order', 1132),\n",
       " ('law', 1108),\n",
       " ('Commission', 1028),\n",
       " ('Footnote', 949),\n",
       " ('right', 886),\n",
       " ('Congress', 881),\n",
       " ('power', 824),\n",
       " ('tax', 786),\n",
       " ('act', 783),\n",
       " ('employee', 765)]"
      ]
     },
     "execution_count": 40,
     "metadata": {},
     "output_type": "execute_result"
    }
   ],
   "source": [
    "sorted(counts.items(), key=lambda x: x[1], reverse=True)[:20]"
   ]
  },
  {
   "cell_type": "markdown",
   "metadata": {
    "colab_type": "text",
    "id": "nYx5VX51H8SF"
   },
   "source": [
    "For an explanation of `-PRON-`, see https://spacy.io/api/annotation#lemmatization. Basically it's spaCy's way of lemmatizing pronouns. "
   ]
  },
  {
   "cell_type": "code",
   "execution_count": 41,
   "metadata": {
    "colab": {},
    "colab_type": "code",
    "id": "ELd2rxUZVyUU"
   },
   "outputs": [],
   "source": [
    "word_doc_counts = corpus.word_doc_counts(weighting=\"freq\", smooth_idf=True, filter_stops=True, as_strings=True)"
   ]
  },
  {
   "cell_type": "code",
   "execution_count": 42,
   "metadata": {
    "colab": {},
    "colab_type": "code",
    "id": "wIIkImS2VyUW"
   },
   "outputs": [
    {
     "data": {
      "text/plain": [
       "[('Mr.', 1.0),\n",
       " ('Court', 1.0),\n",
       " ('-PRON-', 1.0),\n",
       " ('opinion', 0.98989898989899),\n",
       " ('case', 0.98989898989899),\n",
       " ('v.', 0.98989898989899),\n",
       " ('Justice', 0.9696969696969697),\n",
       " ('deliver', 0.9696969696969697),\n",
       " ('hold', 0.9494949494949495),\n",
       " ('fact', 0.9494949494949495),\n",
       " ('question', 0.9393939393939394),\n",
       " ('court', 0.9292929292929293),\n",
       " ('United', 0.9292929292929293),\n",
       " ('order', 0.9292929292929293),\n",
       " ('grant', 0.9191919191919192),\n",
       " ('provide', 0.9191919191919192),\n",
       " ('footnote', 0.9191919191919192),\n",
       " ('Act', 0.9090909090909091),\n",
       " ('States', 0.9090909090909091),\n",
       " ('state', 0.8888888888888888)]"
      ]
     },
     "execution_count": 42,
     "metadata": {},
     "output_type": "execute_result"
    }
   ],
   "source": [
    "sorted(word_doc_counts.items(), key=lambda x:x[1], reverse=True)[:20]"
   ]
  },
  {
   "cell_type": "markdown",
   "metadata": {
    "colab_type": "text",
    "id": "T5r_AcIMVyUa"
   },
   "source": [
    "We should note that these are not tf-idf values, which are term frequencies for individual docs weighted by the inverse document frequency. This is a measure of the number of docs the words appear in weighted by inverse document frequency. We're still getting a sense of which words across the corpus and in the context of the corpus seem to have the most importance, if document frequency is a proxy for importance. "
   ]
  },
  {
   "cell_type": "markdown",
   "metadata": {
    "colab_type": "text",
    "id": "Wx69GIqUdqtx"
   },
   "source": [
    "Textacy provides access to different algorithms that can be run on docs, such as TextRank for keyword extraction. We'll start by working on a single doc, and then look at how we might scale up to thinking about the corpus."
   ]
  },
  {
   "cell_type": "code",
   "execution_count": 43,
   "metadata": {
    "colab": {},
    "colab_type": "code",
    "id": "aQCRD7WTeI1j"
   },
   "outputs": [],
   "source": [
    "import textacy.ke"
   ]
  },
  {
   "cell_type": "code",
   "execution_count": 44,
   "metadata": {
    "colab": {},
    "colab_type": "code",
    "id": "eSwQ4Rw6dWaT"
   },
   "outputs": [
    {
     "data": {
      "text/plain": [
       "[('California sale tax', 0.012333388296664348),\n",
       " ('tax export', 0.0113673143549449),\n",
       " ('state tax invalid', 0.010884733369090502),\n",
       " ('Holmes v. Jennison', 0.010712873077734912),\n",
       " ('retail sale tax', 0.010381265077279931),\n",
       " ('uniform sale tax', 0.010034512222859084),\n",
       " ('tax sale', 0.009769600024372289),\n",
       " ('constitutional tax immunity', 0.00937754247776007),\n",
       " ('California tax', 0.009330806968843836),\n",
       " ('federal tax o baseball bat', 0.009297520907650668)]"
      ]
     },
     "execution_count": 44,
     "metadata": {},
     "output_type": "execute_result"
    }
   ],
   "source": [
    "key_terms_textrank = textacy.ke.textrank(corpus[4])\n",
    "key_terms_textrank"
   ]
  },
  {
   "cell_type": "markdown",
   "metadata": {
    "colab_type": "text",
    "id": "pRyHfZekewCT"
   },
   "source": [
    "For comparison, we'll take a look at another algorithm, Yake. "
   ]
  },
  {
   "cell_type": "code",
   "execution_count": 45,
   "metadata": {
    "colab": {},
    "colab_type": "code",
    "id": "-HWvJ8ube4Vc"
   },
   "outputs": [
    {
     "data": {
      "text/plain": [
       "[('California Supreme Court', 0.01890085790764054),\n",
       " ('United States', 0.04633964392576428),\n",
       " ('Commerce Clause', 0.053538515965004016),\n",
       " ('Export Clause', 0.05606165454483531),\n",
       " ('tax', 0.07142028238377197),\n",
       " ('Constitution', 0.08323314407834871),\n",
       " ('Co.', 0.0888678555608659),\n",
       " ('export', 0.09368242887042529),\n",
       " ('State Court', 0.09888574865447539),\n",
       " ('article', 0.09952920567197214)]"
      ]
     },
     "execution_count": 45,
     "metadata": {},
     "output_type": "execute_result"
    }
   ],
   "source": [
    "key_terms_yake = textacy.ke.yake(corpus[4])\n",
    "key_terms_yake"
   ]
  },
  {
   "cell_type": "markdown",
   "metadata": {
    "colab_type": "text",
    "id": "OarUA-BMfmV7"
   },
   "source": [
    "Let's think about aggregating keywords over part of the corpus."
   ]
  },
  {
   "cell_type": "code",
   "execution_count": 46,
   "metadata": {
    "colab": {},
    "colab_type": "code",
    "id": "SXNpQrZafrzi"
   },
   "outputs": [],
   "source": [
    "key_terms_textrank_corpus = [textacy.ke.yake(doc) for doc in corpus[:20]]"
   ]
  },
  {
   "cell_type": "code",
   "execution_count": 47,
   "metadata": {
    "colab": {},
    "colab_type": "code",
    "collapsed": true,
    "id": "2XCA9CT4f5N5",
    "jupyter": {
     "outputs_hidden": true
    }
   },
   "outputs": [
    {
     "data": {
      "text/plain": [
       "[[('United States', 0.013154845765439517),\n",
       "  ('Mann Act', 0.05148040959149859),\n",
       "  ('Slave Traffic Act', 0.07313546995499376),\n",
       "  ('Caminetti', 0.07925194451279186),\n",
       "  ('Congress', 0.08002616916707488),\n",
       "  ('Mr. Justice', 0.08175846469121331),\n",
       "  ('Caminetti case', 0.09646113486901169),\n",
       "  ('Cir', 0.0996889079810463),\n",
       "  ('Court', 0.10790782584908168),\n",
       "  ('purpose', 0.12892137615080948)],\n",
       " [('Interstate Commerce Commission', 0.026838954477381077),\n",
       "  ('Interstate Commerce Act', 0.04745347005938014),\n",
       "  ('Champlin', 0.07097931896052062),\n",
       "  ('Pipe Line Cases', 0.0737254136675763),\n",
       "  ('District Court', 0.08233568972929342),\n",
       "  ('Champlin Refining Company', 0.09036724824601859),\n",
       "  ('Uncle Sam', 0.10496819842317137),\n",
       "  ('common carrier', 0.10666587546030443),\n",
       "  ('line', 0.11671977019899822),\n",
       "  ('pipe', 0.1257009603399611)],\n",
       " [('United States', 0.005430451306863621),\n",
       "  ('indian title', 0.013906626654310701),\n",
       "  ('original indian title', 0.014864654569450124),\n",
       "  ('indian claim', 0.02876756897005112),\n",
       "  ('indian land', 0.030672243043594588),\n",
       "  ('indian tribe', 0.03068574893414863),\n",
       "  ('indian right', 0.036699032112361446),\n",
       "  ('Indians', 0.03706525968257991),\n",
       "  ('Shoshone Indians', 0.04468249104320315),\n",
       "  ('Congress', 0.05133653523343672)],\n",
       " [('Government', 0.07772294922454275),\n",
       "  ('A. Devitt Vaneck', 0.07972672653274986),\n",
       "  ('respondent', 0.1573176044541057),\n",
       "  ('Court', 0.15776652636938038),\n",
       "  ('delay', 0.1597964105890964),\n",
       "  ('contract', 0.1609150752441398),\n",
       "  ('Crook', 0.17602235096184016),\n",
       "  ('Rice', 0.17602235096184016),\n",
       "  ('United States', 0.18229453947516022),\n",
       "  ('work', 0.18803185136619888)],\n",
       " [('California Supreme Court', 0.01890085790764054),\n",
       "  ('United States', 0.04633964392576428),\n",
       "  ('Commerce Clause', 0.053538515965004016),\n",
       "  ('Export Clause', 0.05606165454483531),\n",
       "  ('tax', 0.07142028238377197),\n",
       "  ('Constitution', 0.08323314407834871),\n",
       "  ('Co.', 0.0888678555608659),\n",
       "  ('export', 0.09368242887042529),\n",
       "  ('State Court', 0.09888574865447539),\n",
       "  ('article', 0.09952920567197214)],\n",
       " [('Electric Bond', 0.017673475312191364),\n",
       "  ('Commission', 0.019437297291209833),\n",
       "  ('Trade Commission Report', 0.03784725451021089),\n",
       "  ('Share', 0.03794509317129663),\n",
       "  ('Exchange Commission', 0.03981882372614489),\n",
       "  ('Share Company', 0.04150359690958534),\n",
       "  ('Share Co.', 0.0440672022967697),\n",
       "  ('Federal Trade Commission', 0.04492184634610892),\n",
       "  ('American Co.', 0.04956855465867615),\n",
       "  ('Share system', 0.050176845175050076)],\n",
       " [('Circuit Court', 0.01742374084811625),\n",
       "  ('United States', 0.02267071043169685),\n",
       "  ('District Court', 0.031666316427729296),\n",
       "  ('Act', 0.0529583473272656),\n",
       "  ('Royalty Adjustment Act', 0.05657840852427443),\n",
       "  ('Appeals', 0.07804709122392306),\n",
       "  ('Alma', 0.07850982849254112),\n",
       "  ('Timken', 0.07922459050221946),\n",
       "  ('order', 0.09378978732971315),\n",
       "  ('John G. Buchanan', 0.10613339409974322)],\n",
       " [('Alaska Salmon', 0.04849560034402596),\n",
       "  ('Alaska Act', 0.05452155575732976),\n",
       "  ('Alaska Salmon Company', 0.05688928016998335),\n",
       "  ('Commission', 0.0633379877881847),\n",
       "  ('San Francisco', 0.06415682906890315),\n",
       "  ('Marshall P. Madison', 0.0856621220241686),\n",
       "  ('Alaska Salmon Industry', 0.08612770594828335),\n",
       "  ('Alaska Unemployment Compensation', 0.09322756041091372),\n",
       "  ('Compensation Commission', 0.09606702471643719),\n",
       "  ('Court', 0.0994218051246974)],\n",
       " [('New York', 0.020545164449148536),\n",
       "  ('New York law', 0.028601664092456347),\n",
       "  ('New York Court', 0.04286171232373811),\n",
       "  ('New York City', 0.04550379827011141),\n",
       "  ('Circuit Court', 0.05742355267875539),\n",
       "  ('Bondholders Protective Committee', 0.07814806819971218),\n",
       "  ('Co.', 0.08206165916555791),\n",
       "  ('interest', 0.08247851095027009),\n",
       "  ('Bankruptcy Act', 0.09050544907170444),\n",
       "  ('Kentucky', 0.10437980936044468)],\n",
       " [('Illinois Supreme Court', 0.015340062666912435),\n",
       "  ('United States', 0.06708930350438817),\n",
       "  ('United States Constitution', 0.07063146679650882),\n",
       "  ('Stephen A. Mitchell', 0.08565378872705247),\n",
       "  ('Illinois law', 0.10111241107935533),\n",
       "  ('York Supreme Court', 0.11018577648133908),\n",
       "  ('counsel', 0.12129273027608241),\n",
       "  ('Illinois State', 0.1220131429805334),\n",
       "  ('Carter', 0.12929519178671983),\n",
       "  ('guilty', 0.13381279088696582)],\n",
       " [('Circuit Court', 0.015265235143054055),\n",
       "  ('United States', 0.022327441408862798),\n",
       "  ('District Court', 0.03324804778141529),\n",
       "  ('Appeals', 0.07317375900794966),\n",
       "  ('jury', 0.08461805646828302),\n",
       "  ('Roland Rich Woolley', 0.08846051434577892),\n",
       "  ('Mr. Justice', 0.09931677387886678),\n",
       "  ('court', 0.11257251763380657),\n",
       "  ('woman', 0.11342637229426772),\n",
       "  ('Federal District Court', 0.11580653685018345)],\n",
       " [('Stanley M. Silverberg', 0.08083860315596124),\n",
       "  ('Bruno', 0.0933646888154084),\n",
       "  ('price', 0.1192156453797137),\n",
       "  ('Circuit Court', 0.14451241277458737),\n",
       "  ('Carrano', 0.15246824783858043),\n",
       "  ('ceiling', 0.15830628036185723),\n",
       "  ('paper', 0.15844417882242573),\n",
       "  ('ceiling price', 0.1815611528651723),\n",
       "  ('George R. Sommer', 0.20916924291387926),\n",
       "  ('footnote', 0.21592869347713334)],\n",
       " [('United States', 0.02558438650287564),\n",
       "  ('Nazi', 0.10648427985576636),\n",
       "  ('Nazi party', 0.10782635316004822),\n",
       "  ('Act', 0.12664932824531508),\n",
       "  ('Draeger', 0.12713792544170788),\n",
       "  ('Fiswick', 0.13878864681258646),\n",
       "  ('Vogel', 0.1413323297317814),\n",
       "  ('Court', 0.1428350549132354),\n",
       "  ('conspiracy', 0.14823647734708606),\n",
       "  ('petitioner', 0.14900870953602405)],\n",
       " [('Federal Communications Commission', 0.015183668459100236),\n",
       "  ('Federal Radio Commission', 0.028985761246463206),\n",
       "  ('Communications Act', 0.14029527008891376),\n",
       "  ('station', 0.16013650787763445),\n",
       "  ('fact', 0.18747926174328164),\n",
       "  ('case', 0.18750797420671253),\n",
       "  ('Columbia', 0.18922960305621117),\n",
       "  ('Court', 0.19107108618742494),\n",
       "  ('license', 0.21022463580727901),\n",
       "  ('U.S.C.A.', 0.2106854313205736)],\n",
       " [('United States', 0.01114278137287908),\n",
       "  ('Federal Works Administrator', 0.022954582239989526),\n",
       "  ('Public Buildings Act', 0.030858464177096215),\n",
       "  ('Federal Government', 0.03434107313841672),\n",
       "  ('United States District', 0.03568596433446664),\n",
       "  ('United States government', 0.03642926036716819),\n",
       "  ('United States post', 0.042895340889944185),\n",
       "  ('Federal Works Agency', 0.042936199350700296),\n",
       "  ('States District Court', 0.05506098712807915),\n",
       "  ('Cape Girardeau', 0.07001416835403675)],\n",
       " [('States Express Co.', 0.02814020379682051),\n",
       "  ('White Co.', 0.03168048804089722),\n",
       "  ('Adams Mfg', 0.032329732069008986),\n",
       "  ('state', 0.04155797289110747),\n",
       "  ('Mining Co.', 0.042678396337204175),\n",
       "  ('Coal Mining Co.', 0.044179953507262074),\n",
       "  ('Adams case', 0.04426590807735068),\n",
       "  ('State Tax Commission', 0.04589557284198873),\n",
       "  ('Indiana', 0.04673525941016849),\n",
       "  ('Trading Co.', 0.049232505515585695)],\n",
       " [('Secretary', 0.059021647984366515),\n",
       "  ('United States', 0.062075932282456246),\n",
       "  ('Marketing Agreement Act', 0.07564076209617442),\n",
       "  ('Agriculture', 0.0926275662304008),\n",
       "  ('Congress', 0.10117439230752064),\n",
       "  ('order', 0.11780367062258217),\n",
       "  ('Fund', 0.11867314623360353),\n",
       "  ('handler', 0.12726028096969),\n",
       "  ('Agricultural Marketing Agreement', 0.1341323423667955),\n",
       "  ('court', 0.1366735574503955)],\n",
       " [('Court', 0.11739843367314921),\n",
       "  ('Government', 0.12348199998662424),\n",
       "  ('tax', 0.13766854580626475),\n",
       "  ('claim', 0.14470060734660345),\n",
       "  ('recoupment', 0.14878277452601918),\n",
       "  ('refund', 0.15247108573319634),\n",
       "  ('Co.', 0.16170540186972227),\n",
       "  ('statute', 0.1670360249067608),\n",
       "  ('Arnold Raum', 0.16907309728183184),\n",
       "  ('Bull', 0.17522520171594375)],\n",
       " [('United States', 0.04953552678834047),\n",
       "  ('Samuels', 0.0771194678531886),\n",
       "  ('Fed', 0.09950414340945384),\n",
       "  ('States ex', 0.1061972459760568),\n",
       "  ('board', 0.10794917740518714),\n",
       "  ('Act', 0.10803351537092451),\n",
       "  ('v.', 0.12334021301368348),\n",
       "  ('District Court', 0.12594503400005783),\n",
       "  ('panel', 0.12679504905602618),\n",
       "  ('Irving S. Shapiro', 0.14423543043169643)],\n",
       " [('Irving S. Shapiro', 0.0807286089804433),\n",
       "  ('Horowitz', 0.10834148361505161),\n",
       "  ('board', 0.12222614957861695),\n",
       "  ('Samuels', 0.13191454914414588),\n",
       "  ('panel', 0.15529740481206825),\n",
       "  ('Court', 0.18734973816459025),\n",
       "  ('local board', 0.18854352097719632),\n",
       "  ('District Court', 0.18931134834476002),\n",
       "  ('classification', 0.19640599765376018),\n",
       "  ('case', 0.199507523169753)]]"
      ]
     },
     "execution_count": 47,
     "metadata": {},
     "output_type": "execute_result"
    }
   ],
   "source": [
    "key_terms_textrank_corpus"
   ]
  },
  {
   "cell_type": "code",
   "execution_count": 48,
   "metadata": {
    "colab": {},
    "colab_type": "code",
    "collapsed": true,
    "id": "c4EJrV3EgBcs",
    "jupyter": {
     "outputs_hidden": true
    }
   },
   "outputs": [
    {
     "data": {
      "text/plain": [
       "[('United States', 0.013154845765439517),\n",
       " ('Mann Act', 0.05148040959149859),\n",
       " ('Slave Traffic Act', 0.07313546995499376),\n",
       " ('Caminetti', 0.07925194451279186),\n",
       " ('Congress', 0.08002616916707488),\n",
       " ('Mr. Justice', 0.08175846469121331),\n",
       " ('Caminetti case', 0.09646113486901169),\n",
       " ('Cir', 0.0996889079810463),\n",
       " ('Court', 0.10790782584908168),\n",
       " ('purpose', 0.12892137615080948),\n",
       " ('Interstate Commerce Commission', 0.026838954477381077),\n",
       " ('Interstate Commerce Act', 0.04745347005938014),\n",
       " ('Champlin', 0.07097931896052062),\n",
       " ('Pipe Line Cases', 0.0737254136675763),\n",
       " ('District Court', 0.08233568972929342),\n",
       " ('Champlin Refining Company', 0.09036724824601859),\n",
       " ('Uncle Sam', 0.10496819842317137),\n",
       " ('common carrier', 0.10666587546030443),\n",
       " ('line', 0.11671977019899822),\n",
       " ('pipe', 0.1257009603399611),\n",
       " ('United States', 0.005430451306863621),\n",
       " ('indian title', 0.013906626654310701),\n",
       " ('original indian title', 0.014864654569450124),\n",
       " ('indian claim', 0.02876756897005112),\n",
       " ('indian land', 0.030672243043594588),\n",
       " ('indian tribe', 0.03068574893414863),\n",
       " ('indian right', 0.036699032112361446),\n",
       " ('Indians', 0.03706525968257991),\n",
       " ('Shoshone Indians', 0.04468249104320315),\n",
       " ('Congress', 0.05133653523343672),\n",
       " ('Government', 0.07772294922454275),\n",
       " ('A. Devitt Vaneck', 0.07972672653274986),\n",
       " ('respondent', 0.1573176044541057),\n",
       " ('Court', 0.15776652636938038),\n",
       " ('delay', 0.1597964105890964),\n",
       " ('contract', 0.1609150752441398),\n",
       " ('Crook', 0.17602235096184016),\n",
       " ('Rice', 0.17602235096184016),\n",
       " ('United States', 0.18229453947516022),\n",
       " ('work', 0.18803185136619888),\n",
       " ('California Supreme Court', 0.01890085790764054),\n",
       " ('United States', 0.04633964392576428),\n",
       " ('Commerce Clause', 0.053538515965004016),\n",
       " ('Export Clause', 0.05606165454483531),\n",
       " ('tax', 0.07142028238377197),\n",
       " ('Constitution', 0.08323314407834871),\n",
       " ('Co.', 0.0888678555608659),\n",
       " ('export', 0.09368242887042529),\n",
       " ('State Court', 0.09888574865447539),\n",
       " ('article', 0.09952920567197214),\n",
       " ('Electric Bond', 0.017673475312191364),\n",
       " ('Commission', 0.019437297291209833),\n",
       " ('Trade Commission Report', 0.03784725451021089),\n",
       " ('Share', 0.03794509317129663),\n",
       " ('Exchange Commission', 0.03981882372614489),\n",
       " ('Share Company', 0.04150359690958534),\n",
       " ('Share Co.', 0.0440672022967697),\n",
       " ('Federal Trade Commission', 0.04492184634610892),\n",
       " ('American Co.', 0.04956855465867615),\n",
       " ('Share system', 0.050176845175050076),\n",
       " ('Circuit Court', 0.01742374084811625),\n",
       " ('United States', 0.02267071043169685),\n",
       " ('District Court', 0.031666316427729296),\n",
       " ('Act', 0.0529583473272656),\n",
       " ('Royalty Adjustment Act', 0.05657840852427443),\n",
       " ('Appeals', 0.07804709122392306),\n",
       " ('Alma', 0.07850982849254112),\n",
       " ('Timken', 0.07922459050221946),\n",
       " ('order', 0.09378978732971315),\n",
       " ('John G. Buchanan', 0.10613339409974322),\n",
       " ('Alaska Salmon', 0.04849560034402596),\n",
       " ('Alaska Act', 0.05452155575732976),\n",
       " ('Alaska Salmon Company', 0.05688928016998335),\n",
       " ('Commission', 0.0633379877881847),\n",
       " ('San Francisco', 0.06415682906890315),\n",
       " ('Marshall P. Madison', 0.0856621220241686),\n",
       " ('Alaska Salmon Industry', 0.08612770594828335),\n",
       " ('Alaska Unemployment Compensation', 0.09322756041091372),\n",
       " ('Compensation Commission', 0.09606702471643719),\n",
       " ('Court', 0.0994218051246974),\n",
       " ('New York', 0.020545164449148536),\n",
       " ('New York law', 0.028601664092456347),\n",
       " ('New York Court', 0.04286171232373811),\n",
       " ('New York City', 0.04550379827011141),\n",
       " ('Circuit Court', 0.05742355267875539),\n",
       " ('Bondholders Protective Committee', 0.07814806819971218),\n",
       " ('Co.', 0.08206165916555791),\n",
       " ('interest', 0.08247851095027009),\n",
       " ('Bankruptcy Act', 0.09050544907170444),\n",
       " ('Kentucky', 0.10437980936044468),\n",
       " ('Illinois Supreme Court', 0.015340062666912435),\n",
       " ('United States', 0.06708930350438817),\n",
       " ('United States Constitution', 0.07063146679650882),\n",
       " ('Stephen A. Mitchell', 0.08565378872705247),\n",
       " ('Illinois law', 0.10111241107935533),\n",
       " ('York Supreme Court', 0.11018577648133908),\n",
       " ('counsel', 0.12129273027608241),\n",
       " ('Illinois State', 0.1220131429805334),\n",
       " ('Carter', 0.12929519178671983),\n",
       " ('guilty', 0.13381279088696582),\n",
       " ('Circuit Court', 0.015265235143054055),\n",
       " ('United States', 0.022327441408862798),\n",
       " ('District Court', 0.03324804778141529),\n",
       " ('Appeals', 0.07317375900794966),\n",
       " ('jury', 0.08461805646828302),\n",
       " ('Roland Rich Woolley', 0.08846051434577892),\n",
       " ('Mr. Justice', 0.09931677387886678),\n",
       " ('court', 0.11257251763380657),\n",
       " ('woman', 0.11342637229426772),\n",
       " ('Federal District Court', 0.11580653685018345),\n",
       " ('Stanley M. Silverberg', 0.08083860315596124),\n",
       " ('Bruno', 0.0933646888154084),\n",
       " ('price', 0.1192156453797137),\n",
       " ('Circuit Court', 0.14451241277458737),\n",
       " ('Carrano', 0.15246824783858043),\n",
       " ('ceiling', 0.15830628036185723),\n",
       " ('paper', 0.15844417882242573),\n",
       " ('ceiling price', 0.1815611528651723),\n",
       " ('George R. Sommer', 0.20916924291387926),\n",
       " ('footnote', 0.21592869347713334),\n",
       " ('United States', 0.02558438650287564),\n",
       " ('Nazi', 0.10648427985576636),\n",
       " ('Nazi party', 0.10782635316004822),\n",
       " ('Act', 0.12664932824531508),\n",
       " ('Draeger', 0.12713792544170788),\n",
       " ('Fiswick', 0.13878864681258646),\n",
       " ('Vogel', 0.1413323297317814),\n",
       " ('Court', 0.1428350549132354),\n",
       " ('conspiracy', 0.14823647734708606),\n",
       " ('petitioner', 0.14900870953602405),\n",
       " ('Federal Communications Commission', 0.015183668459100236),\n",
       " ('Federal Radio Commission', 0.028985761246463206),\n",
       " ('Communications Act', 0.14029527008891376),\n",
       " ('station', 0.16013650787763445),\n",
       " ('fact', 0.18747926174328164),\n",
       " ('case', 0.18750797420671253),\n",
       " ('Columbia', 0.18922960305621117),\n",
       " ('Court', 0.19107108618742494),\n",
       " ('license', 0.21022463580727901),\n",
       " ('U.S.C.A.', 0.2106854313205736),\n",
       " ('United States', 0.01114278137287908),\n",
       " ('Federal Works Administrator', 0.022954582239989526),\n",
       " ('Public Buildings Act', 0.030858464177096215),\n",
       " ('Federal Government', 0.03434107313841672),\n",
       " ('United States District', 0.03568596433446664),\n",
       " ('United States government', 0.03642926036716819),\n",
       " ('United States post', 0.042895340889944185),\n",
       " ('Federal Works Agency', 0.042936199350700296),\n",
       " ('States District Court', 0.05506098712807915),\n",
       " ('Cape Girardeau', 0.07001416835403675),\n",
       " ('States Express Co.', 0.02814020379682051),\n",
       " ('White Co.', 0.03168048804089722),\n",
       " ('Adams Mfg', 0.032329732069008986),\n",
       " ('state', 0.04155797289110747),\n",
       " ('Mining Co.', 0.042678396337204175),\n",
       " ('Coal Mining Co.', 0.044179953507262074),\n",
       " ('Adams case', 0.04426590807735068),\n",
       " ('State Tax Commission', 0.04589557284198873),\n",
       " ('Indiana', 0.04673525941016849),\n",
       " ('Trading Co.', 0.049232505515585695),\n",
       " ('Secretary', 0.059021647984366515),\n",
       " ('United States', 0.062075932282456246),\n",
       " ('Marketing Agreement Act', 0.07564076209617442),\n",
       " ('Agriculture', 0.0926275662304008),\n",
       " ('Congress', 0.10117439230752064),\n",
       " ('order', 0.11780367062258217),\n",
       " ('Fund', 0.11867314623360353),\n",
       " ('handler', 0.12726028096969),\n",
       " ('Agricultural Marketing Agreement', 0.1341323423667955),\n",
       " ('court', 0.1366735574503955),\n",
       " ('Court', 0.11739843367314921),\n",
       " ('Government', 0.12348199998662424),\n",
       " ('tax', 0.13766854580626475),\n",
       " ('claim', 0.14470060734660345),\n",
       " ('recoupment', 0.14878277452601918),\n",
       " ('refund', 0.15247108573319634),\n",
       " ('Co.', 0.16170540186972227),\n",
       " ('statute', 0.1670360249067608),\n",
       " ('Arnold Raum', 0.16907309728183184),\n",
       " ('Bull', 0.17522520171594375),\n",
       " ('United States', 0.04953552678834047),\n",
       " ('Samuels', 0.0771194678531886),\n",
       " ('Fed', 0.09950414340945384),\n",
       " ('States ex', 0.1061972459760568),\n",
       " ('board', 0.10794917740518714),\n",
       " ('Act', 0.10803351537092451),\n",
       " ('v.', 0.12334021301368348),\n",
       " ('District Court', 0.12594503400005783),\n",
       " ('panel', 0.12679504905602618),\n",
       " ('Irving S. Shapiro', 0.14423543043169643),\n",
       " ('Irving S. Shapiro', 0.0807286089804433),\n",
       " ('Horowitz', 0.10834148361505161),\n",
       " ('board', 0.12222614957861695),\n",
       " ('Samuels', 0.13191454914414588),\n",
       " ('panel', 0.15529740481206825),\n",
       " ('Court', 0.18734973816459025),\n",
       " ('local board', 0.18854352097719632),\n",
       " ('District Court', 0.18931134834476002),\n",
       " ('classification', 0.19640599765376018),\n",
       " ('case', 0.199507523169753)]"
      ]
     },
     "execution_count": 48,
     "metadata": {},
     "output_type": "execute_result"
    }
   ],
   "source": [
    "flat_list = [item for sublist in key_terms_textrank_corpus for item in sublist]\n",
    "flat_list"
   ]
  },
  {
   "cell_type": "code",
   "execution_count": 56,
   "metadata": {
    "collapsed": true,
    "jupyter": {
     "outputs_hidden": true
    }
   },
   "outputs": [
    {
     "data": {
      "text/plain": [
       "['United States',\n",
       " 'Mann Act',\n",
       " 'Slave Traffic Act',\n",
       " 'Caminetti',\n",
       " 'Congress',\n",
       " 'Mr. Justice',\n",
       " 'Caminetti case',\n",
       " 'Cir',\n",
       " 'Court',\n",
       " 'purpose',\n",
       " 'Interstate Commerce Commission',\n",
       " 'Interstate Commerce Act',\n",
       " 'Champlin',\n",
       " 'Pipe Line Cases',\n",
       " 'District Court',\n",
       " 'Champlin Refining Company',\n",
       " 'Uncle Sam',\n",
       " 'common carrier',\n",
       " 'line',\n",
       " 'pipe',\n",
       " 'United States',\n",
       " 'indian title',\n",
       " 'original indian title',\n",
       " 'indian claim',\n",
       " 'indian land',\n",
       " 'indian tribe',\n",
       " 'indian right',\n",
       " 'Indians',\n",
       " 'Shoshone Indians',\n",
       " 'Congress',\n",
       " 'Government',\n",
       " 'A. Devitt Vaneck',\n",
       " 'respondent',\n",
       " 'Court',\n",
       " 'delay',\n",
       " 'contract',\n",
       " 'Crook',\n",
       " 'Rice',\n",
       " 'United States',\n",
       " 'work',\n",
       " 'California Supreme Court',\n",
       " 'United States',\n",
       " 'Commerce Clause',\n",
       " 'Export Clause',\n",
       " 'tax',\n",
       " 'Constitution',\n",
       " 'Co.',\n",
       " 'export',\n",
       " 'State Court',\n",
       " 'article',\n",
       " 'Electric Bond',\n",
       " 'Commission',\n",
       " 'Trade Commission Report',\n",
       " 'Share',\n",
       " 'Exchange Commission',\n",
       " 'Share Company',\n",
       " 'Share Co.',\n",
       " 'Federal Trade Commission',\n",
       " 'American Co.',\n",
       " 'Share system',\n",
       " 'Circuit Court',\n",
       " 'United States',\n",
       " 'District Court',\n",
       " 'Act',\n",
       " 'Royalty Adjustment Act',\n",
       " 'Appeals',\n",
       " 'Alma',\n",
       " 'Timken',\n",
       " 'order',\n",
       " 'John G. Buchanan',\n",
       " 'Alaska Salmon',\n",
       " 'Alaska Act',\n",
       " 'Alaska Salmon Company',\n",
       " 'Commission',\n",
       " 'San Francisco',\n",
       " 'Marshall P. Madison',\n",
       " 'Alaska Salmon Industry',\n",
       " 'Alaska Unemployment Compensation',\n",
       " 'Compensation Commission',\n",
       " 'Court',\n",
       " 'New York',\n",
       " 'New York law',\n",
       " 'New York Court',\n",
       " 'New York City',\n",
       " 'Circuit Court',\n",
       " 'Bondholders Protective Committee',\n",
       " 'Co.',\n",
       " 'interest',\n",
       " 'Bankruptcy Act',\n",
       " 'Kentucky',\n",
       " 'Illinois Supreme Court',\n",
       " 'United States',\n",
       " 'United States Constitution',\n",
       " 'Stephen A. Mitchell',\n",
       " 'Illinois law',\n",
       " 'York Supreme Court',\n",
       " 'counsel',\n",
       " 'Illinois State',\n",
       " 'Carter',\n",
       " 'guilty',\n",
       " 'Circuit Court',\n",
       " 'United States',\n",
       " 'District Court',\n",
       " 'Appeals',\n",
       " 'jury',\n",
       " 'Roland Rich Woolley',\n",
       " 'Mr. Justice',\n",
       " 'court',\n",
       " 'woman',\n",
       " 'Federal District Court',\n",
       " 'Stanley M. Silverberg',\n",
       " 'Bruno',\n",
       " 'price',\n",
       " 'Circuit Court',\n",
       " 'Carrano',\n",
       " 'ceiling',\n",
       " 'paper',\n",
       " 'ceiling price',\n",
       " 'George R. Sommer',\n",
       " 'footnote',\n",
       " 'United States',\n",
       " 'Nazi',\n",
       " 'Nazi party',\n",
       " 'Act',\n",
       " 'Draeger',\n",
       " 'Fiswick',\n",
       " 'Vogel',\n",
       " 'Court',\n",
       " 'conspiracy',\n",
       " 'petitioner',\n",
       " 'Federal Communications Commission',\n",
       " 'Federal Radio Commission',\n",
       " 'Communications Act',\n",
       " 'station',\n",
       " 'fact',\n",
       " 'case',\n",
       " 'Columbia',\n",
       " 'Court',\n",
       " 'license',\n",
       " 'U.S.C.A.',\n",
       " 'United States',\n",
       " 'Federal Works Administrator',\n",
       " 'Public Buildings Act',\n",
       " 'Federal Government',\n",
       " 'United States District',\n",
       " 'United States government',\n",
       " 'United States post',\n",
       " 'Federal Works Agency',\n",
       " 'States District Court',\n",
       " 'Cape Girardeau',\n",
       " 'States Express Co.',\n",
       " 'White Co.',\n",
       " 'Adams Mfg',\n",
       " 'state',\n",
       " 'Mining Co.',\n",
       " 'Coal Mining Co.',\n",
       " 'Adams case',\n",
       " 'State Tax Commission',\n",
       " 'Indiana',\n",
       " 'Trading Co.',\n",
       " 'Secretary',\n",
       " 'United States',\n",
       " 'Marketing Agreement Act',\n",
       " 'Agriculture',\n",
       " 'Congress',\n",
       " 'order',\n",
       " 'Fund',\n",
       " 'handler',\n",
       " 'Agricultural Marketing Agreement',\n",
       " 'court',\n",
       " 'Court',\n",
       " 'Government',\n",
       " 'tax',\n",
       " 'claim',\n",
       " 'recoupment',\n",
       " 'refund',\n",
       " 'Co.',\n",
       " 'statute',\n",
       " 'Arnold Raum',\n",
       " 'Bull',\n",
       " 'United States',\n",
       " 'Samuels',\n",
       " 'Fed',\n",
       " 'States ex',\n",
       " 'board',\n",
       " 'Act',\n",
       " 'v.',\n",
       " 'District Court',\n",
       " 'panel',\n",
       " 'Irving S. Shapiro',\n",
       " 'Irving S. Shapiro',\n",
       " 'Horowitz',\n",
       " 'board',\n",
       " 'Samuels',\n",
       " 'panel',\n",
       " 'Court',\n",
       " 'local board',\n",
       " 'District Court',\n",
       " 'classification',\n",
       " 'case']"
      ]
     },
     "execution_count": 56,
     "metadata": {},
     "output_type": "execute_result"
    }
   ],
   "source": [
    "# we now have a flat list of tuples, but let's shift to a flat list of just the keys in order to \n",
    "# count the most common keys\n",
    "flat_list_keys = [k for k,v in flat_list]\n",
    "flat_list_keys"
   ]
  },
  {
   "cell_type": "code",
   "execution_count": 57,
   "metadata": {
    "colab": {},
    "colab_type": "code",
    "id": "_3HHZLIXgawc"
   },
   "outputs": [
    {
     "data": {
      "text/plain": [
       "[('United States', 11),\n",
       " ('Court', 7),\n",
       " ('District Court', 5),\n",
       " ('Circuit Court', 4),\n",
       " ('Congress', 3),\n",
       " ('Co.', 3),\n",
       " ('Act', 3),\n",
       " ('Mr. Justice', 2),\n",
       " ('Government', 2),\n",
       " ('tax', 2),\n",
       " ('Commission', 2),\n",
       " ('Appeals', 2),\n",
       " ('order', 2),\n",
       " ('court', 2),\n",
       " ('case', 2),\n",
       " ('Samuels', 2),\n",
       " ('board', 2),\n",
       " ('panel', 2),\n",
       " ('Irving S. Shapiro', 2),\n",
       " ('Mann Act', 1)]"
      ]
     },
     "execution_count": 57,
     "metadata": {},
     "output_type": "execute_result"
    }
   ],
   "source": [
    "keyword_counter = Counter(flat_list_keys)\n",
    "keyword_counter.most_common(20)"
   ]
  },
  {
   "cell_type": "markdown",
   "metadata": {
    "colab_type": "text",
    "id": "P296E9nxhnQZ"
   },
   "source": [
    "### Activity:\n",
    "Let's combine a few different pieces. Try filtering the corpus on some metadata to construct a sub-corpus. Then use one of the textacy keyword algorithms to determine the most common keywords across your subcorpus. "
   ]
  },
  {
   "cell_type": "code",
   "execution_count": null,
   "metadata": {
    "colab": {},
    "colab_type": "code",
    "id": "q_ZuOB3_h4Wn"
   },
   "outputs": [],
   "source": []
  },
  {
   "cell_type": "markdown",
   "metadata": {
    "colab_type": "text",
    "id": "nuk7s1yZlvVi"
   },
   "source": [
    "## Keyword in context\n",
    "\n",
    "One thing that researchers often find helpful in working with text is simply seeing keywords in context. "
   ]
  },
  {
   "cell_type": "code",
   "execution_count": 50,
   "metadata": {
    "colab": {},
    "colab_type": "code",
    "id": "FxgjXFnRla1-"
   },
   "outputs": [
    {
     "name": "stdout",
     "output_type": "stream",
     "text": [
      "authority between the courts and the Secretary of  Agriculture . These become relevant to the enforcement of Milk\n",
      "at the validity of the demand by the Secretary of  Agriculture  may be contested in an enforcement proceeding und\n",
      "ay resist a claim against him by the Secretary of  Agriculture , made according to the procedure defined in the A\n",
      " also defined in the Act, before the Secretary of  Agriculture . The answer is found on a fair reading of the Agr\n",
      "es a handler to challenge before the Secretary of  Agriculture  his order 'or any obligation imposed in connectio\n",
      "challenged, the determination of the Secretary of  Agriculture , after hearing, is final but only 'if in accordan\n",
      "hich gives the handler access to the Secretary of  Agriculture  for administrative relief and opportunity for jud\n",
      "r, or delay the United States or the Secretary of  Agriculture  from obtaining relief' under 8a(6). It is only wh\n",
      "oceedings were instituted before the Secretary of  Agriculture  and, apparently, are awaiting his action. Presuma\n",
      " awaiting his action. Presumably the Secretary of  Agriculture  will give the respondents the rights to which Con\n",
      "rst instance must be sought from the Secretary of  Agriculture . It is on the basis of his ruling, and of the elu\n",
      " petition by the Ruzickas before the Secretary of  Agriculture , was made by the respondents. With the court's le\n",
      "may file a written petition with the Secretary of  Agriculture , stating that any such order or any provision of \n",
      "ordance with regulations made by the Secretary of  Agriculture , with the approval of the President. After such h\n",
      "r, or delay the United States or the Secretary of  Agriculture  from obtaining relief pursuant to section 8a(6) o\n"
     ]
    }
   ],
   "source": [
    "for doc in corpus[:20]:\n",
    "  textacy.text_utils.KWIC(doc.text, \"agriculture\")"
   ]
  },
  {
   "cell_type": "markdown",
   "metadata": {
    "colab_type": "text",
    "id": "SuSHX_2OVyUb"
   },
   "source": [
    "## Vectorization\n",
    "\n",
    "Let's continue with corpus level analysis by taking advantage of textacy's vectorizer class, which wraps functionality from scikit-learn. We could just work directly in scikit-learn, but it can be nice for mental overhead to learn one library and be able to do a great deal with it. "
   ]
  },
  {
   "cell_type": "markdown",
   "metadata": {
    "colab_type": "text",
    "id": "8pFXy9VK7DXa"
   },
   "source": [
    "We'll create a vectorizer, sticking with the normal term frequency defaults but discarding words that appear in less than 3 documents or more than 95% of documents. We'll also limit our features to the top 500 words according to document frequency.This means our feature set, or columns, will have a higher degree of representation across the corpus. We could vectorize according to tf-idf as well."
   ]
  },
  {
   "cell_type": "code",
   "execution_count": 51,
   "metadata": {
    "colab": {},
    "colab_type": "code",
    "id": "7LfE48GbVyUb"
   },
   "outputs": [
    {
     "data": {
      "text/plain": [
       "<99x500 sparse matrix of type '<class 'numpy.int32'>'\n",
       "\twith 24971 stored elements in Compressed Sparse Row format>"
      ]
     },
     "execution_count": 51,
     "metadata": {},
     "output_type": "execute_result"
    }
   ],
   "source": [
    "import textacy.vsm\n",
    "\n",
    "vectorizer = textacy.vsm.Vectorizer(min_df=3, max_df=.95, max_n_terms=500)\n",
    "tokenized_corpus = (doc._.to_terms_list(ngrams=1, as_strings=True,\n",
    "                                        filter_punct=True, \n",
    "                                        filter_stops=True, \n",
    "                                        filter_nums=True \n",
    "                                        ) for doc in corpus)\n",
    "dtm = vectorizer.fit_transform(tokenized_corpus)\n",
    "dtm"
   ]
  },
  {
   "cell_type": "markdown",
   "metadata": {
    "colab_type": "text",
    "id": "P5lQ10twVyUf"
   },
   "source": [
    "We have now have a matrix representation of our corpus, where rows are documents, and columns (or features) are words from the corpus. The value at any given point is the number of times that the word appears in that document. Once we have a document-term matrix, we could do a few different things with it, just within textacy, though we could take it and pass it into different algorithms within scikit-learn or other libraries. "
   ]
  },
  {
   "cell_type": "code",
   "execution_count": 52,
   "metadata": {
    "colab": {},
    "colab_type": "code",
    "id": "37KLE01TVyUg"
   },
   "outputs": [
    {
     "data": {
      "text/plain": [
       "['$',\n",
       " '1',\n",
       " '10',\n",
       " '11',\n",
       " '12',\n",
       " '13',\n",
       " '14',\n",
       " '15',\n",
       " '16',\n",
       " '18',\n",
       " '2',\n",
       " '28',\n",
       " '3',\n",
       " '4',\n",
       " '49',\n",
       " '5',\n",
       " '50',\n",
       " '6',\n",
       " '7',\n",
       " '8']"
      ]
     },
     "execution_count": 52,
     "metadata": {},
     "output_type": "execute_result"
    }
   ],
   "source": [
    "# Let's first look at some of the terms\n",
    "vectorizer.terms_list[:20]"
   ]
  },
  {
   "cell_type": "markdown",
   "metadata": {
    "colab_type": "text",
    "id": "8_I6y0JIVyUh"
   },
   "source": [
    "We can see that we are still getting a number of terms which ought to be filtered out, such as numbers and punctuation. We would want to clean this up more before vectorizing in the future. "
   ]
  },
  {
   "cell_type": "markdown",
   "metadata": {
    "colab_type": "text",
    "id": "c7c7uSmdnLOz"
   },
   "source": [
    "## Topic Modeling\n",
    "\n",
    "Let's look quickly at one examples of what we can do with a vectorized corpus. Topic modeling is very popular for semantic exploration of texts, and there are numerous implementations. Textacy uses implementations from scikit-learn. \n",
    "\n",
    "Our corpus is rather small for topic modeling, but just to see how it's done here, we'll go ahead."
   ]
  },
  {
   "cell_type": "code",
   "execution_count": 53,
   "metadata": {
    "colab": {},
    "colab_type": "code",
    "id": "mF2jrntfmz8I"
   },
   "outputs": [],
   "source": [
    "import textacy.tm"
   ]
  },
  {
   "cell_type": "code",
   "execution_count": 54,
   "metadata": {
    "colab": {},
    "colab_type": "code",
    "id": "zFusfd9sm1dv"
   },
   "outputs": [
    {
     "data": {
      "text/plain": [
       "array([[8.54527031e-01, 9.93312834e-05, 9.93343763e-05, 9.93325316e-05,\n",
       "        1.43390413e-01, 1.38724040e-03, 9.93247920e-05, 9.93296181e-05,\n",
       "        9.93286754e-05, 9.93339376e-05],\n",
       "       [1.18233576e-04, 1.18232186e-04, 1.18227867e-04, 1.18228420e-04,\n",
       "        1.18239670e-04, 1.18235261e-04, 1.18224544e-04, 1.18234067e-04,\n",
       "        1.18229806e-04, 9.98935915e-01],\n",
       "       [9.61105145e-01, 4.68476090e-05, 4.68482572e-05, 4.68494069e-05,\n",
       "        4.68479850e-05, 4.68506001e-05, 3.85200621e-02, 4.68498615e-05,\n",
       "        4.68496757e-05, 4.68493313e-05],\n",
       "       [3.62427237e-04, 4.25212257e-01, 3.62427860e-04, 3.62399819e-04,\n",
       "        3.62407394e-04, 5.71888450e-01, 3.62385025e-04, 3.62423311e-04,\n",
       "        3.62408833e-04, 3.62413303e-04],\n",
       "       [1.13773022e-01, 6.52063138e-05, 2.42076658e-02, 6.52084422e-05,\n",
       "        7.89396867e-01, 6.86494683e-05, 6.52029686e-05, 7.22277627e-02,\n",
       "        6.52071092e-05, 6.52083364e-05],\n",
       "       [3.63996174e-05, 3.63992308e-05, 3.64005600e-05, 3.63998187e-05,\n",
       "        3.64001848e-05, 3.63994300e-05, 3.63960645e-05, 3.63993089e-05,\n",
       "        3.64006839e-05, 9.99672405e-01],\n",
       "       [1.10284916e-04, 1.10278698e-04, 1.10286296e-04, 1.10281765e-04,\n",
       "        1.10273942e-04, 4.52546897e-01, 1.10273948e-04, 5.46570861e-01,\n",
       "        1.10280074e-04, 1.10282576e-04],\n",
       "       [1.04633642e-04, 7.67171491e-01, 1.04633253e-04, 1.04634774e-04,\n",
       "        1.04630716e-04, 1.37602877e-01, 1.04620247e-04, 1.04633148e-04,\n",
       "        1.04632731e-04, 9.44932140e-02],\n",
       "       [7.31721038e-05, 7.31698826e-05, 7.31704398e-05, 8.09869817e-01,\n",
       "        7.31721462e-05, 7.31722964e-05, 7.31659203e-05, 2.86820088e-02,\n",
       "        1.60935979e-01, 7.31729094e-05],\n",
       "       [1.05070171e-04, 1.05063430e-04, 3.46280579e-01, 3.99275345e-01,\n",
       "        1.05066731e-04, 1.05071724e-04, 1.05057496e-04, 1.05067125e-04,\n",
       "        2.53708614e-01, 1.05065406e-04],\n",
       "       [7.15805570e-04, 2.98228059e-02, 2.30212564e-01, 6.31884710e-01,\n",
       "        2.26785700e-02, 8.44197004e-02, 6.64562142e-05, 6.64644759e-05,\n",
       "        6.64590065e-05, 6.64640079e-05],\n",
       "       [1.29395595e-01, 4.40630808e-04, 4.40656241e-04, 1.64095877e-01,\n",
       "        4.40687187e-04, 4.40670508e-04, 4.40625350e-04, 7.03423977e-01,\n",
       "        4.40624104e-04, 4.40656350e-04],\n",
       "       [6.41942335e-01, 1.25344439e-04, 3.08047190e-01, 1.25347758e-04,\n",
       "        1.25343577e-04, 4.91330742e-02, 1.25330918e-04, 1.25343905e-04,\n",
       "        1.25340721e-04, 1.25349564e-04],\n",
       "       [2.59140236e-04, 2.59137683e-04, 2.62637861e-01, 6.26405194e-02,\n",
       "        2.59126358e-04, 2.59135316e-04, 2.59114732e-04, 2.59140085e-04,\n",
       "        2.59134039e-04, 6.72907691e-01],\n",
       "       [4.91406987e-01, 6.42805219e-05, 6.42844051e-05, 1.13122064e-02,\n",
       "        6.42866374e-05, 2.46177525e-01, 6.42822601e-05, 6.42857220e-05,\n",
       "        6.42861078e-05, 2.50717577e-01],\n",
       "       [3.35871833e-05, 3.35866560e-05, 3.35866451e-05, 3.35872271e-05,\n",
       "        9.99697718e-01, 3.35874037e-05, 3.35848493e-05, 3.35871984e-05,\n",
       "        3.35871496e-05, 3.35879170e-05],\n",
       "       [1.35536684e-04, 1.35531940e-04, 1.35540825e-04, 1.35539855e-04,\n",
       "        1.35531209e-04, 7.29812777e-01, 1.35529837e-04, 1.35541548e-04,\n",
       "        2.12093023e-02, 2.48029169e-01],\n",
       "       [1.54382544e-01, 2.16504698e-04, 3.16498294e-01, 3.35810150e-02,\n",
       "        2.95659653e-01, 1.26628319e-01, 2.16484874e-04, 2.16510518e-04,\n",
       "        7.23841734e-02, 2.16501884e-04],\n",
       "       [7.19443822e-02, 1.13926236e-04, 8.11043868e-02, 1.13929727e-04,\n",
       "        5.96407207e-02, 2.98878429e-02, 1.13915081e-04, 2.62422632e-01,\n",
       "        1.13924079e-04, 4.94544341e-01],\n",
       "       [2.90769084e-04, 2.90768592e-04, 3.65839478e-01, 2.90781359e-04,\n",
       "        9.98115526e-02, 2.90767625e-04, 2.90744305e-04, 1.80901676e-02,\n",
       "        2.90765520e-04, 5.14514205e-01],\n",
       "       [1.13278372e-04, 6.63593753e-01, 3.75631166e-02, 2.98050189e-01,\n",
       "        1.13277471e-04, 1.13278017e-04, 1.13268571e-04, 1.13278937e-04,\n",
       "        1.13278167e-04, 1.13282066e-04],\n",
       "       [5.19350969e-05, 5.19361586e-05, 5.19366506e-05, 5.19366291e-05,\n",
       "        5.19372901e-05, 4.05589242e-01, 5.19289576e-05, 5.19347014e-05,\n",
       "        5.19319237e-05, 5.93995280e-01],\n",
       "       [5.59624842e-02, 6.79037985e-05, 6.79031367e-05, 6.79073678e-05,\n",
       "        6.79070807e-05, 3.55316859e-01, 6.78999666e-05, 6.79058174e-05,\n",
       "        5.88245324e-01, 6.79053387e-05],\n",
       "       [7.55805581e-01, 9.01962536e-05, 1.05652030e-01, 9.01977423e-05,\n",
       "        1.22044900e-01, 1.59563219e-02, 9.01865533e-05, 9.01945861e-05,\n",
       "        9.01965329e-05, 9.01968225e-05],\n",
       "       [1.55078499e-04, 1.55075684e-04, 1.55076951e-04, 1.55078225e-04,\n",
       "        1.55083002e-04, 1.55083488e-04, 1.55064916e-04, 9.98604296e-01,\n",
       "        1.55085329e-04, 1.55078253e-04],\n",
       "       [9.03623690e-05, 9.03553766e-05, 9.03568850e-05, 9.03582865e-05,\n",
       "        9.03559575e-05, 9.03580100e-05, 9.03504792e-05, 9.99186792e-01,\n",
       "        9.03548546e-05, 9.03562687e-05],\n",
       "       [1.96900294e-04, 1.96891653e-04, 1.96923748e-04, 1.96897040e-04,\n",
       "        9.67623815e-01, 1.96894429e-04, 1.96875743e-04, 2.41007741e-02,\n",
       "        6.89711435e-03, 1.96913852e-04],\n",
       "       [1.33900107e-04, 1.33909750e-04, 1.33901842e-04, 1.33901231e-04,\n",
       "        1.33898967e-04, 1.33901773e-04, 1.33889753e-04, 1.33906483e-04,\n",
       "        1.33896836e-04, 9.98794893e-01],\n",
       "       [1.46877587e-04, 1.46885377e-04, 1.54271045e-02, 1.46878471e-04,\n",
       "        1.46880682e-04, 1.46877145e-04, 1.46862389e-04, 9.49537813e-01,\n",
       "        1.46879621e-04, 3.40069410e-02],\n",
       "       [1.46672401e-04, 2.43214440e-02, 1.46671475e-04, 2.08703286e-01,\n",
       "        1.46666946e-04, 1.46669190e-04, 1.46653995e-04, 1.46668240e-04,\n",
       "        1.46670008e-04, 7.65948598e-01],\n",
       "       [2.33161069e-04, 2.33162226e-04, 8.18042187e-01, 1.80092562e-01,\n",
       "        2.33150080e-04, 2.33153897e-04, 2.33142535e-04, 2.33166851e-04,\n",
       "        2.33151560e-04, 2.33162499e-04],\n",
       "       [6.93671044e-05, 6.93654216e-05, 6.93680130e-05, 9.30140551e-01,\n",
       "        3.72760263e-03, 6.56462845e-02, 6.93604074e-05, 6.93673254e-05,\n",
       "        6.93671277e-05, 6.93664116e-05],\n",
       "       [6.75894953e-03, 9.10148628e-05, 9.92512931e-01, 9.10156985e-05,\n",
       "        9.10143647e-05, 9.10198784e-05, 9.10056604e-05, 9.10167634e-05,\n",
       "        9.10152056e-05, 9.10167849e-05],\n",
       "       [6.23992371e-05, 6.23974927e-05, 9.99438421e-01, 6.23995053e-05,\n",
       "        6.23959853e-05, 6.23989855e-05, 6.23960216e-05, 6.23960018e-05,\n",
       "        6.23970519e-05, 6.23985587e-05],\n",
       "       [1.33192633e-04, 5.34265952e-01, 8.40120154e-02, 1.03376177e-01,\n",
       "        1.33181858e-04, 1.33195901e-04, 1.33177373e-04, 1.33196643e-04,\n",
       "        9.66429899e-03, 2.68015612e-01],\n",
       "       [8.04029366e-03, 1.62638196e-04, 1.62646754e-04, 1.82191113e-01,\n",
       "        1.62637133e-04, 1.62648137e-04, 1.62634588e-04, 1.62650905e-04,\n",
       "        1.62645802e-04, 8.08630092e-01],\n",
       "       [2.07179944e-03, 4.07867855e-01, 3.15237150e-02, 2.21797736e-04,\n",
       "        2.21804733e-04, 2.16857903e-01, 2.21769652e-04, 2.21793306e-04,\n",
       "        2.21778942e-04, 3.40569783e-01],\n",
       "       [5.56595873e-05, 5.56580719e-05, 5.56605894e-05, 5.56618473e-05,\n",
       "        5.56601920e-05, 5.56603602e-05, 5.56543796e-05, 5.56658399e-05,\n",
       "        9.99499059e-01, 5.56604044e-05],\n",
       "       [5.95053265e-05, 5.95018202e-05, 5.95039200e-05, 5.53278660e-01,\n",
       "        1.11757125e-01, 5.95049060e-05, 5.94982245e-05, 5.95053517e-05,\n",
       "        2.60939672e-01, 7.36675233e-02],\n",
       "       [1.38481189e-01, 2.35918518e-04, 2.35912045e-04, 2.35911134e-04,\n",
       "        2.35904922e-04, 8.06371631e-01, 2.35910477e-04, 5.34957941e-02,\n",
       "        2.35914502e-04, 2.35914658e-04],\n",
       "       [7.02818679e-01, 1.43501432e-04, 1.43502371e-04, 1.43506391e-04,\n",
       "        1.43502868e-04, 1.43511001e-04, 1.43514167e-04, 6.49969876e-02,\n",
       "        1.43505591e-04, 2.31179790e-01],\n",
       "       [1.29359183e-01, 1.48622808e-04, 1.48628628e-04, 1.48629434e-04,\n",
       "        1.48624379e-04, 6.12204560e-01, 1.48634315e-04, 1.99198269e-01,\n",
       "        5.83462228e-02, 1.48626097e-04],\n",
       "       [4.92497339e-05, 4.92479737e-05, 3.98426990e-02, 4.92513851e-05,\n",
       "        4.92473046e-05, 4.92504670e-05, 4.92464466e-05, 7.22078842e-02,\n",
       "        2.33543639e-02, 8.64299560e-01],\n",
       "       [1.53352157e-02, 1.10887670e-04, 1.10892442e-04, 1.10892894e-04,\n",
       "        1.10894552e-04, 1.10896436e-04, 1.10890817e-04, 9.83777645e-01,\n",
       "        1.10891098e-04, 1.10893613e-04],\n",
       "       [3.90726525e-04, 2.42334019e-01, 7.54540186e-01, 3.90739515e-04,\n",
       "        3.90728794e-04, 3.90713485e-04, 3.90681176e-04, 3.90738012e-04,\n",
       "        3.90735659e-04, 3.90731852e-04],\n",
       "       [9.31836569e-02, 1.29731634e-04, 1.29735563e-04, 2.45690287e-01,\n",
       "        1.29729850e-04, 5.71726928e-01, 1.29725897e-04, 1.29735625e-04,\n",
       "        8.86207363e-02, 1.29733264e-04],\n",
       "       [9.34804357e-04, 9.34770117e-04, 6.45522671e-01, 3.13291282e-01,\n",
       "        9.34781830e-04, 9.34851188e-04, 9.34720400e-04, 9.34804407e-04,\n",
       "        3.46425356e-02, 9.34779150e-04],\n",
       "       [1.46479688e-02, 1.99622792e-05, 1.99616661e-05, 1.99616982e-05,\n",
       "        9.67054690e-01, 5.82103247e-03, 1.99601401e-05, 1.99615856e-05,\n",
       "        1.99609239e-05, 1.23565406e-02],\n",
       "       [2.20373454e-05, 1.54252965e-02, 7.83215860e-03, 2.20374140e-05,\n",
       "        2.20374707e-05, 1.72575472e-01, 2.20345812e-05, 2.20374916e-05,\n",
       "        2.20368712e-05, 8.04034851e-01],\n",
       "       [5.11653645e-05, 5.11641144e-05, 5.11655557e-05, 4.83403915e-02,\n",
       "        5.11636557e-05, 2.23247831e-01, 5.11593825e-05, 5.11656464e-05,\n",
       "        5.11642679e-05, 7.28053629e-01],\n",
       "       [6.66854784e-04, 3.53450016e-01, 4.14476743e-01, 6.66855240e-04,\n",
       "        6.66815636e-04, 1.58341372e-01, 6.66832302e-04, 6.66874343e-04,\n",
       "        6.66817769e-04, 6.97308199e-02],\n",
       "       [7.92316417e-01, 1.65614533e-04, 5.38555058e-02, 1.65612461e-04,\n",
       "        1.65615239e-04, 1.52668832e-01, 1.65587067e-04, 1.65605775e-04,\n",
       "        1.65605313e-04, 1.65603975e-04],\n",
       "       [1.33990095e-01, 1.16166641e-04, 1.16169622e-04, 1.16168575e-04,\n",
       "        1.16166747e-04, 1.16172789e-04, 8.65080555e-01, 1.16167518e-04,\n",
       "        1.16167791e-04, 1.16169806e-04],\n",
       "       [3.83533035e-05, 3.83513581e-05, 3.83541592e-05, 4.76959309e-03,\n",
       "        3.83537607e-05, 3.83538917e-05, 3.83504758e-05, 9.94923583e-01,\n",
       "        3.83537356e-05, 3.83528655e-05],\n",
       "       [1.00146174e-01, 1.58505849e-04, 8.98585718e-01, 1.58519294e-04,\n",
       "        1.58506098e-04, 1.58520026e-04, 1.58506675e-04, 1.58523552e-04,\n",
       "        1.58517723e-04, 1.58508695e-04],\n",
       "       [7.44238071e-05, 8.78982179e-02, 6.55772922e-02, 8.46003532e-01,\n",
       "        7.44175888e-05, 7.44246934e-05, 7.44205836e-05, 7.44237352e-05,\n",
       "        7.44216088e-05, 7.44255786e-05],\n",
       "       [4.18339119e-01, 1.26132613e-04, 1.26129758e-04, 1.26128785e-04,\n",
       "        1.26132277e-04, 1.26138292e-04, 1.26132405e-04, 1.26138975e-04,\n",
       "        1.26129306e-04, 5.80651818e-01],\n",
       "       [2.91273445e-01, 1.56774761e-04, 1.56779556e-04, 1.56772777e-04,\n",
       "        1.56777386e-04, 1.56782765e-04, 1.56777933e-04, 1.56781446e-04,\n",
       "        1.56775434e-04, 7.07472333e-01],\n",
       "       [8.86139503e-06, 2.54502901e-03, 8.86136182e-06, 8.86142166e-06,\n",
       "        8.86114460e-06, 9.97384082e-01, 8.86051012e-06, 8.86116839e-06,\n",
       "        8.86095475e-06, 8.86128733e-06],\n",
       "       [1.65131920e-02, 1.33006060e-04, 1.33013244e-04, 6.52156168e-01,\n",
       "        9.44716861e-03, 2.09507425e-01, 1.33046007e-04, 1.01651156e-01,\n",
       "        1.01928094e-02, 1.33015981e-04],\n",
       "       [9.28726265e-01, 7.09282263e-02, 4.31902332e-05, 4.31902269e-05,\n",
       "        4.31888218e-05, 4.31906357e-05, 4.31838847e-05, 4.31887365e-05,\n",
       "        4.31870122e-05, 4.31890276e-05],\n",
       "       [4.93469592e-05, 4.93457763e-05, 4.93462172e-05, 4.93458777e-05,\n",
       "        9.99555878e-01, 4.93450255e-05, 4.93504669e-05, 4.93472291e-05,\n",
       "        4.93483675e-05, 4.93465043e-05],\n",
       "       [1.20701257e-02, 6.61559179e-05, 1.30484740e-02, 6.61571025e-05,\n",
       "        6.61542999e-05, 9.74418318e-01, 6.61484260e-05, 6.61563426e-05,\n",
       "        6.61536986e-05, 6.61560503e-05],\n",
       "       [2.89099528e-04, 5.36147523e-02, 1.02380948e-02, 2.89104922e-04,\n",
       "        2.89076737e-04, 1.69409441e-02, 2.89058698e-04, 9.17471681e-01,\n",
       "        2.89099541e-04, 2.89088825e-04],\n",
       "       [8.75122741e-05, 4.33450131e-01, 8.75149869e-05, 8.75138886e-05,\n",
       "        8.75123097e-05, 8.75143550e-05, 8.75050121e-05, 8.75157687e-05,\n",
       "        5.65849767e-01, 8.75139391e-05],\n",
       "       [3.61370455e-02, 6.33189734e-01, 8.65282888e-05, 9.00816786e-02,\n",
       "        8.65276511e-05, 8.65284566e-05, 8.65202969e-05, 8.65252272e-05,\n",
       "        8.65260533e-05, 2.40072386e-01],\n",
       "       [7.79617838e-05, 7.79599387e-05, 1.36652334e-01, 8.23648275e-01,\n",
       "        7.79648692e-05, 7.79646457e-05, 7.79529166e-05, 3.91536593e-02,\n",
       "        7.79640751e-05, 7.79637187e-05],\n",
       "       [6.42836305e-05, 6.42816437e-05, 2.25212457e-01, 7.25533821e-01,\n",
       "        6.42841681e-05, 6.42830071e-05, 6.42767938e-05, 6.42853099e-05,\n",
       "        4.88037446e-02, 6.42826670e-05],\n",
       "       [9.31310784e-01, 2.60482663e-04, 2.60484039e-04, 1.76797286e-02,\n",
       "        2.60470118e-04, 2.60495171e-04, 2.60464810e-04, 2.60478604e-04,\n",
       "        4.91861173e-02, 2.60495028e-04],\n",
       "       [2.20815552e-04, 4.15861034e-01, 4.93593938e-01, 2.20811710e-04,\n",
       "        2.20801921e-04, 4.07637914e-02, 2.20789971e-04, 2.20808470e-04,\n",
       "        2.20803178e-04, 4.84564053e-02],\n",
       "       [1.15849697e-01, 9.95309709e-05, 9.95293014e-05, 4.22052371e-02,\n",
       "        2.89128436e-01, 9.95310615e-05, 9.95172952e-05, 9.95284023e-05,\n",
       "        9.95260816e-05, 5.52219466e-01],\n",
       "       [6.77674565e-05, 6.77666180e-05, 6.77655412e-05, 6.77643794e-05,\n",
       "        6.77656591e-05, 6.77672414e-05, 6.77617408e-05, 6.61802057e-01,\n",
       "        6.77729387e-05, 3.37655811e-01],\n",
       "       [4.23649731e-05, 4.23645908e-05, 1.37510526e-01, 4.23673410e-05,\n",
       "        4.23637965e-05, 8.62150554e-01, 4.23605212e-05, 4.23667381e-05,\n",
       "        4.23647652e-05, 4.23663944e-05],\n",
       "       [1.10767968e-04, 1.10768643e-04, 1.10770957e-04, 2.61041641e-01,\n",
       "        1.10773997e-04, 1.10769012e-04, 1.10755569e-04, 7.38072213e-01,\n",
       "        1.10771243e-04, 1.10769061e-04],\n",
       "       [1.83529714e-04, 1.95082514e-01, 1.83532842e-04, 1.83525651e-04,\n",
       "        1.83525507e-04, 1.83537822e-04, 1.83517221e-04, 1.83535606e-04,\n",
       "        8.03449243e-01, 1.83538457e-04],\n",
       "       [8.18608016e-01, 8.66006862e-05, 1.63566876e-01, 1.72188970e-02,\n",
       "        8.66043942e-05, 8.66001725e-05, 8.65915510e-05, 8.66036714e-05,\n",
       "        8.66111935e-05, 8.65993388e-05],\n",
       "       [2.35518494e-05, 8.86207698e-01, 2.35511361e-05, 2.35509272e-05,\n",
       "        2.35527604e-05, 2.35519305e-05, 2.35498580e-05, 2.35513812e-05,\n",
       "        2.35532844e-05, 1.13603889e-01],\n",
       "       [8.23897498e-05, 3.89486513e-01, 5.95494980e-01, 8.23950314e-05,\n",
       "        8.23947139e-05, 8.23942959e-05, 8.23834951e-05, 1.44417634e-02,\n",
       "        8.23900766e-05, 8.23965412e-05],\n",
       "       [7.86192482e-01, 8.63010601e-05, 8.63028256e-05, 8.63032564e-05,\n",
       "        1.91030578e-01, 8.63059268e-05, 8.62946000e-05, 8.63039649e-05,\n",
       "        8.63063465e-05, 2.21728227e-02],\n",
       "       [3.58870555e-01, 8.62689565e-03, 1.63169152e-04, 1.63171585e-04,\n",
       "        1.63164135e-04, 4.94895797e-01, 1.63160990e-04, 1.63170473e-04,\n",
       "        1.63166811e-04, 1.36627749e-01],\n",
       "       [5.73665821e-01, 1.01340264e-04, 1.31450174e-01, 1.01346785e-04,\n",
       "        1.01338758e-04, 8.93478980e-02, 1.01335701e-04, 1.32043353e-01,\n",
       "        1.01346355e-04, 7.29860460e-02],\n",
       "       [5.63225858e-05, 5.63211817e-05, 3.08500563e-01, 5.63218656e-05,\n",
       "        4.40690043e-02, 8.59226477e-02, 5.63173112e-05, 2.25273470e-01,\n",
       "        2.36678620e-03, 3.33642246e-01],\n",
       "       [3.97388002e-05, 1.36388570e-01, 3.97379234e-05, 6.16768719e-01,\n",
       "        8.71743556e-02, 3.97393146e-05, 3.97350928e-05, 3.97397980e-05,\n",
       "        3.97394118e-05, 1.59429925e-01],\n",
       "       [1.06832165e-01, 9.15141022e-05, 9.15181010e-05, 9.15154345e-05,\n",
       "        1.49190155e-01, 9.15157411e-05, 9.15112927e-05, 9.15158228e-05,\n",
       "        1.59585627e-01, 5.83842964e-01],\n",
       "       [1.31784627e-04, 5.93250289e-01, 1.31783712e-04, 1.31778834e-04,\n",
       "        1.31783773e-04, 1.31783856e-04, 1.31772078e-04, 4.05695455e-01,\n",
       "        1.31783652e-04, 1.31785050e-04],\n",
       "       [1.29905750e-04, 1.29905617e-04, 4.27579022e-02, 4.80316366e-02,\n",
       "        1.29900115e-04, 1.29901770e-04, 1.29906453e-04, 1.29904925e-04,\n",
       "        9.08301132e-01, 1.29905002e-04],\n",
       "       [4.56448951e-02, 8.98759156e-01, 1.92156468e-02, 4.40662545e-05,\n",
       "        4.40649320e-05, 3.06546225e-02, 4.40609634e-05, 5.50535634e-03,\n",
       "        4.40653897e-05, 4.40652052e-05],\n",
       "       [5.60392820e-05, 7.26325895e-03, 5.60388944e-05, 5.60378082e-05,\n",
       "        8.34317391e-01, 5.60383356e-05, 5.60342878e-05, 2.53591966e-02,\n",
       "        5.60384798e-05, 1.32723926e-01],\n",
       "       [2.91626575e-04, 2.91597405e-04, 4.05300008e-01, 2.91604562e-04,\n",
       "        2.91591067e-04, 8.86610029e-02, 2.91600452e-04, 5.03997750e-01,\n",
       "        2.91600717e-04, 2.91618788e-04],\n",
       "       [1.04306135e-04, 1.04298366e-04, 1.04303375e-04, 1.04304769e-04,\n",
       "        1.04302854e-04, 7.15934257e-01, 1.04292031e-04, 7.56341258e-02,\n",
       "        1.04300998e-04, 2.07701508e-01],\n",
       "       [1.06240849e-02, 1.08485099e-04, 1.08489208e-04, 1.08487653e-04,\n",
       "        1.08483412e-04, 7.04500393e-02, 1.08483987e-04, 1.08486423e-04,\n",
       "        1.08483211e-04, 9.18166477e-01],\n",
       "       [2.45173292e-04, 2.45160424e-04, 6.55615982e-01, 2.45164732e-04,\n",
       "        1.31953080e-01, 2.45171572e-04, 2.45139613e-04, 2.10714790e-01,\n",
       "        2.45163350e-04, 2.45175044e-04],\n",
       "       [8.40533648e-05, 8.40543286e-05, 8.40570456e-05, 8.40540651e-05,\n",
       "        8.40538724e-05, 9.73544022e-01, 8.40470209e-05, 8.40593997e-05,\n",
       "        1.07143679e-02, 1.51532314e-02],\n",
       "       [6.55745072e-03, 2.47946735e-05, 2.47950891e-05, 9.91558262e-01,\n",
       "        1.71072268e-03, 2.47962337e-05, 2.47933919e-05, 2.47949601e-05,\n",
       "        2.47946614e-05, 2.47957243e-05],\n",
       "       [1.17948344e-04, 7.19022449e-01, 1.17954490e-04, 1.17947428e-04,\n",
       "        1.17949024e-04, 1.17949158e-04, 1.17939356e-04, 2.80033960e-01,\n",
       "        1.17951509e-04, 1.17952422e-04],\n",
       "       [9.98012760e-01, 2.20800124e-04, 2.20810532e-04, 2.20808219e-04,\n",
       "        2.20824283e-04, 2.20795883e-04, 2.20779786e-04, 2.20807425e-04,\n",
       "        2.20807873e-04, 2.20806103e-04],\n",
       "       [4.02195764e-05, 4.02171924e-05, 4.02185014e-05, 4.02203621e-05,\n",
       "        4.02208708e-05, 4.02197431e-05, 4.02151109e-05, 1.53756382e-02,\n",
       "        2.37812454e-02, 9.60561585e-01],\n",
       "       [1.29904302e-04, 1.29897694e-04, 1.29904486e-04, 1.29908667e-04,\n",
       "        1.29897764e-04, 1.29911161e-04, 1.29889846e-04, 1.29903230e-04,\n",
       "        6.24989283e-02, 9.36461855e-01],\n",
       "       [9.74549542e-01, 5.54162385e-05, 1.64478675e-02, 8.61467551e-03,\n",
       "        5.54165855e-05, 5.54174959e-05, 5.54141494e-05, 5.54189566e-05,\n",
       "        5.54149385e-05, 5.54166392e-05]])"
      ]
     },
     "execution_count": 54,
     "metadata": {},
     "output_type": "execute_result"
    }
   ],
   "source": [
    "model = textacy.tm.TopicModel(\"lda\", n_topics=10)\n",
    "model.fit(dtm)\n",
    "doc_topic_matrix = model.transform(dtm)\n",
    "doc_topic_matrix"
   ]
  },
  {
   "cell_type": "code",
   "execution_count": 55,
   "metadata": {
    "colab": {},
    "colab_type": "code",
    "id": "0zP_oC22nJLq"
   },
   "outputs": [
    {
     "name": "stdout",
     "output_type": "stream",
     "text": [
      "topic 0 : States   United   United States   act   land   Act   title   claim   law   Congress\n",
      "topic 1 : employee   work   hour   Act   safety   Labor   service   time   operation   Commission\n",
      "topic 2 : court   petitioner   party   rule   Rule   fact   statement   action   time   trial\n",
      "topic 3 : court   Board   law   search   States   state   New   United   York   State\n",
      "topic 4 : tax   state   commerce   Co.   interstate   State   school   religious   New   Footnote\n",
      "topic 5 : United   States   United States   court   Act   order   Government   Footnote   contempt   criminal\n",
      "topic 6 : Indians   land   order   Act   Congress   finding   States   President   United States   United\n",
      "topic 7 : court   rate   patent   Co.   price   judgment   state   question   decision   law\n",
      "topic 8 : Illinois   claim   judgment   lien   Co.   state   Missouri   creditor   asset   State\n",
      "topic 9 : Act   Commission   order   Congress   state   regulation   political   power   employee   section\n"
     ]
    }
   ],
   "source": [
    "for topic_idx, top_terms in model.top_topic_terms(vectorizer.id_to_term, top_n=10):\n",
    "  print(\"topic\", topic_idx, \":\", \"   \".join(top_terms))"
   ]
  },
  {
   "cell_type": "markdown",
   "metadata": {},
   "source": [
    "## Evaluation survey\n",
    "Please, spend 1 minute answering these questions that can help us a lot on future workshops. \n",
    "\n",
    "https://go.ncsu.edu/dvs-eval"
   ]
  },
  {
   "cell_type": "markdown",
   "metadata": {
    "colab": {},
    "colab_type": "code",
    "id": "hmNCMQIJnoKs"
   },
   "source": [
    "## Credits\n",
    "\n",
    "Originally written by Scott Bailey and co-taught with Simon Wiles at Stanford Libraries. "
   ]
  },
  {
   "cell_type": "code",
   "execution_count": null,
   "metadata": {},
   "outputs": [],
   "source": []
  }
 ],
 "metadata": {
  "colab": {
   "name": "Text Analysis with Python.ipynb",
   "provenance": []
  },
  "kernelspec": {
   "display_name": "Python 3",
   "language": "python",
   "name": "python3"
  },
  "language_info": {
   "codemirror_mode": {
    "name": "ipython",
    "version": 3
   },
   "file_extension": ".py",
   "mimetype": "text/x-python",
   "name": "python",
   "nbconvert_exporter": "python",
   "pygments_lexer": "ipython3",
   "version": "3.8.0"
  },
  "toc": {
   "base_numbering": 1,
   "nav_menu": {
    "height": "206px",
    "width": "555px"
   },
   "number_sections": true,
   "sideBar": true,
   "skip_h1_title": false,
   "title_cell": "Table of Contents",
   "title_sidebar": "Contents",
   "toc_cell": false,
   "toc_position": {},
   "toc_section_display": true,
   "toc_window_display": true
  }
 },
 "nbformat": 4,
 "nbformat_minor": 4
}
