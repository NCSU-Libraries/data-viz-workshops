{
 "cells": [
  {
   "cell_type": "markdown",
   "metadata": {
    "colab_type": "text",
    "id": "SJ2-_7uCHIun"
   },
   "source": [
    "<h1 align=\"center\">Introduction to Programming with Python</h1>\n",
    "\n",
    "## Instructors\n",
    "- Scott Bailey \n",
    "- Vincent Tompkins\n",
    "\n",
    "## Learning objectives\n",
    "\n",
    "By the end of our workshop today, we hope you'll understand basic syntax in Python for variables, functions, and control flow, and understand some of the basic data structures in Python. With these in hand, you'll know enough to write basic scripts and explore other features of the language.  \n",
    "\n",
    "## Topics\n",
    "- Variables and types/structures (String, Int, Float, List, Dictionary)\n",
    "- Functions\n",
    "- Control flow\n",
    "- Reading and writing text to a file \n",
    "- A basic workflow of reading in content, doing something to it, then writing a new output"
   ]
  },
  {
   "cell_type": "markdown",
   "metadata": {
    "colab_type": "text",
    "id": "1lDQAAreHIur"
   },
   "source": [
    "##  Setup\n",
    "\n",
    "With this Google Colab notebook open, click the \"Copy to Drive\" button that appears in the menu bar. The notebook will then be attached to your own user account, so you can edit it in any way you like -- you can even take notes directly in the notebook."
   ]
  },
  {
   "cell_type": "markdown",
   "metadata": {},
   "source": [
    "## Zoom etiquette\n",
    "\n",
    "Please make sure that your mic is muted during the workshop."
   ]
  },
  {
   "cell_type": "markdown",
   "metadata": {},
   "source": [
    "## Questions during the workshop\n",
    "\n",
    "During the workshop, we have a second instructor who will be monitoring chat on Zoom. Please feel free to ask questions by chat throughout the workshop. Our second instructor will answer as able, and will aggregate questions with answers that might help everyone. \n",
    "\n",
    "At the end of each section of the workshop, the primary instructor will answer aggregated and new questions as time permits. If we aren't able to get to your question during the workshop, please follow up with us afterward. "
   ]
  },
  {
   "cell_type": "markdown",
   "metadata": {
    "colab_type": "text",
    "id": "yYkp3KycHIut"
   },
   "source": [
    "## Why Python?\n",
    "\n",
    "It's multi-use: you can write simple scripts to automate tasks, write complex code for machine learning and other approaches, and even build full-scale web applications.\n",
    "\n",
    "The biggest reason we see people learning Python right now is for data science and related approaches, regardless of disciplinary background."
   ]
  },
  {
   "cell_type": "markdown",
   "metadata": {
    "colab_type": "text",
    "id": "TFekjJ1tHIuu"
   },
   "source": [
    "## Jupyter Notebooks and Google Colaboratory\n",
    "\n",
    "Jupyter notebooks are a way to write and run Python code in an interactive way. They're quickly becoming a standard way of putting together data, code, and written explanations or visualizations into a single document and sharing that. There are a lot of ways that you can run Jupyter notebooks, including just locally on your computer, but we've decided to use Google's Colaboratory notebook platform for this workshop.  Colaboratory is “a Google research project created to help disseminate machine learning education and research.”  If you would like to know more about Colaboratory in general, you can visit the [Welcome Notebook](https://colab.research.google.com/notebooks/welcome.ipynb).\n",
    "\n",
    "Using the Google Colaboratory platform allows us to focus on learning and writing Python in the workshop rather than on setting up Python, which can sometimes take a bit of extra work depending on platforms, operating systems, and other installed applications. If you'd like to install a Python distribution locally, though, we're happy to help. Feel free to drop by our walk-in consulting or schedule an appointment with us.\n",
    "\n",
    "https://go.ncsu.edu/dvs-request"
   ]
  },
  {
   "cell_type": "markdown",
   "metadata": {
    "colab_type": "text",
    "id": "JFZht2PvHIux"
   },
   "source": [
    "## Variables and types"
   ]
  },
  {
   "cell_type": "code",
   "execution_count": null,
   "metadata": {
    "colab": {},
    "colab_type": "code",
    "id": "2dKlye84HIuy"
   },
   "outputs": [],
   "source": [
    "# Strings\n",
    "greeting = \"Hello, I'm Scott. It's a pleasure to meet you.\"\n",
    "# After you run this cell, note the difference between printing out in the notebook\n",
    "# and getting the output from the last line of the cell\n",
    "print(greeting)\n",
    "greeting"
   ]
  },
  {
   "cell_type": "code",
   "execution_count": null,
   "metadata": {
    "colab": {},
    "colab_type": "code",
    "id": "bgTKY2nrHIu7"
   },
   "outputs": [],
   "source": [
    "# Find a letter by index\n",
    "greeting[4]"
   ]
  },
  {
   "cell_type": "code",
   "execution_count": null,
   "metadata": {
    "colab": {},
    "colab_type": "code",
    "id": "2iGANp4bHIvB"
   },
   "outputs": [],
   "source": [
    "# Get the length of a string. Length here is a built-in function in Python\n",
    "len(greeting)"
   ]
  },
  {
   "cell_type": "code",
   "execution_count": null,
   "metadata": {
    "colab": {},
    "colab_type": "code",
    "id": "6255N_lVHIvH"
   },
   "outputs": [],
   "source": [
    "len?"
   ]
  },
  {
   "cell_type": "code",
   "execution_count": null,
   "metadata": {
    "colab": {},
    "colab_type": "code",
    "id": "SrUawwd_HIvL"
   },
   "outputs": [],
   "source": [
    "# Count spaces in the string. Here, count() is a method that all strings have, i.e.,\n",
    "# a function that can be run on the string.\n",
    "greeting.count(' ')"
   ]
  },
  {
   "cell_type": "code",
   "execution_count": null,
   "metadata": {
    "colab": {},
    "colab_type": "code",
    "id": "jfuQkgKnHIvR"
   },
   "outputs": [],
   "source": [
    "greeting.count?"
   ]
  },
  {
   "cell_type": "code",
   "execution_count": null,
   "metadata": {
    "colab": {},
    "colab_type": "code",
    "id": "mlKrvYoPHIvW"
   },
   "outputs": [],
   "source": [
    "# Slice to get the first 3 characters\n",
    "# Basic format is identifier[start:end:step]\n",
    "greeting[0:3]\n",
    "# Omitted start=0, omitted end=length\n",
    "#greeting[:3]"
   ]
  },
  {
   "cell_type": "code",
   "execution_count": null,
   "metadata": {
    "colab": {},
    "colab_type": "code",
    "id": "zIJzWuG5HIvd"
   },
   "outputs": [],
   "source": [
    "# Get the last three characters\n",
    "greeting[-3:]"
   ]
  },
  {
   "cell_type": "code",
   "execution_count": null,
   "metadata": {
    "colab": {},
    "colab_type": "code",
    "id": "zjkm_CS2HIvi"
   },
   "outputs": [],
   "source": [
    "# Replace hello with goodbye\n",
    "greeting.replace(\"Hello\", \"Goodbye\")"
   ]
  },
  {
   "cell_type": "code",
   "execution_count": null,
   "metadata": {
    "colab": {},
    "colab_type": "code",
    "id": "3VS_83xpHIvm"
   },
   "outputs": [],
   "source": [
    "# String concatenation\n",
    "\"Hello \" + \"World\""
   ]
  },
  {
   "cell_type": "code",
   "execution_count": null,
   "metadata": {
    "colab": {},
    "colab_type": "code",
    "id": "PjEAKNMZHIvr"
   },
   "outputs": [],
   "source": [
    "# Autocomplete (use arrow keys) help to explore functionality\n",
    "greeting."
   ]
  },
  {
   "cell_type": "code",
   "execution_count": null,
   "metadata": {
    "colab": {},
    "colab_type": "code",
    "id": "73438kSPHIvu"
   },
   "outputs": [],
   "source": [
    "# Numbers\n",
    "# Integer and floats\n",
    "first_num = 10\n",
    "second_num = 5.467\n",
    "print(type(first_num), type(second_num))"
   ]
  },
  {
   "cell_type": "code",
   "execution_count": null,
   "metadata": {
    "colab": {},
    "colab_type": "code",
    "id": "xxjzn3dfHIvx"
   },
   "outputs": [],
   "source": [
    "# Addition\n",
    "1 + 5"
   ]
  },
  {
   "cell_type": "code",
   "execution_count": null,
   "metadata": {
    "colab": {},
    "colab_type": "code",
    "id": "xBy-9Z-9HIv3"
   },
   "outputs": [],
   "source": [
    "# Division\n",
    "10 / 2"
   ]
  },
  {
   "cell_type": "code",
   "execution_count": null,
   "metadata": {
    "colab": {},
    "colab_type": "code",
    "id": "3haQcz2pCpIp"
   },
   "outputs": [],
   "source": [
    "# Division, rounding down to nearest integer (\"floor\")\n",
    "20 // 3"
   ]
  },
  {
   "cell_type": "code",
   "execution_count": null,
   "metadata": {
    "colab": {},
    "colab_type": "code",
    "id": "aQbMEh7uHIv9"
   },
   "outputs": [],
   "source": [
    "# Multiplication\n",
    "5 * 2.0"
   ]
  },
  {
   "cell_type": "code",
   "execution_count": null,
   "metadata": {
    "colab": {},
    "colab_type": "code",
    "id": "wrwQEJrEHIwF"
   },
   "outputs": [],
   "source": [
    "# Lists\n",
    "drinks = ['coffee', 'tea', 'water']\n",
    "drinks"
   ]
  },
  {
   "cell_type": "code",
   "execution_count": null,
   "metadata": {
    "colab": {},
    "colab_type": "code",
    "id": "zB7aR64oHIwK"
   },
   "outputs": [],
   "source": [
    "# Python allows you to create lists containing elements of different types\n",
    "mixed = [2, 'hello', 10.5, 'here is a sentence']\n",
    "for item in mixed:\n",
    "    print(type(item))"
   ]
  },
  {
   "cell_type": "code",
   "execution_count": null,
   "metadata": {
    "colab": {},
    "colab_type": "code",
    "id": "OraaGapZHIwP"
   },
   "outputs": [],
   "source": [
    "# Get item by index\n",
    "mixed[2]"
   ]
  },
  {
   "cell_type": "code",
   "execution_count": null,
   "metadata": {
    "colab": {},
    "colab_type": "code",
    "id": "C2kgPh9Tilrp"
   },
   "outputs": [],
   "source": [
    "drinks.append?"
   ]
  },
  {
   "cell_type": "code",
   "execution_count": null,
   "metadata": {
    "colab": {},
    "colab_type": "code",
    "id": "KB2zWbVfHIwT"
   },
   "outputs": [],
   "source": [
    "# Add an item to the end of the list\n",
    "drinks.append('juice')\n",
    "# Modify an element \"in place\" via its index\n",
    "drinks[0] = \"hot water\"\n",
    "drinks"
   ]
  },
  {
   "cell_type": "code",
   "execution_count": null,
   "metadata": {
    "colab": {},
    "colab_type": "code",
    "id": "sw1B7uasHIwX"
   },
   "outputs": [],
   "source": [
    "# Splitting a string - note the type of the output\n",
    "greeting_words = greeting.split(' ')\n",
    "greeting_words"
   ]
  },
  {
   "cell_type": "code",
   "execution_count": null,
   "metadata": {
    "colab": {},
    "colab_type": "code",
    "id": "df1BPlH6HIwZ"
   },
   "outputs": [],
   "source": [
    "# Joining a list of strings\n",
    "\"|\".join(greeting_words)"
   ]
  },
  {
   "cell_type": "code",
   "execution_count": null,
   "metadata": {
    "colab": {},
    "colab_type": "code",
    "id": "0Q4DxvmBDGNT"
   },
   "outputs": [],
   "source": [
    "# Dictionaries are another useful data type. They associate \"keys\" (usually strings or integers)\n",
    "# to values, which can be anything: ints, strings, floats, lists, other dictionaries\n",
    "majors = { 'Scott': 'Religious Studies',\n",
    "           'Vincent': 'Electrical Engineering',\n",
    "           'Mike': 'Library Science',\n",
    "           'Walt': 'Geospatial Analysis' }\n",
    "majors['Scott']"
   ]
  },
  {
   "cell_type": "markdown",
   "metadata": {
    "colab_type": "text",
    "id": "BXtrF6N_HIwf"
   },
   "source": [
    "There are plenty of other data types and structures that we aren't going to use today, such as: sets, tuples, and so forth. "
   ]
  },
  {
   "cell_type": "markdown",
   "metadata": {
    "colab_type": "text",
    "id": "JaZY-y6FHIwg"
   },
   "source": [
    "## Functions\n",
    "\n",
    "At the most basic level, functions are chunks of reusable code."
   ]
  },
  {
   "cell_type": "code",
   "execution_count": null,
   "metadata": {
    "colab": {},
    "colab_type": "code",
    "id": "I5dsX6pkHIwg"
   },
   "outputs": [],
   "source": [
    "# Define a function -- note use of indenting!\n",
    "def add(num1, num2):\n",
    "    # Other steps\n",
    "    return num1 + num2\n",
    "\n",
    "add(1, 2)"
   ]
  },
  {
   "cell_type": "code",
   "execution_count": null,
   "metadata": {
    "colab": {},
    "colab_type": "code",
    "id": "9Qso8TseHIwl"
   },
   "outputs": [],
   "source": [
    "def combine_arrays(array1, array2):\n",
    "    new_list = array1 + array2\n",
    "    return new_list\n",
    "\n",
    "first = ['hello', 2]\n",
    "second = [1, 10]\n",
    "new = combine_arrays(first, second)\n",
    "new"
   ]
  },
  {
   "cell_type": "markdown",
   "metadata": {
    "colab_type": "text",
    "id": "AFXH4yqCHIwq"
   },
   "source": [
    "### Activity: Write a pig-latinization function\n",
    "\n",
    "Pig latin is a language game where you take the first letter of a word, move it to the end of the word, then add '-ay' at the end. For example, 'pig latin' would be 'igpay atinlay' and 'python' would turn into 'ythonpay'.\n",
    "\n",
    "In the cell below, write a function that takes a string, lowercases it, and returns the pig latin translation of the word. You'll need to use slicing and string concatenation to make this work."
   ]
  },
  {
   "cell_type": "code",
   "execution_count": null,
   "metadata": {
    "colab": {},
    "colab_type": "code",
    "id": "aIv7xEAdqzFG"
   },
   "outputs": [],
   "source": [
    "def pig_latinize(input_word):\n",
    "    # Code goes here\n",
    "\n",
    "# the following should return 'ellohay'\n",
    "pig_latinize('Hello')"
   ]
  },
  {
   "cell_type": "code",
   "execution_count": null,
   "metadata": {
    "cellView": "form",
    "colab": {},
    "colab_type": "code",
    "id": "VcyIyWgcHIwq"
   },
   "outputs": [],
   "source": [
    "#@title\n",
    "def pig_latinize(input_word):\n",
    "    pig_word = input_word[1:] + input_word[0] + \"ay\"\n",
    "    return pig_word.lower()\n",
    "\n",
    "# the following should return 'ellohay'\n",
    "pig_latinize('Hello')"
   ]
  },
  {
   "cell_type": "markdown",
   "metadata": {
    "colab_type": "text",
    "id": "Lk20eiVAHIwv"
   },
   "source": [
    "## Control flow "
   ]
  },
  {
   "cell_type": "code",
   "execution_count": null,
   "metadata": {
    "colab": {},
    "colab_type": "code",
    "id": "EDJp21NoHIwv"
   },
   "outputs": [],
   "source": [
    "# IF (conditional execution)\n",
    "name = \"Scott\"\n",
    "\n",
    "if name == \"Scott\":\n",
    "    print(\"Hi Scott!\")\n",
    "else:\n",
    "    print(\"Who are you?\")"
   ]
  },
  {
   "cell_type": "code",
   "execution_count": null,
   "metadata": {
    "colab": {},
    "colab_type": "code",
    "id": "QtW84SkhnrvH"
   },
   "outputs": [],
   "source": [
    "if type(name) == str:\n",
    "    print(\"It's a string!\")"
   ]
  },
  {
   "cell_type": "code",
   "execution_count": null,
   "metadata": {
    "colab": {},
    "colab_type": "code",
    "id": "NdAGrsNTHIwz"
   },
   "outputs": [],
   "source": [
    "# You can use control flow with functions\n",
    "# Also, you can use if, else if, and else to specify more than one condition\n",
    "name = \"Bob\"\n",
    "\n",
    "def say_hello(name):\n",
    "    return \"Hello, \" + name + \"!\"\n",
    "\n",
    "if name == \"Bob\" or name != \"Scott\":\n",
    "    message = say_hello(\"Bob\")\n",
    "    print(message)\n",
    "elif name == \"Scott\":\n",
    "    message = say_hello(\"Scott\")\n",
    "    print(message)\n",
    "else:\n",
    "    print(\"Who are you?\")"
   ]
  },
  {
   "cell_type": "code",
   "execution_count": null,
   "metadata": {
    "colab": {},
    "colab_type": "code",
    "id": "quma-JNWHIw3"
   },
   "outputs": [],
   "source": [
    "# FOR loops let you iterate over a list or other iterable object\n",
    "names = [\"Scott\", \"Vincent\", \"Natalia\", \"Mike\", \"Karen\"]\n",
    "for name in names:\n",
    "    print(name, len(name))"
   ]
  },
  {
   "cell_type": "code",
   "execution_count": null,
   "metadata": {
    "colab": {},
    "colab_type": "code",
    "id": "oMXUE6vQHIw5"
   },
   "outputs": [],
   "source": [
    "# You can combine types of control flow\n",
    "for name in names[:3]:\n",
    "    if len(name) > 5:\n",
    "        print(name)"
   ]
  },
  {
   "cell_type": "code",
   "execution_count": null,
   "metadata": {
    "colab": {},
    "colab_type": "code",
    "id": "uIDb_CojDTpQ"
   },
   "outputs": [],
   "source": [
    "# Testing list membership\n",
    "if 'Scott' in names:\n",
    "    print(\"Scott is here\")\n",
    "else:\n",
    "    print(\"Scott is missing!\")"
   ]
  },
  {
   "cell_type": "code",
   "execution_count": null,
   "metadata": {
    "colab": {},
    "colab_type": "code",
    "id": "Jby2eeWmHIw7"
   },
   "outputs": [],
   "source": [
    "# User-defined functions in FOR loops\n",
    "def add_one(num):\n",
    "    return num + 1\n",
    "\n",
    "nums = [1, 2, 3, 4]\n",
    "plus = []\n",
    "for num in nums:\n",
    "    plus.append(add_one(num))\n",
    "\n",
    "#plus = list(map(add_one, nums))\n",
    "plus"
   ]
  },
  {
   "cell_type": "code",
   "execution_count": null,
   "metadata": {
    "colab": {},
    "colab_type": "code",
    "id": "NY2cs8OyHIxA"
   },
   "outputs": [],
   "source": [
    "# ADVANCED: List Comprehensions\n",
    "# List comprehensions are a \"pythonic\" way of building lists in a compact manner\n",
    "\n",
    "added = [add_one(num) for num in nums]\n",
    "added"
   ]
  },
  {
   "cell_type": "code",
   "execution_count": null,
   "metadata": {
    "colab": {},
    "colab_type": "code",
    "id": "_pB53kxgHIxD"
   },
   "outputs": [],
   "source": [
    "long_names = [name.lower() for name in names[:3] if len(name) > 5]\n",
    "long_names"
   ]
  },
  {
   "cell_type": "code",
   "execution_count": null,
   "metadata": {
    "colab": {},
    "colab_type": "code",
    "id": "6RyfcYe8knjk"
   },
   "outputs": [],
   "source": [
    "majors"
   ]
  },
  {
   "cell_type": "code",
   "execution_count": null,
   "metadata": {
    "colab": {},
    "colab_type": "code",
    "id": "JFnUmu0IDam-"
   },
   "outputs": [],
   "source": [
    "# ADVANCED: List Comprehension with dictionary value lookup\n",
    "key = 'Vincent'\n",
    "value = majors[key]\n",
    "print(value)\n",
    "print(value.find(\"Studies\"))\n",
    "studiers = [key for key in majors if \"Studies\" in majors[key]]\n",
    "studiers"
   ]
  },
  {
   "cell_type": "markdown",
   "metadata": {
    "colab_type": "text",
    "id": "lZlPlQfEHIxG"
   },
   "source": [
    "### Activity: Pig-latinize a list\n",
    "\n",
    "In the cell below, write a function that loops over a list and returns a new list where all the strings have been replaced with their pig latin translations. \n",
    "\n",
    "For example, if your list is `['hello', 5, 'world']` your output should be `['ellohay', 5, 'orldway']`.\n",
    "\n",
    "Feel free to reuse the pig latinizer function you wrote above. You'll also need to think about checking the type of each item in the list."
   ]
  },
  {
   "cell_type": "code",
   "execution_count": null,
   "metadata": {
    "colab": {},
    "colab_type": "code",
    "id": "gv2C65Xir_LK"
   },
   "outputs": [],
   "source": [
    "def pig_latinize_list(items):\n",
    "    # Code goes here\n",
    "\n",
    "pig_latinize_list(['hello', 5, 'world'])"
   ]
  },
  {
   "cell_type": "code",
   "execution_count": null,
   "metadata": {
    "cellView": "form",
    "colab": {},
    "colab_type": "code",
    "id": "AgMViAghHIxH"
   },
   "outputs": [],
   "source": [
    "#@title\n",
    "def pig_latinize_list(items):\n",
    "    latinized_items = []\n",
    "    for item in items:\n",
    "        if (type(item) == str):\n",
    "            latinized_items.append(pig_latinize(item))\n",
    "        else:\n",
    "            latinized_items.append(item)\n",
    "    return latinized_items\n",
    "\n",
    "pig_latinize_list(['hello', 5, 'world'])"
   ]
  },
  {
   "cell_type": "code",
   "execution_count": null,
   "metadata": {
    "cellView": "form",
    "colab": {},
    "colab_type": "code",
    "id": "cTYIjLNSoBTS"
   },
   "outputs": [],
   "source": [
    "#@title\n",
    "def pig_latinize_comp(items):\n",
    "  return [pig_latinize(item) if type(item) == str else item for item in items]\n",
    "\n",
    "pig_latinize_comp(['hello', 5, 'world'])"
   ]
  },
  {
   "cell_type": "markdown",
   "metadata": {
    "colab_type": "text",
    "id": "Cw2TglyqHIxK"
   },
   "source": [
    "## Reading from and writing text to a file "
   ]
  },
  {
   "cell_type": "code",
   "execution_count": null,
   "metadata": {
    "colab": {},
    "colab_type": "code",
    "id": "QOj4Ix0dHIxL"
   },
   "outputs": [],
   "source": [
    "# Working with comma-separated and similar data files will be covered in a later workshop. \n",
    "# It's worthwhile, however, to see how to read and write data or text to and from a file.\n",
    "# We'll start with writing some text to a file, then explore how to read it.\n",
    "\n",
    "sample_text = \"\"\"\n",
    "Lorem ipsum dolor sit amet, consectetur adipiscing elit. \n",
    "Fusce pharetra tristique iaculis. Morbi maximus interdum nibh, at faucibus lacus porta vitae.\n",
    "Praesent mi velit, tempus sit amet sagittis a, sodales sit amet sapien.\n",
    "Praesent dictum, diam a hendrerit cursus, eros dolor posuere sem, a porttitor libero nulla molestie eros.\n",
    "\"\"\"\n",
    "#f = open('lorem.txt', 'w')\n",
    "#f.write(sample_text)\n",
    "#f.close()\n",
    "with open('lorem.txt', 'a') as f:\n",
    "    f.write(sample_text)\n",
    "\n",
    "# You can check the \"Files\" tab in the column at left now to find the output file\n",
    "# Note that you must click the \"REFRESH\" button to see it."
   ]
  },
  {
   "cell_type": "code",
   "execution_count": null,
   "metadata": {
    "colab": {},
    "colab_type": "code",
    "id": "2K-9QtptHIxN"
   },
   "outputs": [],
   "source": [
    "# Now, let's read the file back.\n",
    "with open('lorem.txt', 'r') as f:\n",
    "    print(f.read())"
   ]
  },
  {
   "cell_type": "code",
   "execution_count": null,
   "metadata": {
    "colab": {},
    "colab_type": "code",
    "id": "yViwpBFMHIxO"
   },
   "outputs": [],
   "source": [
    "# We can also read the file line by line\n",
    "with open('lorem.txt', 'r') as f:\n",
    "    for line in f:\n",
    "        line = line.replace(\"\\n\", \"\") + \"END\"\n",
    "        print(line)"
   ]
  },
  {
   "cell_type": "markdown",
   "metadata": {
    "colab_type": "text",
    "id": "4UX0mZBjHIxR"
   },
   "source": [
    "### Collaborative activity: Read a file, pig-latinize it, write it to another file\n",
    "\n",
    "Our goal is to read in a file containing the text of Shakespeare's Sonnet 18, pig latinize the sonnet, and write a new file containing the pig latinized sonnet.\n",
    "\n",
    "Hint for the activity: you may want to remove spaces from the beginning and end of each line with .strip()"
   ]
  },
  {
   "cell_type": "code",
   "execution_count": null,
   "metadata": {
    "colab": {},
    "colab_type": "code",
    "id": "LKZXZn-Ps-90"
   },
   "outputs": [],
   "source": [
    "# This command downloads the sonnet.txt file from this workshop's folder on\n",
    "# Github to the Colab environment. After running this cell, you should be able\n",
    "# to see the file in the \"Files\" list in the pane to the left of this notebook.\n",
    "!wget -O sonnet.txt --no-check-certificate \"https://raw.githubusercontent.com/NCSU-Libraries/data-viz-workshops/master/Introduction_to_Python/sonnet.txt\""
   ]
  },
  {
   "cell_type": "code",
   "execution_count": null,
   "metadata": {
    "colab": {},
    "colab_type": "code",
    "id": "EWnhS_K_v1w3"
   },
   "outputs": [],
   "source": [
    "with open('sonnet.txt', 'r') as f:\n",
    "    with open('pig_latinized_sonnet.txt', 'w') as g:\n",
    "        # More code goes here"
   ]
  },
  {
   "cell_type": "code",
   "execution_count": null,
   "metadata": {
    "cellView": "form",
    "colab": {},
    "colab_type": "code",
    "id": "p7gwpIZuHIxS"
   },
   "outputs": [],
   "source": [
    "#@title\n",
    "# Pig latinize the sonnet\n",
    "with open('sonnet.txt', 'r') as f:\n",
    "    with open('latin_sonnet.txt', 'w') as g:\n",
    "        lines = [line.strip() for line in f]\n",
    "        for line in lines:\n",
    "            words = line.split()\n",
    "            latin_words = [pig_latinize(word) for word in words]\n",
    "            latin_sent = ' '.join(latin_words)\n",
    "            g.write(latin_sent + '\\n')\n",
    "# Notice when you look at this new file that the punctuation remained **within** the latinized words\n",
    "# since we didn't account for it"
   ]
  },
  {
   "cell_type": "markdown",
   "metadata": {
    "colab_type": "text",
    "id": "BPYg8TFGmcoS"
   },
   "source": [
    "Click the \"REFRESH\" button to update the \"Files\" list at left to display any new files you've created."
   ]
  },
  {
   "cell_type": "markdown",
   "metadata": {
    "colab_type": "text",
    "id": "FgsqJZovHIxS"
   },
   "source": [
    "## Further resources and topics\n",
    "\n",
    "### Resources\n",
    "- https://python.swaroopch.com/ (A Byte of Python is a great intro book and reference for Python)\n",
    "- https://docs.python.org/3/ (Official Python documentation and tutorials)\n",
    "- https://realpython.com/ (Contains a lot of different tutorials at different levels)\n",
    "- https://www.lynda.com/Python-training-tutorials/415-0.html (Lynda is free with NCSU accounts. I haven't used these tutorials but have used Lynda for other programming languages and been quite happy with it)\n",
    "\n",
    "### Topics\n",
    "- Other data structures: sets, tuples\n",
    "- Libraries, packages, and pip\n",
    "- Virtual environments\n",
    "- Text editors and local execution environments\n",
    "- The object-oriented paradigm in Python: classes, methods"
   ]
  },
  {
   "cell_type": "markdown",
   "metadata": {},
   "source": [
    "## Evaluation survey\n",
    "Please, spend 1 minute answering these questions that can help us a lot on future workshops. \n",
    "\n",
    "https://go.ncsu.edu/dvs-eval"
   ]
  },
  {
   "cell_type": "markdown",
   "metadata": {},
   "source": [
    "## Credits\n",
    "\n",
    "\n",
    "This workshop was originally developed and taught at Stanford University by Scott Bailey and Javier de la Rosa, with later contributions from Peter Broadwell and Simon Wiles. "
   ]
  },
  {
   "cell_type": "code",
   "execution_count": null,
   "metadata": {},
   "outputs": [],
   "source": []
  }
 ],
 "metadata": {
  "accelerator": "GPU",
  "colab": {
   "collapsed_sections": [
    "FgsqJZovHIxS"
   ],
   "include_colab_link": true,
   "name": "Introduction to Python.ipynb",
   "provenance": [],
   "toc_visible": true
  },
  "kernelspec": {
   "display_name": "Python 3",
   "language": "python",
   "name": "python3"
  },
  "language_info": {
   "codemirror_mode": {
    "name": "ipython",
    "version": 3
   },
   "file_extension": ".py",
   "mimetype": "text/x-python",
   "name": "python",
   "nbconvert_exporter": "python",
   "pygments_lexer": "ipython3",
   "version": "3.8.0"
  }
 },
 "nbformat": 4,
 "nbformat_minor": 4
}
