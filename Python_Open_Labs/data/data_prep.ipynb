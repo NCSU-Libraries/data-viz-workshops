{
 "metadata": {
  "language_info": {
   "codemirror_mode": {
    "name": "ipython",
    "version": 3
   },
   "file_extension": ".py",
   "mimetype": "text/x-python",
   "name": "python",
   "nbconvert_exporter": "python",
   "pygments_lexer": "ipython3",
   "version": "3.7.3-final"
  },
  "orig_nbformat": 2,
  "kernelspec": {
   "name": "python3",
   "display_name": "Python 3",
   "language": "python"
  }
 },
 "nbformat": 4,
 "nbformat_minor": 2,
 "cells": [
  {
   "source": [
    "# Preparing data files for labs from raw data files"
   ],
   "cell_type": "markdown",
   "metadata": {}
  },
  {
   "source": [
    "## Preparing data from `raw_data/Wildlife_Export_1272020.csv`\n",
    "\n",
    "Split original CSV file into three different data file types (CSV, Excel, JSON) based on date or records"
   ],
   "cell_type": "markdown",
   "metadata": {}
  },
  {
   "source": [
    "import pandas as pd"
   ],
   "cell_type": "code",
   "metadata": {},
   "execution_count": 2,
   "outputs": []
  },
  {
   "cell_type": "code",
   "execution_count": 4,
   "metadata": {},
   "outputs": [
    {
     "output_type": "execute_result",
     "data": {
      "text/plain": [
       "min    2000\n",
       "max    2009\n",
       "Name: INCIDENT_YEAR, dtype: int64"
      ]
     },
     "metadata": {},
     "execution_count": 4
    }
   ],
   "source": [
    "raw_data = pd.read_csv('./raw_data/Wildlife_Export_1272020.csv')\n",
    "\n",
    "strikes_90s = raw_data[(raw_data['INCIDENT_YEAR'] >= 1990) & (raw_data['INCIDENT_YEAR'] < 2000)]\n",
    "strikes_00s = raw_data[(raw_data['INCIDENT_YEAR'] >= 2000) & (raw_data['INCIDENT_YEAR'] < 2010)]\n",
    "strikes_10s = raw_data[(raw_data['INCIDENT_YEAR'] >= 2010) & (raw_data['INCIDENT_YEAR'] < 2020)]\n",
    "\n",
    "strikes_00s['INCIDENT_YEAR'].agg(['min', 'max'])"
   ]
  },
  {
   "source": [
    "Create CSV file of data from 1990 - 1999"
   ],
   "cell_type": "markdown",
   "metadata": {}
  },
  {
   "cell_type": "code",
   "execution_count": 7,
   "metadata": {},
   "outputs": [],
   "source": [
    "strikes_90s.to_csv('FAA_Wildlife_strikes_1990-1999.csv', index=False)"
   ]
  },
  {
   "source": [
    "Create Excel file of data from 2000 - 2009"
   ],
   "cell_type": "markdown",
   "metadata": {}
  },
  {
   "cell_type": "code",
   "execution_count": 5,
   "metadata": {},
   "outputs": [],
   "source": [
    "strikes_00s.to_excel('FAA_Wildlife_strikes_2000-2009.xlsx', index=False)"
   ]
  },
  {
   "source": [
    "Create JSON file of data from 2010 - 2019"
   ],
   "cell_type": "markdown",
   "metadata": {}
  },
  {
   "cell_type": "code",
   "execution_count": 12,
   "metadata": {},
   "outputs": [],
   "source": [
    "# Set index to FAA index number to format data for export\n",
    "strikes_10s_new_index = strikes_10s.set_index('INDX_NR')\n",
    "strikes_10s_new_index.to_json('FAA_Wildlife_strikes_2010-2019.json', orient='index')"
   ]
  }
 ]
}