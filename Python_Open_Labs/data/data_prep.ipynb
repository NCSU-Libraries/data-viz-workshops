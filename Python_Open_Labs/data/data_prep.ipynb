{
 "metadata": {
  "language_info": {
   "codemirror_mode": {
    "name": "ipython",
    "version": 3
   },
   "file_extension": ".py",
   "mimetype": "text/x-python",
   "name": "python",
   "nbconvert_exporter": "python",
   "pygments_lexer": "ipython3",
   "version": "3.7.3-final"
  },
  "orig_nbformat": 2,
  "kernelspec": {
   "name": "python3",
   "display_name": "Python 3",
   "language": "python"
  }
 },
 "nbformat": 4,
 "nbformat_minor": 2,
 "cells": [
  {
   "source": [
    "# Preparing data files for open labs from raw data files"
   ],
   "cell_type": "markdown",
   "metadata": {}
  },
  {
   "source": [
    "import pandas as pd"
   ],
   "cell_type": "code",
   "metadata": {},
   "execution_count": 1,
   "outputs": []
  },
  {
   "source": [
    "## Preparing data from `raw_data/Wildlife_Export_1272020.csv`"
   ],
   "cell_type": "markdown",
   "metadata": {}
  },
  {
   "cell_type": "code",
   "execution_count": 2,
   "metadata": {},
   "outputs": [
    {
     "output_type": "execute_result",
     "data": {
      "text/plain": [
       "   INDX_NR INCIDENT_DATE   INCIDENT_MONTH  INCIDENT_YEAR   TIME TIME_OF_DAY  \\\n",
       "0  1080125     2020-11-05              11           2020  05:00         NaN   \n",
       "1  1080118     2020-11-05              11           2020  22:35         NaN   \n",
       "\n",
       "  AIRPORT_ID              AIRPORT RUNWAY STATE  ...   SIZE NR_INJURIES  \\\n",
       "0       KRDU  RALEIGH-DURHAM INTL    23R    NC  ...  Small         NaN   \n",
       "1       KGSO  PIEDMONT TRIAD INTL     5R    NC  ...  Large         NaN   \n",
       "\n",
       "   NR_FATALITIES COMMENT REPORTER_NAME REPORTER_TITLE             SOURCE  \\\n",
       "0            NaN     NaN      REDACTED       REDACTED  FAA Form 5200-7-E   \n",
       "1            NaN     NaN      REDACTED       REDACTED  FAA Form 5200-7-E   \n",
       "\n",
       "               PERSON     LUPDATE  TRANSFER  \n",
       "0  Airport Operations  2020-12-04     False  \n",
       "1  Airport Operations  2020-12-04     False  \n",
       "\n",
       "[2 rows x 93 columns]"
      ],
      "text/html": "<div>\n<style scoped>\n    .dataframe tbody tr th:only-of-type {\n        vertical-align: middle;\n    }\n\n    .dataframe tbody tr th {\n        vertical-align: top;\n    }\n\n    .dataframe thead th {\n        text-align: right;\n    }\n</style>\n<table border=\"1\" class=\"dataframe\">\n  <thead>\n    <tr style=\"text-align: right;\">\n      <th></th>\n      <th>INDX_NR</th>\n      <th>INCIDENT_DATE</th>\n      <th>INCIDENT_MONTH</th>\n      <th>INCIDENT_YEAR</th>\n      <th>TIME</th>\n      <th>TIME_OF_DAY</th>\n      <th>AIRPORT_ID</th>\n      <th>AIRPORT</th>\n      <th>RUNWAY</th>\n      <th>STATE</th>\n      <th>...</th>\n      <th>SIZE</th>\n      <th>NR_INJURIES</th>\n      <th>NR_FATALITIES</th>\n      <th>COMMENT</th>\n      <th>REPORTER_NAME</th>\n      <th>REPORTER_TITLE</th>\n      <th>SOURCE</th>\n      <th>PERSON</th>\n      <th>LUPDATE</th>\n      <th>TRANSFER</th>\n    </tr>\n  </thead>\n  <tbody>\n    <tr>\n      <th>0</th>\n      <td>1080125</td>\n      <td>2020-11-05</td>\n      <td>11</td>\n      <td>2020</td>\n      <td>05:00</td>\n      <td>NaN</td>\n      <td>KRDU</td>\n      <td>RALEIGH-DURHAM INTL</td>\n      <td>23R</td>\n      <td>NC</td>\n      <td>...</td>\n      <td>Small</td>\n      <td>NaN</td>\n      <td>NaN</td>\n      <td>NaN</td>\n      <td>REDACTED</td>\n      <td>REDACTED</td>\n      <td>FAA Form 5200-7-E</td>\n      <td>Airport Operations</td>\n      <td>2020-12-04</td>\n      <td>False</td>\n    </tr>\n    <tr>\n      <th>1</th>\n      <td>1080118</td>\n      <td>2020-11-05</td>\n      <td>11</td>\n      <td>2020</td>\n      <td>22:35</td>\n      <td>NaN</td>\n      <td>KGSO</td>\n      <td>PIEDMONT TRIAD INTL</td>\n      <td>5R</td>\n      <td>NC</td>\n      <td>...</td>\n      <td>Large</td>\n      <td>NaN</td>\n      <td>NaN</td>\n      <td>NaN</td>\n      <td>REDACTED</td>\n      <td>REDACTED</td>\n      <td>FAA Form 5200-7-E</td>\n      <td>Airport Operations</td>\n      <td>2020-12-04</td>\n      <td>False</td>\n    </tr>\n  </tbody>\n</table>\n<p>2 rows × 93 columns</p>\n</div>"
     },
     "metadata": {},
     "execution_count": 2
    }
   ],
   "source": [
    "# Load Wildlife_Export_1272020.csv\n",
    "raw_data = pd.read_csv('./raw_data/Wildlife_Export_1272020.csv')\n",
    "raw_data[:2]"
   ]
  },
  {
   "source": [
    "### Extract columns to create dataset of species ID and species name\n",
    "\n",
    "This dataset is for the merge activity in open lab 2"
   ],
   "cell_type": "markdown",
   "metadata": {}
  },
  {
   "cell_type": "code",
   "execution_count": 3,
   "metadata": {},
   "outputs": [],
   "source": [
    "# Create DataFrame containing species ID  and species name\n",
    "strikes_species_data = raw_data[['SPECIES_ID', 'SPECIES']]\n",
    "species_id_table = strikes_species_data.drop_duplicates(subset=['SPECIES_ID'])\n",
    "\n",
    "# Export CSV file that contains only species data\n",
    "species_id_table.to_csv('FAA_Wildlife_species_id_table.csv', index=False)"
   ]
  },
  {
   "source": [
    "### Extract columns to create dataset of operator ID and operator name (i.e., airline operator)\n",
    "\n",
    "This dataset is for the merge exercise in open lab 2"
   ],
   "cell_type": "markdown",
   "metadata": {}
  },
  {
   "cell_type": "code",
   "execution_count": 4,
   "metadata": {},
   "outputs": [],
   "source": [
    "# Create DataFrame containing operator ID and operator name\n",
    "strikes_operator_data = raw_data[['OPID', 'OPERATOR']]\n",
    "species_id_table = strikes_operator_data.drop_duplicates(subset=['OPID'])\n",
    "\n",
    "# Export CSV file that contains only operator data\n",
    "species_id_table.to_csv('FAA_Wildlife_operator_id_table.csv', index=False)"
   ]
  },
  {
   "source": [
    "### Split data without species info into three different data file types (CSV, Excel, JSON) based on decade\n",
    "These datasets are for the loading files activity in lab 1 and the DataFrame concatenation activity in lab 2\n",
    "\n",
    "*Note: the 1990s dataset contains one record from 1985 and the 2010s dataset contains partial records from the year 2020*"
   ],
   "cell_type": "markdown",
   "metadata": {}
  },
  {
   "cell_type": "code",
   "execution_count": 5,
   "metadata": {},
   "outputs": [],
   "source": [
    "# Create DataFrame of all strikes data except species name and operator name\n",
    "final_main_dataframe = raw_data.drop(columns=['SPECIES', 'OPERATOR'])"
   ]
  },
  {
   "cell_type": "code",
   "execution_count": 6,
   "metadata": {},
   "outputs": [],
   "source": [
    "# 1990-1999 dataset (includes errant data point from 1985)\n",
    "strikes_90s = final_main_dataframe[final_main_dataframe['INCIDENT_YEAR'] < 2000]\n",
    "\n",
    "# 2000-2009 dataset\n",
    "strikes_00s = final_main_dataframe[\n",
    "    (final_main_dataframe['INCIDENT_YEAR'] >= 2000)\n",
    "    & (final_main_dataframe['INCIDENT_YEAR'] < 2010)\n",
    "]\n",
    "\n",
    "# 2010-2019 dataset (includes errant data from 2020)\n",
    "strikes_10s = final_main_dataframe[final_main_dataframe['INCIDENT_YEAR'] >= 2010]\n",
    "# Set index to FAA index number to format data for export\n",
    "strikes_10s = strikes_10s.set_index('INDX_NR')\n",
    "\n",
    "# Create CSV file of data from 1990 - 1999 (includes errant data point from 1985)\n",
    "strikes_90s.to_csv('FAA_Wildlife_strikes_1990-1999.csv', index=False)\n",
    "\n",
    "# Create Excel file of data from 2000 - 2009\n",
    "strikes_00s.to_excel('FAA_Wildlife_strikes_2000-2009.xlsx', index=False)\n",
    "\n",
    "# Create JSON file of data from 2010 - 2019 (actually contains records from 2020)\n",
    "strikes_10s.to_json('FAA_Wildlife_strikes_2010-2019.json')"
   ]
  },
  {
   "source": [
    "## Create cleaned dataset for open lab 3\n",
    "\n",
    "- Drop unnecesary columns\n",
    "- Add calculated columns from lab 2 ('SINGLE_OR_MULTI_ENGINE', 'HOUR', 'MONTH_NAME')\n",
    "- Create new columns for easier completion of activities ('SPECIES_GENERALIZE', 'SPECIES_TYPE')"
   ],
   "cell_type": "markdown",
   "metadata": {}
  },
  {
   "cell_type": "code",
   "execution_count": 36,
   "metadata": {},
   "outputs": [],
   "source": [
    "# Drop columns based on starting characters (dam_, str_, or reporter_)\n",
    "column_drop = raw_data.drop(columns=raw_data.filter(regex='^DAM_|STR_|ENG_|REPORTER_').columns)\n",
    "# Drop other columns\n",
    "column_drop = column_drop.drop(columns=['STATE', 'FAAREGION', 'LUPDATE', 'TRANSFER'])\n",
    "\n",
    "# Add column 'SINGLE_OR_MULTI_ENGINE'\n",
    "column_drop['SINGLE_OR_MULTI_ENGINE'] = [\n",
    "    'Single-engine' if val == 1 else 'Multi-engine' for val in column_drop['NUM_ENGS']\n",
    "]\n",
    "\n",
    "# Define a function that takes a time string in the form \"HH:MM\" and returns the\n",
    "# hour as an integer if the hour value is valid\n",
    "def calc_hour(time_str):\n",
    "    hour = time_str.split(':')[0]\n",
    "    if hour.strip(' ') != '':\n",
    "        return int(hour)\n",
    "\n",
    "# Add column 'HOUR' that contains numeric hour in which stirke occurred\n",
    "column_drop['HOUR'] = column_drop['TIME'].apply(calc_hour)\n",
    "\n",
    "# Add column 'MONTH_NAME' that contains the month name in which a strike occurred\n",
    "column_drop['MONTH_NAME'] = pd.to_datetime(\n",
    "    column_drop['INCIDENT_DATE ']).dt.month_name()\n",
    "\n",
    "# Add new column 'SPECIES_GENERALIZE' containing species names that generalizes the unknown species types to one type\n",
    "column_drop['SPECIES_GENERALIZE'] = column_drop['SPECIES'].replace({'Unknown.*': 'Unknown flying animal'}, regex=True)\n",
    "column_drop\n",
    "\n",
    "# Add new column 'SPECIES_TYPE' that contains values indicating if wildlife was a land or flying animal\n",
    "# column_drop['SPECIES_TYPE'] = column_drop['SPECIES']\n",
    "column_drop['SPECIES_TYPE'] = column_drop['SPECIES_ID'].str.contains(\n",
    "    '^1|2', regex=True).replace({True: 'Land animal', False: 'Flying animal'})\n",
    "\n",
    "column_drop.to_csv('FAA_Wildlife_strikes_clean.csv', index=False)"
   ]
  },
  {
   "cell_type": "code",
   "execution_count": null,
   "metadata": {},
   "outputs": [],
   "source": []
  }
 ]
}