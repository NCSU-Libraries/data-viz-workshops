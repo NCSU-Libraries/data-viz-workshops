{
 "metadata": {
  "language_info": {
   "codemirror_mode": {
    "name": "ipython",
    "version": 3
   },
   "file_extension": ".py",
   "mimetype": "text/x-python",
   "name": "python",
   "nbconvert_exporter": "python",
   "pygments_lexer": "ipython3",
   "version": "3.7.3-final"
  },
  "orig_nbformat": 2,
  "kernelspec": {
   "name": "python3",
   "display_name": "Python 3",
   "language": "python"
  }
 },
 "nbformat": 4,
 "nbformat_minor": 2,
 "cells": [
  {
   "source": [
    "# Preparing data files for open labs from raw data files"
   ],
   "cell_type": "markdown",
   "metadata": {}
  },
  {
   "source": [
    "import pandas as pd"
   ],
   "cell_type": "code",
   "metadata": {},
   "execution_count": 2,
   "outputs": []
  },
  {
   "source": [
    "## Preparing data from `raw_data/Wildlife_Export_1272020.csv`"
   ],
   "cell_type": "markdown",
   "metadata": {}
  },
  {
   "cell_type": "code",
   "execution_count": 3,
   "metadata": {},
   "outputs": [
    {
     "output_type": "execute_result",
     "data": {
      "text/plain": [
       "   INDX_NR INCIDENT_DATE   INCIDENT_MONTH  INCIDENT_YEAR   TIME TIME_OF_DAY  \\\n",
       "0  1080125     2020-11-05              11           2020  05:00         NaN   \n",
       "1  1080118     2020-11-05              11           2020  22:35         NaN   \n",
       "\n",
       "  AIRPORT_ID              AIRPORT RUNWAY STATE  ...   SIZE NR_INJURIES  \\\n",
       "0       KRDU  RALEIGH-DURHAM INTL    23R    NC  ...  Small         NaN   \n",
       "1       KGSO  PIEDMONT TRIAD INTL     5R    NC  ...  Large         NaN   \n",
       "\n",
       "   NR_FATALITIES COMMENT REPORTER_NAME REPORTER_TITLE             SOURCE  \\\n",
       "0            NaN     NaN      REDACTED       REDACTED  FAA Form 5200-7-E   \n",
       "1            NaN     NaN      REDACTED       REDACTED  FAA Form 5200-7-E   \n",
       "\n",
       "               PERSON     LUPDATE  TRANSFER  \n",
       "0  Airport Operations  2020-12-04     False  \n",
       "1  Airport Operations  2020-12-04     False  \n",
       "\n",
       "[2 rows x 93 columns]"
      ],
      "text/html": "<div>\n<style scoped>\n    .dataframe tbody tr th:only-of-type {\n        vertical-align: middle;\n    }\n\n    .dataframe tbody tr th {\n        vertical-align: top;\n    }\n\n    .dataframe thead th {\n        text-align: right;\n    }\n</style>\n<table border=\"1\" class=\"dataframe\">\n  <thead>\n    <tr style=\"text-align: right;\">\n      <th></th>\n      <th>INDX_NR</th>\n      <th>INCIDENT_DATE</th>\n      <th>INCIDENT_MONTH</th>\n      <th>INCIDENT_YEAR</th>\n      <th>TIME</th>\n      <th>TIME_OF_DAY</th>\n      <th>AIRPORT_ID</th>\n      <th>AIRPORT</th>\n      <th>RUNWAY</th>\n      <th>STATE</th>\n      <th>...</th>\n      <th>SIZE</th>\n      <th>NR_INJURIES</th>\n      <th>NR_FATALITIES</th>\n      <th>COMMENT</th>\n      <th>REPORTER_NAME</th>\n      <th>REPORTER_TITLE</th>\n      <th>SOURCE</th>\n      <th>PERSON</th>\n      <th>LUPDATE</th>\n      <th>TRANSFER</th>\n    </tr>\n  </thead>\n  <tbody>\n    <tr>\n      <th>0</th>\n      <td>1080125</td>\n      <td>2020-11-05</td>\n      <td>11</td>\n      <td>2020</td>\n      <td>05:00</td>\n      <td>NaN</td>\n      <td>KRDU</td>\n      <td>RALEIGH-DURHAM INTL</td>\n      <td>23R</td>\n      <td>NC</td>\n      <td>...</td>\n      <td>Small</td>\n      <td>NaN</td>\n      <td>NaN</td>\n      <td>NaN</td>\n      <td>REDACTED</td>\n      <td>REDACTED</td>\n      <td>FAA Form 5200-7-E</td>\n      <td>Airport Operations</td>\n      <td>2020-12-04</td>\n      <td>False</td>\n    </tr>\n    <tr>\n      <th>1</th>\n      <td>1080118</td>\n      <td>2020-11-05</td>\n      <td>11</td>\n      <td>2020</td>\n      <td>22:35</td>\n      <td>NaN</td>\n      <td>KGSO</td>\n      <td>PIEDMONT TRIAD INTL</td>\n      <td>5R</td>\n      <td>NC</td>\n      <td>...</td>\n      <td>Large</td>\n      <td>NaN</td>\n      <td>NaN</td>\n      <td>NaN</td>\n      <td>REDACTED</td>\n      <td>REDACTED</td>\n      <td>FAA Form 5200-7-E</td>\n      <td>Airport Operations</td>\n      <td>2020-12-04</td>\n      <td>False</td>\n    </tr>\n  </tbody>\n</table>\n<p>2 rows × 93 columns</p>\n</div>"
     },
     "metadata": {},
     "execution_count": 3
    }
   ],
   "source": [
    "# Load Wildlife_Export_1272020.csv\n",
    "raw_data = pd.read_csv('./raw_data/Wildlife_Export_1272020.csv')\n",
    "raw_data[:2]"
   ]
  },
  {
   "source": [
    "### Extract columns to create dataset of index number and species info\n",
    "\n",
    "This dataset is for the merge activity in open lab 2"
   ],
   "cell_type": "markdown",
   "metadata": {}
  },
  {
   "cell_type": "code",
   "execution_count": 4,
   "metadata": {},
   "outputs": [],
   "source": [
    "# Create DataFrame containing species ID  and species name\n",
    "strikes_species_data = raw_data[['SPECIES_ID', 'SPECIES']]\n",
    "species_id_table = strikes_species_data.drop_duplicates(subset=['SPECIES_ID'])\n",
    "\n",
    "# Create DataFrame of all strikes data except species ID and species name\n",
    "strikes_no_species = raw_data.drop(columns=['SPECIES'])"
   ]
  },
  {
   "cell_type": "code",
   "execution_count": 10,
   "metadata": {},
   "outputs": [],
   "source": [
    "# Create CSV file that contains only species data\n",
    "species_id_table.to_csv('FAA_Wildlife_species_id_table.csv', index=False)"
   ]
  },
  {
   "source": [
    "### Split data without species info into three different data file types (CSV, Excel, JSON) based on decade\n",
    "These datasets are for the loading files activity in lab 1 and the DataFrame concatenation activity in lab 2\n",
    "\n",
    "*Note: the 1990s dataset contains one record from 1985 and the 2010s dataset contains partial records from the year 2020*"
   ],
   "cell_type": "markdown",
   "metadata": {}
  },
  {
   "cell_type": "code",
   "execution_count": 11,
   "metadata": {},
   "outputs": [],
   "source": [
    "# Split dataset into three datasets based on record decade (1980-1999, 2000-2009, 2010-2019)\n",
    "strikes_decades = []\n",
    "for year in range(1990, 2020, 10):\n",
    "    strikes_decades.append(strikes_no_species[(strikes_no_species['INCIDENT_YEAR'] >= year)\n",
    "    & (strikes_no_species['INCIDENT_YEAR'] < year + 10)])"
   ]
  },
  {
   "cell_type": "code",
   "execution_count": 12,
   "metadata": {},
   "outputs": [],
   "source": [
    "# Combine first record in original dataset (from 1985) with 90s data\n",
    "strikes_90s = strikes_decades[0].append(\n",
    "    strikes_no_species[strikes_no_species['INCIDENT_YEAR'] < 1990])\n",
    "# Create CSV file of data from 1990 - 1999 (actually contains one record from 1985)\n",
    "strikes_90s.to_csv('FAA_Wildlife_strikes_1990-1999.csv', index=False)\n",
    "\n",
    "# Create Excel file of data from 2000 - 2009\n",
    "strikes_decades[1].to_excel('FAA_Wildlife_strikes_2000-2009.xlsx', index=False)\n",
    "\n",
    "# Concatenate third and fourth dataset to create dataset of records from 2010-2020\n",
    "strikes_10s = strikes_no_species[strikes_no_species['INCIDENT_YEAR'] > 2019].append(strikes_decades[2])\n",
    "# Set index to FAA index number to format data for export\n",
    "strikes_10s_new_index = strikes_10s.set_index('INDX_NR')\n",
    "# Create JSON file of data from 2010 - 2019 (actually contains records from 2020)\n",
    "strikes_10s_new_index.to_json('FAA_Wildlife_strikes_2010-2019.json', orient='index')"
   ]
  },
  {
   "source": [
    "## Create cleaned dataset for open lab 3"
   ],
   "cell_type": "markdown",
   "metadata": {}
  },
  {
   "cell_type": "code",
   "execution_count": 8,
   "metadata": {},
   "outputs": [
    {
     "output_type": "execute_result",
     "data": {
      "text/plain": [
       "      indx_nr incident_date  incident_month  incident_year   time time_of_day  \\\n",
       "0     1080125    2020-11-05              11           2020  05:00         NaN   \n",
       "1     1080118    2020-11-05              11           2020  22:35         NaN   \n",
       "2     1080126    2020-11-05              11           2020  11:00         Day   \n",
       "3     1080130    2020-11-05              11           2020  06:52         Day   \n",
       "4     1078243    2020-11-04              11           2020  05:20        Dawn   \n",
       "...       ...           ...             ...            ...    ...         ...   \n",
       "4959   611224    1990-06-01               6           1990                Day   \n",
       "4960   609163    1990-05-04               5           1990  11:35         Day   \n",
       "4961   611004    1990-04-20               4           1990                Day   \n",
       "4962   828185    1990-03-21               3           1990  21:30       Night   \n",
       "4963   608234    1985-01-06               1           1985               Dusk   \n",
       "\n",
       "     airport_id                      airport runway location  ...  \\\n",
       "0          KRDU          RALEIGH-DURHAM INTL    23R      NaN  ...   \n",
       "1          KGSO          PIEDMONT TRIAD INTL     5R      NaN  ...   \n",
       "2          KCLT  CHARLOTTE/DOUGLAS INTL ARPT    36C      NaN  ...   \n",
       "3          KCLT  CHARLOTTE/DOUGLAS INTL ARPT    36C      NaN  ...   \n",
       "4          KRDU          RALEIGH-DURHAM INTL    23R      NaN  ...   \n",
       "...         ...                          ...    ...      ...  ...   \n",
       "4959       KRDU          RALEIGH-DURHAM INTL             NaN  ...   \n",
       "4960       KCLT  CHARLOTTE/DOUGLAS INTL ARPT    18R      NaN  ...   \n",
       "4961       KCLT  CHARLOTTE/DOUGLAS INTL ARPT    18L      NaN  ...   \n",
       "4962       KGSO          PIEDMONT TRIAD INTL             NaN  ...   \n",
       "4963       KINT           SMITH REYOLDS ARPT             NaN  ...   \n",
       "\n",
       "      remains_sent   warned birds_seen birds_struck    size nr_injuries  \\\n",
       "0             True  Unknown                       1   Small         NaN   \n",
       "1            False  Unknown          1            1   Large         NaN   \n",
       "2            False      Yes                       1     NaN         NaN   \n",
       "3            False      Yes                       1     NaN         NaN   \n",
       "4             True  Unknown                       1   Small         NaN   \n",
       "...            ...      ...        ...          ...     ...         ...   \n",
       "4959         False       No                    2-10   Small         NaN   \n",
       "4960         False  Unknown          1            1   Small         NaN   \n",
       "4961         False       No          1            1  Medium         NaN   \n",
       "4962         False  Unknown          1            1  Medium         NaN   \n",
       "4963         False  Unknown                       1   Large         NaN   \n",
       "\n",
       "     nr_fatalities                                            comment  \\\n",
       "0              NaN                                                NaN   \n",
       "1              NaN                                                NaN   \n",
       "2              NaN                                                NaN   \n",
       "3              NaN                                                NaN   \n",
       "4              NaN                                                NaN   \n",
       "...            ...                                                ...   \n",
       "4959           NaN             DATE = POSTMARK /Legacy Record=XXXXXX/   \n",
       "4960           NaN                             /Legacy Record=XXXXXX/   \n",
       "4961           NaN        OPER = HENRY HARDING /Legacy Record=XXXXXX/   \n",
       "4962           NaN        SOURCE = BASH NR XXXXX /Legacy Record=XXXX/   \n",
       "4963           NaN  NTSB IDATLXXLAXXX  OPERATOR = PIEDMONT AVIATIO...   \n",
       "\n",
       "                 source              person  \n",
       "0     FAA Form 5200-7-E  Airport Operations  \n",
       "1     FAA Form 5200-7-E  Airport Operations  \n",
       "2     FAA Form 5200-7-E  Airport Operations  \n",
       "3     FAA Form 5200-7-E  Airport Operations  \n",
       "4     FAA Form 5200-7-E  Airport Operations  \n",
       "...                 ...                 ...  \n",
       "4959    FAA Form 5200-7                 NaN  \n",
       "4960    FAA Form 5200-7               Tower  \n",
       "4961    FAA Form 5200-7                 NaN  \n",
       "4962               BASH                 NaN  \n",
       "4963               NTSB               Other  \n",
       "\n",
       "[4964 rows x 59 columns]"
      ],
      "text/html": "<div>\n<style scoped>\n    .dataframe tbody tr th:only-of-type {\n        vertical-align: middle;\n    }\n\n    .dataframe tbody tr th {\n        vertical-align: top;\n    }\n\n    .dataframe thead th {\n        text-align: right;\n    }\n</style>\n<table border=\"1\" class=\"dataframe\">\n  <thead>\n    <tr style=\"text-align: right;\">\n      <th></th>\n      <th>indx_nr</th>\n      <th>incident_date</th>\n      <th>incident_month</th>\n      <th>incident_year</th>\n      <th>time</th>\n      <th>time_of_day</th>\n      <th>airport_id</th>\n      <th>airport</th>\n      <th>runway</th>\n      <th>location</th>\n      <th>...</th>\n      <th>remains_sent</th>\n      <th>warned</th>\n      <th>birds_seen</th>\n      <th>birds_struck</th>\n      <th>size</th>\n      <th>nr_injuries</th>\n      <th>nr_fatalities</th>\n      <th>comment</th>\n      <th>source</th>\n      <th>person</th>\n    </tr>\n  </thead>\n  <tbody>\n    <tr>\n      <th>0</th>\n      <td>1080125</td>\n      <td>2020-11-05</td>\n      <td>11</td>\n      <td>2020</td>\n      <td>05:00</td>\n      <td>NaN</td>\n      <td>KRDU</td>\n      <td>RALEIGH-DURHAM INTL</td>\n      <td>23R</td>\n      <td>NaN</td>\n      <td>...</td>\n      <td>True</td>\n      <td>Unknown</td>\n      <td></td>\n      <td>1</td>\n      <td>Small</td>\n      <td>NaN</td>\n      <td>NaN</td>\n      <td>NaN</td>\n      <td>FAA Form 5200-7-E</td>\n      <td>Airport Operations</td>\n    </tr>\n    <tr>\n      <th>1</th>\n      <td>1080118</td>\n      <td>2020-11-05</td>\n      <td>11</td>\n      <td>2020</td>\n      <td>22:35</td>\n      <td>NaN</td>\n      <td>KGSO</td>\n      <td>PIEDMONT TRIAD INTL</td>\n      <td>5R</td>\n      <td>NaN</td>\n      <td>...</td>\n      <td>False</td>\n      <td>Unknown</td>\n      <td>1</td>\n      <td>1</td>\n      <td>Large</td>\n      <td>NaN</td>\n      <td>NaN</td>\n      <td>NaN</td>\n      <td>FAA Form 5200-7-E</td>\n      <td>Airport Operations</td>\n    </tr>\n    <tr>\n      <th>2</th>\n      <td>1080126</td>\n      <td>2020-11-05</td>\n      <td>11</td>\n      <td>2020</td>\n      <td>11:00</td>\n      <td>Day</td>\n      <td>KCLT</td>\n      <td>CHARLOTTE/DOUGLAS INTL ARPT</td>\n      <td>36C</td>\n      <td>NaN</td>\n      <td>...</td>\n      <td>False</td>\n      <td>Yes</td>\n      <td></td>\n      <td>1</td>\n      <td>NaN</td>\n      <td>NaN</td>\n      <td>NaN</td>\n      <td>NaN</td>\n      <td>FAA Form 5200-7-E</td>\n      <td>Airport Operations</td>\n    </tr>\n    <tr>\n      <th>3</th>\n      <td>1080130</td>\n      <td>2020-11-05</td>\n      <td>11</td>\n      <td>2020</td>\n      <td>06:52</td>\n      <td>Day</td>\n      <td>KCLT</td>\n      <td>CHARLOTTE/DOUGLAS INTL ARPT</td>\n      <td>36C</td>\n      <td>NaN</td>\n      <td>...</td>\n      <td>False</td>\n      <td>Yes</td>\n      <td></td>\n      <td>1</td>\n      <td>NaN</td>\n      <td>NaN</td>\n      <td>NaN</td>\n      <td>NaN</td>\n      <td>FAA Form 5200-7-E</td>\n      <td>Airport Operations</td>\n    </tr>\n    <tr>\n      <th>4</th>\n      <td>1078243</td>\n      <td>2020-11-04</td>\n      <td>11</td>\n      <td>2020</td>\n      <td>05:20</td>\n      <td>Dawn</td>\n      <td>KRDU</td>\n      <td>RALEIGH-DURHAM INTL</td>\n      <td>23R</td>\n      <td>NaN</td>\n      <td>...</td>\n      <td>True</td>\n      <td>Unknown</td>\n      <td></td>\n      <td>1</td>\n      <td>Small</td>\n      <td>NaN</td>\n      <td>NaN</td>\n      <td>NaN</td>\n      <td>FAA Form 5200-7-E</td>\n      <td>Airport Operations</td>\n    </tr>\n    <tr>\n      <th>...</th>\n      <td>...</td>\n      <td>...</td>\n      <td>...</td>\n      <td>...</td>\n      <td>...</td>\n      <td>...</td>\n      <td>...</td>\n      <td>...</td>\n      <td>...</td>\n      <td>...</td>\n      <td>...</td>\n      <td>...</td>\n      <td>...</td>\n      <td>...</td>\n      <td>...</td>\n      <td>...</td>\n      <td>...</td>\n      <td>...</td>\n      <td>...</td>\n      <td>...</td>\n      <td>...</td>\n    </tr>\n    <tr>\n      <th>4959</th>\n      <td>611224</td>\n      <td>1990-06-01</td>\n      <td>6</td>\n      <td>1990</td>\n      <td></td>\n      <td>Day</td>\n      <td>KRDU</td>\n      <td>RALEIGH-DURHAM INTL</td>\n      <td></td>\n      <td>NaN</td>\n      <td>...</td>\n      <td>False</td>\n      <td>No</td>\n      <td></td>\n      <td>2-10</td>\n      <td>Small</td>\n      <td>NaN</td>\n      <td>NaN</td>\n      <td>DATE = POSTMARK /Legacy Record=XXXXXX/</td>\n      <td>FAA Form 5200-7</td>\n      <td>NaN</td>\n    </tr>\n    <tr>\n      <th>4960</th>\n      <td>609163</td>\n      <td>1990-05-04</td>\n      <td>5</td>\n      <td>1990</td>\n      <td>11:35</td>\n      <td>Day</td>\n      <td>KCLT</td>\n      <td>CHARLOTTE/DOUGLAS INTL ARPT</td>\n      <td>18R</td>\n      <td>NaN</td>\n      <td>...</td>\n      <td>False</td>\n      <td>Unknown</td>\n      <td>1</td>\n      <td>1</td>\n      <td>Small</td>\n      <td>NaN</td>\n      <td>NaN</td>\n      <td>/Legacy Record=XXXXXX/</td>\n      <td>FAA Form 5200-7</td>\n      <td>Tower</td>\n    </tr>\n    <tr>\n      <th>4961</th>\n      <td>611004</td>\n      <td>1990-04-20</td>\n      <td>4</td>\n      <td>1990</td>\n      <td></td>\n      <td>Day</td>\n      <td>KCLT</td>\n      <td>CHARLOTTE/DOUGLAS INTL ARPT</td>\n      <td>18L</td>\n      <td>NaN</td>\n      <td>...</td>\n      <td>False</td>\n      <td>No</td>\n      <td>1</td>\n      <td>1</td>\n      <td>Medium</td>\n      <td>NaN</td>\n      <td>NaN</td>\n      <td>OPER = HENRY HARDING /Legacy Record=XXXXXX/</td>\n      <td>FAA Form 5200-7</td>\n      <td>NaN</td>\n    </tr>\n    <tr>\n      <th>4962</th>\n      <td>828185</td>\n      <td>1990-03-21</td>\n      <td>3</td>\n      <td>1990</td>\n      <td>21:30</td>\n      <td>Night</td>\n      <td>KGSO</td>\n      <td>PIEDMONT TRIAD INTL</td>\n      <td></td>\n      <td>NaN</td>\n      <td>...</td>\n      <td>False</td>\n      <td>Unknown</td>\n      <td>1</td>\n      <td>1</td>\n      <td>Medium</td>\n      <td>NaN</td>\n      <td>NaN</td>\n      <td>SOURCE = BASH NR XXXXX /Legacy Record=XXXX/</td>\n      <td>BASH</td>\n      <td>NaN</td>\n    </tr>\n    <tr>\n      <th>4963</th>\n      <td>608234</td>\n      <td>1985-01-06</td>\n      <td>1</td>\n      <td>1985</td>\n      <td></td>\n      <td>Dusk</td>\n      <td>KINT</td>\n      <td>SMITH REYOLDS ARPT</td>\n      <td></td>\n      <td>NaN</td>\n      <td>...</td>\n      <td>False</td>\n      <td>Unknown</td>\n      <td></td>\n      <td>1</td>\n      <td>Large</td>\n      <td>NaN</td>\n      <td>NaN</td>\n      <td>NTSB IDATLXXLAXXX  OPERATOR = PIEDMONT AVIATIO...</td>\n      <td>NTSB</td>\n      <td>Other</td>\n    </tr>\n  </tbody>\n</table>\n<p>4964 rows × 59 columns</p>\n</div>"
     },
     "metadata": {},
     "execution_count": 8
    }
   ],
   "source": [
    "# Strip whitespace from column headers and convert to lowercase\n",
    "column_format = raw_data.rename(columns=lambda x: x.strip().lower())\n",
    "# Drop columns based on starting characters (dam_, str_, or reporter_)\n",
    "column_drop = column_format.drop(columns=column_format.filter(regex='^dam_|str_|reporter_').columns)\n",
    "# Drop other columns\n",
    "column_drop = column_drop.drop(columns=['state', 'faaregion', 'lupdate', 'transfer'])\n",
    "# Generalize the unknown species types to one type\n",
    "generalize_unknown_species = column_drop.replace({'species': 'Unknown.*'}, 'Unknown flying animal', regex=True)\n",
    "generalize_unknown_species"
   ]
  },
  {
   "cell_type": "code",
   "execution_count": null,
   "metadata": {},
   "outputs": [],
   "source": []
  }
 ]
}