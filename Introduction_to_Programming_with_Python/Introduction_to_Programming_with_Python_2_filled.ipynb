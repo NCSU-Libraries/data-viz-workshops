{
  "nbformat": 4,
  "nbformat_minor": 0,
  "metadata": {
    "colab": {
      "name": "Introduction_to_Programming_with_Python_2_filled",
      "provenance": [],
      "collapsed_sections": [],
      "toc_visible": true
    },
    "kernelspec": {
      "name": "python3",
      "display_name": "Python 3"
    }
  },
  "cells": [
    {
      "cell_type": "markdown",
      "metadata": {
        "id": "tthj14biQ8PC"
      },
      "source": [
        "# Introduction to Programming with Python - Part 2\n",
        "\n",
        "##  Setup\n",
        "\n",
        "With this Google Colaboratory (Colab) notebook open, click the \"Copy to Drive\" button that appears in the menu bar. The notebook will then be attached to your own user account, so you can edit it in any way you like -- you can even take notes directly in the notebook.\n",
        "\n",
        "## Instructors\n",
        "\n",
        "- Ashley Evans Bandy\n",
        "- Claire Cahoon\n",
        "- Walt Gurley\n",
        "- Natalia Lopez\n",
        "\n",
        "## Learning objectives\n",
        "\n",
        "By the end of our workshop today, we hope you'll build on basic Python syntax to understand control flow and reading and writing files. With these in hand, you'll know enough to write and apply basic scripts and explore other features of the language.  \n",
        "\n",
        "## Today's Topics\n",
        "- Comparison operators\n",
        "- If statements\n",
        "- For loops\n",
        "- Reading and writing files\n",
        "\n",
        "If you would like to learn more about data analysis using Python, we will explore these topics in our Python open labs starting next week.\n",
        "\n",
        "If you would like to refer back to last week's materials, you can find \"Introduction to Programming with Python - Part 1\" at [https://go.ncsu.edu/intro-prog-py](https://github.com/NCSU-Libraries/data-viz-workshops/tree/master/Introduction_to_Programming_with_Python)\n"
      ]
    },
    {
      "cell_type": "markdown",
      "metadata": {
        "id": "eHC3aUKKGIwM"
      },
      "source": [
        "## Zoom etiquette\n",
        "\n",
        "Please make sure that your mic is muted during the workshop."
      ]
    },
    {
      "cell_type": "markdown",
      "metadata": {
        "id": "EltGLYRoGIwN"
      },
      "source": [
        "## Questions during the workshop\n",
        "\n",
        "Please feel free to ask questions in the Zoom chat throughout the workshop.\n",
        "\n",
        "We have a second instructor who will be monitoring chat on Zoom. They will answer as able, and will collect questions with answers that might help everyone to be answered at the end of the workshop."
      ]
    },
    {
      "cell_type": "markdown",
      "metadata": {
        "id": "EXNouJI__sf2"
      },
      "source": [
        "## Jupyter Notebooks and Google Colaboratory\r\n",
        "\r\n",
        "We will be using Google Colabs in today's workshop. Jupyter notebooks are a way to write and run Python code in an interactive way. If you would like to know more about Colaboratory or how to use this tool, you can visit the [Welcome Notebook](https://colab.research.google.com/notebooks/welcome.ipynb).\r\n",
        "\r\n",
        "If you'd like to install a Python distribution locally, though, we're happy to help. Feel free to [get help from our graduate consultants](https://www.lib.ncsu.edu/dxl) or [schedule an appointment with Libraries staff](https://go.ncsu.edu/dvs-request)."
      ]
    },
    {
      "cell_type": "markdown",
      "metadata": {
        "id": "Lk20eiVAHIwv"
      },
      "source": [
        "## Control flow \r\n",
        "\r\n",
        "Control flow refers to statements that allow you to change the path of your program. Instead of executing each line of code in order, you can make decisions or move to different lines of code depending on different conditions.\r\n",
        "\r\n",
        "To learn more about control flow:\r\n",
        "\r\n",
        "- [\"Control Flow\" chapter of *A Byte of Python*](https://python.swaroopch.com/functions.html)\r\n",
        "- [Python documentation on control flow tools](https://docs.python.org/3/tutorial/controlflow.html)"
      ]
    },
    {
      "cell_type": "markdown",
      "metadata": {
        "id": "v-LYg5HFTqqS"
      },
      "source": [
        "### If Statements\r\n",
        "\r\n",
        "\"The if statement is used to check a condition: if the condition is true, we run a block of statements (called the if-block), else we process another block of statements (called the else-block). The else clause is optional.\" (From [\"Control Flow\" chapter of *A Byte of Python* includes a section on \"If Statements\"](https://python.swaroopch.com/functions.html))"
      ]
    },
    {
      "cell_type": "markdown",
      "metadata": {
        "id": "wtHp5Yf9o5mc"
      },
      "source": [
        "#### Comparison Operators\n",
        "\n",
        "Comparison operators are used to compare two values and return a value of `True` or `False`, a boolean data type.\n",
        "\n",
        "The following are Python comparison operators: `==`, `!=`, `>`, `<`, `>=`, `<=`"
      ]
    },
    {
      "cell_type": "code",
      "metadata": {
        "colab": {
          "base_uri": "https://localhost:8080/"
        },
        "id": "ZVaOVYZwY_GJ",
        "outputId": "35833f12-fe5b-476b-ffd1-25404ad8a606"
      },
      "source": [
        "# Compare numbers\n",
        "print(3 > 2)\n",
        "print(3 < 2)\n",
        "print(3 != 2)\n",
        "print(3 == 2)"
      ],
      "execution_count": null,
      "outputs": [
        {
          "output_type": "stream",
          "text": [
            "True\n",
            "False\n",
            "True\n",
            "False\n"
          ],
          "name": "stdout"
        }
      ]
    },
    {
      "cell_type": "code",
      "metadata": {
        "colab": {
          "base_uri": "https://localhost:8080/"
        },
        "id": "dbjij2HOZGYO",
        "outputId": "d3014647-f2bf-4e99-d902-f39b1b6be6d5"
      },
      "source": [
        "# Compare strings\n",
        "print(\"This string\" == \"this string\")\n",
        "print(\"This string\" != \"Another string\")"
      ],
      "execution_count": null,
      "outputs": [
        {
          "output_type": "stream",
          "text": [
            "False\n",
            "True\n"
          ],
          "name": "stdout"
        }
      ]
    },
    {
      "cell_type": "code",
      "metadata": {
        "colab": {
          "base_uri": "https://localhost:8080/"
        },
        "id": "RcTJdQUpSmgY",
        "outputId": "016e87b8-175a-4698-99c0-7b1dc866db4e"
      },
      "source": [
        "# Compare other expressions using multiple data types\n",
        "len(\"This string\") > 2*3"
      ],
      "execution_count": null,
      "outputs": [
        {
          "output_type": "execute_result",
          "data": {
            "text/plain": [
              "True"
            ]
          },
          "metadata": {
            "tags": []
          },
          "execution_count": 16
        }
      ]
    },
    {
      "cell_type": "markdown",
      "metadata": {
        "id": "TIZ1-awbzbRF"
      },
      "source": [
        "**Try it yourself:** What is the result of this comparison?"
      ]
    },
    {
      "cell_type": "code",
      "metadata": {
        "colab": {
          "base_uri": "https://localhost:8080/"
        },
        "id": "aT-bNlRwz7vG",
        "outputId": "534dc2f6-8fae-4ee1-83ef-aed0f4b2e781"
      },
      "source": [
        "len([1, 2]) == 2"
      ],
      "execution_count": null,
      "outputs": [
        {
          "output_type": "execute_result",
          "data": {
            "text/plain": [
              "True"
            ]
          },
          "metadata": {
            "tags": []
          },
          "execution_count": 39
        }
      ]
    },
    {
      "cell_type": "markdown",
      "metadata": {
        "id": "KISb4TEqjZ7b"
      },
      "source": [
        "#### If, Else if, Else (`if`, `elif`, `else`)"
      ]
    },
    {
      "cell_type": "code",
      "metadata": {
        "id": "EDJp21NoHIwv",
        "colab": {
          "base_uri": "https://localhost:8080/"
        },
        "outputId": "5aed20d2-5bda-4c59-c917-0e6da5b78eaf"
      },
      "source": [
        "# If statements (conditional execution)\n",
        "cat_name = \"Bob\"\n",
        "\n",
        "# Print \"Hi Bob!\" if cat_name is \"Bob\"\n",
        "if cat_name == \"Bob\":\n",
        "  print(\"Hi Bob!\")\n",
        "\n",
        "# Add an else statment if the condition isn't met\n",
        "if cat_name == \"Bob\":\n",
        "  print(\"Hi Bob!\")\n",
        "else:\n",
        "  print(\"Who are you?\")"
      ],
      "execution_count": null,
      "outputs": [
        {
          "output_type": "stream",
          "text": [
            "Hi Bob!\n",
            "Hi Bob!\n"
          ],
          "name": "stdout"
        }
      ]
    },
    {
      "cell_type": "code",
      "metadata": {
        "id": "NdAGrsNTHIwz",
        "colab": {
          "base_uri": "https://localhost:8080/"
        },
        "outputId": "4fd886c7-6760-4490-9288-c2e986074393"
      },
      "source": [
        "#You can use if, else if (\"elif\"), and else to specify more than one condition\n",
        "if cat_name == \"Bob\":\n",
        "  print(\"That's my cat, \" + cat_name)\n",
        "elif cat_name == \"Bill\":\n",
        "  print(\"That's my other cat, \" + cat_name)\n",
        "else:\n",
        "  print(\"Who are you?\")"
      ],
      "execution_count": null,
      "outputs": [
        {
          "output_type": "stream",
          "text": [
            "That's my cat, Bob\n"
          ],
          "name": "stdout"
        }
      ]
    },
    {
      "cell_type": "code",
      "metadata": {
        "colab": {
          "base_uri": "https://localhost:8080/"
        },
        "id": "oM5eWA7bmdl5",
        "outputId": "09187b73-1e53-4e30-b116-74ffb75d9657"
      },
      "source": [
        "#You can also use logical operators (and, or, not) to evaluate expressions.\n",
        "cat_name = \"Bob\"\n",
        "\n",
        "if cat_name == \"Bob\" or cat_name == \"Bill\":\n",
        "  print(\"That's my cat, \" + cat_name)\n",
        "else:\n",
        "  print(\"Who are you?\")"
      ],
      "execution_count": null,
      "outputs": [
        {
          "output_type": "stream",
          "text": [
            "That's my cat, Bob\n"
          ],
          "name": "stdout"
        }
      ]
    },
    {
      "cell_type": "code",
      "metadata": {
        "id": "tsekt_Q0sK28",
        "colab": {
          "base_uri": "https://localhost:8080/"
        },
        "outputId": "700f4ff9-95d2-4b02-b05a-25d48e1494c9"
      },
      "source": [
        "# Greater than or less than can be used as part of an if statement \n",
        "cat_ages = {\n",
        "    \"Sally\": 5, \n",
        "    \"Bob\": 16,\n",
        "    \"Bill\": 1,\n",
        "    \"Carla\": 10,\n",
        "    \"Pete\": 3\n",
        "}\n",
        "\n",
        "# Pick a cat name from the cat_ages dictionary\n",
        "cat_name = \"Bill\"\n",
        "\n",
        "# Print a message based on the age range of a cat\n",
        "if cat_ages[cat_name] <= 2:\n",
        "  print(cat_name + \" you are a kitten\")\n",
        "elif cat_ages[cat_name] > 2 and cat_ages[cat_name] <= 8:\n",
        "  print(cat_name + \" you are an adult\")\n",
        "else:\n",
        "  print(cat_name + \" you are a senior cat\")"
      ],
      "execution_count": null,
      "outputs": [
        {
          "output_type": "stream",
          "text": [
            "Bill you are a kitten\n"
          ],
          "name": "stdout"
        }
      ]
    },
    {
      "cell_type": "markdown",
      "metadata": {
        "id": "iFI3csFFnNBX"
      },
      "source": [
        "#### Activity: Use `if` statements to create personalized messages (10 min)\n",
        "\n",
        "Write an if statement (`if`, `elif`, `else`) that includes an operator (`and`, `or`, `not`) to generate a message for members of the *International Cats of Mystery* service (member information is contained in the dictionaries below). The language of the message is dependant on the following criteria:\n",
        "\n",
        "If a someone has been a member for three years or more, and they have more than one subscription, then send them this message:\n",
        "\n",
        "> **[member name]**, as a loyal member, you are eligible for a special offer.\n",
        "\n",
        "Otherwise, send them this message:\n",
        "\n",
        "> **[member name]**, thank you for your membership. Are you subscribed to all of our channels?\n",
        "\n",
        "TIP: Note that the `joined` key in the member information dictionary contains the date that a member joined, not the number of membership years."
      ]
    },
    {
      "cell_type": "code",
      "metadata": {
        "id": "uDFVmAq5w2M3"
      },
      "source": [
        "# Dictionaries containing individual member information for members of the\n",
        "# International Cats of Mystery service\n",
        "member_info_1 = {\"name\": \"Bill\", \n",
        "                 \"joined\": 2015, \n",
        "                 \"address 1\": \"12309 Scratch Tree Lane\", \n",
        "                 \"address 2\": \"Apt. 1\", \n",
        "                 \"city\": \"Beverly Hills\", \n",
        "                 \"state\": \"CA\", \n",
        "                 \"zip code\":\"90210\", \n",
        "                 \"subscriptions\" : ['Little Known Hiss-tories podcast']}\n",
        "member_info_2 = {\"name\": \"Pete\", \n",
        "                 \"joined\": 2018, \n",
        "                 \"address 1\": \"501 Grumpy Street\", \n",
        "                 \"address 2\": \"\", \n",
        "                 \"city\": \"Long Beach\", \n",
        "                 \"state\": \"California\", \n",
        "                 \"zip code\": \"90803\",\n",
        "                 \"subscriptions\" : ['Leisure Cats magazine','Little Known Hiss-tories podcast']}\n",
        "member_info_3 = {\"name\": \"Carla\", \n",
        "                 \"joined\": 2006, \n",
        "                 \"address 1\": \"2120 Curious Court\", \n",
        "                 \"address 2\": \"unit B\", \n",
        "                 \"city\": \"Raleigh\", \n",
        "                 \"state\": \"North Carolina\", \n",
        "                 \"zip code\": \"27610\", \n",
        "                 \"subscriptions\" : ['email newsletter', 'Cat Nips subscription box']}"
      ],
      "execution_count": null,
      "outputs": []
    },
    {
      "cell_type": "code",
      "metadata": {
        "id": "FYlf0yAznK0q",
        "colab": {
          "base_uri": "https://localhost:8080/"
        },
        "outputId": "34ed84b2-8ea7-470b-f5f7-a03af25ae885"
      },
      "source": [
        "\n",
        "# Check a member's years of membership and number of subscriptions and print a\n",
        "# message accordingly\n",
        "member = member_info_1\n",
        "\n",
        "if member[\"joined\"] <= 2018 and len(member[\"subscriptions\"]) > 1:\n",
        "  print(member[\"name\"] + \", as a loyal member, you are eligible for a special offer.\")\n",
        "else:\n",
        "  print(member[\"name\"] + \", thank you for your membership. Are you subscribed to all of our channels?\")"
      ],
      "execution_count": null,
      "outputs": [
        {
          "output_type": "stream",
          "text": [
            "Bill, thank you for your membership. Are you subscribed to all of our channels?\n"
          ],
          "name": "stdout"
        }
      ]
    },
    {
      "cell_type": "markdown",
      "metadata": {
        "id": "lr8pMulVuGtl"
      },
      "source": [
        "#### Bonus Activity: If Statement\n",
        "\n",
        "If you have additional time after completing the previous activity try this bonus challenge. Write a similar if statement to the one above, but conisder how you might include an additional condition. The language of the message is dependant on the following revised criteria:\n",
        "\n",
        "If a someone has been a member for three years or more, and they have more than one subscription, then send them this message:\n",
        "\n",
        "> **[member name]**, as a loyal member, you are eligible for a special offer.\n",
        "\n",
        "If someone has been a member for three years or more, and they have more than one subscription, and they live in California then send them this message:\n",
        "\n",
        "> **[member name]**, thank you for being a loyal member.\n",
        "\n",
        "Otherwise, send them this message:\n",
        "\n",
        "> **[member name]**, thank you for your membership. Are you subscribed to all of our channels?\n",
        "\n",
        "TIP: While not covered previously, you can nest if statements, with one inside another as a way to write this code. Try looking up how to do nest if statements and note how the indentation might change."
      ]
    },
    {
      "cell_type": "code",
      "metadata": {
        "colab": {
          "base_uri": "https://localhost:8080/"
        },
        "id": "ZKCF5Kt91QtO",
        "outputId": "27372002-32d6-42b7-f0d4-fd91296fd129"
      },
      "source": [
        "# Check a member's years of membership, number of subscriptions, and state and\n",
        "# print a message accordingly\n",
        "member = member_info_1\n",
        "\n",
        "if member[\"joined\"] <= 2018 and len(member[\"subscriptions\"]) > 1:\n",
        "  if member[\"state\"] == \"CA\" or member[\"state\"] ==\"California\":\n",
        "    print(member[\"name\"] + \", thank you for being a loyal member.\")\n",
        "  else:\n",
        "    print(member[\"name\"] + \", as a loyal member, you are eligible for a special offer.\")\n",
        "else:\n",
        "  print(member[\"name\"] + \", thank you for your membership. Are you subscribed to all of our channels?\")"
      ],
      "execution_count": null,
      "outputs": [
        {
          "output_type": "stream",
          "text": [
            "Bill, thank you for your membership. Are you subscribed to all of our channels?\n"
          ],
          "name": "stdout"
        }
      ]
    },
    {
      "cell_type": "markdown",
      "metadata": {
        "id": "Budxyg0zT4eK"
      },
      "source": [
        "### For loops\r\n",
        "\r\n",
        "For loops iterate over a sequence of objects and peform some sort of function. \r\n",
        "\r\n",
        "For example, a \"For loop\" can be used to go through a list of names, and evaluate whether each name is uppercase or not.\r\n",
        "\r\n",
        "- [Refer to the \"For loop\" section in \"Control Flow\" chapter of *A Byte of Python*](https://python.swaroopch.com/functions.html)"
      ]
    },
    {
      "cell_type": "code",
      "metadata": {
        "colab": {
          "base_uri": "https://localhost:8080/"
        },
        "id": "D0rVgXIxn8XS",
        "outputId": "1b91c8b6-1a80-4646-f070-412570acd329"
      },
      "source": [
        "# Iterate over a range\n",
        "# The range function returns a sequence of numbers, you can specify the length, among other things.\n",
        "# Here, the range gives 6 numbers, starting at zero.\n",
        "for i in range(6):\n",
        "  print(i)"
      ],
      "execution_count": null,
      "outputs": [
        {
          "output_type": "stream",
          "text": [
            "0\n",
            "1\n",
            "2\n",
            "3\n",
            "4\n",
            "5\n"
          ],
          "name": "stdout"
        }
      ]
    },
    {
      "cell_type": "code",
      "metadata": {
        "colab": {
          "base_uri": "https://localhost:8080/"
        },
        "id": "zXdkrbOFtOJo",
        "outputId": "bba9b547-4368-4fd7-8266-c8991d3403e7"
      },
      "source": [
        "# Iterate over a string\n",
        "for letter in \"Bill\":\n",
        "  print(letter)"
      ],
      "execution_count": null,
      "outputs": [
        {
          "output_type": "stream",
          "text": [
            "B\n",
            "i\n",
            "l\n",
            "l\n"
          ],
          "name": "stdout"
        }
      ]
    },
    {
      "cell_type": "code",
      "metadata": {
        "id": "quma-JNWHIw3",
        "colab": {
          "base_uri": "https://localhost:8080/"
        },
        "outputId": "5fb562de-554e-4729-800e-2c8459339fb1"
      },
      "source": [
        "# For loops let you iterate over a list or other iterable object\n",
        "cat_names = [\"Bob\", \"Bill\", \"Pete\", \"Carla\", \"Sally\"]\n",
        "\n",
        "for name in cat_names:\n",
        "  print(name, len(name))"
      ],
      "execution_count": null,
      "outputs": [
        {
          "output_type": "stream",
          "text": [
            "Bob 3\n",
            "Bill 4\n",
            "Pete 4\n",
            "Carla 5\n",
            "Sally 5\n"
          ],
          "name": "stdout"
        }
      ]
    },
    {
      "cell_type": "code",
      "metadata": {
        "id": "oMXUE6vQHIw5",
        "colab": {
          "base_uri": "https://localhost:8080/"
        },
        "outputId": "f6b3909c-f391-4dbb-f8db-ce9041fa01b3"
      },
      "source": [
        "# You can combine types of control flow\n",
        "for name in cat_names:\n",
        "  if len(name) > 3:\n",
        "    print(name)"
      ],
      "execution_count": null,
      "outputs": [
        {
          "output_type": "stream",
          "text": [
            "Bill\n",
            "Pete\n",
            "Carla\n",
            "Sally\n"
          ],
          "name": "stdout"
        }
      ]
    },
    {
      "cell_type": "markdown",
      "metadata": {
        "id": "JzaZUzTEqrDj"
      },
      "source": [
        "### Activity: Test for correct member state names using a `for` loop and `if` statements (10 min)\n",
        "\n",
        "We have combined the individual membership information for each member of the *International Cats of Mystery* service into the list `members`. We need to determine if the `state` address listing for each member is formatted correctly as a two letter abbreviation (e.g., North Dakota should be listed as ND).\n",
        "\n",
        "Create a for loop to iterate over the list of members to test if each member's `state` address listing is formatted correctly as a two letter abbreviation. If it is correctly formatted, print out:\n",
        "\n",
        ">  State name correct for **[member name]**\n",
        "\n",
        "if it is not correctly formatted, print:\n",
        "\n",
        "> Fix **[member state]** for **[member name]**"
      ]
    },
    {
      "cell_type": "code",
      "metadata": {
        "colab": {
          "base_uri": "https://localhost:8080/"
        },
        "id": "H7TP80gtv5dc",
        "outputId": "906bda50-3086-46d7-86e5-2ed8c801506b"
      },
      "source": [
        "# Combine the member info from the first activity into a list\n",
        "members = [member_info_1, member_info_2, member_info_3]\n",
        "members"
      ],
      "execution_count": null,
      "outputs": [
        {
          "output_type": "execute_result",
          "data": {
            "text/plain": [
              "[{'address 1': '12309 Scratch Tree Lane',\n",
              "  'address 2': 'Apt. 1',\n",
              "  'city': 'Beverly Hills',\n",
              "  'joined': 2015,\n",
              "  'name': 'Bill',\n",
              "  'state': 'CA',\n",
              "  'subscriptions': ['Little Known Hiss-tories podcast'],\n",
              "  'zip code': '90210'},\n",
              " {'address 1': '501 Grumpy Street',\n",
              "  'address 2': '',\n",
              "  'city': 'Long Beach',\n",
              "  'joined': 2018,\n",
              "  'name': 'Pete',\n",
              "  'state': 'California',\n",
              "  'subscriptions': ['Leisure Cats magazine',\n",
              "   'Little Known Hiss-tories podcast'],\n",
              "  'zip code': '90803'},\n",
              " {'address 1': '2120 Curious Court',\n",
              "  'address 2': 'unit B',\n",
              "  'city': 'Raleigh',\n",
              "  'joined': 2006,\n",
              "  'name': 'Carla',\n",
              "  'state': 'North Carolina',\n",
              "  'subscriptions': ['email newsletter', 'Cat Nips subscription box'],\n",
              "  'zip code': '27610'}]"
            ]
          },
          "metadata": {
            "tags": []
          },
          "execution_count": 75
        }
      ]
    },
    {
      "cell_type": "code",
      "metadata": {
        "id": "JSR57aaVvGoC",
        "colab": {
          "base_uri": "https://localhost:8080/"
        },
        "outputId": "c1b93cd0-3871-45eb-d3f9-69aa1bfe798c"
      },
      "source": [
        "# Loop over the member info to test if state address is correctly formatted\n",
        "for member in members:\n",
        "  if len(member[\"state\"]) > 2:\n",
        "    print(\"Fix \" + member['state'] + \" for \" + member['name'])\n",
        "  else:\n",
        "    print(\"State name correct for \" + member['name'])"
      ],
      "execution_count": null,
      "outputs": [
        {
          "output_type": "stream",
          "text": [
            "State name correct for Bill\n",
            "Fix California for Pete\n",
            "Fix North Carolina for Carla\n"
          ],
          "name": "stdout"
        }
      ]
    },
    {
      "cell_type": "code",
      "metadata": {
        "colab": {
          "base_uri": "https://localhost:8080/"
        },
        "id": "__UTmoBgscPV",
        "outputId": "0f15518d-2116-42f3-96ba-55d18cb2a16a"
      },
      "source": [
        "# Using a function in a for loop\n",
        "def state_name_correct(member):\n",
        "  if len(member[\"state\"]) > 2:\n",
        "    print(\"Fix \" + member['state'] + \" for \" + member['name'])\n",
        "  else:\n",
        "    print(\"State name correct for \" + member['name'])\n",
        "\n",
        "for member in members:\n",
        "  state_name_correct(member)"
      ],
      "execution_count": null,
      "outputs": [
        {
          "output_type": "stream",
          "text": [
            "State name correct for Bill\n",
            "Fix California for Pete\n",
            "Fix North Carolina for Carla\n"
          ],
          "name": "stdout"
        }
      ]
    },
    {
      "cell_type": "markdown",
      "metadata": {
        "id": "Ay8ASNZ5Dhga"
      },
      "source": [
        "## 5 Minute Break"
      ]
    },
    {
      "cell_type": "markdown",
      "metadata": {
        "id": "aTFfhbLqT_fC"
      },
      "source": [
        "**ADVANCED: List Comprehensions**\n",
        "\n",
        "List comprehensions are a \"pythonic\" way of building lists in a compact manner"
      ]
    },
    {
      "cell_type": "code",
      "metadata": {
        "id": "NY2cs8OyHIxA",
        "colab": {
          "base_uri": "https://localhost:8080/"
        },
        "outputId": "75f7e96c-50ae-49b6-f6c7-dd732758c6d5"
      },
      "source": [
        "# A list of numbers\n",
        "nums = [1, 2, 3, 4]\n",
        "\n",
        "# A function to add 1 to a number\n",
        "def add_1(n):\n",
        "    return n + 1\n",
        "\n",
        "# Create a new list applying the function add_one() to the values in nums\n",
        "[add_1(num) for num in nums]"
      ],
      "execution_count": null,
      "outputs": [
        {
          "output_type": "execute_result",
          "data": {
            "text/plain": [
              "[2, 3, 4, 5]"
            ]
          },
          "metadata": {
            "tags": []
          },
          "execution_count": 1
        }
      ]
    },
    {
      "cell_type": "code",
      "metadata": {
        "id": "_pB53kxgHIxD",
        "colab": {
          "base_uri": "https://localhost:8080/"
        },
        "outputId": "dd6035a1-126b-45a0-f7d0-6a22218322e7"
      },
      "source": [
        "# Using conditional statements in list comprehension\n",
        "cat_names\n",
        "\n",
        "[name.lower() for name in cat_names if len(name) > 3]"
      ],
      "execution_count": null,
      "outputs": [
        {
          "output_type": "execute_result",
          "data": {
            "text/plain": [
              "['bill', 'pete', 'carla', 'sally']"
            ]
          },
          "metadata": {
            "tags": []
          },
          "execution_count": 6
        }
      ]
    },
    {
      "cell_type": "markdown",
      "metadata": {
        "id": "QP45Owsdl4Df"
      },
      "source": [
        "## Reading and writing files\n",
        "\n",
        "Working with comma-separated and similar data files will be covered in a later workshop. It's worthwhile, however, to see how to read and write data or text to and from a file. We'll start with writing some text to a file, then explore how to read it."
      ]
    },
    {
      "cell_type": "markdown",
      "metadata": {
        "id": "5i7mNsRRKO5Q"
      },
      "source": [
        "### Write to a file"
      ]
    },
    {
      "cell_type": "code",
      "metadata": {
        "id": "QOj4Ix0dHIxL"
      },
      "source": [
        "# Sample text to write to a file\n",
        "sample_text = \"\"\"\n",
        "Cats and kittens everywhere,\n",
        "Hundreds of cats,\n",
        "Thousands of cats,\n",
        "Millions and billions and trillions of cats.\n",
        "\"\"\"\n",
        "\n",
        "# Write the sample text to a file (test different open modes)\n",
        "with open('cat_text.txt', 'w') as f:\n",
        "    f.write(sample_text)\n",
        "    \n",
        "# You might sometimes see an older pattern:\n",
        "# f = open('lorem.txt', 'w')\n",
        "# f.write(sample_text)\n",
        "# f.close()"
      ],
      "execution_count": null,
      "outputs": []
    },
    {
      "cell_type": "markdown",
      "metadata": {
        "id": "1ep7L8N2GIzt"
      },
      "source": [
        "You can check the \"Files\" tab in the column at left now to find the output file.\n",
        "Note that you must click the REFRESH\" button to see it."
      ]
    },
    {
      "cell_type": "markdown",
      "metadata": {
        "id": "DBY4rdGgKUoJ"
      },
      "source": [
        "### Read a file"
      ]
    },
    {
      "cell_type": "code",
      "metadata": {
        "id": "2K-9QtptHIxN",
        "colab": {
          "base_uri": "https://localhost:8080/"
        },
        "outputId": "370ffe71-a683-49fa-f1e4-36f223a9f9bf"
      },
      "source": [
        "# Read the newly created file.\n",
        "with open('cat_text.txt', 'r') as f:\n",
        "    print(f.read())"
      ],
      "execution_count": null,
      "outputs": [
        {
          "output_type": "stream",
          "text": [
            "\n",
            "Cats and kittens everywhere,\n",
            "Hundreds of cats,\n",
            "Thousands of cats,\n",
            "Millions and billions and trillions of cats.\n",
            "\n"
          ],
          "name": "stdout"
        }
      ]
    },
    {
      "cell_type": "code",
      "metadata": {
        "id": "yViwpBFMHIxO",
        "colab": {
          "base_uri": "https://localhost:8080/"
        },
        "outputId": "7332fb7c-15ea-42c4-8059-4a43d50a2d02"
      },
      "source": [
        "# We can also read the file line by line\n",
        "with open('cat_text.txt', 'r') as f:\n",
        "    for line in f:\n",
        "        line = line.replace('\\n', 'END')\n",
        "        print(line)"
      ],
      "execution_count": null,
      "outputs": [
        {
          "output_type": "stream",
          "text": [
            "END\n",
            "Cats and kittens everywhere,END\n",
            "Hundreds of cats,END\n",
            "Thousands of cats,END\n",
            "Millions and billions and trillions of cats.END\n"
          ],
          "name": "stdout"
        }
      ]
    },
    {
      "cell_type": "markdown",
      "metadata": {
        "id": "dKDYF6FRkItl"
      },
      "source": [
        "## Final activity\n",
        "\n",
        "We have membership information for 25 members of the *International Cats of Mystery* service stored in the file `international_cats_of_mystery.txt`. The file is formatted as follows:\n",
        "\n",
        "1. Each line is seperated by a newline character (`\\n`)\n",
        "\n",
        "1. The first line in the file contains the data variable names (e.g., Name, Joined, Address 1,...)\n",
        "\n",
        "1. Each subsequent line contains the data variable values for one member (e.g., Bill, 2015, 12309 Scratch Tree Lane,...)\n",
        "\n",
        "1. Each variable name or value is seperated by semicolons (`;`)\n",
        "\n",
        "Our job is to read in the `international_cats_of_mystery.txt` file, parse the data, and format the data to create a list of dictionaries containing membership information that match the format:\n",
        "\n",
        "```python\n",
        "{'address 1': '12309 Scratch Tree Lane',\n",
        "  'address 2': 'Apt. 1',\n",
        "  'city': 'Beverly Hills',\n",
        "  'joined': 2015,\n",
        "  'name': 'Bill',\n",
        "  'state': 'CA',\n",
        "  'subscriptions': ['Little Known Hiss-tories podcast'],\n",
        "  'zip code': '90210'}\n",
        "```\n",
        "\n",
        "Once we have the data prepared we will generate the following personalized message for each member:\n",
        "\n",
        "> *Hello **[member name]**, Thank you for being a valued member of International Cats of Mystery for the last **[member's years of membership]** years. We have an exclusive discount on our **[member's top subscription with the service]**.*\n",
        "\n",
        ", similar to the final activity in *Introduction to Programming with Python 1* except this time we will use a `for` loop to "
      ]
    },
    {
      "cell_type": "code",
      "metadata": {
        "colab": {
          "base_uri": "https://localhost:8080/"
        },
        "id": "o9CNA8dQj9uT",
        "outputId": "2002964c-390f-450c-e3db-cf365a4fbcd2"
      },
      "source": [
        "# Fetch the text file for the final activity\n",
        "!curl https://raw.githubusercontent.com/NCSU-Libraries/data-viz-workshops/master/Introduction_to_Programming_with_Python/International_cats_of_mystery_US_chapter.txt -o international_cats_of_mystery.txt"
      ],
      "execution_count": 1,
      "outputs": [
        {
          "output_type": "stream",
          "text": [
            "  % Total    % Received % Xferd  Average Speed   Time    Time     Time  Current\n",
            "                                 Dload  Upload   Total   Spent    Left  Speed\n",
            "100  2667  100  2667    0     0  13607      0 --:--:-- --:--:-- --:--:-- 13538\n"
          ],
          "name": "stdout"
        }
      ]
    },
    {
      "cell_type": "code",
      "metadata": {
        "id": "25ZNL8trkb8C",
        "colab": {
          "base_uri": "https://localhost:8080/"
        },
        "outputId": "e33f42a9-fa1c-4822-f0d4-5363b1000862"
      },
      "source": [
        "# Read whole text file to preview contents\n",
        "with open('international_cats_of_mystery.txt') as f:\n",
        "    print(f.read())"
      ],
      "execution_count": 16,
      "outputs": [
        {
          "output_type": "stream",
          "text": [
            "<class '_io.TextIOWrapper'>\n"
          ],
          "name": "stdout"
        }
      ]
    },
    {
      "cell_type": "markdown",
      "metadata": {
        "id": "7N0o9teGT1p3"
      },
      "source": [
        "### Read data by line and store in a list\n",
        "\n",
        "Read the membership information data file line by line to store each line as a string in the empty list `data_from_file`.\n",
        "\n",
        "Tip: Remember the list method `append()` to append new items to a list"
      ]
    },
    {
      "cell_type": "code",
      "metadata": {
        "colab": {
          "base_uri": "https://localhost:8080/"
        },
        "id": "r_lt4MIcf1rX",
        "outputId": "42592895-57cc-460c-82ab-0d3f37f79f0c"
      },
      "source": [
        "# Empty list to store data\n",
        "data_from_file = []\n",
        "\n",
        "# Read in text file line by line\n",
        "with open('international_cats_of_mystery.txt') as f:\n",
        "    for line in f:\n",
        "        data_from_file.append(line)\n",
        "\n",
        "# Print data_from_file\n",
        "data_from_file"
      ],
      "execution_count": 3,
      "outputs": [
        {
          "output_type": "execute_result",
          "data": {
            "text/plain": [
              "['Name;Joined;Address 1;Address 2;City;State;Zip Code;Subscriptions\\n',\n",
              " 'Bill;2015;12309 Scratch Tree Lane;Apt. 1;Beverly Hills;CA;90210;Little Known Hiss-tories podcast\\n',\n",
              " 'Pete;2018;501 Grumpy Street;;Long Beach;California;90803;Leisure Cats magazine, Little Known Hiss-tories podcast\\n',\n",
              " 'Bob;2019;62 Ocean Catch Way;;Astoria;OR;97103;email newsletter\\n',\n",
              " 'Carla;2006;2120 Curious Court;unit B;Raleigh;North Carolina;27610;email newsletter, Cat Nips subscription box\\n',\n",
              " 'Jose;2020;10036 Sunny Spot Avenue;;Greensboro;NC;27502;Cat Nips subscription box, Little Known Hiss-tories podcast, Leisure Cats magazine\\n',\n",
              " 'Ali;2007;143 Right Meow Place;Apt. 2;Portland;ME;3901;email newsletter, Little Known Hiss-tories podcast\\n',\n",
              " 'Marcus;2019;21 Bird Watch Circle;;Austin;Texas;73301;Leisure Cats Magazine, Little Known Hiss-tories podcast\\n',\n",
              " 'Tanvi;2017;4532 Tiny Mouse Street;Unit D;Dallas;TX;73303;Little Known Hiss-tories podcast, Cat Nips subscription box\\n',\n",
              " 'Lian;2008;3132 Goldfish Lane;;Ithaca;NY;14850;email newsletter\\n',\n",
              " 'Arturo;2014;5120 Kibbler Blvd.;;New York;New York;10001;Leisure Cats magazine, email newsletter\\n',\n",
              " 'Silvia;2009;17001 Kling Street;;North Hollywood;CA;90812;Little Known Hiss-tories podcast,  Leisure Cats Magazine, email newsletter\\n',\n",
              " 'Celine;2007;2124 Bermuda Street;Apt. 3;San Francsico;California;94123;Cat Nips subscription box, Little Known Hiss-tories podcast, Leisure Cats magazine\\n',\n",
              " 'Omar;2008;9 Catnado Way;258;Bellevue;WA;98004;Little Known Hiss-tories podcast\\n',\n",
              " 'Niko;2016;4246 Scruffy Way;Apt. 19;Lincoln City;IN;47552;Leisure Cats magazine, Little Known Hiss-tories podcast, Cat Nips subscription box\\n',\n",
              " 'Remi;2020;3207 W. 2nd Street;;Las Vegas;NV;89128;Little Known Hiss-tories podcast\\n',\n",
              " 'Klaus;2013;5939 Friendly Ave.;Unit A;Miami;FL;33125;email newsletter\\n',\n",
              " 'Estaban;2008;72 Laser Lane;;Phoenix;AZ;85032;Leisure Cats magazine, email newsletter\\n',\n",
              " 'Dallas;2019;5525 E. Atlantic Katz Highway;;Saint Louis;MO;63116;Cat Nips subscription box, Little Known Hiss-tories podcast, Leisure Cats magazine\\n',\n",
              " 'Darci;2007;3836 Sleepy Place;231;Minneapolis;MN;55407;Leisure Cats magazine\\n',\n",
              " 'Koko;2016;5844 Perchcrest Court;;Germantown;TN;38138;email newsletter, Cat Nips subscription box\\n',\n",
              " 'Mango;2009;202 Cuddle Ave.;;Green River;UT;84525;Cat Nips subscription box \\n',\n",
              " 'Freya;2020;3532 Lazyport Circle.;;Buffalo;NY;14215;Leisure Cats magazine, email newsletter\\n',\n",
              " 'Big Guy;2018;3932 Parrot Cove Blvd;;Ely;NV;89301;Little Known Hiss-tories podcast\\n',\n",
              " 'Fluffy;2013;504 Catfish Swamp Road;;Villanova;PA;19085;Little Known Hiss-tories podcast, Cat Nips subscription box\\n',\n",
              " 'Squeaky;2007;21 Kitten Mews Drive;Apt. 21;Chicago;IL;60629;Leisure Cats magazine, Little Known Hiss-tories podcast, Cat Nips subscription box']"
            ]
          },
          "metadata": {
            "tags": []
          },
          "execution_count": 3
        }
      ]
    },
    {
      "cell_type": "markdown",
      "metadata": {
        "id": "ZcW1fcwt7EXt"
      },
      "source": [
        "### Parse data and create member info dictionaries\n",
        "\n",
        "We now have a list containing one string per line from the file that we read (stored in data_from_file). We need to loop through the data_from_file list to parse each string to obtain a list of variable names or data values and use the variable names and values to create dictionaries containing each member's information.\n",
        "\n",
        "First, to parse our string data we remove the new line character (`\\n`) and split each string into a list based on the semicolon seperator `;`. The results from this is stored in the empty list `data_lists`.\n",
        "\n",
        "Next, we loop over the data in `data_lists` to create a dictionary for each mamber of variable names and values as key value pairs."
      ]
    },
    {
      "cell_type": "code",
      "metadata": {
        "id": "IjQn5ihBAG4b"
      },
      "source": [
        "# Split the list of strings into lists of data\n",
        "data_lists = []\n",
        "for item in data_from_file:\n",
        "    item = item.rstrip('\\n')\n",
        "    data_lists.append(item.split(';'))\n",
        "\n",
        "data_lists\n",
        "\n",
        "# Reformat the data into a dictionaries of variable names and values as key,\n",
        "# value pairs\n",
        "member_info = []\n",
        "for member_data in data_lists[1:]:\n",
        "    info_dict = {}\n",
        "    for i in range(len(data_lists[0])):\n",
        "        info_dict[data_lists[0][i]] = member_data[i]\n",
        "    member_info.append(info_dict)\n",
        "\n",
        "member_info"
      ],
      "execution_count": null,
      "outputs": []
    },
    {
      "cell_type": "markdown",
      "metadata": {
        "id": "IeUi3gsbqwDQ"
      },
      "source": [
        "The following cell uses list comprehension to perform the same methods from the previous cell. The first list comprehension is fairly straightforward, performing the newline strip and semicolin split method on each string in the `data_from_file` list. The second list comprehension is a little more complex, using a `zip` function to create an iterable of paired tuples of variable names (from `data_lists[0]`) and variable values from each member data row in `data_lists` (i.e., `data_lists[1:]`). The `dict()` function is then used to construct a dictionary from the output of `zip()`."
      ]
    },
    {
      "cell_type": "code",
      "metadata": {
        "id": "vbCA7GLs3iMH"
      },
      "source": [
        "# For each string item in data_from_file list strip newline character and split\n",
        "# string on semicolon\n",
        "data_lists = [item.rstrip('\\n').split(';') for item in data_from_file]\n",
        "\n",
        "# For list items from index 1 in data_lists create a dictionary of variable\n",
        "# names (data_lists[0]) and values as key, value pairs\n",
        "member_info = [dict(zip(data_lists[0], values)) for values in data_lists[1:]]\n",
        "\n",
        "member_info"
      ],
      "execution_count": null,
      "outputs": []
    },
    {
      "cell_type": "markdown",
      "metadata": {
        "id": "Fqsp6_38Un-C"
      },
      "source": [
        "### Convert the `Joined` key value from a string to an integer\n",
        "\n",
        "When we read in our file, all of the data was parsed as a string. We must convert any data that should be in another data type accordingly."
      ]
    },
    {
      "cell_type": "code",
      "metadata": {
        "id": "9nqZ_70IUyq2"
      },
      "source": [
        "# Test that value stored in 'Joined' is a string\n",
        "for member in member_info:\n",
        "    print(type(member['Joined']))\n",
        "\n",
        "# Convert the 'Joined' value to an integer for each member\n",
        "for member in member_info:\n",
        "  member['Joined'] = int(member['Joined'])\n",
        "\n",
        "member_info[:3]"
      ],
      "execution_count": null,
      "outputs": []
    },
    {
      "cell_type": "markdown",
      "metadata": {
        "id": "eyqNLXWvTvFk"
      },
      "source": [
        "### Fix state names using a defined function\n",
        "\n",
        "Some of the state names in our member info list are not formatted correctly as two letter abbreviations. We will create a function to fix the incorrectly formatted state names."
      ]
    },
    {
      "cell_type": "code",
      "metadata": {
        "id": "w7B8zqeT2ghf"
      },
      "source": [
        "# State abbreviations lookup\n",
        "state_abbreviations = {\n",
        "    'California': 'CA',\n",
        "    'New York': 'NY',\n",
        "    'North Carolina': 'NC',\n",
        "    'Texas': 'TX'\n",
        "}\n",
        "\n",
        "# Fix state names functions\n",
        "def fix_state_format(state):\n",
        "    if len(state) > 2:\n",
        "        return state_abbreviations[state]\n",
        "    return state"
      ],
      "execution_count": null,
      "outputs": []
    },
    {
      "cell_type": "code",
      "metadata": {
        "id": "LAZfnJLKlsm-"
      },
      "source": [
        "# Run the fix_state_format for each member in member_info\n",
        "for member in member_info:\n",
        "    member['State'] = fix_state_format(member['State'])\n",
        "\n",
        "member_info"
      ],
      "execution_count": null,
      "outputs": []
    },
    {
      "cell_type": "markdown",
      "metadata": {
        "id": "jULhS16zUba8"
      },
      "source": [
        "### Convert `Subscriptions` string to a list\n",
        "\n",
        "Finally, as our file was parsed as a string, the values contained in the `Subscriptions` key are not formatted as a list. We must convert the current string form to a list using the string function `split()`."
      ]
    },
    {
      "cell_type": "code",
      "metadata": {
        "id": "rQ1-6qQgl824"
      },
      "source": [
        "# Convert the Subscriptions key value for each member to a list\n",
        "for member in member_info:\n",
        "  member['Subscriptions'] = member['Subscriptions'].split(',')\n",
        "\n",
        "member_info[:3]"
      ],
      "execution_count": null,
      "outputs": []
    },
    {
      "cell_type": "markdown",
      "metadata": {
        "id": "BZkehr9-PjhS"
      },
      "source": [
        "### Activity: Use a `for` loop to generate a pesonalized message for each member (15 min)\n",
        "\n",
        "Use the code cells below to write two functions that produce a personalized email with the provided membership information and then loop through the `member_info` list to produce this message for all members.\n",
        "\n",
        "Tips:\n",
        "\n",
        "- Define a function that calculates how many years someone has been a member - Define a second function that:\n",
        "  1. gets the member name,\n",
        "  1. calls the previous function to calculate their years of membership,\n",
        "  1. gets their most popular subscription,\n",
        "  1. and formats this information into a personalized message.\n",
        "\n",
        "- The year a member joined is an integer. Remember, you can only concatenate strings (recall the `str()` method)\n",
        "\n",
        "- Subscriptions are a list. Each member's subscriptions are listed from most popular to least popular."
      ]
    },
    {
      "cell_type": "code",
      "metadata": {
        "id": "Cq6nQd13lGWZ"
      },
      "source": [
        "# Define a function that calculates membership years\n",
        "def calculate_member_years(year_joined):\n",
        "  return 2021 - year_joined"
      ],
      "execution_count": 18,
      "outputs": []
    },
    {
      "cell_type": "markdown",
      "metadata": {
        "id": "y1JxW3nncdS5"
      },
      "source": [
        "For reference, here is the message format again:\n",
        "> *Hello **[member name]**, Thank you for being a valued member of International Cats of Mystery for the last **[member's years of membership]** years. We have an exclusive discount on our **[member's top subscription with the service]**.*"
      ]
    },
    {
      "cell_type": "code",
      "metadata": {
        "id": "7IoVC_ptWMkX"
      },
      "source": [
        "# Define a function that creates the personalized message\n",
        "def create_message(member):\n",
        "  membership_years = calculate_member_years(member[\"Joined\"])\n",
        "  return (\"Hello \"\n",
        "    + member[\"Name\"]\n",
        "    + \", Thank you for being a valued member of International Cats of Mystery for the last \"\n",
        "    + str(membership_years)\n",
        "    + \" years. We have an exclusive discount on our \"\n",
        "    + member[\"Subscriptions\"][0])"
      ],
      "execution_count": 21,
      "outputs": []
    },
    {
      "cell_type": "code",
      "metadata": {
        "colab": {
          "base_uri": "https://localhost:8080/"
        },
        "id": "8vKp8Pb20lAz",
        "outputId": "a7d2cecc-6f54-4cd3-8e3d-c31071ab4cc3"
      },
      "source": [
        "# Loop through the \"member_info\" list to produce the personalized message for\n",
        "# each member\n",
        "for member in member_info:\n",
        "    print(create_message(member))"
      ],
      "execution_count": 22,
      "outputs": [
        {
          "output_type": "stream",
          "text": [
            "Hello Bill, Thank you for being a valued member of International Cats of Mystery for the last 6 years. We have an exclusive discount on our Little Known Hiss-tories podcast\n",
            "Hello Pete, Thank you for being a valued member of International Cats of Mystery for the last 3 years. We have an exclusive discount on our Leisure Cats magazine\n",
            "Hello Bob, Thank you for being a valued member of International Cats of Mystery for the last 2 years. We have an exclusive discount on our email newsletter\n",
            "Hello Carla, Thank you for being a valued member of International Cats of Mystery for the last 15 years. We have an exclusive discount on our email newsletter\n",
            "Hello Jose, Thank you for being a valued member of International Cats of Mystery for the last 1 years. We have an exclusive discount on our Cat Nips subscription box\n",
            "Hello Ali, Thank you for being a valued member of International Cats of Mystery for the last 14 years. We have an exclusive discount on our email newsletter\n",
            "Hello Marcus, Thank you for being a valued member of International Cats of Mystery for the last 2 years. We have an exclusive discount on our Leisure Cats Magazine\n",
            "Hello Tanvi, Thank you for being a valued member of International Cats of Mystery for the last 4 years. We have an exclusive discount on our Little Known Hiss-tories podcast\n",
            "Hello Lian, Thank you for being a valued member of International Cats of Mystery for the last 13 years. We have an exclusive discount on our email newsletter\n",
            "Hello Arturo, Thank you for being a valued member of International Cats of Mystery for the last 7 years. We have an exclusive discount on our Leisure Cats magazine\n",
            "Hello Silvia, Thank you for being a valued member of International Cats of Mystery for the last 12 years. We have an exclusive discount on our Little Known Hiss-tories podcast\n",
            "Hello Celine, Thank you for being a valued member of International Cats of Mystery for the last 14 years. We have an exclusive discount on our Cat Nips subscription box\n",
            "Hello Omar, Thank you for being a valued member of International Cats of Mystery for the last 13 years. We have an exclusive discount on our Little Known Hiss-tories podcast\n",
            "Hello Niko, Thank you for being a valued member of International Cats of Mystery for the last 5 years. We have an exclusive discount on our Leisure Cats magazine\n",
            "Hello Remi, Thank you for being a valued member of International Cats of Mystery for the last 1 years. We have an exclusive discount on our Little Known Hiss-tories podcast\n",
            "Hello Klaus, Thank you for being a valued member of International Cats of Mystery for the last 8 years. We have an exclusive discount on our email newsletter\n",
            "Hello Estaban, Thank you for being a valued member of International Cats of Mystery for the last 13 years. We have an exclusive discount on our Leisure Cats magazine\n",
            "Hello Dallas, Thank you for being a valued member of International Cats of Mystery for the last 2 years. We have an exclusive discount on our Cat Nips subscription box\n",
            "Hello Darci, Thank you for being a valued member of International Cats of Mystery for the last 14 years. We have an exclusive discount on our Leisure Cats magazine\n",
            "Hello Koko, Thank you for being a valued member of International Cats of Mystery for the last 5 years. We have an exclusive discount on our email newsletter\n",
            "Hello Mango, Thank you for being a valued member of International Cats of Mystery for the last 12 years. We have an exclusive discount on our Cat Nips subscription box \n",
            "Hello Freya, Thank you for being a valued member of International Cats of Mystery for the last 1 years. We have an exclusive discount on our Leisure Cats magazine\n",
            "Hello Big Guy, Thank you for being a valued member of International Cats of Mystery for the last 3 years. We have an exclusive discount on our Little Known Hiss-tories podcast\n",
            "Hello Fluffy, Thank you for being a valued member of International Cats of Mystery for the last 8 years. We have an exclusive discount on our Little Known Hiss-tories podcast\n",
            "Hello Squeaky, Thank you for being a valued member of International Cats of Mystery for the last 14 years. We have an exclusive discount on our Leisure Cats magazine\n"
          ],
          "name": "stdout"
        }
      ]
    },
    {
      "cell_type": "markdown",
      "metadata": {
        "id": "FgsqJZovHIxS"
      },
      "source": [
        "## Further resources and topics\n",
        "\n",
        "### Resources\n",
        "- https://python.swaroopch.com/ (A Byte of Python is a great intro book and reference for Python)\n",
        "- https://docs.python.org/3/ (Official Python documentation and tutorials)\n",
        "- https://realpython.com/ (Contains a lot of different tutorials at different levels)\n",
        "- https://www.lynda.com/Python-training-tutorials/415-0.html (Lynda is free with NC State accounts. I haven't used these tutorials but have used Lynda for other programming languages and been quite happy with it)\n",
        "- https://www.dataquest.io/ (a free then paid series of courses with an emphasis on data science)\n",
        "\n",
        "### Topics\n",
        "- Other data structures: sets, tuples\n",
        "- Libraries, packages, and pip\n",
        "- Virtual environments\n",
        "- Text editors and local execution environments\n",
        "- The object-oriented paradigm in Python: classes, methods\n",
        "\n",
        "### Installing Python \n",
        "There are quite a few ways to install Python on your own computer, including the [official Python downloads](https://www.python.org/downloads/) and the very popular data-science focused [Anaconda Python distribution](https://www.anaconda.com/products/individual). Depending on your operating system, how you want to write code, and what type of projects you might work on, there are other approaches as well, such as using [pyenv](https://github.com/pyenv/pyenv) and [poetry](https://python-poetry.org/). If you're not sure which approach to take, feel free to get in touch and we'll talk through options and help you get set up. \n",
        "\n",
        "### Popular editors for Python\n",
        "Today we've been writing and running code in Google Colab, which is one particular version of Jupyter Notebooks. Depending on your projects and what you're working on, you may want to write your code in a text editor. While there are many options, if you're just getting started we recommend [Visual Studio Code](https://code.visualstudio.com/) for any operating system but are happy to talk through other editors.\n"
      ]
    },
    {
      "cell_type": "markdown",
      "metadata": {
        "id": "YjyTIZsdGI0D"
      },
      "source": [
        "## Evaluation survey\n",
        "Please, spend 1 minute answering these questions that can help us a lot on future workshops. \n",
        "\n",
        "https://go.ncsu.edu/dvs-eval"
      ]
    },
    {
      "cell_type": "markdown",
      "metadata": {
        "id": "y1yQcuLJGI0F"
      },
      "source": [
        "## Credits\n",
        "\n",
        "This workshop was developed by Scott Bailey, Ashley Evans Bandy, Claire Cahoon, Walt Gurley, and Natalia Lopez from the NC State University Libraries. Materials are based on workshops by Scott Bailey, Vincent Tompkins, Javier de la Rosa, Peter Broadwell, and Simon Wiles."
      ]
    }
  ]
}