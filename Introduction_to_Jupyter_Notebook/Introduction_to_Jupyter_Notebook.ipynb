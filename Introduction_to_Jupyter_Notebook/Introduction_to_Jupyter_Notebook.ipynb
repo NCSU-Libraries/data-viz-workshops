{
  "nbformat": 4,
  "nbformat_minor": 0,
  "metadata": {
    "colab": {
      "name": "Introduction_to_Jupyter_Notebook",
      "provenance": [],
      "collapsed_sections": [],
      "toc_visible": true
    },
    "kernelspec": {
      "display_name": "Python 3",
      "language": "python",
      "name": "python3"
    }
  },
  "cells": [
    {
      "cell_type": "markdown",
      "metadata": {
        "id": "yXJISMvzpxQ1"
      },
      "source": [
        "# Introduction to Jupyter Notebook\n",
        "\n",
        "This notebook provides an introduction to Jupyter Notebook through Google Colaboratory (Colab), a free Jupyter notebook environment accessible with a Google account. This notebook is a guide to the Colab interface, which is built on top of Jupyter, and writing code and text in Jupyter notebooks with the **Python** programming language and the markup language **Markdown**."
      ]
    },
    {
      "cell_type": "markdown",
      "metadata": {
        "id": "Fl1LpE2SpxQ3"
      },
      "source": [
        "Cells\n",
        "---\n",
        "The basic structure of a Jupyter notebook consists of a sequence of cells from the top to the bottom of the page. A cell's content can consist of either:"
      ]
    },
    {
      "cell_type": "markdown",
      "metadata": {
        "id": "LedAQMNUrx4q"
      },
      "source": [
        "### 1. Code and code output"
      ]
    },
    {
      "cell_type": "code",
      "metadata": {
        "id": "xx_SvGXVpxQ3",
        "colab": {
          "base_uri": "https://localhost:8080/",
          "height": 103
        },
        "outputId": "f9a18e55-5644-4507-deef-2b44281b5188"
      },
      "source": [
        "## 1. code and code output ##\n",
        "\n",
        "# create a range of numbers\n",
        "numbers = range(0, 5)\n",
        "# print out each of the numbers in the range\n",
        "for number in numbers:\n",
        "    print(number)"
      ],
      "execution_count": null,
      "outputs": [
        {
          "output_type": "stream",
          "text": [
            "0\n",
            "1\n",
            "2\n",
            "3\n",
            "4\n"
          ],
          "name": "stdout"
        }
      ]
    },
    {
      "cell_type": "markdown",
      "metadata": {
        "id": "L2bwik3dpxQ-"
      },
      "source": [
        "### 2. Markdown/HTML\n",
        "\n",
        "### This is a big header written in markdown\n",
        "#### This is a medium header written in markdown\n",
        "###### This is a small header written in markdown\n",
        "This is a paragraph written in markdown\n",
        "\n",
        "1.  you\n",
        "2. can\n",
        "3. make\n",
        "4. lists\n",
        "  * and\n",
        "  * unordered \n",
        "  * lists\n",
        "  \n",
        "  \n",
        " Tables | Work | Too\n",
        "  --- | ---| ---\n",
        "  1,1 | 1,2 | 1,3"
      ]
    },
    {
      "cell_type": "code",
      "metadata": {
        "id": "mFT6noZspwcx",
        "colab": {
          "base_uri": "https://localhost:8080/",
          "height": 46
        },
        "outputId": "777d4ea9-d68d-4147-a288-371b63da69df"
      },
      "source": [
        "%%html\n",
        "<p>You can also write with <strong>html tags</strong> in a code cell using <span style='color: hotpink'>%%html magic</span></p>"
      ],
      "execution_count": null,
      "outputs": [
        {
          "output_type": "display_data",
          "data": {
            "text/html": [
              "<p>You can also write with <strong>html tags</strong> in a code cell using <span style='color: hotpink'>%%html magic</span></p>"
            ],
            "text/plain": [
              "<IPython.core.display.HTML object>"
            ]
          },
          "metadata": {
            "tags": []
          }
        }
      ]
    },
    {
      "cell_type": "markdown",
      "metadata": {
        "id": "1YKXfw_PpxRD"
      },
      "source": [
        "Click on any text above to see what cell it belongs to. The active cell will be surrounded by a drop shadow.\n",
        "\n",
        "**To enter edit mode in a cell click on any code input area or double-click on any rendered Markdown text or press enter when a text cell is active.**"
      ]
    },
    {
      "cell_type": "markdown",
      "metadata": {
        "id": "T0Uf5MREpxRE"
      },
      "source": [
        "Adding, removing, and moving cells\n",
        "---\n",
        "You can manage cells using the notebook toolbar at the top of the page, within the notebook, or using keyboard shortcuts.\n",
        "* **Adding a cell:** To add a new cell below a cell hover your mouse near the buttom of an existing cell to display button options to add either a text or code cell. Optionally, click `+ CODE` button or the `+ TEXT` button in the toolbar. You can also create a new code cell above or below the current cell using the keyboard shorcuts **`⌘/Ctrl+M A`** (above) and **`⌘/Ctrl+M B`** (below)\n",
        "* **Move a cell:** To move the active cell up click the **`↑ CELL`** button or use the keyboard shorcut **`⌘/Ctrl+M K`**  To move a cell down click the **`↓ CELL`** button in the toolbar or use the keyboard shorcut **`⌘/Ctrl+M J`**.\n",
        "* **Delete a cell:** To delete the active cell, click the three vertical dots in the top-right corner of the active cell and  select `Delete Cell` or use the keyboard shorcut **`⌘/Ctrl+M D`**"
      ]
    },
    {
      "cell_type": "markdown",
      "metadata": {
        "id": "Bge1cTkwy2YM"
      },
      "source": [
        "## YOU TRY!\n",
        "**Try adding a new Markdown cell and a Code cell, moving them around, and deleting them. _If you accidentally delete something you shouldn't have, you can undo it by going to:_** `Edit > Undo Delete Cells`"
      ]
    },
    {
      "cell_type": "markdown",
      "metadata": {
        "id": "jOuiA8uapxRF"
      },
      "source": [
        "Running a cell\n",
        "---\n",
        "To run code in a cell or to render markdown as html in a cell you must _run_ the cell. \n",
        "\n",
        "**To run the contents of a cell:**\n",
        "1. activate it\n",
        "2. press `shift`+`return` _or_ click the run button `►` in the lefthand side of the cell ."
      ]
    },
    {
      "cell_type": "markdown",
      "metadata": {
        "id": "HcLcuVxU2jo5"
      },
      "source": [
        "## YOU TRY!\n",
        "**Try editing and adding some Markdown text to this text cell**\n",
        "\n",
        "# This is a header\n",
        "![A Cat](https://upload.wikimedia.org/wikipedia/commons/thumb/3/3a/Cat03.jpg/1200px-Cat03.jpg)"
      ]
    },
    {
      "cell_type": "markdown",
      "metadata": {
        "id": "lZUe0owppxRN"
      },
      "source": [
        "Double-click on **_this text_** to start\n",
        "\n",
        "_when you are done press `shift+return` to run_\n",
        "\n",
        "For an overview of Markdown format check out [Colab Markdown Guide](https://colab.research.google.com/notebooks/markdown_guide.ipynb) and [Github Markdown Cheatsheet](https://github.com/adam-p/markdown-here/wiki/Markdown-Cheatsheet)"
      ]
    },
    {
      "cell_type": "markdown",
      "metadata": {
        "id": "7NgdI2-E2FbD"
      },
      "source": [
        "## YOU TRY!\n",
        "**Try running the three Python code cells below.** _You can edit and re-run a cell as many times as you want._"
      ]
    },
    {
      "cell_type": "code",
      "metadata": {
        "id": "KfbDLoM8pxRF",
        "colab": {
          "base_uri": "https://localhost:8080/",
          "height": 34
        },
        "outputId": "aaa2c398-1521-4830-e7b7-796dd1e99210"
      },
      "source": [
        "# this is Python code -> RUN IT\n",
        "x = 2 * 4\n",
        "\n",
        "# the output of the last line of code is shown below the cell\n",
        "x * x"
      ],
      "execution_count": null,
      "outputs": [
        {
          "output_type": "execute_result",
          "data": {
            "text/plain": [
              "64"
            ]
          },
          "metadata": {
            "tags": []
          },
          "execution_count": 7
        }
      ]
    },
    {
      "cell_type": "code",
      "metadata": {
        "id": "KBdcbT3jpxRH",
        "colab": {
          "base_uri": "https://localhost:8080/",
          "height": 51
        },
        "outputId": "be998588-0492-4e0d-fe3a-7be1b5281663"
      },
      "source": [
        "# this is Python code -> RUN IT\n",
        "x = 2\n",
        "\n",
        "# you can also use the 'print' statement to print information to the output below the cell\n",
        "print(x * x)\n",
        "\n",
        "# the output of the last line of code is still shown below the cell\n",
        "x * x"
      ],
      "execution_count": null,
      "outputs": [
        {
          "output_type": "stream",
          "text": [
            "4\n"
          ],
          "name": "stdout"
        },
        {
          "output_type": "execute_result",
          "data": {
            "text/plain": [
              "4"
            ]
          },
          "metadata": {
            "tags": []
          },
          "execution_count": 9
        }
      ]
    },
    {
      "cell_type": "code",
      "metadata": {
        "id": "mwEDgphEpxRL",
        "cellView": "code",
        "colab": {
          "base_uri": "https://localhost:8080/",
          "height": 34
        },
        "outputId": "e367f435-a326-44bc-a085-8b427272929c"
      },
      "source": [
        "# this is Python code -> RUN IT\n",
        "x = 2\n",
        "\n",
        "# if there is an error in your code an error message will display in the output below the cell\n",
        "x + 2"
      ],
      "execution_count": null,
      "outputs": [
        {
          "output_type": "execute_result",
          "data": {
            "text/plain": [
              "4"
            ]
          },
          "metadata": {
            "tags": []
          },
          "execution_count": 6
        }
      ]
    },
    {
      "cell_type": "markdown",
      "metadata": {
        "collapsed": true,
        "id": "5UAEHAu7pxRP"
      },
      "source": [
        "More information on the UI\n",
        "---\n",
        "* In the menubar click `Tools > Command Palette` for a list of all available commads and `Tools > Keyboard Sortcuts...` to view and set keyboard shortcuts.\n",
        "* Run multiple cells and select other run options through the `Runtime` menu in the menubar\n",
        "* Get an in-depth [overview of Colaboratory features](https://colab.research.google.com/notebooks/basic_features_overview.ipynb)"
      ]
    },
    {
      "cell_type": "markdown",
      "metadata": {
        "id": "V_owtkP09YvQ"
      },
      "source": [
        "## Python in Jupyter notebooks\n",
        "\n"
      ]
    },
    {
      "cell_type": "markdown",
      "metadata": {
        "id": "RY90znjLBmjb"
      },
      "source": [
        "### Basic data examples\n",
        "\n",
        "Here is an example of some of the types of data you can work with in Python"
      ]
    },
    {
      "cell_type": "code",
      "metadata": {
        "id": "HID3EshQ8xqn",
        "colab": {
          "base_uri": "https://localhost:8080/",
          "height": 51
        },
        "outputId": "dc00f821-483a-4834-cd33-51fa6e26c315"
      },
      "source": [
        "var1 = 20 # integer\n",
        "var2 = \"twenty\" # string\n",
        "var3 = [var1, var2] #array\n",
        "var4 = {\"v1\": var1, \"v2\": var2, \"v3\": var3} # dictionary\n",
        "print (var4)\n",
        "\n",
        "var5 = 3.14 # float\n",
        "var6 = True # boolean\n",
        "var6"
      ],
      "execution_count": null,
      "outputs": [
        {
          "output_type": "stream",
          "text": [
            "{'v1': 20, 'v2': 'twenty', 'v3': [20, 'twenty']}\n"
          ],
          "name": "stdout"
        },
        {
          "output_type": "execute_result",
          "data": {
            "text/plain": [
              "True"
            ]
          },
          "metadata": {
            "tags": []
          },
          "execution_count": 13
        }
      ]
    },
    {
      "cell_type": "markdown",
      "metadata": {
        "id": "zcdFp10WDDH6"
      },
      "source": [
        "You can reference variables created in other cells, but note that changing the value of a variable in one cell will set that value to all other references in other cells when they are run:"
      ]
    },
    {
      "cell_type": "code",
      "metadata": {
        "id": "xsA9ewNVCYJI",
        "colab": {
          "base_uri": "https://localhost:8080/",
          "height": 51
        },
        "outputId": "d984d7c5-651b-43a7-eeab-05bff0aae5b8"
      },
      "source": [
        "# Run this cell once and observer the output. Run it again and observe the output\n",
        "print('var3 = ' + str(var3))\n",
        "var3.append(var5)\n",
        "print('var3 = ' + str(var3))"
      ],
      "execution_count": null,
      "outputs": [
        {
          "output_type": "stream",
          "text": [
            "var3 = [20, 'twenty', 3.14, 3.14, 3.14]\n",
            "var3 = [20, 'twenty', 3.14, 3.14, 3.14, 3.14]\n"
          ],
          "name": "stdout"
        }
      ]
    },
    {
      "cell_type": "markdown",
      "metadata": {
        "id": "xWKBzv6WLok9"
      },
      "source": [
        "### Importing libraries\n",
        "\n",
        "To use any functions in a library you must first import the library or the parts of the package you want to employee. "
      ]
    },
    {
      "cell_type": "code",
      "metadata": {
        "id": "KpNEqemQMm2k"
      },
      "source": [
        "# import necessary libraries\n",
        "import pandas as pd\n",
        "from matplotlib import pyplot"
      ],
      "execution_count": null,
      "outputs": []
    },
    {
      "cell_type": "markdown",
      "metadata": {
        "id": "jXADPUV7L5Q2"
      },
      "source": [
        "For example, above are two different examples of importing. Here is the breakdown of what is happening:\n",
        "\n",
        "First, we are importing the entire pandas package, a library with extensive data analysis tools, using:\n",
        "\n",
        "`import pandas`\n",
        "\n",
        "Next, we are changing the name of the pandas package in our current program to pd:\n",
        "\n",
        "`import pandas as pd`\n",
        "\n",
        "_Doing this saves us a little time in the future as anytime you want to use a function in the pandas package you only have to type pd instead of the long word pandas._\n",
        "\n",
        "For the next import we only want part of the matplotlib library. Specifically, we want pyplot, a graphical plotting framework. To import only part of a package we first the keyword from to indicate which package we want to take from and then import that subsection of code:\n",
        "\n",
        "`from matplotlib import pyplot`"
      ]
    },
    {
      "cell_type": "code",
      "metadata": {
        "id": "HiK73bMQLcv-",
        "colab": {
          "base_uri": "https://localhost:8080/",
          "height": 203
        },
        "outputId": "031fa9a7-56a7-414d-e1fa-1abc17c0ad29"
      },
      "source": [
        "# create a dictionary of fruits and their counts\n",
        "fruits = {\"apples\": 2, \"oranges\": 5, \"bananas\": 10, \"kiwi\": 4, \"grapes\": 30}\n",
        "\n",
        "# use the dictionary to create a pandas dataframe\n",
        "fruitData = pd.DataFrame({\"fruits\": fruits})\n",
        "\n",
        "# show the dataframe in the output\n",
        "fruitData"
      ],
      "execution_count": null,
      "outputs": [
        {
          "output_type": "execute_result",
          "data": {
            "text/html": [
              "<div>\n",
              "<style scoped>\n",
              "    .dataframe tbody tr th:only-of-type {\n",
              "        vertical-align: middle;\n",
              "    }\n",
              "\n",
              "    .dataframe tbody tr th {\n",
              "        vertical-align: top;\n",
              "    }\n",
              "\n",
              "    .dataframe thead th {\n",
              "        text-align: right;\n",
              "    }\n",
              "</style>\n",
              "<table border=\"1\" class=\"dataframe\">\n",
              "  <thead>\n",
              "    <tr style=\"text-align: right;\">\n",
              "      <th></th>\n",
              "      <th>fruits</th>\n",
              "    </tr>\n",
              "  </thead>\n",
              "  <tbody>\n",
              "    <tr>\n",
              "      <th>apples</th>\n",
              "      <td>2</td>\n",
              "    </tr>\n",
              "    <tr>\n",
              "      <th>bananas</th>\n",
              "      <td>10</td>\n",
              "    </tr>\n",
              "    <tr>\n",
              "      <th>grapes</th>\n",
              "      <td>30</td>\n",
              "    </tr>\n",
              "    <tr>\n",
              "      <th>kiwi</th>\n",
              "      <td>4</td>\n",
              "    </tr>\n",
              "    <tr>\n",
              "      <th>oranges</th>\n",
              "      <td>5</td>\n",
              "    </tr>\n",
              "  </tbody>\n",
              "</table>\n",
              "</div>"
            ],
            "text/plain": [
              "         fruits\n",
              "apples        2\n",
              "bananas      10\n",
              "grapes       30\n",
              "kiwi          4\n",
              "oranges       5"
            ]
          },
          "metadata": {
            "tags": []
          },
          "execution_count": 20
        }
      ]
    },
    {
      "cell_type": "code",
      "metadata": {
        "id": "JVfOiqN1NgeM",
        "colab": {
          "base_uri": "https://localhost:8080/",
          "height": 295
        },
        "outputId": "d56a1d92-2c6a-4722-8caf-ee14a310691e"
      },
      "source": [
        "# generate some summary statistics on the dataframe\n",
        "fruitData.describe()"
      ],
      "execution_count": null,
      "outputs": [
        {
          "output_type": "execute_result",
          "data": {
            "text/html": [
              "<div>\n",
              "<style scoped>\n",
              "    .dataframe tbody tr th:only-of-type {\n",
              "        vertical-align: middle;\n",
              "    }\n",
              "\n",
              "    .dataframe tbody tr th {\n",
              "        vertical-align: top;\n",
              "    }\n",
              "\n",
              "    .dataframe thead th {\n",
              "        text-align: right;\n",
              "    }\n",
              "</style>\n",
              "<table border=\"1\" class=\"dataframe\">\n",
              "  <thead>\n",
              "    <tr style=\"text-align: right;\">\n",
              "      <th></th>\n",
              "      <th>fruits</th>\n",
              "    </tr>\n",
              "  </thead>\n",
              "  <tbody>\n",
              "    <tr>\n",
              "      <th>count</th>\n",
              "      <td>5.000000</td>\n",
              "    </tr>\n",
              "    <tr>\n",
              "      <th>mean</th>\n",
              "      <td>10.200000</td>\n",
              "    </tr>\n",
              "    <tr>\n",
              "      <th>std</th>\n",
              "      <td>11.454257</td>\n",
              "    </tr>\n",
              "    <tr>\n",
              "      <th>min</th>\n",
              "      <td>2.000000</td>\n",
              "    </tr>\n",
              "    <tr>\n",
              "      <th>25%</th>\n",
              "      <td>4.000000</td>\n",
              "    </tr>\n",
              "    <tr>\n",
              "      <th>50%</th>\n",
              "      <td>5.000000</td>\n",
              "    </tr>\n",
              "    <tr>\n",
              "      <th>75%</th>\n",
              "      <td>10.000000</td>\n",
              "    </tr>\n",
              "    <tr>\n",
              "      <th>max</th>\n",
              "      <td>30.000000</td>\n",
              "    </tr>\n",
              "  </tbody>\n",
              "</table>\n",
              "</div>"
            ],
            "text/plain": [
              "          fruits\n",
              "count   5.000000\n",
              "mean   10.200000\n",
              "std    11.454257\n",
              "min     2.000000\n",
              "25%     4.000000\n",
              "50%     5.000000\n",
              "75%    10.000000\n",
              "max    30.000000"
            ]
          },
          "metadata": {
            "tags": []
          },
          "execution_count": 21
        }
      ]
    },
    {
      "cell_type": "markdown",
      "metadata": {
        "id": "0kU4LNLND9m7"
      },
      "source": [
        "### YOU TRY!\n",
        "\n",
        "Try creating a dictionary of vegetables and use pandas to create a dataframe and print out the resulting dataframe"
      ]
    },
    {
      "cell_type": "code",
      "metadata": {
        "id": "6aJB-ocQD8Qd"
      },
      "source": [
        "foodlist = {\"eggplant\": 2, \"potato\": 7, \"lettuce\": 3, \"green beans\": 15}\n",
        "test = pd.DataFrame({\"foodlist\": foodlist})"
      ],
      "execution_count": null,
      "outputs": []
    },
    {
      "cell_type": "markdown",
      "metadata": {
        "id": "yopfi2VaOrsw"
      },
      "source": [
        "### Graphing in Jupyter notebooks\n",
        "\n",
        "There are several graphing libraries for Python. Colab includes the popular library matplotlib that includes the graphic framework pyplot. You can create plots inline, rendered below the code cell in which the plot is called. Below is a simple example of a bar graph using our fruit data."
      ]
    },
    {
      "cell_type": "code",
      "metadata": {
        "id": "eh36WDtTNvTn",
        "colab": {
          "base_uri": "https://localhost:8080/",
          "height": 364
        },
        "outputId": "b35088fc-83d9-49d9-c010-3b52ddf97aa9"
      },
      "source": [
        "# make plots in the design style of ggplot\n",
        "pyplot.style.use('ggplot')\n",
        "\n",
        "# create a bar graph showing the number of each fruit\n",
        "fruitData.sort_values(\"fruits\").plot.barh()"
      ],
      "execution_count": null,
      "outputs": [
        {
          "output_type": "execute_result",
          "data": {
            "text/plain": [
              "<matplotlib.axes._subplots.AxesSubplot at 0x7f5acf565fd0>"
            ]
          },
          "metadata": {
            "tags": []
          },
          "execution_count": 25
        },
        {
          "output_type": "display_data",
          "data": {
            "image/png": "[encoded data removed]",
            "text/plain": [
              "<matplotlib.figure.Figure at 0x7f5acf565518>"
            ]
          },
          "metadata": {
            "tags": []
          }
        }
      ]
    },
    {
      "cell_type": "markdown",
      "metadata": {
        "id": "e37pMtVpEYr1"
      },
      "source": [
        "### YOU TRY!\n",
        "\n",
        "Create a chart of your vegetables dataframe"
      ]
    },
    {
      "cell_type": "code",
      "metadata": {
        "id": "ay8VNB4AOnJe",
        "colab": {
          "base_uri": "https://localhost:8080/",
          "height": 364
        },
        "outputId": "fde24f0a-d097-4494-9855-e3e82a5996af"
      },
      "source": [
        "# make plots in the design style of ggplot\n",
        "pyplot.style.use('ggplot')\n",
        "\n",
        "# create a bar graph showing the number of each fruit\n",
        "test.sort_values(\"foodlist\").plot.barh()"
      ],
      "execution_count": null,
      "outputs": [
        {
          "output_type": "execute_result",
          "data": {
            "text/plain": [
              "<matplotlib.axes._subplots.AxesSubplot at 0x7f5accc74048>"
            ]
          },
          "metadata": {
            "tags": []
          },
          "execution_count": 28
        },
        {
          "output_type": "display_data",
          "data": {
            "image/png": "[encoded data removed]",
            "text/plain": [
              "<matplotlib.figure.Figure at 0x7f5accc2f358>"
            ]
          },
          "metadata": {
            "tags": []
          }
        }
      ]
    },
    {
      "cell_type": "markdown",
      "metadata": {
        "id": "vuO_B6l1IcE2"
      },
      "source": [
        "### More information on graphing\n",
        "\n",
        "For a comprehensive overview of graphing capabilities in Colab see the notebook: [Charts in Colaboratory](https://colab.research.google.com/notebooks/charts.ipynb)"
      ]
    },
    {
      "cell_type": "markdown",
      "metadata": {
        "id": "D9wQmmBZPPmI"
      },
      "source": [
        "### Loading data\n",
        "\n",
        "Data can be loaded into Colab in several ways including connecting to local storage, connecting to Google Drive or Google Sheets, or uploading a data file. We will upload a data file to demonstrate how to use an external dataset:\n",
        "\n",
        "1. To the left of the window where the table of contents are located click the `Files` tab and click the `UPLOAD` button\n",
        "2. Navigate to the folder containing **HeartRateTimeSeriesMIT.csv** and load that file\n",
        "3. This file is now stored in the same directory as our notebook"
      ]
    },
    {
      "cell_type": "code",
      "metadata": {
        "id": "6VsII2bgP5rR",
        "colab": {
          "base_uri": "https://localhost:8080/",
          "height": 297
        },
        "outputId": "70016a96-c64c-4c14-f086-6f692027a227"
      },
      "source": [
        "#Load data\n",
        "# Use the pandas read_csv method to read in the data\n",
        "heartRates = pd.read_csv(\"HeartRateTimeSeriesMIT.csv\")\n",
        "heartRates.describe()"
      ],
      "execution_count": null,
      "outputs": [
        {
          "output_type": "execute_result",
          "data": {
            "text/html": [
              "<div>\n",
              "<style scoped>\n",
              "    .dataframe tbody tr th:only-of-type {\n",
              "        vertical-align: middle;\n",
              "    }\n",
              "\n",
              "    .dataframe tbody tr th {\n",
              "        vertical-align: top;\n",
              "    }\n",
              "\n",
              "    .dataframe thead th {\n",
              "        text-align: right;\n",
              "    }\n",
              "</style>\n",
              "<table border=\"1\" class=\"dataframe\">\n",
              "  <thead>\n",
              "    <tr style=\"text-align: right;\">\n",
              "      <th></th>\n",
              "      <th>time</th>\n",
              "      <th>heartRate1</th>\n",
              "      <th>heartRate2</th>\n",
              "    </tr>\n",
              "  </thead>\n",
              "  <tbody>\n",
              "    <tr>\n",
              "      <th>count</th>\n",
              "      <td>1800.00000</td>\n",
              "      <td>1800.000000</td>\n",
              "      <td>1800.000000</td>\n",
              "    </tr>\n",
              "    <tr>\n",
              "      <th>mean</th>\n",
              "      <td>450.25000</td>\n",
              "      <td>92.596114</td>\n",
              "      <td>96.637474</td>\n",
              "    </tr>\n",
              "    <tr>\n",
              "      <th>std</th>\n",
              "      <td>259.87978</td>\n",
              "      <td>5.489339</td>\n",
              "      <td>5.687179</td>\n",
              "    </tr>\n",
              "    <tr>\n",
              "      <th>min</th>\n",
              "      <td>0.50000</td>\n",
              "      <td>73.436600</td>\n",
              "      <td>80.213900</td>\n",
              "    </tr>\n",
              "    <tr>\n",
              "      <th>25%</th>\n",
              "      <td>225.37500</td>\n",
              "      <td>88.847400</td>\n",
              "      <td>92.418925</td>\n",
              "    </tr>\n",
              "    <tr>\n",
              "      <th>50%</th>\n",
              "      <td>450.25000</td>\n",
              "      <td>92.205400</td>\n",
              "      <td>98.238450</td>\n",
              "    </tr>\n",
              "    <tr>\n",
              "      <th>75%</th>\n",
              "      <td>675.12500</td>\n",
              "      <td>96.399025</td>\n",
              "      <td>101.362750</td>\n",
              "    </tr>\n",
              "    <tr>\n",
              "      <th>max</th>\n",
              "      <td>900.00000</td>\n",
              "      <td>106.756000</td>\n",
              "      <td>104.895000</td>\n",
              "    </tr>\n",
              "  </tbody>\n",
              "</table>\n",
              "</div>"
            ],
            "text/plain": [
              "             time   heartRate1   heartRate2\n",
              "count  1800.00000  1800.000000  1800.000000\n",
              "mean    450.25000    92.596114    96.637474\n",
              "std     259.87978     5.489339     5.687179\n",
              "min       0.50000    73.436600    80.213900\n",
              "25%     225.37500    88.847400    92.418925\n",
              "50%     450.25000    92.205400    98.238450\n",
              "75%     675.12500    96.399025   101.362750\n",
              "max     900.00000   106.756000   104.895000"
            ]
          },
          "metadata": {
            "tags": []
          },
          "execution_count": 29
        }
      ]
    },
    {
      "cell_type": "code",
      "metadata": {
        "id": "njGLuld9P9Tt",
        "colab": {
          "base_uri": "https://localhost:8080/",
          "height": 368
        },
        "outputId": "3daea528-c5d4-41b5-f432-cb6d89c90d2b"
      },
      "source": [
        "# Set the min and max values of the y axis\n",
        "pyplot.ylim(60, 120)\n",
        "# Set the min and max values of the x axis\n",
        "pyplot.xlim(0, 900)\n",
        "pyplot.plot(heartRates.time, heartRates.heartRate1, \"-r\")"
      ],
      "execution_count": null,
      "outputs": [
        {
          "output_type": "execute_result",
          "data": {
            "text/plain": [
              "[<matplotlib.lines.Line2D at 0x7f5accb86438>]"
            ]
          },
          "metadata": {
            "tags": []
          },
          "execution_count": 32
        },
        {
          "output_type": "display_data",
          "data": {
            "image/png": "[encoded data removed]",
            "text/plain": [
              "<matplotlib.figure.Figure at 0x7f5accbbf208>"
            ]
          },
          "metadata": {
            "tags": []
          }
        }
      ]
    },
    {
      "cell_type": "markdown",
      "metadata": {
        "id": "OgdyGyjgHUd-"
      },
      "source": [
        "### YOU TRY!\n",
        "\n",
        "Make a plot of the second heart rate data."
      ]
    },
    {
      "cell_type": "code",
      "metadata": {
        "id": "mKEKb2WERnW3"
      },
      "source": [
        ""
      ],
      "execution_count": null,
      "outputs": []
    },
    {
      "cell_type": "markdown",
      "metadata": {
        "id": "6yZKG_cqI5qt"
      },
      "source": [
        "### More info on loading data\n",
        "\n",
        "For a comprehensive overview of loading data in Colab see the notebook: [External data: Drive, Sheets, and Cloud Storage](https://colab.research.google.com/notebooks/io.ipynb)"
      ]
    },
    {
      "cell_type": "code",
      "metadata": {
        "id": "AiKUtGmZJKwA"
      },
      "source": [
        ""
      ],
      "execution_count": null,
      "outputs": []
    }
  ]
}