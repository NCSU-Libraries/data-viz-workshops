{
 "metadata": {
  "language_info": {
   "codemirror_mode": {
    "name": "ipython",
    "version": 3
   },
   "file_extension": ".py",
   "mimetype": "text/x-python",
   "name": "python",
   "nbconvert_exporter": "python",
   "pygments_lexer": "ipython3",
   "version": "3.8.0-final"
  },
  "orig_nbformat": 2,
  "kernelspec": {
   "name": "python38064bited2af9defb114361a345112ec36e2c37",
   "display_name": "Python 3.8.0 64-bit"
  }
 },
 "nbformat": 4,
 "nbformat_minor": 2,
 "cells": [
  {
   "source": [
    "# Webscraping with Python\n",
    "\n",
    "## Instructors\n",
    "\n",
    "- Scott Bailey\n",
    "- Claire Cahoon\n",
    "- Walt Gurley\n",
    "\n",
    "## Learning objectives\n",
    "\n",
    "By the end of our workshop today, we hope you'll have a sense of when and why to webscrape, and how to extract select information from websites into useable data.  \n",
    "\n",
    "## Topics\n",
    "\n",
    "- what is webscraping?\n",
    "- ethical and legal issues in webscraping\n",
    "- HTML and CSS\n",
    "- webscraping with requests-html\n",
    "\n",
    "##  Setup\n",
    "\n",
    "With this Google Colab notebook open, click the \"Copy to Drive\" button that appears in the menu bar. The notebook will then be attached to your own user account, so you can edit it in any way you like -- you can even take notes directly in the notebook.\n",
    "\n",
    "## Zoom etiquette\n",
    "\n",
    "Please make sure that your mic is muted during the workshop.\n",
    "\n",
    "## Questions during the workshop\n",
    "\n",
    "During the workshop, we have a second instructor who will be monitoring chat on Zoom. Please feel free to ask questions by chat throughout the workshop. Our second instructor will answer as able, and will aggregate questions with answers that might help everyone. \n",
    "\n",
    "At the end of each section of the workshop, the primary instructor will answer aggregated and new questions as time permits. If we aren't able to get to your question during the workshop, please follow up with us afterward. \n",
    "\n",
    "## Jupyter Notebooks and Google Colaboratory\n",
    "\n",
    "Jupyter notebooks are a way to write and run Python code in an interactive way. They're quickly becoming a standard way of putting together data, code, and written explanations or visualizations into a single document and sharing that. There are a lot of ways that you can run Jupyter notebooks, including just locally on your computer, but we've decided to use Google's Colaboratory notebook platform for this workshop.  Colaboratory is “a Google research project created to help disseminate machine learning education and research.”  If you would like to know more about Colaboratory in general, you can visit the [Welcome Notebook](https://colab.research.google.com/notebooks/welcome.ipynb).\n",
    "\n",
    "Using the Google Colaboratory platform allows us to focus on learning and writing Python in the workshop rather than on setting up Python, which can sometimes take a bit of extra work depending on platforms, operating systems, and other installed applications. If you'd like to install a Python distribution locally, though, we're happy to help. Feel free to drop by our walk-in consulting or schedule an appointment with us.\n",
    "\n",
    "https://go.ncsu.edu/dvs-request\n",
    "\n",
    "\n",
    "## Environment\n",
    "If you would prefer to use Anaconda or your own local installation of Python or Jupyter Notebooks, for this workshop you will need an environment with the following packages installed and available:\n",
    "- `pandas`\n",
    "- `requests-html`\n",
    "\n",
    "Please note that we will likely not have time during the workshop to support you with problems related to a local environment, and we do recommend using the Colaboratory notebooks if you are at all unsure.\n",
    "\n"
   ],
   "cell_type": "markdown",
   "metadata": {}
  },
  {
   "source": [
    "## What is webscraping?\n",
    "\n",
    "**Question**: what types of tasks do you think of as webscraping?\n",
    "\n",
    "Webscraping is the selective retrieval of information from HTML documents on the web. Expansively, we could include the process of directed, automated retrieval of other filetypes such as PDF and CSV from web servers. \n",
    "\n",
    "Webcrawling is the automated indexing of websites, and typically involves progressive processing of a site and its links, and the repetition of this process.  "
   ],
   "cell_type": "markdown",
   "metadata": {}
  },
  {
   "source": [
    "## Ethical concerns in webscraping\n",
    "\n",
    "First: ethics is not law, but you should be concerned with both. The legality of different types and situations in webscraping continues to be debated and decided. \n",
    "\n",
    "There are at least two things you need to check before starting to scrape a website. \n",
    "\n",
    "1. Is the content under copyright or licensed in such a way that you should not scrape it? Are there terms of service that limit your use of the site and/or its content?\n",
    "2. Does the site have a robots.txt file that circumscribes what a robot/scraper should do on the site?\n",
    "\n",
    "Further considerations:\n",
    "- **How you scrape**: Is your webscraping going to negatively impact the site, especially due to frequency of requests? Are you identifying yourself in a header when you scrape? Are you publishing your code or redistributing that? Be good citizens of the web.\n",
    "- **What you do with the data**: Are you giving correct attribution? Are you illegally or unethically redistributing content or data? \n",
    "\n",
    "There are plenty of resources online about law, ethics, and best practices around webscraping. Here are a small few further resources if you'd like to think further about these concerns:\n",
    " \n",
    "- https://towardsdatascience.com/ethics-in-web-scraping-b96b18136f01\n",
    "- https://gijn.org/2015/08/12/on-the-ethics-of-web-scraping-and-data-journalism/\n",
    "- https://benbernardblog.com/web-scraping-and-crawling-are-perfectly-legal-right/\n",
    "\n",
    "**Notice: I am not offering you legal advice on whether to scrape or not or what to scrape, just mentioning issues for consideration.**\n",
    "\n",
    "\n"
   ],
   "cell_type": "markdown",
   "metadata": {}
  },
  {
   "source": [
    "## Common webscraping libraries\n",
    "\n",
    "There are hundreds of tutorials online about webscraping with Python, of varying quality. \n",
    "\n",
    "- [`selenium`](https://www.selenium.dev/selenium/docs/api/py/)\n",
    "- [`scrapy`](https://github.com/scrapy/scrapy)\n",
    "- [`beautifulsoup`](https://www.crummy.com/software/BeautifulSoup/bs4/doc/)\n",
    "- [`requests`](https://github.com/psf/requests)\n",
    "- [`urllib`](https://docs.python.org/3/library/urllib.html)\n",
    "- [`lxml`](https://github.com/lxml/lxml)\n",
    "- [`MechanicalSoup`](https://github.com/MechanicalSoup/MechanicalSoup)\n",
    "- [`requests-html`](https://github.com/psf/requests-html)"
   ],
   "cell_type": "markdown",
   "metadata": {}
  },
  {
   "source": [
    "## Webscraping with requests-html\n",
    "\n",
    "Why `requests-html`?\n",
    "\n",
    "- Wraps commonly used libraries in a straightforward API that answers 80% of webscraping cases\n",
    "- Provides asynchronous methods\n",
    "- Provides support for dynamic sites rendered with Javascript \n",
    "\n",
    "[`requests-html` docs](https://requests.readthedocs.io/projects/requests-html/en/latest/)"
   ],
   "cell_type": "markdown",
   "metadata": {}
  },
  {
   "cell_type": "code",
   "execution_count": null,
   "metadata": {},
   "outputs": [],
   "source": [
    "# !pip install requests-html"
   ]
  },
  {
   "cell_type": "code",
   "execution_count": 3,
   "metadata": {},
   "outputs": [],
   "source": [
    "# Import the particular class we need to make http requests\n",
    "# and parse the re\n",
    "from requests_html import HTMLSession"
   ]
  },
  {
   "source": [
    "# Create an instance of that class\n",
    "session = HTMLSession()"
   ],
   "cell_type": "code",
   "metadata": {},
   "execution_count": null,
   "outputs": []
  },
  {
   "source": [
    "We're going to learn first with a site set up by ScrapingHub for practicing webscraping: http://books.toscrape.com/. This site gives us well-formed, common looking HTML and CSS. It is much cleaner than most sites you might try to scrape. "
   ],
   "cell_type": "markdown",
   "metadata": {}
  },
  {
   "cell_type": "code",
   "execution_count": 5,
   "metadata": {},
   "outputs": [],
   "source": [
    "# Define a url variable for ease of use\n",
    "url = \"http://books.toscrape.com/\""
   ]
  },
  {
   "cell_type": "code",
   "execution_count": 8,
   "metadata": {},
   "outputs": [],
   "source": [
    "# Send the get request to that url, and save the response in the variable r\n",
    "r = session.get(url)"
   ]
  },
  {
   "source": [
    "I've used the variable `r` to save the response we get from the server, which contains a lot of information. `requests-html` makes quite a lot of that information available to us as properties on the response. We'll take a look at a few here. "
   ],
   "cell_type": "markdown",
   "metadata": {}
  },
  {
   "cell_type": "code",
   "execution_count": 9,
   "metadata": {},
   "outputs": [
    {
     "output_type": "execute_result",
     "data": {
      "text/plain": [
       "200"
      ]
     },
     "metadata": {},
     "execution_count": 9
    }
   ],
   "source": [
    "# Check the status code of the response\n",
    "# Docs on status codes: https://developer.mozilla.org/en-US/docs/Web/HTTP/Status\n",
    "r.status_code"
   ]
  },
  {
   "cell_type": "code",
   "execution_count": 10,
   "metadata": {},
   "outputs": [
    {
     "output_type": "execute_result",
     "data": {
      "text/plain": [
       "{'Server': 'nginx/1.14.0 (Ubuntu)', 'Date': 'Mon, 12 Oct 2020 18:13:13 GMT', 'Content-Type': 'text/html', 'Transfer-Encoding': 'chunked', 'Connection': 'keep-alive', 'Last-Modified': 'Wed, 29 Jun 2016 21:39:03 GMT', 'X-Upstream': 'toscrape-books-master_web', 'Content-Encoding': 'gzip'}"
      ]
     },
     "metadata": {},
     "execution_count": 10
    }
   ],
   "source": [
    "# Check the response headers\n",
    "# For info: https://developer.mozilla.org/en-US/docs/Web/HTTP/Headers\n",
    "r.headers"
   ]
  },
  {
   "cell_type": "code",
   "execution_count": 16,
   "metadata": {},
   "outputs": [
    {
     "output_type": "execute_result",
     "data": {
      "text/plain": [
       "<HTML url='http://books.toscrape.com/'>"
      ]
     },
     "metadata": {},
     "execution_count": 16
    }
   ],
   "source": [
    "# HTML object of response\n",
    "r.html"
   ]
  },
  {
   "cell_type": "code",
   "execution_count": 17,
   "metadata": {},
   "outputs": [
    {
     "output_type": "execute_result",
     "data": {
      "text/plain": [
       "  \\n            <h3><a href=\"catalogue/the-boys-in-the-boat-nine-americans-and-their-epic-quest-for-gold-at-the-1936-berlin-olympics_992/index.html\" title=\"The Boys in the Boat: Nine Americans and Their Epic Quest for Gold at the 1936 Berlin Olympics\">The Boys in the ...</a></h3>\\n        \\n\\n        \\n            <div class=\"product_price\">\\n                \\n\\n\\n\\n\\n\\n\\n    \\n        <p class=\"price_color\">£22.60</p>\\n    \\n\\n<p class=\"instock availability\">\\n    <i class=\"icon-ok\"></i>\\n    \\n        In stock\\n    \\n</p>\\n\\n                \\n                    \\n\\n\\n\\n\\n\\n\\n    \\n    <form>\\n        <button type=\"submit\" class=\"btn btn-primary btn-block\" data-loading-text=\"Adding...\">Add to basket</button>\\n    </form>\\n\\n\\n                \\n            </div>\\n        \\n    </article>\\n\\n</li>\\n                    \\n                        <li class=\"col-xs-6 col-sm-4 col-md-3 col-lg-3\">\\n\\n\\n\\n\\n\\n\\n    <article class=\"product_pod\">\\n        \\n            <div class=\"image_container\">\\n                \\n                    \\n                    <a href=\"catalogue/the-black-maria_991/index.html\"><img src=\"media/cache/58/46/5846057e28022268153beff6d352b06c.jpg\" alt=\"The Black Maria\" class=\"thumbnail\"></a>\\n                    \\n                \\n            </div>\\n        \\n\\n        \\n            \\n                <p class=\"star-rating One\">\\n                    <i class=\"icon-star\"></i>\\n                    <i class=\"icon-star\"></i>\\n                    <i class=\"icon-star\"></i>\\n                    <i class=\"icon-star\"></i>\\n                    <i class=\"icon-star\"></i>\\n                </p>\\n            \\n        \\n\\n        \\n            <h3><a href=\"catalogue/the-black-maria_991/index.html\" title=\"The Black Maria\">The Black Maria</a></h3>\\n        \\n\\n        \\n            <div class=\"product_price\">\\n                \\n\\n\\n\\n\\n\\n\\n    \\n        <p class=\"price_color\">£52.15</p>\\n    \\n\\n<p class=\"instock availability\">\\n    <i class=\"icon-ok\"></i>\\n    \\n        In stock\\n    \\n</p>\\n\\n                \\n                    \\n\\n\\n\\n\\n\\n\\n    \\n    <form>\\n        <button type=\"submit\" class=\"btn btn-primary btn-block\" data-loading-text=\"Adding...\">Add to basket</button>\\n    </form>\\n\\n\\n                \\n            </div>\\n        \\n    </article>\\n\\n</li>\\n                    \\n                        <li class=\"col-xs-6 col-sm-4 col-md-3 col-lg-3\">\\n\\n\\n\\n\\n\\n\\n    <article class=\"product_pod\">\\n        \\n            <div class=\"image_container\">\\n                \\n                    \\n                    <a href=\"catalogue/starving-hearts-triangular-trade-trilogy-1_990/index.html\"><img src=\"media/cache/be/f4/bef44da28c98f905a3ebec0b87be8530.jpg\" alt=\"Starving Hearts (Triangular Trade Trilogy, #1)\" class=\"thumbnail\"></a>\\n                    \\n                \\n            </div>\\n        \\n\\n        \\n            \\n                <p class=\"star-rating Two\">\\n                    <i class=\"icon-star\"></i>\\n                    <i class=\"icon-star\"></i>\\n                    <i class=\"icon-star\"></i>\\n                    <i class=\"icon-star\"></i>\\n                    <i class=\"icon-star\"></i>\\n                </p>\\n            \\n        \\n\\n        \\n            <h3><a href=\"catalogue/starving-hearts-triangular-trade-trilogy-1_990/index.html\" title=\"Starving Hearts (Triangular Trade Trilogy, #1)\">Starving Hearts (Triangular Trade ...</a></h3>\\n        \\n\\n        \\n            <div class=\"product_price\">\\n                \\n\\n\\n\\n\\n\\n\\n    \\n        <p class=\"price_color\">£13.99</p>\\n    \\n\\n<p class=\"instock availability\">\\n    <i class=\"icon-ok\"></i>\\n    \\n        In stock\\n    \\n</p>\\n\\n                \\n                    \\n\\n\\n\\n\\n\\n\\n    \\n    <form>\\n        <button type=\"submit\" class=\"btn btn-primary btn-block\" data-loading-text=\"Adding...\">Add to basket</button>\\n    </form>\\n\\n\\n                \\n            </div>\\n        \\n    </article>\\n\\n</li>\\n                    \\n                        <li class=\"col-xs-6 col-sm-4 col-md-3 col-lg-3\">\\n\\n\\n\\n\\n\\n\\n    <article class=\"product_pod\">\\n        \\n            <div class=\"image_container\">\\n                \\n                    \\n                    <a href=\"catalogue/shakespeares-sonnets_989/index.html\"><img src=\"media/cache/10/48/1048f63d3b5061cd2f424d20b3f9b666.jpg\" alt=\"Shakespeare&#39;s Sonnets\" class=\"thumbnail\"></a>\\n                    \\n                \\n            </div>\\n        \\n\\n        \\n            \\n                <p class=\"star-rating Four\">\\n                    <i class=\"icon-star\"></i>\\n                    <i class=\"icon-star\"></i>\\n                    <i class=\"icon-star\"></i>\\n                    <i class=\"icon-star\"></i>\\n                    <i class=\"icon-star\"></i>\\n                </p>\\n            \\n        \\n\\n        \\n            <h3><a href=\"catalogue/shakespeares-sonnets_989/index.html\" title=\"Shakespeare&#39;s Sonnets\">Shakespeare&#39;s Sonnets</a></h3>\\n        \\n\\n        \\n            <div class=\"product_price\">\\n                \\n\\n\\n\\n\\n\\n\\n    \\n        <p class=\"price_color\">£20.66</p>\\n    \\n\\n<p class=\"instock availability\">\\n    <i class=\"icon-ok\"></i>\\n    \\n        In stock\\n    \\n</p>\\n\\n                \\n                    \\n\\n\\n\\n\\n\\n\\n    \\n    <form>\\n        <button type=\"submit\" class=\"btn btn-primary btn-block\" data-loading-text=\"Adding...\">Add to basket</button>\\n    </form>\\n\\n\\n                \\n            </div>\\n        \\n    </article>\\n\\n</li>\\n                    \\n                        <li class=\"col-xs-6 col-sm-4 col-md-3 col-lg-3\">\\n\\n\\n\\n\\n\\n\\n    <article class=\"product_pod\">\\n        \\n            <div class=\"image_container\">\\n                \\n                    \\n                    <a href=\"catalogue/set-me-free_988/index.html\"><img src=\"media/cache/5b/88/5b88c52633f53cacf162c15f4f823153.jpg\" alt=\"Set Me Free\" class=\"thumbnail\"></a>\\n                    \\n                \\n            </div>\\n        \\n\\n        \\n            \\n                <p class=\"star-rating Five\">\\n                    <i class=\"icon-star\"></i>\\n                    <i class=\"icon-star\"></i>\\n                    <i class=\"icon-star\"></i>\\n                    <i class=\"icon-star\"></i>\\n                    <i class=\"icon-star\"></i>\\n                </p>\\n            \\n        \\n\\n        \\n            <h3><a href=\"catalogue/set-me-free_988/index.html\" title=\"Set Me Free\">Set Me Free</a></h3>\\n        \\n\\n        \\n            <div class=\"product_price\">\\n                \\n\\n\\n\\n\\n\\n\\n    \\n        <p class=\"price_color\">£17.46</p>\\n    \\n\\n<p class=\"instock availability\">\\n    <i class=\"icon-ok\"></i>\\n    \\n        In stock\\n    \\n</p>\\n\\n                \\n                    \\n\\n\\n\\n\\n\\n\\n    \\n    <form>\\n        <button type=\"submit\" class=\"btn btn-primary btn-block\" data-loading-text=\"Adding...\">Add to basket</button>\\n    </form>\\n\\n\\n                \\n            </div>\\n        \\n    </article>\\n\\n</li>\\n                    \\n                        <li class=\"col-xs-6 col-sm-4 col-md-3 col-lg-3\">\\n\\n\\n\\n\\n\\n\\n    <article class=\"product_pod\">\\n        \\n            <div class=\"image_container\">\\n                \\n                    \\n                    <a href=\"catalogue/scott-pilgrims-precious-little-life-scott-pilgrim-1_987/index.html\"><img src=\"media/cache/94/b1/94b1b8b244bce9677c2f29ccc890d4d2.jpg\" alt=\"Scott Pilgrim&#39;s Precious Little Life (Scott Pilgrim #1)\" class=\"thumbnail\"></a>\\n                    \\n                \\n            </div>\\n        \\n\\n        \\n            \\n                <p class=\"star-rating Five\">\\n                    <i class=\"icon-star\"></i>\\n                    <i class=\"icon-star\"></i>\\n                    <i class=\"icon-star\"></i>\\n                    <i class=\"icon-star\"></i>\\n                    <i class=\"icon-star\"></i>\\n                </p>\\n            \\n        \\n\\n        \\n            <h3><a href=\"catalogue/scott-pilgrims-precious-little-life-scott-pilgrim-1_987/index.html\" title=\"Scott Pilgrim&#39;s Precious Little Life (Scott Pilgrim #1)\">Scott Pilgrim&#39;s Precious Little ...</a></h3>\\n        \\n\\n        \\n            <div class=\"product_price\">\\n                \\n\\n\\n\\n\\n\\n\\n    \\n        <p class=\"price_color\">£52.29</p>\\n    \\n\\n<p class=\"instock availability\">\\n    <i class=\"icon-ok\"></i>\\n    \\n        In stock\\n    \\n</p>\\n\\n                \\n                    \\n\\n\\n\\n\\n\\n\\n    \\n    <form>\\n        <button type=\"submit\" class=\"btn btn-primary btn-block\" data-loading-text=\"Adding...\">Add to basket</button>\\n    </form>\\n\\n\\n                \\n            </div>\\n        \\n    </article>\\n\\n</li>\\n                    \\n                        <li class=\"col-xs-6 col-sm-4 col-md-3 col-lg-3\">\\n\\n\\n\\n\\n\\n\\n    <article class=\"product_pod\">\\n        \\n            <div class=\"image_container\">\\n                \\n                    \\n                    <a href=\"catalogue/rip-it-up-and-start-again_986/index.html\"><img src=\"media/cache/81/c4/81c4a973364e17d01f217e1188253d5e.jpg\" alt=\"Rip it Up and Start Again\" class=\"thumbnail\"></a>\\n                    \\n                \\n            </div>\\n        \\n\\n        \\n            \\n                <p class=\"star-rating Five\">\\n                    <i class=\"icon-star\"></i>\\n                    <i class=\"icon-star\"></i>\\n                    <i class=\"icon-star\"></i>\\n                    <i class=\"icon-star\"></i>\\n                    <i class=\"icon-star\"></i>\\n                </p>\\n            \\n        \\n\\n        \\n            <h3><a href=\"catalogue/rip-it-up-and-start-again_986/index.html\" title=\"Rip it Up and Start Again\">Rip it Up and ...</a></h3>\\n        \\n\\n        \\n            <div class=\"product_price\">\\n                \\n\\n\\n\\n\\n\\n\\n    \\n        <p class=\"price_color\">£35.02</p>\\n    \\n\\n<p class=\"instock availability\">\\n    <i class=\"icon-ok\"></i>\\n    \\n        In stock\\n    \\n</p>\\n\\n                \\n                    \\n\\n\\n\\n\\n\\n\\n    \\n    <form>\\n        <button type=\"submit\" class=\"btn btn-primary btn-block\" data-loading-text=\"Adding...\">Add to basket</button>\\n    </form>\\n\\n\\n                \\n            </div>\\n        \\n    </article>\\n\\n</li>\\n                    \\n                        <li class=\"col-xs-6 col-sm-4 col-md-3 col-lg-3\">\\n\\n\\n\\n\\n\\n\\n    <article class=\"product_pod\">\\n        \\n            <div class=\"image_container\">\\n                \\n                    \\n                    <a href=\"catalogue/our-band-could-be-your-life-scenes-from-the-american-indie-underground-1981-1991_985/index.html\"><img src=\"media/cache/54/60/54607fe8945897cdcced0044103b10b6.jpg\" alt=\"Our Band Could Be Your Life: Scenes from the American Indie Underground, 1981-1991\" class=\"thumbnail\"></a>\\n                    \\n                \\n            </div>\\n        \\n\\n        \\n            \\n                <p class=\"star-rating Three\">\\n                    <i class=\"icon-star\"></i>\\n                    <i class=\"icon-star\"></i>\\n                    <i class=\"icon-star\"></i>\\n                    <i class=\"icon-star\"></i>\\n                    <i class=\"icon-star\"></i>\\n                </p>\\n            \\n        \\n\\n        \\n            <h3><a href=\"catalogue/our-band-could-be-your-life-scenes-from-the-american-indie-underground-1981-1991_985/index.html\" title=\"Our Band Could Be Your Life: Scenes from the American Indie Underground, 1981-1991\">Our Band Could Be ...</a></h3>\\n        \\n\\n        \\n            <div class=\"product_price\">\\n                \\n\\n\\n\\n\\n\\n\\n    \\n        <p class=\"price_color\">£57.25</p>\\n    \\n\\n<p class=\"instock availability\">\\n    <i class=\"icon-ok\"></i>\\n    \\n        In stock\\n    \\n</p>\\n\\n                \\n                    \\n\\n\\n\\n\\n\\n\\n    \\n    <form>\\n        <button type=\"submit\" class=\"btn btn-primary btn-block\" data-loading-text=\"Adding...\">Add to basket</button>\\n    </form>\\n\\n\\n                \\n            </div>\\n        \\n    </article>\\n\\n</li>\\n                    \\n                        <li class=\"col-xs-6 col-sm-4 col-md-3 col-lg-3\">\\n\\n\\n\\n\\n\\n\\n    <article class=\"product_pod\">\\n        \\n            <div class=\"image_container\">\\n                \\n                    \\n                    <a href=\"catalogue/olio_984/index.html\"><img src=\"media/cache/55/33/553310a7162dfbc2c6d19a84da0df9e1.jpg\" alt=\"Olio\" class=\"thumbnail\"></a>\\n                    \\n                \\n            </div>\\n        \\n\\n        \\n            \\n                <p class=\"star-rating One\">\\n                    <i class=\"icon-star\"></i>\\n                    <i class=\"icon-star\"></i>\\n                    <i class=\"icon-star\"></i>\\n                    <i class=\"icon-star\"></i>\\n                    <i class=\"icon-star\"></i>\\n                </p>\\n            \\n        \\n\\n        \\n            <h3><a href=\"catalogue/olio_984/index.html\" title=\"Olio\">Olio</a></h3>\\n        \\n\\n        \\n            <div class=\"product_price\">\\n                \\n\\n\\n\\n\\n\\n\\n    \\n        <p class=\"price_color\">£23.88</p>\\n    \\n\\n<p class=\"instock availability\">\\n    <i class=\"icon-ok\"></i>\\n    \\n        In stock\\n    \\n</p>\\n\\n                \\n                    \\n\\n\\n\\n\\n\\n\\n    \\n    <form>\\n        <button type=\"submit\" class=\"btn btn-primary btn-block\" data-loading-text=\"Adding...\">Add to basket</button>\\n    </form>\\n\\n\\n                \\n            </div>\\n        \\n    </article>\\n\\n</li>\\n                    \\n                        <li class=\"col-xs-6 col-sm-4 col-md-3 col-lg-3\">\\n\\n\\n\\n\\n\\n\\n    <article class=\"product_pod\">\\n        \\n            <div class=\"image_container\">\\n                \\n                    \\n                    <a href=\"catalogue/mesaerion-the-best-science-fiction-stories-1800-1849_983/index.html\"><img src=\"media/cache/09/a3/09a3aef48557576e1a85ba7efea8ecb7.jpg\" alt=\"Mesaerion: The Best Science Fiction Stories 1800-1849\" class=\"thumbnail\"></a>\\n                    \\n                \\n            </div>\\n        \\n\\n        \\n            \\n                <p class=\"star-rating One\">\\n                    <i class=\"icon-star\"></i>\\n                    <i class=\"icon-star\"></i>\\n                    <i class=\"icon-star\"></i>\\n                    <i class=\"icon-star\"></i>\\n                    <i class=\"icon-star\"></i>\\n                </p>\\n            \\n        \\n\\n        \\n            <h3><a href=\"catalogue/mesaerion-the-best-science-fiction-stories-1800-1849_983/index.html\" title=\"Mesaerion: The Best Science Fiction Stories 1800-1849\">Mesaerion: The Best Science ...</a></h3>\\n        \\n\\n        \\n            <div class=\"product_price\">\\n                \\n\\n\\n\\n\\n\\n\\n    \\n        <p class=\"price_color\">£37.59</p>\\n    \\n\\n<p class=\"instock availability\">\\n    <i class=\"icon-ok\"></i>\\n    \\n        In stock\\n    \\n</p>\\n\\n                \\n                    \\n\\n\\n\\n\\n\\n\\n    \\n    <form>\\n        <button type=\"submit\" class=\"btn btn-primary btn-block\" data-loading-text=\"Adding...\">Add to basket</button>\\n    </form>\\n\\n\\n                \\n            </div>\\n        \\n    </article>\\n\\n</li>\\n                    \\n                        <li class=\"col-xs-6 col-sm-4 col-md-3 col-lg-3\">\\n\\n\\n\\n\\n\\n\\n    <article class=\"product_pod\">\\n        \\n            <div class=\"image_container\">\\n                \\n                    \\n                    <a href=\"catalogue/libertarianism-for-beginners_982/index.html\"><img src=\"media/cache/0b/bc/0bbcd0a6f4bcd81ccb1049a52736406e.jpg\" alt=\"Libertarianism for Beginners\" class=\"thumbnail\"></a>\\n                    \\n                \\n            </div>\\n        \\n\\n        \\n            \\n                <p class=\"star-rating Two\">\\n                    <i class=\"icon-star\"></i>\\n                    <i class=\"icon-star\"></i>\\n                    <i class=\"icon-star\"></i>\\n                    <i class=\"icon-star\"></i>\\n                    <i class=\"icon-star\"></i>\\n                </p>\\n            \\n        \\n\\n        \\n            <h3><a href=\"catalogue/libertarianism-for-beginners_982/index.html\" title=\"Libertarianism for Beginners\">Libertarianism for Beginners</a></h3>\\n        \\n\\n        \\n            <div class=\"product_price\">\\n                \\n\\n\\n\\n\\n\\n\\n    \\n        <p class=\"price_color\">£51.33</p>\\n    \\n\\n<p class=\"instock availability\">\\n    <i class=\"icon-ok\"></i>\\n    \\n        In stock\\n    \\n</p>\\n\\n                \\n                    \\n\\n\\n\\n\\n\\n\\n    \\n    <form>\\n        <button type=\"submit\" class=\"btn btn-primary btn-block\" data-loading-text=\"Adding...\">Add to basket</button>\\n    </form>\\n\\n\\n                \\n            </div>\\n        \\n    </article>\\n\\n</li>\\n                    \\n                        <li class=\"col-xs-6 col-sm-4 col-md-3 col-lg-3\">\\n\\n\\n\\n\\n\\n\\n    <article class=\"product_pod\">\\n        \\n            <div class=\"image_container\">\\n                \\n                    \\n                    <a href=\"catalogue/its-only-the-himalayas_981/index.html\"><img src=\"media/cache/27/a5/27a53d0bb95bdd88288eaf66c9230d7e.jpg\" alt=\"It&#39;s Only the Himalayas\" class=\"thumbnail\"></a>\\n                    \\n                \\n            </div>\\n        \\n\\n        \\n            \\n                <p class=\"star-rating Two\">\\n                    <i class=\"icon-star\"></i>\\n                    <i class=\"icon-star\"></i>\\n                    <i class=\"icon-star\"></i>\\n                    <i class=\"icon-star\"></i>\\n                    <i class=\"icon-star\"></i>\\n                </p>\\n            \\n        \\n\\n        \\n            <h3><a href=\"catalogue/its-only-the-himalayas_981/index.html\" title=\"It&#39;s Only the Himalayas\">It&#39;s Only the Himalayas</a></h3>\\n        \\n\\n        \\n            <div class=\"product_price\">\\n                \\n\\n\\n\\n\\n\\n\\n    \\n        <p class=\"price_color\">£45.17</p>\\n    \\n\\n<p class=\"instock availability\">\\n    <i class=\"icon-ok\"></i>\\n    \\n        In stock\\n    \\n</p>\\n\\n                \\n                    \\n\\n\\n\\n\\n\\n\\n    \\n    <form>\\n        <button type=\"submit\" class=\"btn btn-primary btn-block\" data-loading-text=\"Adding...\">Add to basket</button>\\n    </form>\\n\\n\\n                \\n            </div>\\n        \\n    </article>\\n\\n</li>\\n                    \\n                </ol>\\n                \\n\\n\\n\\n    <div>\\n        <ul class=\"pager\">\\n            \\n            <li class=\"current\">\\n            \\n                Page 1 of 50\\n            \\n            </li>\\n            \\n                <li class=\"next\"><a href=\"catalogue/page-2.html\">next</a></li>\\n            \\n        </ul>\\n    </div>\\n\\n\\n            </div>\\n        </section>\\n    \\n\\n\\n            </div>\\n\\n        </div><!-- /row -->\\n    </div><!-- /page_inner -->\\n</div><!-- /container-fluid -->\\n\\n\\n    \\n<footer class=\"footer container-fluid\">\\n    \\n        \\n    \\n</footer>\\n\\n\\n        \\n        \\n  \\n            <!-- jQuery -->\\n            <script src=\"http://ajax.googleapis.com/ajax/libs/jquery/1.9.1/jquery.min.js\"></script>\\n            <script>window.jQuery || document.write(\\'<script src=\"static/oscar/js/jquery/jquery-1.9.1.min.js\"><\\\\/script>\\')</script>\\n        \\n  \\n\\n\\n        \\n        \\n    \\n        \\n    <!-- Twitter Bootstrap -->\\n    <script type=\"text/javascript\" src=\"static/oscar/js/bootstrap3/bootstrap.min.js\"></script>\\n    <!-- Oscar -->\\n    <script src=\"static/oscar/js/oscar/ui.js\" type=\"text/javascript\" charset=\"utf-8\"></script>\\n\\n    <script src=\"static/oscar/js/bootstrap-datetimepicker/bootstrap-datetimepicker.js\" type=\"text/javascript\" charset=\"utf-8\"></script>\\n    <script src=\"static/oscar/js/bootstrap-datetimepicker/locales/bootstrap-datetimepicker.all.js\" type=\"text/javascript\" charset=\"utf-8\"></script>\\n\\n\\n        \\n        \\n    \\n\\n    \\n\\n\\n        \\n        <script type=\"text/javascript\">\\n            $(function() {\\n                \\n    \\n    \\n    oscar.init();\\n\\n    oscar.search.init();\\n\\n            });\\n        </script>\\n\\n        \\n        <!-- Version: N/A -->\\n        \\n    </body>\\n</html>\\n'"
      ]
     },
     "metadata": {},
     "execution_count": 17
    }
   ],
   "source": [
    "# HTML content of html object\n",
    "r.html.html"
   ]
  },
  {
   "cell_type": "code",
   "execution_count": 19,
   "metadata": {},
   "outputs": [
    {
     "output_type": "execute_result",
     "data": {
      "text/plain": [
       "'All products | Books to Scrape - Sandbox\\nBooks to Scrape We love being scraped!\\nHome\\nAll products\\nBooks\\nTravel\\nMystery\\nHistorical Fiction\\nSequential Art\\nClassics\\nPhilosophy\\nRomance\\nWomens Fiction\\nFiction\\nChildrens\\nReligion\\nNonfiction\\nMusic\\nDefault\\nScience Fiction\\nSports and Games\\nAdd a comment\\nFantasy\\nNew Adult\\nYoung Adult\\nScience\\nPoetry\\nParanormal\\nArt\\nPsychology\\nAutobiography\\nParenting\\nAdult Fiction\\nHumor\\nHorror\\nHistory\\nFood and Drink\\nChristian Fiction\\nBusiness\\nBiography\\nThriller\\nContemporary\\nSpirituality\\nAcademic\\nSelf Help\\nHistorical\\nChristian\\nSuspense\\nShort Stories\\nNovels\\nHealth\\nPolitics\\nCultural\\nErotica\\nCrime\\nAll products\\n1000 results - showing 1 to 20.\\nWarning! This is a demo website for web scraping purposes. Prices and ratings here were randomly assigned and have no real meaning.\\nA Light in the ...\\n£51.77\\nIn stock\\nAdd to basket\\nTipping the Velvet\\n£53.74\\nIn stock\\nAdd to basket\\nSoumission\\n£50.10\\nIn stock\\nAdd to basket\\nSharp Objects\\n£47.82\\nIn stock\\nAdd to basket\\nSapiens: A Brief History ...\\n£54.23\\nIn stock\\nAdd to basket\\nThe Requiem Red\\n£22.65\\nIn stock\\nAdd to basket\\nThe Dirty Little Secrets ...\\n£33.34\\nIn stock\\nAdd to basket\\nThe Coming Woman: A ...\\n£17.93\\nIn stock\\nAdd to basket\\nThe Boys in the ...\\n£22.60\\nIn stock\\nAdd to basket\\nThe Black Maria\\n£52.15\\nIn stock\\nAdd to basket\\nStarving Hearts (Triangular Trade ...\\n£13.99\\nIn stock\\nAdd to basket\\nShakespeare\\'s Sonnets\\n£20.66\\nIn stock\\nAdd to basket\\nSet Me Free\\n£17.46\\nIn stock\\nAdd to basket\\nScott Pilgrim\\'s Precious Little ...\\n£52.29\\nIn stock\\nAdd to basket\\nRip it Up and ...\\n£35.02\\nIn stock\\nAdd to basket\\nOur Band Could Be ...\\n£57.25\\nIn stock\\nAdd to basket\\nOlio\\n£23.88\\nIn stock\\nAdd to basket\\nMesaerion: The Best Science ...\\n£37.59\\nIn stock\\nAdd to basket\\nLibertarianism for Beginners\\n£51.33\\nIn stock\\nAdd to basket\\nIt\\'s Only the Himalayas\\n£45.17\\nIn stock\\nAdd to basket\\nPage 1 of 50\\nnext\\nwindow.jQuery || document.write(\\'<script src=\"static/oscar/js/jquery/jquery-1.9.1.min.js\"><\\\\/script>\\') $(function() { oscar.init(); oscar.search.init(); });'"
      ]
     },
     "metadata": {},
     "execution_count": 19
    }
   ],
   "source": [
    "# Text from the <html> element\n",
    "r.html.text"
   ]
  },
  {
   "source": [
    "## An interlude on HTML and CSS\n",
    "\n",
    "Why do we need to understand HTML and CSS to webscrape? Without HTML and CSS, we can't pinpoint the specific sections of the page or content we are interested in. Specifically, within HTML we need to understand `elements` or `tags`, and `attributes`. Within CSS, we definitely need to know `classes` and `ids`.\n",
    "\n",
    "Let's take a look at our sample page with our browers' developer tools. In most browsers, you can right click on a part of the page, and click 'Inspect Element' or 'Inspect' to open the dev tools. \n",
    "\n",
    "In Safari, you may need to first enable Developer Tools: Preferences -> Advanced -> \"Show Develop menu in menu bar\" "
   ],
   "cell_type": "markdown",
   "metadata": {}
  },
  {
   "cell_type": "code",
   "execution_count": 20,
   "metadata": {},
   "outputs": [
    {
     "output_type": "execute_result",
     "data": {
      "text/plain": [
       "[<Element 'article' class=('product_pod',)>,\n",
       " <Element 'article' class=('product_pod',)>,\n",
       " <Element 'article' class=('product_pod',)>,\n",
       " <Element 'article' class=('product_pod',)>,\n",
       " <Element 'article' class=('product_pod',)>,\n",
       " <Element 'article' class=('product_pod',)>,\n",
       " <Element 'article' class=('product_pod',)>,\n",
       " <Element 'article' class=('product_pod',)>,\n",
       " <Element 'article' class=('product_pod',)>,\n",
       " <Element 'article' class=('product_pod',)>,\n",
       " <Element 'article' class=('product_pod',)>,\n",
       " <Element 'article' class=('product_pod',)>,\n",
       " <Element 'article' class=('product_pod',)>,\n",
       " <Element 'article' class=('product_pod',)>,\n",
       " <Element 'article' class=('product_pod',)>,\n",
       " <Element 'article' class=('product_pod',)>,\n",
       " <Element 'article' class=('product_pod',)>,\n",
       " <Element 'article' class=('product_pod',)>,\n",
       " <Element 'article' class=('product_pod',)>,\n",
       " <Element 'article' class=('product_pod',)>]"
      ]
     },
     "metadata": {},
     "execution_count": 20
    }
   ],
   "source": [
    "# Find a piece of HTML by class\n",
    "# Find returns all instances in a lis\n",
    "# If you want just the first, add first=True to your find method\n",
    "r.html.find(\".product_pod\")"
   ]
  },
  {
   "cell_type": "code",
   "execution_count": 25,
   "metadata": {},
   "outputs": [
    {
     "output_type": "execute_result",
     "data": {
      "text/plain": [
       "<Element 'article' class=('product_pod',)>"
      ]
     },
     "metadata": {},
     "execution_count": 25
    }
   ],
   "source": [
    "first_prod = r.html.find(\".product_pod\", first=True)\n",
    "first_prod"
   ]
  },
  {
   "source": [
    "**Question**: What's the difference in type between the two `find` calls?"
   ],
   "cell_type": "markdown",
   "metadata": {}
  },
  {
   "cell_type": "code",
   "execution_count": 23,
   "metadata": {},
   "outputs": [
    {
     "output_type": "execute_result",
     "data": {
      "text/plain": [
       "'<article class=\"product_pod\">\\n<div class=\"image_container\">\\n<a href=\"catalogue/a-light-in-the-attic_1000/index.html\"><img src=\"media/cache/2c/da/2cdad67c44b002e7ead0cc35693c0e8b.jpg\" alt=\"A Light in the Attic\" class=\"thumbnail\"/></a>\\n</div>\\n<p class=\"star-rating Three\">\\n<i class=\"icon-star\"/>\\n<i class=\"icon-star\"/>\\n<i class=\"icon-star\"/>\\n<i class=\"icon-star\"/>\\n<i class=\"icon-star\"/>\\n</p>\\n<h3><a href=\"catalogue/a-light-in-the-attic_1000/index.html\" title=\"A Light in the Attic\">A Light in the ...</a></h3>\\n<div class=\"product_price\">\\n<p class=\"price_color\">£51.77</p>\\n<p class=\"instock availability\">\\n<i class=\"icon-ok\"/>\\n    \\n        In stock\\n    \\n</p>\\n<form>\\n<button type=\"submit\" class=\"btn btn-primary btn-block\" data-loading-text=\"Adding...\">Add to basket</button>\\n</form>\\n</div>\\n</article>'"
      ]
     },
     "metadata": {},
     "execution_count": 23
    }
   ],
   "source": [
    "# Once we find an element, we can get it's HTML\n",
    "first_prod.html"
   ]
  },
  {
   "cell_type": "code",
   "execution_count": 24,
   "metadata": {},
   "outputs": [
    {
     "output_type": "execute_result",
     "data": {
      "text/plain": [
       "'A Light in the ...\\n£51.77\\nIn stock\\nAdd to basket'"
      ]
     },
     "metadata": {},
     "execution_count": 24
    }
   ],
   "source": [
    "# Or we can get the text from it\n",
    "first_prod.text"
   ]
  },
  {
   "cell_type": "code",
   "execution_count": 27,
   "metadata": {},
   "outputs": [],
   "source": [
    "# We can also chain the find calls to find progressively narrower\n",
    "# elements on the page\n",
    "sidebar = r.html.find(\".sidebar\", first=True)"
   ]
  },
  {
   "cell_type": "code",
   "execution_count": 32,
   "metadata": {},
   "outputs": [
    {
     "output_type": "execute_result",
     "data": {
      "text/plain": [
       "[<Element 'li' >,\n",
       " <Element 'li' >,\n",
       " <Element 'li' >,\n",
       " <Element 'li' >,\n",
       " <Element 'li' >,\n",
       " <Element 'li' >,\n",
       " <Element 'li' >,\n",
       " <Element 'li' >,\n",
       " <Element 'li' >,\n",
       " <Element 'li' >,\n",
       " <Element 'li' >,\n",
       " <Element 'li' >,\n",
       " <Element 'li' >,\n",
       " <Element 'li' >,\n",
       " <Element 'li' >,\n",
       " <Element 'li' >,\n",
       " <Element 'li' >,\n",
       " <Element 'li' >,\n",
       " <Element 'li' >,\n",
       " <Element 'li' >,\n",
       " <Element 'li' >,\n",
       " <Element 'li' >,\n",
       " <Element 'li' >,\n",
       " <Element 'li' >,\n",
       " <Element 'li' >,\n",
       " <Element 'li' >,\n",
       " <Element 'li' >,\n",
       " <Element 'li' >,\n",
       " <Element 'li' >,\n",
       " <Element 'li' >,\n",
       " <Element 'li' >,\n",
       " <Element 'li' >,\n",
       " <Element 'li' >,\n",
       " <Element 'li' >,\n",
       " <Element 'li' >,\n",
       " <Element 'li' >,\n",
       " <Element 'li' >,\n",
       " <Element 'li' >,\n",
       " <Element 'li' >,\n",
       " <Element 'li' >,\n",
       " <Element 'li' >,\n",
       " <Element 'li' >,\n",
       " <Element 'li' >,\n",
       " <Element 'li' >,\n",
       " <Element 'li' >,\n",
       " <Element 'li' >,\n",
       " <Element 'li' >,\n",
       " <Element 'li' >,\n",
       " <Element 'li' >,\n",
       " <Element 'li' >]"
      ]
     },
     "metadata": {},
     "execution_count": 32
    }
   ],
   "source": [
    "# Let's find all of the genre links within the sidebar\n",
    "# Notice how the successive tags let us find nested elements\n",
    "sidebar_genres = sidebar.find(\".nav-list ul li\")\n",
    "sidebar_genres"
   ]
  },
  {
   "cell_type": "code",
   "execution_count": 33,
   "metadata": {},
   "outputs": [
    {
     "output_type": "execute_result",
     "data": {
      "text/plain": [
       "['Travel',\n",
       " 'Mystery',\n",
       " 'Historical Fiction',\n",
       " 'Sequential Art',\n",
       " 'Classics',\n",
       " 'Philosophy',\n",
       " 'Romance',\n",
       " 'Womens Fiction',\n",
       " 'Fiction',\n",
       " 'Childrens',\n",
       " 'Religion',\n",
       " 'Nonfiction',\n",
       " 'Music',\n",
       " 'Default',\n",
       " 'Science Fiction',\n",
       " 'Sports and Games',\n",
       " 'Add a comment',\n",
       " 'Fantasy',\n",
       " 'New Adult',\n",
       " 'Young Adult',\n",
       " 'Science',\n",
       " 'Poetry',\n",
       " 'Paranormal',\n",
       " 'Art',\n",
       " 'Psychology',\n",
       " 'Autobiography',\n",
       " 'Parenting',\n",
       " 'Adult Fiction',\n",
       " 'Humor',\n",
       " 'Horror',\n",
       " 'History',\n",
       " 'Food and Drink',\n",
       " 'Christian Fiction',\n",
       " 'Business',\n",
       " 'Biography',\n",
       " 'Thriller',\n",
       " 'Contemporary',\n",
       " 'Spirituality',\n",
       " 'Academic',\n",
       " 'Self Help',\n",
       " 'Historical',\n",
       " 'Christian',\n",
       " 'Suspense',\n",
       " 'Short Stories',\n",
       " 'Novels',\n",
       " 'Health',\n",
       " 'Politics',\n",
       " 'Cultural',\n",
       " 'Erotica',\n",
       " 'Crime']"
      ]
     },
     "metadata": {},
     "execution_count": 33
    }
   ],
   "source": [
    "# Once we have the elements, we could collect the text\n",
    "genres = [item.text for item in sidebar_genres]\n",
    "genres"
   ]
  },
  {
   "source": [
    "`requests-html` pre-collects links for you, since it's such a common and easily findable element. "
   ],
   "cell_type": "markdown",
   "metadata": {}
  },
  {
   "cell_type": "code",
   "execution_count": 36,
   "metadata": {},
   "outputs": [
    {
     "output_type": "stream",
     "name": "stdout",
     "text": [
      "<class 'set'>\n"
     ]
    },
    {
     "output_type": "execute_result",
     "data": {
      "text/plain": [
       "{'http://books.toscrape.com/catalogue/a-light-in-the-attic_1000/index.html',\n",
       " 'http://books.toscrape.com/catalogue/category/books/academic_40/index.html',\n",
       " 'http://books.toscrape.com/catalogue/category/books/add-a-comment_18/index.html',\n",
       " 'http://books.toscrape.com/catalogue/category/books/adult-fiction_29/index.html',\n",
       " 'http://books.toscrape.com/catalogue/category/books/art_25/index.html',\n",
       " 'http://books.toscrape.com/catalogue/category/books/autobiography_27/index.html',\n",
       " 'http://books.toscrape.com/catalogue/category/books/biography_36/index.html',\n",
       " 'http://books.toscrape.com/catalogue/category/books/business_35/index.html',\n",
       " 'http://books.toscrape.com/catalogue/category/books/childrens_11/index.html',\n",
       " 'http://books.toscrape.com/catalogue/category/books/christian-fiction_34/index.html',\n",
       " 'http://books.toscrape.com/catalogue/category/books/christian_43/index.html',\n",
       " 'http://books.toscrape.com/catalogue/category/books/classics_6/index.html',\n",
       " 'http://books.toscrape.com/catalogue/category/books/contemporary_38/index.html',\n",
       " 'http://books.toscrape.com/catalogue/category/books/crime_51/index.html',\n",
       " 'http://books.toscrape.com/catalogue/category/books/cultural_49/index.html',\n",
       " 'http://books.toscrape.com/catalogue/category/books/default_15/index.html',\n",
       " 'http://books.toscrape.com/catalogue/category/books/erotica_50/index.html',\n",
       " 'http://books.toscrape.com/catalogue/category/books/fantasy_19/index.html',\n",
       " 'http://books.toscrape.com/catalogue/category/books/fiction_10/index.html',\n",
       " 'http://books.toscrape.com/catalogue/category/books/food-and-drink_33/index.html',\n",
       " 'http://books.toscrape.com/catalogue/category/books/health_47/index.html',\n",
       " 'http://books.toscrape.com/catalogue/category/books/historical-fiction_4/index.html',\n",
       " 'http://books.toscrape.com/catalogue/category/books/historical_42/index.html',\n",
       " 'http://books.toscrape.com/catalogue/category/books/history_32/index.html',\n",
       " 'http://books.toscrape.com/catalogue/category/books/horror_31/index.html',\n",
       " 'http://books.toscrape.com/catalogue/category/books/humor_30/index.html',\n",
       " 'http://books.toscrape.com/catalogue/category/books/music_14/index.html',\n",
       " 'http://books.toscrape.com/catalogue/category/books/mystery_3/index.html',\n",
       " 'http://books.toscrape.com/catalogue/category/books/new-adult_20/index.html',\n",
       " 'http://books.toscrape.com/catalogue/category/books/nonfiction_13/index.html',\n",
       " 'http://books.toscrape.com/catalogue/category/books/novels_46/index.html',\n",
       " 'http://books.toscrape.com/catalogue/category/books/paranormal_24/index.html',\n",
       " 'http://books.toscrape.com/catalogue/category/books/parenting_28/index.html',\n",
       " 'http://books.toscrape.com/catalogue/category/books/philosophy_7/index.html',\n",
       " 'http://books.toscrape.com/catalogue/category/books/poetry_23/index.html',\n",
       " 'http://books.toscrape.com/catalogue/category/books/politics_48/index.html',\n",
       " 'http://books.toscrape.com/catalogue/category/books/psychology_26/index.html',\n",
       " 'http://books.toscrape.com/catalogue/category/books/religion_12/index.html',\n",
       " 'http://books.toscrape.com/catalogue/category/books/romance_8/index.html',\n",
       " 'http://books.toscrape.com/catalogue/category/books/science-fiction_16/index.html',\n",
       " 'http://books.toscrape.com/catalogue/category/books/science_22/index.html',\n",
       " 'http://books.toscrape.com/catalogue/category/books/self-help_41/index.html',\n",
       " 'http://books.toscrape.com/catalogue/category/books/sequential-art_5/index.html',\n",
       " 'http://books.toscrape.com/catalogue/category/books/short-stories_45/index.html',\n",
       " 'http://books.toscrape.com/catalogue/category/books/spirituality_39/index.html',\n",
       " 'http://books.toscrape.com/catalogue/category/books/sports-and-games_17/index.html',\n",
       " 'http://books.toscrape.com/catalogue/category/books/suspense_44/index.html',\n",
       " 'http://books.toscrape.com/catalogue/category/books/thriller_37/index.html',\n",
       " 'http://books.toscrape.com/catalogue/category/books/travel_2/index.html',\n",
       " 'http://books.toscrape.com/catalogue/category/books/womens-fiction_9/index.html',\n",
       " 'http://books.toscrape.com/catalogue/category/books/young-adult_21/index.html',\n",
       " 'http://books.toscrape.com/catalogue/category/books_1/index.html',\n",
       " 'http://books.toscrape.com/catalogue/its-only-the-himalayas_981/index.html',\n",
       " 'http://books.toscrape.com/catalogue/libertarianism-for-beginners_982/index.html',\n",
       " 'http://books.toscrape.com/catalogue/mesaerion-the-best-science-fiction-stories-1800-1849_983/index.html',\n",
       " 'http://books.toscrape.com/catalogue/olio_984/index.html',\n",
       " 'http://books.toscrape.com/catalogue/our-band-could-be-your-life-scenes-from-the-american-indie-underground-1981-1991_985/index.html',\n",
       " 'http://books.toscrape.com/catalogue/page-2.html',\n",
       " 'http://books.toscrape.com/catalogue/rip-it-up-and-start-again_986/index.html',\n",
       " 'http://books.toscrape.com/catalogue/sapiens-a-brief-history-of-humankind_996/index.html',\n",
       " 'http://books.toscrape.com/catalogue/scott-pilgrims-precious-little-life-scott-pilgrim-1_987/index.html',\n",
       " 'http://books.toscrape.com/catalogue/set-me-free_988/index.html',\n",
       " 'http://books.toscrape.com/catalogue/shakespeares-sonnets_989/index.html',\n",
       " 'http://books.toscrape.com/catalogue/sharp-objects_997/index.html',\n",
       " 'http://books.toscrape.com/catalogue/soumission_998/index.html',\n",
       " 'http://books.toscrape.com/catalogue/starving-hearts-triangular-trade-trilogy-1_990/index.html',\n",
       " 'http://books.toscrape.com/catalogue/the-black-maria_991/index.html',\n",
       " 'http://books.toscrape.com/catalogue/the-boys-in-the-boat-nine-americans-and-their-epic-quest-for-gold-at-the-1936-berlin-olympics_992/index.html',\n",
       " 'http://books.toscrape.com/catalogue/the-coming-woman-a-novel-based-on-the-life-of-the-infamous-feminist-victoria-woodhull_993/index.html',\n",
       " 'http://books.toscrape.com/catalogue/the-dirty-little-secrets-of-getting-your-dream-job_994/index.html',\n",
       " 'http://books.toscrape.com/catalogue/the-requiem-red_995/index.html',\n",
       " 'http://books.toscrape.com/catalogue/tipping-the-velvet_999/index.html',\n",
       " 'http://books.toscrape.com/index.html'}"
      ]
     },
     "metadata": {},
     "execution_count": 36
    }
   ],
   "source": [
    "# Notice the type of the absolute links\n",
    "links = r.html.absolute_links\n",
    "print(type(links))\n",
    "links"
   ]
  },
  {
   "source": [
    "**Question**: What's the difference between the absolute links and the links below? "
   ],
   "cell_type": "markdown",
   "metadata": {}
  },
  {
   "cell_type": "code",
   "execution_count": 37,
   "metadata": {},
   "outputs": [
    {
     "output_type": "execute_result",
     "data": {
      "text/plain": [
       "{'catalogue/a-light-in-the-attic_1000/index.html',\n",
       " 'catalogue/category/books/academic_40/index.html',\n",
       " 'catalogue/category/books/add-a-comment_18/index.html',\n",
       " 'catalogue/category/books/adult-fiction_29/index.html',\n",
       " 'catalogue/category/books/art_25/index.html',\n",
       " 'catalogue/category/books/autobiography_27/index.html',\n",
       " 'catalogue/category/books/biography_36/index.html',\n",
       " 'catalogue/category/books/business_35/index.html',\n",
       " 'catalogue/category/books/childrens_11/index.html',\n",
       " 'catalogue/category/books/christian-fiction_34/index.html',\n",
       " 'catalogue/category/books/christian_43/index.html',\n",
       " 'catalogue/category/books/classics_6/index.html',\n",
       " 'catalogue/category/books/contemporary_38/index.html',\n",
       " 'catalogue/category/books/crime_51/index.html',\n",
       " 'catalogue/category/books/cultural_49/index.html',\n",
       " 'catalogue/category/books/default_15/index.html',\n",
       " 'catalogue/category/books/erotica_50/index.html',\n",
       " 'catalogue/category/books/fantasy_19/index.html',\n",
       " 'catalogue/category/books/fiction_10/index.html',\n",
       " 'catalogue/category/books/food-and-drink_33/index.html',\n",
       " 'catalogue/category/books/health_47/index.html',\n",
       " 'catalogue/category/books/historical-fiction_4/index.html',\n",
       " 'catalogue/category/books/historical_42/index.html',\n",
       " 'catalogue/category/books/history_32/index.html',\n",
       " 'catalogue/category/books/horror_31/index.html',\n",
       " 'catalogue/category/books/humor_30/index.html',\n",
       " 'catalogue/category/books/music_14/index.html',\n",
       " 'catalogue/category/books/mystery_3/index.html',\n",
       " 'catalogue/category/books/new-adult_20/index.html',\n",
       " 'catalogue/category/books/nonfiction_13/index.html',\n",
       " 'catalogue/category/books/novels_46/index.html',\n",
       " 'catalogue/category/books/paranormal_24/index.html',\n",
       " 'catalogue/category/books/parenting_28/index.html',\n",
       " 'catalogue/category/books/philosophy_7/index.html',\n",
       " 'catalogue/category/books/poetry_23/index.html',\n",
       " 'catalogue/category/books/politics_48/index.html',\n",
       " 'catalogue/category/books/psychology_26/index.html',\n",
       " 'catalogue/category/books/religion_12/index.html',\n",
       " 'catalogue/category/books/romance_8/index.html',\n",
       " 'catalogue/category/books/science-fiction_16/index.html',\n",
       " 'catalogue/category/books/science_22/index.html',\n",
       " 'catalogue/category/books/self-help_41/index.html',\n",
       " 'catalogue/category/books/sequential-art_5/index.html',\n",
       " 'catalogue/category/books/short-stories_45/index.html',\n",
       " 'catalogue/category/books/spirituality_39/index.html',\n",
       " 'catalogue/category/books/sports-and-games_17/index.html',\n",
       " 'catalogue/category/books/suspense_44/index.html',\n",
       " 'catalogue/category/books/thriller_37/index.html',\n",
       " 'catalogue/category/books/travel_2/index.html',\n",
       " 'catalogue/category/books/womens-fiction_9/index.html',\n",
       " 'catalogue/category/books/young-adult_21/index.html',\n",
       " 'catalogue/category/books_1/index.html',\n",
       " 'catalogue/its-only-the-himalayas_981/index.html',\n",
       " 'catalogue/libertarianism-for-beginners_982/index.html',\n",
       " 'catalogue/mesaerion-the-best-science-fiction-stories-1800-1849_983/index.html',\n",
       " 'catalogue/olio_984/index.html',\n",
       " 'catalogue/our-band-could-be-your-life-scenes-from-the-american-indie-underground-1981-1991_985/index.html',\n",
       " 'catalogue/page-2.html',\n",
       " 'catalogue/rip-it-up-and-start-again_986/index.html',\n",
       " 'catalogue/sapiens-a-brief-history-of-humankind_996/index.html',\n",
       " 'catalogue/scott-pilgrims-precious-little-life-scott-pilgrim-1_987/index.html',\n",
       " 'catalogue/set-me-free_988/index.html',\n",
       " 'catalogue/shakespeares-sonnets_989/index.html',\n",
       " 'catalogue/sharp-objects_997/index.html',\n",
       " 'catalogue/soumission_998/index.html',\n",
       " 'catalogue/starving-hearts-triangular-trade-trilogy-1_990/index.html',\n",
       " 'catalogue/the-black-maria_991/index.html',\n",
       " 'catalogue/the-boys-in-the-boat-nine-americans-and-their-epic-quest-for-gold-at-the-1936-berlin-olympics_992/index.html',\n",
       " 'catalogue/the-coming-woman-a-novel-based-on-the-life-of-the-infamous-feminist-victoria-woodhull_993/index.html',\n",
       " 'catalogue/the-dirty-little-secrets-of-getting-your-dream-job_994/index.html',\n",
       " 'catalogue/the-requiem-red_995/index.html',\n",
       " 'catalogue/tipping-the-velvet_999/index.html',\n",
       " 'index.html'}"
      ]
     },
     "metadata": {},
     "execution_count": 37
    }
   ],
   "source": [
    "r.html.links"
   ]
  },
  {
   "source": [
    "<div style=\"font-size: 1em; margin: 1em 0 1em 0; border: 1px solid #86989B; background-color: #f7f7f7; padding: 0;\">\n",
    "<p style=\"margin: 0; padding: 0.1em 0 0.1em 0.5em; color: white; border-bottom: 1px solid #86989B; font-weight: bold; background-color: #AFC1C4;\">\n",
    "Activity\n",
    "</p>\n",
    "<p style=\"margin: 0.5em 1em 0.5em 1em; padding: 0;\">\n",
    "On the sample page linked above, pick out some feature on the page that you want to locate. Using the developer tools in your browser, try to find something that has a clear html or css identifier. In the cell below, write code that returns just that element. \n",
    "</p>\n",
    "</div>"
   ],
   "cell_type": "markdown",
   "metadata": {}
  },
  {
   "source": [
    "# Write code here"
   ],
   "cell_type": "code",
   "metadata": {},
   "execution_count": null,
   "outputs": []
  },
  {
   "source": [
    "## More webscraping\n",
    "\n",
    "We'll run through another example, looking at how to extract other relevant information. "
   ],
   "cell_type": "markdown",
   "metadata": {}
  },
  {
   "cell_type": "code",
   "execution_count": 39,
   "metadata": {},
   "outputs": [],
   "source": [
    "# A Byte of Python\n",
    "url = \"https://python.swaroopch.com/\""
   ]
  },
  {
   "cell_type": "code",
   "execution_count": 40,
   "metadata": {},
   "outputs": [],
   "source": [
    "r = session.get(url)"
   ]
  },
  {
   "cell_type": "code",
   "execution_count": 41,
   "metadata": {},
   "outputs": [
    {
     "output_type": "execute_result",
     "data": {
      "text/plain": [
       "{'https://python.swaroopch.com/',\n",
       " 'https://python.swaroopch.com/about.html',\n",
       " 'https://python.swaroopch.com/about_python.html',\n",
       " 'https://python.swaroopch.com/basics.html',\n",
       " 'https://python.swaroopch.com/control_flow.html',\n",
       " 'https://python.swaroopch.com/data_structures.html',\n",
       " 'https://python.swaroopch.com/dedication.html',\n",
       " 'https://python.swaroopch.com/exceptions.html',\n",
       " 'https://python.swaroopch.com/feedback.html',\n",
       " 'https://python.swaroopch.com/first_steps.html',\n",
       " 'https://python.swaroopch.com/floss.html',\n",
       " 'https://python.swaroopch.com/functions.html',\n",
       " 'https://python.swaroopch.com/installation.html',\n",
       " 'https://python.swaroopch.com/io.html',\n",
       " 'https://python.swaroopch.com/modules.html',\n",
       " 'https://python.swaroopch.com/more.html',\n",
       " 'https://python.swaroopch.com/oop.html',\n",
       " 'https://python.swaroopch.com/op_exp.html',\n",
       " 'https://python.swaroopch.com/preface.html',\n",
       " 'https://python.swaroopch.com/problem_solving.html',\n",
       " 'https://python.swaroopch.com/revision_history.html',\n",
       " 'https://python.swaroopch.com/stdlib.html',\n",
       " 'https://python.swaroopch.com/translation_howto.html',\n",
       " 'https://python.swaroopch.com/translations.html',\n",
       " 'https://python.swaroopch.com/what_next.html',\n",
       " 'https://www.gitbook.com'}"
      ]
     },
     "metadata": {},
     "execution_count": 41
    }
   ],
   "source": [
    "# Find the nav section, and get all links within it\n",
    "nav = r.html.find(\"nav\", first=True)\n",
    "chapters = nav.absolute_links\n",
    "chapters"
   ]
  },
  {
   "cell_type": "code",
   "execution_count": 42,
   "metadata": {},
   "outputs": [
    {
     "output_type": "execute_result",
     "data": {
      "text/plain": [
       "[<Element 'a' href='./'>,\n",
       " <Element 'a' href='dedication.html'>,\n",
       " <Element 'a' href='preface.html'>,\n",
       " <Element 'a' href='about_python.html'>,\n",
       " <Element 'a' href='installation.html'>,\n",
       " <Element 'a' href='first_steps.html'>,\n",
       " <Element 'a' href='basics.html'>,\n",
       " <Element 'a' href='op_exp.html'>,\n",
       " <Element 'a' href='control_flow.html'>,\n",
       " <Element 'a' href='functions.html'>,\n",
       " <Element 'a' href='modules.html'>,\n",
       " <Element 'a' href='data_structures.html'>,\n",
       " <Element 'a' href='problem_solving.html'>,\n",
       " <Element 'a' href='oop.html'>,\n",
       " <Element 'a' href='io.html'>,\n",
       " <Element 'a' href='exceptions.html'>,\n",
       " <Element 'a' href='stdlib.html'>,\n",
       " <Element 'a' href='more.html'>,\n",
       " <Element 'a' href='what_next.html'>,\n",
       " <Element 'a' href='floss.html'>,\n",
       " <Element 'a' href='about.html'>,\n",
       " <Element 'a' href='revision_history.html'>,\n",
       " <Element 'a' href='translations.html'>,\n",
       " <Element 'a' href='translation_howto.html'>,\n",
       " <Element 'a' href='feedback.html'>,\n",
       " <Element 'a' href='https://www.gitbook.com' target='blank' class=('gitbook-link',)>]"
      ]
     },
     "metadata": {},
     "execution_count": 42
    }
   ],
   "source": [
    "# We could also find those links without the shortcut\n",
    "chapter_link_els = nav.find(\"a\")\n",
    "chapter_link_els"
   ]
  },
  {
   "cell_type": "code",
   "execution_count": 43,
   "metadata": {},
   "outputs": [
    {
     "output_type": "execute_result",
     "data": {
      "text/plain": [
       "['./',\n",
       " 'dedication.html',\n",
       " 'preface.html',\n",
       " 'about_python.html',\n",
       " 'installation.html',\n",
       " 'first_steps.html',\n",
       " 'basics.html',\n",
       " 'op_exp.html',\n",
       " 'control_flow.html',\n",
       " 'functions.html',\n",
       " 'modules.html',\n",
       " 'data_structures.html',\n",
       " 'problem_solving.html',\n",
       " 'oop.html',\n",
       " 'io.html',\n",
       " 'exceptions.html',\n",
       " 'stdlib.html',\n",
       " 'more.html',\n",
       " 'what_next.html',\n",
       " 'floss.html',\n",
       " 'about.html',\n",
       " 'revision_history.html',\n",
       " 'translations.html',\n",
       " 'translation_howto.html',\n",
       " 'feedback.html',\n",
       " 'https://www.gitbook.com']"
      ]
     },
     "metadata": {},
     "execution_count": 43
    }
   ],
   "source": [
    "# And then extract the href attribute to get the link url \n",
    "urls = [a.attrs[\"href\"] for a in chapter_link_els]\n",
    "urls"
   ]
  },
  {
   "source": [
    "These are relative links, but we could recompose the absolute url if needed to. \n",
    "\n",
    "We used the `.attrs` method on the link elements. You could use the same method with a different attribute key, things like `href`, to find any other HTML attributes. "
   ],
   "cell_type": "markdown",
   "metadata": {}
  },
  {
   "cell_type": "code",
   "execution_count": 44,
   "metadata": {},
   "outputs": [
    {
     "output_type": "execute_result",
     "data": {
      "text/plain": [
       "['dedication.html',\n",
       " 'preface.html',\n",
       " 'about_python.html',\n",
       " 'installation.html',\n",
       " 'first_steps.html',\n",
       " 'basics.html',\n",
       " 'op_exp.html',\n",
       " 'control_flow.html',\n",
       " 'functions.html',\n",
       " 'modules.html',\n",
       " 'data_structures.html',\n",
       " 'problem_solving.html',\n",
       " 'oop.html',\n",
       " 'io.html',\n",
       " 'exceptions.html',\n",
       " 'stdlib.html',\n",
       " 'more.html',\n",
       " 'what_next.html',\n",
       " 'floss.html',\n",
       " 'about.html',\n",
       " 'revision_history.html',\n",
       " 'translations.html',\n",
       " 'translation_howto.html',\n",
       " 'feedback.html']"
      ]
     },
     "metadata": {},
     "execution_count": 44
    }
   ],
   "source": [
    "# If we wanted just the chapter links, since this is a standard list, \n",
    "# we could use slicing to remove the first and last links\n",
    "urls_filtered = urls[1:-1]\n",
    "urls_filtered"
   ]
  },
  {
   "source": [
    "## Further topics:\n",
    "\n",
    "- headless browsers\n",
    "- dynamic websites with Javascript"
   ],
   "cell_type": "markdown",
   "metadata": {}
  }
 ]
}